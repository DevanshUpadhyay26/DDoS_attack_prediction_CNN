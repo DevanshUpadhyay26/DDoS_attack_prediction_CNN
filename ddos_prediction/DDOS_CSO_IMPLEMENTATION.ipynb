{
 "cells": [
  {
   "cell_type": "code",
   "execution_count": 2,
   "metadata": {},
   "outputs": [],
   "source": [
    "import pandas as pd\n",
    "import numpy as np\n",
    "import matplotlib.pyplot as plt\n",
    "import seaborn as sns\n",
    "import random\n",
    "import time\n",
    "from sklearn.utils import resample\n",
    "from sklearn.model_selection import train_test_split as tts\n",
    "from sklearn.preprocessing import StandardScaler\n",
    "from torch.utils.data import Dataset, DataLoader, TensorDataset, random_split\n",
    "from tqdm import tqdm\n",
    "# from imblearn.over_sampling import SMOTE\n",
    "from sklearn.metrics import confusion_matrix, accuracy_score\n",
    "import itertools"
   ]
  },
  {
   "cell_type": "markdown",
   "metadata": {},
   "source": [
    "Read the data"
   ]
  },
  {
   "cell_type": "code",
   "execution_count": 71,
   "metadata": {},
   "outputs": [
    {
     "name": "stderr",
     "output_type": "stream",
     "text": [
      "C:\\Users\\009kr\\AppData\\Local\\Temp\\ipykernel_2844\\3036118028.py:1: DtypeWarning: Columns (7,9) have mixed types. Specify dtype option on import or set low_memory=False.\n",
      "  df = pd.read_csv('bot_iot.csv')\n"
     ]
    },
    {
     "data": {
      "text/plain": [
       "(668522, 46)"
      ]
     },
     "execution_count": 71,
     "metadata": {},
     "output_type": "execute_result"
    }
   ],
   "source": [
    "df = pd.read_csv('bot_iot.csv')\n",
    "df.shape"
   ]
  },
  {
   "cell_type": "code",
   "execution_count": 72,
   "metadata": {},
   "outputs": [
    {
     "data": {
      "text/html": [
       "<div>\n",
       "<style scoped>\n",
       "    .dataframe tbody tr th:only-of-type {\n",
       "        vertical-align: middle;\n",
       "    }\n",
       "\n",
       "    .dataframe tbody tr th {\n",
       "        vertical-align: top;\n",
       "    }\n",
       "\n",
       "    .dataframe thead th {\n",
       "        text-align: right;\n",
       "    }\n",
       "</style>\n",
       "<table border=\"1\" class=\"dataframe\">\n",
       "  <thead>\n",
       "    <tr style=\"text-align: right;\">\n",
       "      <th></th>\n",
       "      <th>pkSeqID</th>\n",
       "      <th>stime</th>\n",
       "      <th>flgs</th>\n",
       "      <th>flgs_number</th>\n",
       "      <th>proto</th>\n",
       "      <th>proto_number</th>\n",
       "      <th>saddr</th>\n",
       "      <th>sport</th>\n",
       "      <th>daddr</th>\n",
       "      <th>dport</th>\n",
       "      <th>...</th>\n",
       "      <th>AR_P_Proto_P_DstIP</th>\n",
       "      <th>N_IN_Conn_P_DstIP</th>\n",
       "      <th>N_IN_Conn_P_SrcIP</th>\n",
       "      <th>AR_P_Proto_P_Sport</th>\n",
       "      <th>AR_P_Proto_P_Dport</th>\n",
       "      <th>Pkts_P_State_P_Protocol_P_DestIP</th>\n",
       "      <th>Pkts_P_State_P_Protocol_P_SrcIP</th>\n",
       "      <th>attack</th>\n",
       "      <th>category</th>\n",
       "      <th>subcategory</th>\n",
       "    </tr>\n",
       "  </thead>\n",
       "  <tbody>\n",
       "    <tr>\n",
       "      <th>0</th>\n",
       "      <td>3000001</td>\n",
       "      <td>1.528099e+09</td>\n",
       "      <td>e</td>\n",
       "      <td>1</td>\n",
       "      <td>udp</td>\n",
       "      <td>3</td>\n",
       "      <td>192.168.100.147</td>\n",
       "      <td>6226</td>\n",
       "      <td>192.168.100.3</td>\n",
       "      <td>80</td>\n",
       "      <td>...</td>\n",
       "      <td>1.09825</td>\n",
       "      <td>100</td>\n",
       "      <td>100</td>\n",
       "      <td>1.09827</td>\n",
       "      <td>1.09825</td>\n",
       "      <td>1500</td>\n",
       "      <td>1500</td>\n",
       "      <td>1</td>\n",
       "      <td>DDoS</td>\n",
       "      <td>UDP</td>\n",
       "    </tr>\n",
       "    <tr>\n",
       "      <th>1</th>\n",
       "      <td>3000002</td>\n",
       "      <td>1.528099e+09</td>\n",
       "      <td>e</td>\n",
       "      <td>1</td>\n",
       "      <td>udp</td>\n",
       "      <td>3</td>\n",
       "      <td>192.168.100.147</td>\n",
       "      <td>6227</td>\n",
       "      <td>192.168.100.3</td>\n",
       "      <td>80</td>\n",
       "      <td>...</td>\n",
       "      <td>1.09825</td>\n",
       "      <td>100</td>\n",
       "      <td>100</td>\n",
       "      <td>1.09827</td>\n",
       "      <td>1.09825</td>\n",
       "      <td>1500</td>\n",
       "      <td>1500</td>\n",
       "      <td>1</td>\n",
       "      <td>DDoS</td>\n",
       "      <td>UDP</td>\n",
       "    </tr>\n",
       "    <tr>\n",
       "      <th>2</th>\n",
       "      <td>3000003</td>\n",
       "      <td>1.528099e+09</td>\n",
       "      <td>e</td>\n",
       "      <td>1</td>\n",
       "      <td>udp</td>\n",
       "      <td>3</td>\n",
       "      <td>192.168.100.147</td>\n",
       "      <td>6228</td>\n",
       "      <td>192.168.100.3</td>\n",
       "      <td>80</td>\n",
       "      <td>...</td>\n",
       "      <td>1.09825</td>\n",
       "      <td>100</td>\n",
       "      <td>100</td>\n",
       "      <td>1.09827</td>\n",
       "      <td>1.09825</td>\n",
       "      <td>1500</td>\n",
       "      <td>1500</td>\n",
       "      <td>1</td>\n",
       "      <td>DDoS</td>\n",
       "      <td>UDP</td>\n",
       "    </tr>\n",
       "    <tr>\n",
       "      <th>3</th>\n",
       "      <td>3000004</td>\n",
       "      <td>1.528099e+09</td>\n",
       "      <td>e</td>\n",
       "      <td>1</td>\n",
       "      <td>udp</td>\n",
       "      <td>3</td>\n",
       "      <td>192.168.100.147</td>\n",
       "      <td>6229</td>\n",
       "      <td>192.168.100.3</td>\n",
       "      <td>80</td>\n",
       "      <td>...</td>\n",
       "      <td>1.09825</td>\n",
       "      <td>100</td>\n",
       "      <td>100</td>\n",
       "      <td>1.09827</td>\n",
       "      <td>1.09825</td>\n",
       "      <td>1500</td>\n",
       "      <td>1500</td>\n",
       "      <td>1</td>\n",
       "      <td>DDoS</td>\n",
       "      <td>UDP</td>\n",
       "    </tr>\n",
       "    <tr>\n",
       "      <th>4</th>\n",
       "      <td>3000005</td>\n",
       "      <td>1.528099e+09</td>\n",
       "      <td>e</td>\n",
       "      <td>1</td>\n",
       "      <td>udp</td>\n",
       "      <td>3</td>\n",
       "      <td>192.168.100.147</td>\n",
       "      <td>6230</td>\n",
       "      <td>192.168.100.3</td>\n",
       "      <td>80</td>\n",
       "      <td>...</td>\n",
       "      <td>1.09825</td>\n",
       "      <td>100</td>\n",
       "      <td>100</td>\n",
       "      <td>1.09827</td>\n",
       "      <td>1.09825</td>\n",
       "      <td>1500</td>\n",
       "      <td>1500</td>\n",
       "      <td>1</td>\n",
       "      <td>DDoS</td>\n",
       "      <td>UDP</td>\n",
       "    </tr>\n",
       "  </tbody>\n",
       "</table>\n",
       "<p>5 rows × 46 columns</p>\n",
       "</div>"
      ],
      "text/plain": [
       "   pkSeqID         stime flgs  flgs_number proto  proto_number  \\\n",
       "0  3000001  1.528099e+09    e            1   udp             3   \n",
       "1  3000002  1.528099e+09    e            1   udp             3   \n",
       "2  3000003  1.528099e+09    e            1   udp             3   \n",
       "3  3000004  1.528099e+09    e            1   udp             3   \n",
       "4  3000005  1.528099e+09    e            1   udp             3   \n",
       "\n",
       "             saddr sport          daddr dport  ...  AR_P_Proto_P_DstIP  \\\n",
       "0  192.168.100.147  6226  192.168.100.3    80  ...             1.09825   \n",
       "1  192.168.100.147  6227  192.168.100.3    80  ...             1.09825   \n",
       "2  192.168.100.147  6228  192.168.100.3    80  ...             1.09825   \n",
       "3  192.168.100.147  6229  192.168.100.3    80  ...             1.09825   \n",
       "4  192.168.100.147  6230  192.168.100.3    80  ...             1.09825   \n",
       "\n",
       "   N_IN_Conn_P_DstIP N_IN_Conn_P_SrcIP  AR_P_Proto_P_Sport  \\\n",
       "0                100               100             1.09827   \n",
       "1                100               100             1.09827   \n",
       "2                100               100             1.09827   \n",
       "3                100               100             1.09827   \n",
       "4                100               100             1.09827   \n",
       "\n",
       "   AR_P_Proto_P_Dport  Pkts_P_State_P_Protocol_P_DestIP  \\\n",
       "0             1.09825                              1500   \n",
       "1             1.09825                              1500   \n",
       "2             1.09825                              1500   \n",
       "3             1.09825                              1500   \n",
       "4             1.09825                              1500   \n",
       "\n",
       "   Pkts_P_State_P_Protocol_P_SrcIP  attack  category  subcategory  \n",
       "0                             1500       1      DDoS          UDP  \n",
       "1                             1500       1      DDoS          UDP  \n",
       "2                             1500       1      DDoS          UDP  \n",
       "3                             1500       1      DDoS          UDP  \n",
       "4                             1500       1      DDoS          UDP  \n",
       "\n",
       "[5 rows x 46 columns]"
      ]
     },
     "execution_count": 72,
     "metadata": {},
     "output_type": "execute_result"
    }
   ],
   "source": [
    "df.head()"
   ]
  },
  {
   "cell_type": "code",
   "execution_count": 73,
   "metadata": {},
   "outputs": [
    {
     "data": {
      "text/plain": [
       "array(['DDoS', 'Normal', 'Reconnaissance', 'Theft'], dtype=object)"
      ]
     },
     "execution_count": 73,
     "metadata": {},
     "output_type": "execute_result"
    }
   ],
   "source": [
    "df.category.unique()"
   ]
  },
  {
   "cell_type": "code",
   "execution_count": 74,
   "metadata": {},
   "outputs": [],
   "source": [
    "df['category'] = df['category'].apply(lambda x: x if x in ['DDoS'] else 'Other')"
   ]
  },
  {
   "cell_type": "code",
   "execution_count": 75,
   "metadata": {},
   "outputs": [
    {
     "name": "stderr",
     "output_type": "stream",
     "text": [
      "C:\\Users\\009kr\\AppData\\Local\\Temp\\ipykernel_2844\\355839375.py:3: FutureWarning: Downcasting behavior in `replace` is deprecated and will be removed in a future version. To retain the old behavior, explicitly call `result.infer_objects(copy=False)`. To opt-in to the future behavior, set `pd.set_option('future.no_silent_downcasting', True)`\n",
      "  df['category'] = df['category'].replace(category_map)\n"
     ]
    }
   ],
   "source": [
    "#label encode the output column\n",
    "category_map = {'DDoS':0, 'Other':1}\n",
    "df['category'] = df['category'].replace(category_map)"
   ]
  },
  {
   "cell_type": "code",
   "execution_count": 76,
   "metadata": {},
   "outputs": [
    {
     "data": {
      "text/plain": [
       "category\n",
       "0    576884\n",
       "1     91638\n",
       "Name: count, dtype: int64"
      ]
     },
     "execution_count": 76,
     "metadata": {},
     "output_type": "execute_result"
    }
   ],
   "source": [
    "df.category.value_counts()"
   ]
  },
  {
   "cell_type": "code",
   "execution_count": 77,
   "metadata": {},
   "outputs": [
    {
     "data": {
      "text/plain": [
       "668522"
      ]
     },
     "execution_count": 77,
     "metadata": {},
     "output_type": "execute_result"
    }
   ],
   "source": [
    "df.pkSeqID.unique().size"
   ]
  },
  {
   "cell_type": "markdown",
   "metadata": {},
   "source": [
    "Check information regarding the features"
   ]
  },
  {
   "cell_type": "code",
   "execution_count": 78,
   "metadata": {},
   "outputs": [
    {
     "name": "stdout",
     "output_type": "stream",
     "text": [
      "<class 'pandas.core.frame.DataFrame'>\n",
      "RangeIndex: 668522 entries, 0 to 668521\n",
      "Data columns (total 46 columns):\n",
      " #   Column                            Non-Null Count   Dtype  \n",
      "---  ------                            --------------   -----  \n",
      " 0   pkSeqID                           668522 non-null  int64  \n",
      " 1   stime                             668522 non-null  float64\n",
      " 2   flgs                              668522 non-null  object \n",
      " 3   flgs_number                       668522 non-null  int64  \n",
      " 4   proto                             668522 non-null  object \n",
      " 5   proto_number                      668522 non-null  int64  \n",
      " 6   saddr                             668522 non-null  object \n",
      " 7   sport                             668522 non-null  object \n",
      " 8   daddr                             668522 non-null  object \n",
      " 9   dport                             668522 non-null  object \n",
      " 10  pkts                              668522 non-null  int64  \n",
      " 11  bytes                             668522 non-null  int64  \n",
      " 12  state                             668522 non-null  object \n",
      " 13  state_number                      668522 non-null  int64  \n",
      " 14  ltime                             668522 non-null  float64\n",
      " 15  seq                               668522 non-null  int64  \n",
      " 16  dur                               668522 non-null  float64\n",
      " 17  mean                              668522 non-null  float64\n",
      " 18  stddev                            668522 non-null  float64\n",
      " 19  sum                               668522 non-null  float64\n",
      " 20  min                               668522 non-null  float64\n",
      " 21  max                               668522 non-null  float64\n",
      " 22  spkts                             668522 non-null  int64  \n",
      " 23  dpkts                             668522 non-null  int64  \n",
      " 24  sbytes                            668522 non-null  int64  \n",
      " 25  dbytes                            668522 non-null  int64  \n",
      " 26  rate                              668522 non-null  float64\n",
      " 27  srate                             668522 non-null  float64\n",
      " 28  drate                             668522 non-null  float64\n",
      " 29  TnBPSrcIP                         668522 non-null  int64  \n",
      " 30  TnBPDstIP                         668522 non-null  int64  \n",
      " 31  TnP_PSrcIP                        668522 non-null  int64  \n",
      " 32  TnP_PDstIP                        668522 non-null  int64  \n",
      " 33  TnP_PerProto                      668522 non-null  int64  \n",
      " 34  TnP_Per_Dport                     668522 non-null  int64  \n",
      " 35  AR_P_Proto_P_SrcIP                668522 non-null  float64\n",
      " 36  AR_P_Proto_P_DstIP                668522 non-null  float64\n",
      " 37  N_IN_Conn_P_DstIP                 668522 non-null  int64  \n",
      " 38  N_IN_Conn_P_SrcIP                 668522 non-null  int64  \n",
      " 39  AR_P_Proto_P_Sport                668522 non-null  float64\n",
      " 40  AR_P_Proto_P_Dport                668522 non-null  float64\n",
      " 41  Pkts_P_State_P_Protocol_P_DestIP  668522 non-null  int64  \n",
      " 42  Pkts_P_State_P_Protocol_P_SrcIP   668522 non-null  int64  \n",
      " 43  attack                            668522 non-null  int64  \n",
      " 44  category                          668522 non-null  int64  \n",
      " 45  subcategory                       668522 non-null  object \n",
      "dtypes: float64(15), int64(23), object(8)\n",
      "memory usage: 234.6+ MB\n"
     ]
    }
   ],
   "source": [
    "df.info()"
   ]
  },
  {
   "cell_type": "code",
   "execution_count": 79,
   "metadata": {},
   "outputs": [
    {
     "data": {
      "text/plain": [
       "0         False\n",
       "1         False\n",
       "2         False\n",
       "3         False\n",
       "4         False\n",
       "          ...  \n",
       "668517    False\n",
       "668518    False\n",
       "668519    False\n",
       "668520    False\n",
       "668521    False\n",
       "Length: 668522, dtype: bool"
      ]
     },
     "execution_count": 79,
     "metadata": {},
     "output_type": "execute_result"
    }
   ],
   "source": [
    "df['Pkts_P_State_P_Protocol_P_SrcIP'] == df['AR_P_Proto_P_SrcIP']"
   ]
  },
  {
   "cell_type": "markdown",
   "metadata": {},
   "source": [
    "Data Preprocessing"
   ]
  },
  {
   "cell_type": "code",
   "execution_count": 80,
   "metadata": {},
   "outputs": [
    {
     "data": {
      "text/plain": [
       "array(['e', 'eU', 'e &', 'e d', 'e   t', 'e s', 'e  D', 'e *', 'e g'],\n",
       "      dtype=object)"
      ]
     },
     "execution_count": 80,
     "metadata": {},
     "output_type": "execute_result"
    }
   ],
   "source": [
    "df.flgs.unique()"
   ]
  },
  {
   "cell_type": "code",
   "execution_count": 81,
   "metadata": {},
   "outputs": [],
   "source": [
    "#Features not useful\n",
    "df = df.drop(['flgs','flgs_number'], axis = 1)"
   ]
  },
  {
   "cell_type": "code",
   "execution_count": 82,
   "metadata": {},
   "outputs": [
    {
     "data": {
      "text/plain": [
       "array(['udp', 'arp', 'icmp', 'tcp', 'ipv6-icmp'], dtype=object)"
      ]
     },
     "execution_count": 82,
     "metadata": {},
     "output_type": "execute_result"
    }
   ],
   "source": [
    "df.proto.unique()"
   ]
  },
  {
   "cell_type": "code",
   "execution_count": 83,
   "metadata": {},
   "outputs": [],
   "source": [
    "#Similar feature exists in numeric format\n",
    "df = df.drop(['proto'],axis=1)"
   ]
  },
  {
   "cell_type": "code",
   "execution_count": 84,
   "metadata": {},
   "outputs": [
    {
     "data": {
      "text/plain": [
       "array([3, 2, 4, 1, 5], dtype=int64)"
      ]
     },
     "execution_count": 84,
     "metadata": {},
     "output_type": "execute_result"
    }
   ],
   "source": [
    "df.proto_number.unique()"
   ]
  },
  {
   "cell_type": "code",
   "execution_count": 85,
   "metadata": {},
   "outputs": [
    {
     "data": {
      "text/plain": [
       "array(['192.168.100.147', '192.168.100.148', '192.168.100.149',\n",
       "       '192.168.100.150', '192.168.100.3', '192.168.100.1',\n",
       "       '192.168.100.7', '192.168.100.4', '192.168.100.27',\n",
       "       'fe80::250:56ff:febe:254', '192.168.100.46', '192.168.100.6',\n",
       "       '192.168.100.5', 'fe80::250:56ff:febe:26db',\n",
       "       'fe80::250:56ff:febe:e9d9', 'fe80::c0c0:aa20:45b9:bdd9',\n",
       "       'fe80::250:56ff:febe:89ee', 'fe80::2c6a:ff9b:7e14:166a',\n",
       "       'fe80::250:56ff:febe:bf1a', 'fe80::250:56ff:febe:c038',\n",
       "       '192.168.100.55'], dtype=object)"
      ]
     },
     "execution_count": 85,
     "metadata": {},
     "output_type": "execute_result"
    }
   ],
   "source": [
    "df.saddr.unique()"
   ]
  },
  {
   "cell_type": "code",
   "execution_count": 86,
   "metadata": {},
   "outputs": [],
   "source": [
    "#Convert ip/mac addresses to a more useable format\n",
    "def conv_ip_addr(ip_addr):\n",
    "    ip_addr = ip_addr.replace(':','.')\n",
    "    temp = ip_addr.split('.')\n",
    "    op = ''.join(temp)\n",
    "    if op.isnumeric():\n",
    "        op = int(op)\n",
    "    else:\n",
    "        op =int(op, 16)\n",
    "    return op"
   ]
  },
  {
   "cell_type": "code",
   "execution_count": 87,
   "metadata": {},
   "outputs": [
    {
     "data": {
      "text/plain": [
       "dtype('O')"
      ]
     },
     "execution_count": 87,
     "metadata": {},
     "output_type": "execute_result"
    }
   ],
   "source": [
    "df.saddr.dtype"
   ]
  },
  {
   "cell_type": "code",
   "execution_count": 88,
   "metadata": {},
   "outputs": [],
   "source": [
    "df['saddr'] = df['saddr'].apply(conv_ip_addr)"
   ]
  },
  {
   "cell_type": "code",
   "execution_count": 89,
   "metadata": {},
   "outputs": [],
   "source": [
    "df['saddr'] = pd.to_numeric(df['saddr'], errors = 'coerce')"
   ]
  },
  {
   "cell_type": "code",
   "execution_count": 90,
   "metadata": {},
   "outputs": [],
   "source": [
    "df['daddr'] = df['daddr'].apply(conv_ip_addr)"
   ]
  },
  {
   "cell_type": "code",
   "execution_count": 91,
   "metadata": {},
   "outputs": [],
   "source": [
    "#Unable to find a better way to handle port addresses might change this\n",
    "df = df.drop(['dport','sport'],axis=1)"
   ]
  },
  {
   "cell_type": "code",
   "execution_count": 92,
   "metadata": {},
   "outputs": [
    {
     "data": {
      "text/plain": [
       "array(['INT', 'CON', 'URP', 'FIN', 'NRS', 'RST', 'ECO', 'TST', 'MAS',\n",
       "       'REQ'], dtype=object)"
      ]
     },
     "execution_count": 92,
     "metadata": {},
     "output_type": "execute_result"
    }
   ],
   "source": [
    "df.state.unique()"
   ]
  },
  {
   "cell_type": "code",
   "execution_count": 93,
   "metadata": {},
   "outputs": [],
   "source": [
    "#One hot encode state feature, might be important\n",
    "df = pd.get_dummies(df, columns=['state'], prefix=['state'])"
   ]
  },
  {
   "cell_type": "code",
   "execution_count": 94,
   "metadata": {},
   "outputs": [],
   "source": [
    "df = df.drop(['state_number'],axis=1)"
   ]
  },
  {
   "cell_type": "code",
   "execution_count": 95,
   "metadata": {},
   "outputs": [
    {
     "data": {
      "text/plain": [
       "array([1, 0], dtype=int64)"
      ]
     },
     "execution_count": 95,
     "metadata": {},
     "output_type": "execute_result"
    }
   ],
   "source": [
    "df.attack.unique()"
   ]
  },
  {
   "cell_type": "code",
   "execution_count": 96,
   "metadata": {},
   "outputs": [],
   "source": [
    "df = df.drop(['pkSeqID','attack','subcategory'], axis=1)"
   ]
  },
  {
   "cell_type": "code",
   "execution_count": 97,
   "metadata": {},
   "outputs": [
    {
     "name": "stdout",
     "output_type": "stream",
     "text": [
      "<class 'pandas.core.frame.DataFrame'>\n",
      "RangeIndex: 668522 entries, 0 to 668521\n",
      "Data columns (total 46 columns):\n",
      " #   Column                            Non-Null Count   Dtype  \n",
      "---  ------                            --------------   -----  \n",
      " 0   stime                             668522 non-null  float64\n",
      " 1   proto_number                      668522 non-null  int64  \n",
      " 2   saddr                             668522 non-null  float64\n",
      " 3   daddr                             668522 non-null  int64  \n",
      " 4   pkts                              668522 non-null  int64  \n",
      " 5   bytes                             668522 non-null  int64  \n",
      " 6   ltime                             668522 non-null  float64\n",
      " 7   seq                               668522 non-null  int64  \n",
      " 8   dur                               668522 non-null  float64\n",
      " 9   mean                              668522 non-null  float64\n",
      " 10  stddev                            668522 non-null  float64\n",
      " 11  sum                               668522 non-null  float64\n",
      " 12  min                               668522 non-null  float64\n",
      " 13  max                               668522 non-null  float64\n",
      " 14  spkts                             668522 non-null  int64  \n",
      " 15  dpkts                             668522 non-null  int64  \n",
      " 16  sbytes                            668522 non-null  int64  \n",
      " 17  dbytes                            668522 non-null  int64  \n",
      " 18  rate                              668522 non-null  float64\n",
      " 19  srate                             668522 non-null  float64\n",
      " 20  drate                             668522 non-null  float64\n",
      " 21  TnBPSrcIP                         668522 non-null  int64  \n",
      " 22  TnBPDstIP                         668522 non-null  int64  \n",
      " 23  TnP_PSrcIP                        668522 non-null  int64  \n",
      " 24  TnP_PDstIP                        668522 non-null  int64  \n",
      " 25  TnP_PerProto                      668522 non-null  int64  \n",
      " 26  TnP_Per_Dport                     668522 non-null  int64  \n",
      " 27  AR_P_Proto_P_SrcIP                668522 non-null  float64\n",
      " 28  AR_P_Proto_P_DstIP                668522 non-null  float64\n",
      " 29  N_IN_Conn_P_DstIP                 668522 non-null  int64  \n",
      " 30  N_IN_Conn_P_SrcIP                 668522 non-null  int64  \n",
      " 31  AR_P_Proto_P_Sport                668522 non-null  float64\n",
      " 32  AR_P_Proto_P_Dport                668522 non-null  float64\n",
      " 33  Pkts_P_State_P_Protocol_P_DestIP  668522 non-null  int64  \n",
      " 34  Pkts_P_State_P_Protocol_P_SrcIP   668522 non-null  int64  \n",
      " 35  category                          668522 non-null  int64  \n",
      " 36  state_CON                         668522 non-null  bool   \n",
      " 37  state_ECO                         668522 non-null  bool   \n",
      " 38  state_FIN                         668522 non-null  bool   \n",
      " 39  state_INT                         668522 non-null  bool   \n",
      " 40  state_MAS                         668522 non-null  bool   \n",
      " 41  state_NRS                         668522 non-null  bool   \n",
      " 42  state_REQ                         668522 non-null  bool   \n",
      " 43  state_RST                         668522 non-null  bool   \n",
      " 44  state_TST                         668522 non-null  bool   \n",
      " 45  state_URP                         668522 non-null  bool   \n",
      "dtypes: bool(10), float64(16), int64(20)\n",
      "memory usage: 190.0 MB\n"
     ]
    }
   ],
   "source": [
    "df.info()"
   ]
  },
  {
   "cell_type": "markdown",
   "metadata": {},
   "source": [
    "CNN without Feature selection"
   ]
  },
  {
   "cell_type": "code",
   "execution_count": 98,
   "metadata": {},
   "outputs": [],
   "source": [
    "col_to_scale = ['stime','saddr','daddr', 'pkts', 'bytes', 'ltime', 'dur', \n",
    "                'mean', 'stddev', 'sum', 'min', 'max', 'spkts', 'dpkts',\n",
    "                'sbytes', 'dbytes', 'rate', 'srate', 'drate', 'TnBPSrcIP', 'TnBPDstIP',\n",
    "                'TnP_PSrcIP', 'TnP_PDstIP', 'TnP_PerProto', 'TnP_Per_Dport',\n",
    "                'Pkts_P_State_P_Protocol_P_DestIP', 'Pkts_P_State_P_Protocol_P_SrcIP']"
   ]
  },
  {
   "cell_type": "code",
   "execution_count": 99,
   "metadata": {},
   "outputs": [],
   "source": [
    "m = []\n",
    "s = []\n",
    "\n",
    "for col in col_to_scale:\n",
    "    mu = df[col].mean()\n",
    "    m.append(mu)\n",
    "    stdd = df[col].std()\n",
    "    s.append(stdd)\n",
    "\n",
    "    df[col] = (df[col]-mu)/stdd"
   ]
  },
  {
   "cell_type": "code",
   "execution_count": 100,
   "metadata": {},
   "outputs": [
    {
     "data": {
      "text/plain": [
       "Index(['stime', 'proto_number', 'saddr', 'daddr', 'pkts', 'bytes', 'ltime',\n",
       "       'seq', 'dur', 'mean', 'stddev', 'sum', 'min', 'max', 'spkts', 'dpkts',\n",
       "       'sbytes', 'dbytes', 'rate', 'srate', 'drate', 'TnBPSrcIP', 'TnBPDstIP',\n",
       "       'TnP_PSrcIP', 'TnP_PDstIP', 'TnP_PerProto', 'TnP_Per_Dport',\n",
       "       'AR_P_Proto_P_SrcIP', 'AR_P_Proto_P_DstIP', 'N_IN_Conn_P_DstIP',\n",
       "       'N_IN_Conn_P_SrcIP', 'AR_P_Proto_P_Sport', 'AR_P_Proto_P_Dport',\n",
       "       'Pkts_P_State_P_Protocol_P_DestIP', 'Pkts_P_State_P_Protocol_P_SrcIP',\n",
       "       'category', 'state_CON', 'state_ECO', 'state_FIN', 'state_INT',\n",
       "       'state_MAS', 'state_NRS', 'state_REQ', 'state_RST', 'state_TST',\n",
       "       'state_URP'],\n",
       "      dtype='object')"
      ]
     },
     "execution_count": 100,
     "metadata": {},
     "output_type": "execute_result"
    }
   ],
   "source": [
    "df.columns"
   ]
  },
  {
   "cell_type": "code",
   "execution_count": 101,
   "metadata": {},
   "outputs": [],
   "source": [
    "cols_to_conv = ['state_CON', 'state_ECO', 'state_FIN', 'state_INT',\n",
    "       'state_MAS', 'state_NRS', 'state_REQ', 'state_RST', 'state_TST',\n",
    "       'state_URP']\n",
    "\n",
    "df[cols_to_conv] = df[cols_to_conv].astype(int)"
   ]
  },
  {
   "cell_type": "code",
   "execution_count": 102,
   "metadata": {},
   "outputs": [],
   "source": [
    "indices_to_remove = df[df['category'] == 0].index\n",
    "\n",
    "# Randomly select 106 indices from those\n",
    "indices_to_remove = np.random.choice(indices_to_remove, size=106, replace=False)\n",
    "\n",
    "# Remove the selected rows from the DataFrame\n",
    "df = df.drop(indices_to_remove)"
   ]
  },
  {
   "cell_type": "code",
   "execution_count": 103,
   "metadata": {},
   "outputs": [],
   "source": [
    "X = df.drop(['category'],axis=1)\n",
    "y = df['category']"
   ]
  },
  {
   "cell_type": "code",
   "execution_count": 104,
   "metadata": {},
   "outputs": [],
   "source": [
    "xtrain, xtest, ytrain, ytest = tts(X,y,test_size=0.2,random_state=42)"
   ]
  },
  {
   "cell_type": "code",
   "execution_count": 36,
   "metadata": {},
   "outputs": [],
   "source": [
    "import torch\n",
    "import torch.nn as nn\n",
    "import torch.nn.functional as F\n",
    "from torch.utils.data import DataLoader, TensorDataset\n",
    "\n",
    "device = torch.device('cuda' if torch.cuda.is_available() else 'cpu')"
   ]
  },
  {
   "cell_type": "code",
   "execution_count": 37,
   "metadata": {},
   "outputs": [
    {
     "data": {
      "text/plain": [
       "device(type='cuda')"
      ]
     },
     "execution_count": 37,
     "metadata": {},
     "output_type": "execute_result"
    }
   ],
   "source": [
    "device"
   ]
  },
  {
   "cell_type": "code",
   "execution_count": 38,
   "metadata": {},
   "outputs": [],
   "source": [
    "xtrain = torch.FloatTensor(xtrain.values).unsqueeze(1)\n",
    "ytrain = torch.LongTensor(ytrain.values)\n",
    "xtest = torch.FloatTensor(xtest.values).unsqueeze(1)\n",
    "ytest = torch.LongTensor(ytest.values)"
   ]
  },
  {
   "cell_type": "code",
   "execution_count": 39,
   "metadata": {},
   "outputs": [],
   "source": [
    "xtrain, xtest, ytrain, ytest = xtrain.to(device), xtest.to(device),ytrain.to(device), ytest.to(device)"
   ]
  },
  {
   "cell_type": "code",
   "execution_count": 40,
   "metadata": {},
   "outputs": [],
   "source": [
    "#xtrain, xtest = xtrain.reshape(-1,1,45), xtest.reshape(-1,1,45)"
   ]
  },
  {
   "cell_type": "code",
   "execution_count": 41,
   "metadata": {},
   "outputs": [
    {
     "data": {
      "text/plain": [
       "torch.Size([534817, 1, 45])"
      ]
     },
     "execution_count": 41,
     "metadata": {},
     "output_type": "execute_result"
    }
   ],
   "source": [
    "xtrain.shape"
   ]
  },
  {
   "cell_type": "code",
   "execution_count": 42,
   "metadata": {},
   "outputs": [],
   "source": [
    "train_dataset = TensorDataset(xtrain, ytrain)"
   ]
  },
  {
   "cell_type": "code",
   "execution_count": 43,
   "metadata": {},
   "outputs": [],
   "source": [
    "batch_size = 64\n",
    "train_loader = DataLoader(dataset=train_dataset, batch_size=batch_size, shuffle=True)"
   ]
  },
  {
   "cell_type": "code",
   "execution_count": 44,
   "metadata": {},
   "outputs": [],
   "source": [
    "num_epochs = 21\n",
    "learning_rate = 0.001"
   ]
  },
  {
   "cell_type": "code",
   "execution_count": 45,
   "metadata": {},
   "outputs": [],
   "source": [
    "class PrintShape(nn.Module):\n",
    "    def forward(self, x):\n",
    "        print(x.shape)\n",
    "        return x"
   ]
  },
  {
   "cell_type": "code",
   "execution_count": 46,
   "metadata": {},
   "outputs": [
    {
     "data": {
      "text/plain": [
       "(668522, 46)"
      ]
     },
     "execution_count": 46,
     "metadata": {},
     "output_type": "execute_result"
    }
   ],
   "source": [
    "df.shape"
   ]
  },
  {
   "cell_type": "code",
   "execution_count": 47,
   "metadata": {},
   "outputs": [],
   "source": [
    "class Multiclass(nn.Module):\n",
    "    def __init__(self):\n",
    "        super(Multiclass, self).__init__()\n",
    "        self.layer1 = nn.Sequential(\n",
    "            nn.Conv1d(in_channels=1, out_channels=16, kernel_size=3, stride=1, padding=1),\n",
    "            nn.BatchNorm1d(16),\n",
    "            nn.ReLU(),\n",
    "            nn.MaxPool1d(kernel_size=2)\n",
    "        )\n",
    "\n",
    "        self.layer2 = nn.Sequential(\n",
    "            nn.Conv1d(in_channels=16, out_channels=32, kernel_size=3, stride=1, padding=1),\n",
    "            nn.BatchNorm1d(32),\n",
    "            nn.ReLU()\n",
    "        )\n",
    "\n",
    "        self.layer3 = nn.Sequential(\n",
    "            nn.Linear(32 * 22, 64),\n",
    "            nn.Dropout(0.5),\n",
    "            nn.ReLU(),\n",
    "            nn.Linear(64, 3)\n",
    "        )\n",
    "\n",
    "    def forward(self, x):\n",
    "        x = self.layer1(x)\n",
    "        x = self.layer2(x)\n",
    "        x = x.view(x.size(0), -1)\n",
    "        x = self.layer3(x)\n",
    "        return x\n"
   ]
  },
  {
   "cell_type": "code",
   "execution_count": 51,
   "metadata": {},
   "outputs": [],
   "source": [
    "model = Multiclass().to(device)\n",
    "model2 = Multiclass().to(device)"
   ]
  },
  {
   "cell_type": "code",
   "execution_count": 56,
   "metadata": {},
   "outputs": [],
   "source": [
    "criterion = nn.CrossEntropyLoss()\n",
    "optimizer = torch.optim.Adam(model.parameters(), lr = learning_rate)"
   ]
  },
  {
   "cell_type": "code",
   "execution_count": 57,
   "metadata": {},
   "outputs": [
    {
     "name": "stderr",
     "output_type": "stream",
     "text": [
      "Epoch 0: 100%|██████████| 8356/8356 [01:50<00:00, 75.40it/s]\n"
     ]
    },
    {
     "name": "stdout",
     "output_type": "stream",
     "text": [
      "Epoch 0 --- Avg loss = 0.0268 --- Time = 110.83s --- Accuracy = 99.11%\n",
      "New Lowest model: Epoch 0\n"
     ]
    },
    {
     "name": "stderr",
     "output_type": "stream",
     "text": [
      "Epoch 1: 100%|██████████| 8356/8356 [01:34<00:00, 88.02it/s]\n"
     ]
    },
    {
     "name": "stdout",
     "output_type": "stream",
     "text": [
      "Epoch 1 --- Avg loss = 0.0149 --- Time = 94.94s --- Accuracy = 99.58%\n",
      "New Lowest model: Epoch 1\n"
     ]
    },
    {
     "name": "stderr",
     "output_type": "stream",
     "text": [
      "Epoch 2: 100%|██████████| 8356/8356 [01:43<00:00, 80.74it/s]\n"
     ]
    },
    {
     "name": "stdout",
     "output_type": "stream",
     "text": [
      "Epoch 2 --- Avg loss = 0.0132 --- Time = 103.50s --- Accuracy = 99.63%\n",
      "New Lowest model: Epoch 2\n"
     ]
    },
    {
     "name": "stderr",
     "output_type": "stream",
     "text": [
      "Epoch 3: 100%|██████████| 8356/8356 [01:39<00:00, 84.24it/s]\n"
     ]
    },
    {
     "name": "stdout",
     "output_type": "stream",
     "text": [
      "Epoch 3 --- Avg loss = 0.0124 --- Time = 99.20s --- Accuracy = 99.67%\n",
      "New Lowest model: Epoch 3\n"
     ]
    },
    {
     "name": "stderr",
     "output_type": "stream",
     "text": [
      "Epoch 4: 100%|██████████| 8356/8356 [01:43<00:00, 80.61it/s]\n"
     ]
    },
    {
     "name": "stdout",
     "output_type": "stream",
     "text": [
      "Epoch 4 --- Avg loss = 0.0156 --- Time = 103.66s --- Accuracy = 99.73%\n"
     ]
    },
    {
     "name": "stderr",
     "output_type": "stream",
     "text": [
      "Epoch 5: 100%|██████████| 8356/8356 [01:38<00:00, 85.21it/s]\n"
     ]
    },
    {
     "name": "stdout",
     "output_type": "stream",
     "text": [
      "Epoch 5 --- Avg loss = 0.0120 --- Time = 98.07s --- Accuracy = 99.81%\n",
      "New Lowest model: Epoch 5\n"
     ]
    },
    {
     "name": "stderr",
     "output_type": "stream",
     "text": [
      "Epoch 6: 100%|██████████| 8356/8356 [01:41<00:00, 82.16it/s]\n"
     ]
    },
    {
     "name": "stdout",
     "output_type": "stream",
     "text": [
      "Epoch 6 --- Avg loss = 0.0111 --- Time = 101.71s --- Accuracy = 99.83%\n",
      "New Lowest model: Epoch 6\n"
     ]
    },
    {
     "name": "stderr",
     "output_type": "stream",
     "text": [
      "Epoch 7: 100%|██████████| 8356/8356 [01:45<00:00, 79.52it/s]\n"
     ]
    },
    {
     "name": "stdout",
     "output_type": "stream",
     "text": [
      "Epoch 7 --- Avg loss = 0.0084 --- Time = 105.09s --- Accuracy = 99.88%\n",
      "New Lowest model: Epoch 7\n"
     ]
    },
    {
     "name": "stderr",
     "output_type": "stream",
     "text": [
      "Epoch 8: 100%|██████████| 8356/8356 [01:43<00:00, 80.54it/s]\n"
     ]
    },
    {
     "name": "stdout",
     "output_type": "stream",
     "text": [
      "Epoch 8 --- Avg loss = 0.0054 --- Time = 103.76s --- Accuracy = 99.89%\n",
      "New Lowest model: Epoch 8\n"
     ]
    },
    {
     "name": "stderr",
     "output_type": "stream",
     "text": [
      "Epoch 9: 100%|██████████| 8356/8356 [01:41<00:00, 82.01it/s]\n"
     ]
    },
    {
     "name": "stdout",
     "output_type": "stream",
     "text": [
      "Epoch 9 --- Avg loss = 0.0131 --- Time = 101.90s --- Accuracy = 99.93%\n"
     ]
    },
    {
     "name": "stderr",
     "output_type": "stream",
     "text": [
      "Epoch 10: 100%|██████████| 8356/8356 [01:44<00:00, 80.26it/s]\n"
     ]
    },
    {
     "name": "stdout",
     "output_type": "stream",
     "text": [
      "Epoch 10 --- Avg loss = 0.0086 --- Time = 104.12s --- Accuracy = 99.93%\n"
     ]
    },
    {
     "name": "stderr",
     "output_type": "stream",
     "text": [
      "Epoch 11: 100%|██████████| 8356/8356 [01:47<00:00, 77.39it/s]\n"
     ]
    },
    {
     "name": "stdout",
     "output_type": "stream",
     "text": [
      "Epoch 11 --- Avg loss = 0.0058 --- Time = 107.97s --- Accuracy = 99.95%\n"
     ]
    },
    {
     "name": "stderr",
     "output_type": "stream",
     "text": [
      "Epoch 12: 100%|██████████| 8356/8356 [01:43<00:00, 80.74it/s]\n"
     ]
    },
    {
     "name": "stdout",
     "output_type": "stream",
     "text": [
      "Epoch 12 --- Avg loss = 0.0092 --- Time = 103.50s --- Accuracy = 99.94%\n"
     ]
    },
    {
     "name": "stderr",
     "output_type": "stream",
     "text": [
      "Epoch 13: 100%|██████████| 8356/8356 [01:45<00:00, 79.45it/s]\n"
     ]
    },
    {
     "name": "stdout",
     "output_type": "stream",
     "text": [
      "Epoch 13 --- Avg loss = 0.0091 --- Time = 105.18s --- Accuracy = 99.95%\n"
     ]
    },
    {
     "name": "stderr",
     "output_type": "stream",
     "text": [
      "Epoch 14: 100%|██████████| 8356/8356 [01:44<00:00, 79.73it/s]\n"
     ]
    },
    {
     "name": "stdout",
     "output_type": "stream",
     "text": [
      "Epoch 14 --- Avg loss = 0.0030 --- Time = 104.81s --- Accuracy = 99.96%\n",
      "New Lowest model: Epoch 14\n"
     ]
    },
    {
     "name": "stderr",
     "output_type": "stream",
     "text": [
      "Epoch 15: 100%|██████████| 8356/8356 [01:44<00:00, 79.96it/s]\n"
     ]
    },
    {
     "name": "stdout",
     "output_type": "stream",
     "text": [
      "Epoch 15 --- Avg loss = 0.0056 --- Time = 104.52s --- Accuracy = 99.97%\n"
     ]
    },
    {
     "name": "stderr",
     "output_type": "stream",
     "text": [
      "Epoch 16: 100%|██████████| 8356/8356 [01:44<00:00, 80.01it/s]\n"
     ]
    },
    {
     "name": "stdout",
     "output_type": "stream",
     "text": [
      "Epoch 16 --- Avg loss = 0.0019 --- Time = 104.45s --- Accuracy = 99.97%\n",
      "New Lowest model: Epoch 16\n"
     ]
    },
    {
     "name": "stderr",
     "output_type": "stream",
     "text": [
      "Epoch 17: 100%|██████████| 8356/8356 [01:44<00:00, 79.92it/s]\n"
     ]
    },
    {
     "name": "stdout",
     "output_type": "stream",
     "text": [
      "Epoch 17 --- Avg loss = 0.0068 --- Time = 104.56s --- Accuracy = 99.98%\n"
     ]
    },
    {
     "name": "stderr",
     "output_type": "stream",
     "text": [
      "Epoch 18: 100%|██████████| 8356/8356 [01:45<00:00, 79.54it/s]\n"
     ]
    },
    {
     "name": "stdout",
     "output_type": "stream",
     "text": [
      "Epoch 18 --- Avg loss = 0.0074 --- Time = 105.06s --- Accuracy = 99.97%\n"
     ]
    },
    {
     "name": "stderr",
     "output_type": "stream",
     "text": [
      "Epoch 19: 100%|██████████| 8356/8356 [01:44<00:00, 80.19it/s]\n"
     ]
    },
    {
     "name": "stdout",
     "output_type": "stream",
     "text": [
      "Epoch 19 --- Avg loss = 0.0054 --- Time = 104.21s --- Accuracy = 99.94%\n"
     ]
    },
    {
     "name": "stderr",
     "output_type": "stream",
     "text": [
      "Epoch 20: 100%|██████████| 8356/8356 [01:44<00:00, 79.96it/s]"
     ]
    },
    {
     "name": "stdout",
     "output_type": "stream",
     "text": [
      "Epoch 20 --- Avg loss = 0.0034 --- Time = 104.52s --- Accuracy = 99.95%\n"
     ]
    },
    {
     "name": "stderr",
     "output_type": "stream",
     "text": [
      "\n"
     ]
    }
   ],
   "source": [
    "from tqdm import tqdm\n",
    "\n",
    "lowest_loss = float('inf')\n",
    "losses1 = []\n",
    "times1 = []\n",
    "accuracies1 = []\n",
    "\n",
    "# Training loop\n",
    "for e in range(num_epochs):\n",
    "    start_time = time.time()\n",
    "    total_loss = 0.0\n",
    "    correct = 0\n",
    "    total = 0\n",
    "\n",
    "    model.train()\n",
    "    for batch_X, batch_y in tqdm(train_loader, desc=f\"Epoch {e}\"):\n",
    "        batch_X, batch_y = batch_X.to(device), batch_y.to(device)\n",
    "\n",
    "        outputs = model(batch_X)\n",
    "        loss = criterion(outputs, batch_y)\n",
    "\n",
    "        # Check for NaN values in loss\n",
    "        if torch.isnan(loss):\n",
    "            print(\"NaN loss detected. Skipping batch...\")\n",
    "            continue\n",
    "\n",
    "        optimizer.zero_grad()\n",
    "        loss.backward()\n",
    "\n",
    "        # Gradient clipping\n",
    "        torch.nn.utils.clip_grad_norm_(model.parameters(), max_norm=1.0)\n",
    "\n",
    "        optimizer.step()\n",
    "\n",
    "        total_loss += loss.item()\n",
    "        _, predicted = torch.max(outputs.data, 1)\n",
    "        total += batch_y.size(0)\n",
    "        correct += (predicted == batch_y).sum().item()\n",
    "\n",
    "    avg_loss = total_loss / len(train_loader)\n",
    "    epoch_accuracy = correct / total * 100\n",
    "    end_time = time.time()\n",
    "    epoch_time = end_time - start_time\n",
    "\n",
    "    losses.append(avg_loss)\n",
    "    times.append(epoch_time)\n",
    "    accuracies.append(epoch_accuracy)\n",
    "\n",
    "    print(f\"Epoch {e} --- Avg loss = {avg_loss:.4f} --- Time = {epoch_time:.2f}s --- Accuracy = {epoch_accuracy:.2f}%\")\n",
    "\n",
    "    # Check if current epoch's loss is lower than the lowest loss\n",
    "    if avg_loss < lowest_loss:\n",
    "        lowest_loss = avg_loss\n",
    "        # Save the state dictionary of the model\n",
    "        print(f'New Lowest model: Epoch {e}')"
   ]
  },
  {
   "cell_type": "code",
   "execution_count": 146,
   "metadata": {},
   "outputs": [
    {
     "name": "stderr",
     "output_type": "stream",
     "text": [
      "Epoch 0: 100%|██████████| 250/250 [00:05<00:00, 41.99it/s]\n"
     ]
    },
    {
     "name": "stdout",
     "output_type": "stream",
     "text": [
      "Epoch 0 --- Avg loss = 292.2984\n",
      "New Lowest model: Epoch 0\n"
     ]
    },
    {
     "name": "stderr",
     "output_type": "stream",
     "text": [
      "Epoch 1: 100%|██████████| 250/250 [00:05<00:00, 42.98it/s]\n"
     ]
    },
    {
     "name": "stdout",
     "output_type": "stream",
     "text": [
      "Epoch 1 --- Avg loss = 709.6061\n"
     ]
    },
    {
     "name": "stderr",
     "output_type": "stream",
     "text": [
      "Epoch 2: 100%|██████████| 250/250 [00:05<00:00, 43.94it/s]\n"
     ]
    },
    {
     "name": "stdout",
     "output_type": "stream",
     "text": [
      "Epoch 2 --- Avg loss = 965.8085\n"
     ]
    },
    {
     "name": "stderr",
     "output_type": "stream",
     "text": [
      "Epoch 3: 100%|██████████| 250/250 [00:05<00:00, 43.07it/s]\n"
     ]
    },
    {
     "name": "stdout",
     "output_type": "stream",
     "text": [
      "Epoch 3 --- Avg loss = 2516.6366\n"
     ]
    },
    {
     "name": "stderr",
     "output_type": "stream",
     "text": [
      "Epoch 4: 100%|██████████| 250/250 [00:04<00:00, 60.72it/s]\n"
     ]
    },
    {
     "name": "stdout",
     "output_type": "stream",
     "text": [
      "Epoch 4 --- Avg loss = 3208.1493\n"
     ]
    },
    {
     "name": "stderr",
     "output_type": "stream",
     "text": [
      "Epoch 5: 100%|██████████| 250/250 [00:05<00:00, 49.46it/s]\n"
     ]
    },
    {
     "name": "stdout",
     "output_type": "stream",
     "text": [
      "Epoch 5 --- Avg loss = 5407.4232\n"
     ]
    },
    {
     "name": "stderr",
     "output_type": "stream",
     "text": [
      "Epoch 6: 100%|██████████| 250/250 [00:06<00:00, 40.77it/s]\n"
     ]
    },
    {
     "name": "stdout",
     "output_type": "stream",
     "text": [
      "Epoch 6 --- Avg loss = 6916.2059\n"
     ]
    },
    {
     "name": "stderr",
     "output_type": "stream",
     "text": [
      "Epoch 7: 100%|██████████| 250/250 [00:05<00:00, 46.39it/s]\n"
     ]
    },
    {
     "name": "stdout",
     "output_type": "stream",
     "text": [
      "Epoch 7 --- Avg loss = 7659.0482\n"
     ]
    },
    {
     "name": "stderr",
     "output_type": "stream",
     "text": [
      "Epoch 8: 100%|██████████| 250/250 [00:04<00:00, 56.20it/s]\n"
     ]
    },
    {
     "name": "stdout",
     "output_type": "stream",
     "text": [
      "Epoch 8 --- Avg loss = 7444.1410\n"
     ]
    },
    {
     "name": "stderr",
     "output_type": "stream",
     "text": [
      "Epoch 9: 100%|██████████| 250/250 [00:06<00:00, 40.32it/s]\n"
     ]
    },
    {
     "name": "stdout",
     "output_type": "stream",
     "text": [
      "Epoch 9 --- Avg loss = 8985.6209\n"
     ]
    },
    {
     "name": "stderr",
     "output_type": "stream",
     "text": [
      "Epoch 10: 100%|██████████| 250/250 [00:05<00:00, 44.96it/s]\n"
     ]
    },
    {
     "name": "stdout",
     "output_type": "stream",
     "text": [
      "Epoch 10 --- Avg loss = 12510.3901\n"
     ]
    },
    {
     "name": "stderr",
     "output_type": "stream",
     "text": [
      "Epoch 11: 100%|██████████| 250/250 [00:05<00:00, 42.82it/s]\n"
     ]
    },
    {
     "name": "stdout",
     "output_type": "stream",
     "text": [
      "Epoch 11 --- Avg loss = 18877.9026\n"
     ]
    },
    {
     "name": "stderr",
     "output_type": "stream",
     "text": [
      "Epoch 12: 100%|██████████| 250/250 [00:05<00:00, 46.78it/s]\n"
     ]
    },
    {
     "name": "stdout",
     "output_type": "stream",
     "text": [
      "Epoch 12 --- Avg loss = 26751.7138\n"
     ]
    },
    {
     "name": "stderr",
     "output_type": "stream",
     "text": [
      "Epoch 13: 100%|██████████| 250/250 [00:04<00:00, 54.21it/s]\n"
     ]
    },
    {
     "name": "stdout",
     "output_type": "stream",
     "text": [
      "Epoch 13 --- Avg loss = 32950.7305\n"
     ]
    },
    {
     "name": "stderr",
     "output_type": "stream",
     "text": [
      "Epoch 14: 100%|██████████| 250/250 [00:04<00:00, 55.10it/s]\n"
     ]
    },
    {
     "name": "stdout",
     "output_type": "stream",
     "text": [
      "Epoch 14 --- Avg loss = 33502.6258\n"
     ]
    },
    {
     "name": "stderr",
     "output_type": "stream",
     "text": [
      "Epoch 15: 100%|██████████| 250/250 [00:04<00:00, 56.35it/s]\n"
     ]
    },
    {
     "name": "stdout",
     "output_type": "stream",
     "text": [
      "Epoch 15 --- Avg loss = 31863.2652\n"
     ]
    },
    {
     "name": "stderr",
     "output_type": "stream",
     "text": [
      "Epoch 16: 100%|██████████| 250/250 [00:04<00:00, 62.21it/s]\n"
     ]
    },
    {
     "name": "stdout",
     "output_type": "stream",
     "text": [
      "Epoch 16 --- Avg loss = 36840.2522\n"
     ]
    },
    {
     "name": "stderr",
     "output_type": "stream",
     "text": [
      "Epoch 17: 100%|██████████| 250/250 [00:04<00:00, 56.13it/s]\n"
     ]
    },
    {
     "name": "stdout",
     "output_type": "stream",
     "text": [
      "Epoch 17 --- Avg loss = 45721.6944\n"
     ]
    },
    {
     "name": "stderr",
     "output_type": "stream",
     "text": [
      "Epoch 18: 100%|██████████| 250/250 [00:04<00:00, 52.91it/s]\n"
     ]
    },
    {
     "name": "stdout",
     "output_type": "stream",
     "text": [
      "Epoch 18 --- Avg loss = 50556.1480\n"
     ]
    },
    {
     "name": "stderr",
     "output_type": "stream",
     "text": [
      "Epoch 19: 100%|██████████| 250/250 [00:05<00:00, 45.03it/s]\n"
     ]
    },
    {
     "name": "stdout",
     "output_type": "stream",
     "text": [
      "Epoch 19 --- Avg loss = 59467.8485\n"
     ]
    },
    {
     "name": "stderr",
     "output_type": "stream",
     "text": [
      "Epoch 20: 100%|██████████| 250/250 [00:04<00:00, 50.67it/s]"
     ]
    },
    {
     "name": "stdout",
     "output_type": "stream",
     "text": [
      "Epoch 20 --- Avg loss = 51786.7446\n"
     ]
    },
    {
     "name": "stderr",
     "output_type": "stream",
     "text": [
      "\n"
     ]
    }
   ],
   "source": [
    "from tqdm import tqdm\n",
    "\n",
    "lowest_loss = float('inf')\n",
    "\n",
    "# Training loop\n",
    "for e in range(num_epochs):\n",
    "    total_loss = 0.0\n",
    "    for batch_X, batch_y in tqdm(train_loader, desc=f\"Epoch {e}\"):\n",
    "        batch_X, batch_y = batch_X.to(device), batch_y.to(device)\n",
    "\n",
    "        outputs = model(batch_X)\n",
    "        loss = criterion(outputs, batch_y)\n",
    "\n",
    "        # Check for NaN values in loss\n",
    "        if torch.isnan(loss):\n",
    "            print(\"NaN loss detected. Skipping batch...\")\n",
    "            continue\n",
    "\n",
    "        optimizer.zero_grad()\n",
    "        loss.backward()\n",
    "\n",
    "        # Gradient clipping\n",
    "        torch.nn.utils.clip_grad_norm_(model.parameters(), max_norm=1.0)\n",
    "\n",
    "        optimizer.step()\n",
    "\n",
    "        total_loss += loss.item()\n",
    "\n",
    "    avg_loss = total_loss / len(train_loader)\n",
    "    print(f\"Epoch {e} --- Avg loss = {avg_loss:.4f}\")\n",
    "\n",
    "    # Check if current epoch's loss is lower than lowest loss\n",
    "    if avg_loss < lowest_loss:\n",
    "        lowest_loss = avg_loss\n",
    "        # Save the state dictionary of the model\n",
    "        print(f'New Lowest model: Epoch {e}')\n",
    "        # torch.save(model.state_dict(), 'best_model.pth')\n"
   ]
  },
  {
   "cell_type": "code",
   "execution_count": 130,
   "metadata": {},
   "outputs": [
    {
     "data": {
      "text/plain": [
       "<All keys matched successfully>"
      ]
     },
     "execution_count": 130,
     "metadata": {},
     "output_type": "execute_result"
    }
   ],
   "source": [
    "best_model = Multiclass().to(device)\n",
    "best_model.load_state_dict(torch.load('best_model.pth'))"
   ]
  },
  {
   "cell_type": "code",
   "execution_count": 131,
   "metadata": {},
   "outputs": [
    {
     "name": "stderr",
     "output_type": "stream",
     "text": [
      "Epoch 0:   0%|          | 0/250 [00:00<?, ?it/s]"
     ]
    },
    {
     "name": "stderr",
     "output_type": "stream",
     "text": [
      "Epoch 0: 100%|██████████| 250/250 [00:04<00:00, 54.94it/s]\n"
     ]
    },
    {
     "name": "stdout",
     "output_type": "stream",
     "text": [
      "Epoch 0 --- Avg loss = 0.1700\n"
     ]
    },
    {
     "name": "stderr",
     "output_type": "stream",
     "text": [
      "Epoch 1: 100%|██████████| 250/250 [00:03<00:00, 72.32it/s]"
     ]
    },
    {
     "name": "stdout",
     "output_type": "stream",
     "text": [
      "Epoch 1 --- Avg loss = 0.1051\n"
     ]
    },
    {
     "name": "stderr",
     "output_type": "stream",
     "text": [
      "\n"
     ]
    }
   ],
   "source": [
    "optimizer = torch.optim.Adam(model2.parameters(), lr = learning_rate)\n",
    "for e in range(num_epochs):\n",
    "    total_loss = 0.0\n",
    "    for batch_X, batch_y in tqdm(train_loader, desc=f\"Epoch {e}\"):\n",
    "        #print(\"Input data shape:\", batch_X.shape)\n",
    "        batch_X, batch_y = batch_X.to(device), batch_y.to(device)\n",
    "\n",
    "        outputs = model2(batch_X)\n",
    "        loss = criterion(outputs, batch_y)\n",
    "\n",
    "        optimizer.zero_grad()\n",
    "        loss.backward()\n",
    "        optimizer.step()\n",
    "\n",
    "        total_loss += loss.item()\n",
    "        \n",
    "        #print(f\"Epoch {e}, loss = {loss.item():.4f}\")\n",
    "    avg_loss = total_loss/len(train_loader)\n",
    "    print(f\"Epoch {e} --- Avg loss = {avg_loss:.4f}\")"
   ]
  },
  {
   "cell_type": "code",
   "execution_count": 132,
   "metadata": {},
   "outputs": [],
   "source": [
    "test_dataset = TensorDataset(xtest, ytest)\n",
    "test_loader = DataLoader(test_dataset, batch_size=32)"
   ]
  },
  {
   "cell_type": "code",
   "execution_count": 133,
   "metadata": {},
   "outputs": [
    {
     "name": "stdout",
     "output_type": "stream",
     "text": [
      "Accuracy of the model on the test data: 85.42%\n"
     ]
    }
   ],
   "source": [
    "best_model.eval() \n",
    "true = [] \n",
    "pred = []\n",
    "correct_predictions = 0\n",
    "total_predictions = 0\n",
    "\n",
    "with torch.no_grad():  \n",
    "    for data, labels in test_loader:\n",
    "        data, labels = data.to(device), labels.to(device) \n",
    "        outputs = best_model(data)\n",
    "        _, predicted = torch.max(outputs, 1) \n",
    "\n",
    "        pred.extend(predicted.cpu().tolist())\n",
    "        true.extend(labels.tolist())\n",
    "\n",
    "        total_predictions += labels.size(0)\n",
    "        correct_predictions += (predicted == labels).sum().item()\n",
    "\n",
    "accuracy = (correct_predictions / total_predictions) * 100\n",
    "print(f'Accuracy of the model on the test data: {accuracy:.2f}%')"
   ]
  },
  {
   "cell_type": "code",
   "execution_count": 134,
   "metadata": {},
   "outputs": [
    {
     "data": {
      "text/plain": [
       "Counter({0: 1474, 1: 2526})"
      ]
     },
     "execution_count": 134,
     "metadata": {},
     "output_type": "execute_result"
    }
   ],
   "source": [
    "from collections import Counter\n",
    "counter = Counter(pred)\n",
    "counter"
   ]
  },
  {
   "cell_type": "code",
   "execution_count": 135,
   "metadata": {},
   "outputs": [
    {
     "name": "stdout",
     "output_type": "stream",
     "text": [
      "Accuracy of the model on the test data: 94.03%\n"
     ]
    }
   ],
   "source": [
    "model2.eval() \n",
    "true = [] \n",
    "pred = []\n",
    "correct_predictions = 0\n",
    "total_predictions = 0\n",
    "\n",
    "with torch.no_grad():  \n",
    "    for data, labels in test_loader:\n",
    "        data, labels = data.to(device), labels.to(device) \n",
    "        outputs = model2(data)\n",
    "        _, predicted = torch.max(outputs, 1) \n",
    "\n",
    "        pred.extend(predicted.cpu().tolist())\n",
    "        true.extend(labels.tolist())\n",
    "\n",
    "        total_predictions += labels.size(0)\n",
    "        correct_predictions += (predicted == labels).sum().item()\n",
    "\n",
    "accuracy = (correct_predictions / total_predictions) * 100\n",
    "print(f'Accuracy of the model on the test data: {accuracy:.2f}%')"
   ]
  },
  {
   "cell_type": "code",
   "execution_count": 136,
   "metadata": {},
   "outputs": [
    {
     "data": {
      "text/plain": [
       "Counter({0: 1816, 1: 2184})"
      ]
     },
     "execution_count": 136,
     "metadata": {},
     "output_type": "execute_result"
    }
   ],
   "source": [
    "from collections import Counter\n",
    "counter = Counter(pred)\n",
    "counter"
   ]
  },
  {
   "cell_type": "code",
   "execution_count": 137,
   "metadata": {},
   "outputs": [],
   "source": [
    "cm = confusion_matrix(true, pred)"
   ]
  },
  {
   "cell_type": "code",
   "execution_count": 138,
   "metadata": {},
   "outputs": [
    {
     "data": {
      "image/png": "[encoded data removed]",
      "text/plain": [
       "<Figure size 1000x700 with 2 Axes>"
      ]
     },
     "metadata": {},
     "output_type": "display_data"
    }
   ],
   "source": [
    "def plot_confusion_matrix(cm, classes, title='Confusion Matrix', cmap=plt.cm.Blues):\n",
    "    plt.figure(figsize=(10, 7))\n",
    "    plt.imshow(cm, interpolation='nearest', cmap=cmap)\n",
    "    plt.title(title)\n",
    "    plt.colorbar()\n",
    "    tick_marks = np.arange(len(classes))\n",
    "    plt.xticks(tick_marks, classes, rotation=45)\n",
    "    plt.yticks(tick_marks, classes)\n",
    "\n",
    "    thresh = cm.max() / 2.\n",
    "    for i, j in itertools.product(range(cm.shape[0]), range(cm.shape[1])):\n",
    "        plt.text(j, i, format(cm[i, j], 'd'),\n",
    "                 horizontalalignment=\"center\",\n",
    "                 color=\"white\" if cm[i, j] > thresh else \"black\")\n",
    "\n",
    "    plt.tight_layout()\n",
    "    plt.ylabel('True label')\n",
    "    plt.xlabel('Predicted label')\n",
    "    plt.show()\n",
    "\n",
    "# Assuming your classes are named 'DDOS', 'Normal', and 'Other'\n",
    "plot_confusion_matrix(cm, classes=['DDOS', 'Other'])"
   ]
  },
  {
   "cell_type": "code",
   "execution_count": 139,
   "metadata": {},
   "outputs": [
    {
     "name": "stdout",
     "output_type": "stream",
     "text": [
      "F1 Score: 0.9421\n"
     ]
    }
   ],
   "source": [
    "from sklearn.metrics import f1_score\n",
    "\n",
    "f1 = f1_score(true, pred)\n",
    "print(f\"F1 Score: {f1:.4f}\")"
   ]
  },
  {
   "cell_type": "code",
   "execution_count": null,
   "metadata": {},
   "outputs": [],
   "source": [
    "torch.save(model, 'ddos_cnn_model.pth')"
   ]
  },
  {
   "cell_type": "markdown",
   "metadata": {},
   "source": [
    "### CROW SEARCH"
   ]
  },
  {
   "cell_type": "code",
   "execution_count": 59,
   "metadata": {},
   "outputs": [],
   "source": [
    "class Multiclass(nn.Module):\n",
    "    def __init__(self):\n",
    "        super(Multiclass, self).__init__()\n",
    "        self.layer1 = nn.Sequential(\n",
    "        nn.Conv1d(in_channels=1, out_channels=15, kernel_size=3, stride=1, padding=1),\n",
    "        #PrintShape(),\n",
    "        nn.BatchNorm1d(15),\n",
    "        nn.ReLU(),\n",
    "        nn.MaxPool1d(kernel_size=2)\n",
    "        )\n",
    "        \n",
    "        self.layer2 = nn.Sequential(\n",
    "        nn.Conv1d(in_channels=15, out_channels=32, kernel_size=3, stride=1, padding=1),\n",
    "        nn.BatchNorm1d(32),\n",
    "       # pool2 = nn.MaxPool1d(kernel_size=2),\n",
    "        nn.ReLU()\n",
    "        )\n",
    "        \n",
    "        self.layer3 = nn.Sequential(\n",
    "        nn.Linear(32*22, 64),\n",
    "        nn.Dropout(0.5),\n",
    "        nn.ReLU(),\n",
    "        nn.Linear(64,2)\n",
    "        )\n",
    "        \n",
    "    \n",
    "    def forward(self, x):\n",
    "        #print(\"Initial input shape:\", x.shape)\n",
    "        x = self.layer1(x)\n",
    "        x = self.layer2(x)\n",
    "        #print(\"Before reshaping:\", x.shape)\n",
    "        x = x.view(x.size(0),-1)\n",
    "        #print(\"After reshaping:\", x.shape)\n",
    "        x = self.layer3(x)\n",
    "        return x"
   ]
  },
  {
   "cell_type": "code",
   "execution_count": 60,
   "metadata": {},
   "outputs": [],
   "source": [
    "def initialize_population(population_size):\n",
    "    # Generate random initial positions for crows\n",
    "    return [np.random.uniform(low=-1.0, high=1.0, size=45) for _ in range(population_size)]"
   ]
  },
  {
   "cell_type": "code",
   "execution_count": 61,
   "metadata": {},
   "outputs": [],
   "source": [
    "def update_positions(population, global_best_position, inertia_weight=0.5, exploration_rate=0.1):\n",
    "    # Update positions of crows based on their previous positions and the global best position\n",
    "    # Use some exploration strategy (e.g., randomization, inertia, etc.)\n",
    "    updated_population = []\n",
    "    for crow_position in population:\n",
    "        # Calculate crow movement towards the global best position\n",
    "        crow_movement = inertia_weight * (global_best_position - crow_position)\n",
    "        \n",
    "        # Add some randomness for exploration\n",
    "        exploration = exploration_rate * np.random.uniform(-1, 1, size=crow_position.shape)\n",
    "        \n",
    "        # Update crow position\n",
    "        new_crow_position = crow_position + crow_movement + exploration\n",
    "        \n",
    "        # Append the updated position to the list\n",
    "        updated_population.append(new_crow_position)\n",
    "    \n",
    "    return updated_population"
   ]
  },
  {
   "cell_type": "code",
   "execution_count": 62,
   "metadata": {},
   "outputs": [],
   "source": [
    "def update_model_parameters(model, crow_position):\n",
    "    # Update model parameters based on crow position\n",
    "    crow_position_tensor = torch.tensor(crow_position, dtype=torch.float32)\n",
    "\n",
    "    # Total number of parameters in the model\n",
    "    total_params = sum(p.numel() for p in model.parameters())\n",
    "\n",
    "    # Iterate through model parameters and update them based on the crow position\n",
    "    param_index = 0\n",
    "    for param in model.parameters():\n",
    "        if param_index >= 45:\n",
    "            break  # Break the loop if all parameters have been updated\n",
    "        # Calculate the number of elements in the parameter tensor\n",
    "        num_elements = param.numel()\n",
    "        print(f'prarm_idx: {param_index}, numel: {num_elements}')\n",
    "        # Extract a slice of the crow position tensor with the same size as the parameter tensor\n",
    "        param_update = crow_position_tensor[param_index:param_index+num_elements]\n",
    "\n",
    "        # Reshape the parameter update to match the shape of the parameter tensor\n",
    "        param_update = param_update.view(param.size())\n",
    "\n",
    "        # Update the parameter tensor with the crow position values\n",
    "        param.data = param_update\n",
    "\n",
    "        # Move to the next position in the crow position tensor\n",
    "        param_index += 15\n",
    "\n",
    "        # Ensure param_index does not exceed the total number of parameters\n",
    "        \n"
   ]
  },
  {
   "cell_type": "code",
   "execution_count": 143,
   "metadata": {},
   "outputs": [],
   "source": [
    "test_pred = []"
   ]
  },
  {
   "cell_type": "code",
   "execution_count": 144,
   "metadata": {},
   "outputs": [],
   "source": [
    "def train_and_evaluate(model, train_loader, test_loader, criterion, optimizer):\n",
    "    model.train()\n",
    "    for inputs, labels in train_loader:\n",
    "        inputs = inputs.unsqueeze(-1).permute(0, 2, 1)\n",
    "        outputs = model(inputs)\n",
    "        loss = criterion(outputs, labels)\n",
    "        optimizer.zero_grad()\n",
    "        loss.backward()\n",
    "        optimizer.step()\n",
    "    \n",
    "    model.eval()\n",
    "    predictions, targets = [], []\n",
    "    with torch.no_grad():\n",
    "        for inputs, labels in test_loader:\n",
    "            inputs = inputs.unsqueeze(-1).permute(0, 2, 1)\n",
    "            outputs = model(inputs)\n",
    "            predictions.extend(torch.argmax(outputs, dim=1).cpu().numpy())\n",
    "            targets.extend(labels.cpu().numpy())\n",
    "    \n",
    "    accuracy = accuracy_score(targets, predictions)\n",
    "    # test_pred = predictions\n",
    "    print(\"Testing Accuracy:\", accuracy)\n",
    "    return accuracy"
   ]
  },
  {
   "cell_type": "code",
   "execution_count": 121,
   "metadata": {},
   "outputs": [],
   "source": [
    "losses2 = []\n",
    "times2 = []\n",
    "accuracies2 = []"
   ]
  },
  {
   "cell_type": "code",
   "execution_count": 129,
   "metadata": {},
   "outputs": [],
   "source": [
    "def train_and_evaluate(model, train_loader, test_loader, criterion, optimizer):\n",
    "    global losses2, times2, accuracies2\n",
    "    model.train()\n",
    "    start_time = time.time()\n",
    "    total_loss = 0.0\n",
    "    for inputs, labels in train_loader:\n",
    "        inputs = inputs.unsqueeze(-1).permute(0, 2, 1)\n",
    "        labels = labels\n",
    "\n",
    "        outputs = model(inputs)\n",
    "        loss = criterion(outputs, labels)\n",
    "        optimizer.zero_grad()\n",
    "        loss.backward()\n",
    "        optimizer.step()\n",
    "        total_loss += loss.item()\n",
    "\n",
    "    avg_loss = total_loss / len(train_loader)\n",
    "    losses2.append(avg_loss)\n",
    "\n",
    "    model.eval()\n",
    "    predictions, targets = [], []\n",
    "    with torch.no_grad():\n",
    "        for inputs, labels in test_loader:\n",
    "            inputs = inputs.unsqueeze(-1).permute(0, 2, 1)\n",
    "            labels = labels\n",
    "            outputs = model(inputs)\n",
    "            predictions.extend(torch.argmax(outputs, dim=1).cpu().numpy())\n",
    "            targets.extend(labels.cpu().numpy())\n",
    "\n",
    "    accuracy = accuracy_score(targets, predictions)\n",
    "    accuracies2.append(accuracy)\n",
    "\n",
    "    end_time = time.time()\n",
    "    epoch_time = end_time - start_time\n",
    "    times2.append(epoch_time)\n",
    "\n",
    "    print(f\"Avg loss = {avg_loss:.4f} --- Time = {epoch_time:.2f}s --- Accuracy = {accuracy:.2f}%\")\n",
    "\n",
    "    return accuracy"
   ]
  },
  {
   "cell_type": "code",
   "execution_count": 130,
   "metadata": {},
   "outputs": [],
   "source": [
    "model3 = Multiclass()\n",
    "optimizer = torch.optim.Adam(model3.parameters(), lr=0.001)"
   ]
  },
  {
   "cell_type": "code",
   "execution_count": 132,
   "metadata": {},
   "outputs": [],
   "source": [
    "def evaluate_fitness(model, train_loader, test_loader, criterion, population):\n",
    "    fitness_values = []\n",
    "    for crow_position in population:\n",
    "        update_model_parameters(model, crow_position)\n",
    "        accuracy = train_and_evaluate(model, train_loader, test_loader, criterion, optimizer)\n",
    "        fitness_values.append(accuracy)\n",
    "    return np.array(fitness_values)"
   ]
  },
  {
   "cell_type": "code",
   "execution_count": 134,
   "metadata": {},
   "outputs": [],
   "source": [
    "def cso_optimization(population_size, max_iterations, model, train_loader, test_loader, criterion):\n",
    "    population = initialize_population(population_size)\n",
    "    for iteration in range(max_iterations):\n",
    "        fitness_values = evaluate_fitness(model, train_loader, test_loader, criterion, population)\n",
    "        global_best_index = np.argmax(fitness_values)\n",
    "        global_best_position = population[global_best_index]\n",
    "        population = update_positions(population, global_best_position)\n",
    "        update_model_parameters(model, global_best_position)"
   ]
  },
  {
   "cell_type": "code",
   "execution_count": 135,
   "metadata": {},
   "outputs": [
    {
     "data": {
      "text/plain": [
       "category\n",
       "0    576778\n",
       "1     91638\n",
       "Name: count, dtype: int64"
      ]
     },
     "execution_count": 135,
     "metadata": {},
     "output_type": "execute_result"
    }
   ],
   "source": [
    "y.value_counts()"
   ]
  },
  {
   "cell_type": "code",
   "execution_count": null,
   "metadata": {},
   "outputs": [],
   "source": [
    "X_tensor = torch.tensor(X.values, dtype=torch.float32)\n",
    "y_tensor = torch.tensor(y.values, dtype=torch.long)\n",
    "dataset = TensorDataset(X_tensor, y_tensor)\n",
    "\n",
    "# Split dataset into training and testing sets\n",
    "train_size = int(0.8 * len(dataset))\n",
    "test_size = len(dataset) - train_size\n",
    "train_dataset, test_dataset = random_split(dataset, [train_size, test_size])\n",
    "\n",
    "train_loader = DataLoader(train_dataset, batch_size=128, shuffle=True)\n",
    "test_loader = DataLoader(test_dataset, batch_size=128, shuffle=False)\n",
    "\n",
    "criterion = nn.CrossEntropyLoss()\n",
    "\n",
    "# Perform CSO optimization\n",
    "cso_optimization(population_size=10, max_iterations=1, model=model3, train_loader=train_loader, test_loader=test_loader, criterion=criterion)"
   ]
  },
  {
   "cell_type": "code",
   "execution_count": 140,
   "metadata": {},
   "outputs": [],
   "source": [
    "losses_cso = losses1[:10]\n",
    "accuracies_cso = accuracies1[:10]\n",
    "times_cso = times1[:10]"
   ]
  },
  {
   "cell_type": "code",
   "execution_count": 141,
   "metadata": {},
   "outputs": [],
   "source": [
    "epochs = range(1, len(accuracies_cso) + 1)"
   ]
  },
  {
   "cell_type": "code",
   "execution_count": 145,
   "metadata": {},
   "outputs": [],
   "source": [
    "accuracies_adam = [i*100 for i in accuracies2]\n",
    "times_adam = [i for i in times2]"
   ]
  },
  {
   "cell_type": "code",
   "execution_count": 151,
   "metadata": {},
   "outputs": [
    {
     "data": {
      "image/png": "[encoded data removed]",
      "text/plain": [
       "<Figure size 1200x600 with 1 Axes>"
      ]
     },
     "metadata": {},
     "output_type": "display_data"
    }
   ],
   "source": [
    "plt.figure(figsize=(12, 6))\n",
    "plt.plot(epochs, accuracies_cso, label='Crow Search Optimization', marker='o')\n",
    "plt.plot(epochs, accuracies_adam, label='Adam Optimizer', marker='o')\n",
    "plt.xlabel('Epoch')\n",
    "plt.ylabel('Accuracy')\n",
    "plt.title('Accuracy per Epoch')\n",
    "plt.legend()\n",
    "plt.grid(True)\n",
    "plt.show()"
   ]
  },
  {
   "cell_type": "code",
   "execution_count": 153,
   "metadata": {},
   "outputs": [
    {
     "data": {
      "image/png": "[encoded data removed]",
      "text/plain": [
       "<Figure size 1200x600 with 1 Axes>"
      ]
     },
     "metadata": {},
     "output_type": "display_data"
    }
   ],
   "source": [
    "plt.figure(figsize=(12, 6))\n",
    "plt.plot(epochs, times_cso, label='Crow Search Optimization', marker='o')\n",
    "plt.plot(epochs, times_adam, label='Adam Optimizer', marker='o')\n",
    "plt.xlabel('Epoch')\n",
    "plt.ylabel('Time (seconds)')\n",
    "plt.title('Time per Epoch')\n",
    "plt.legend()\n",
    "plt.grid(True)\n",
    "plt.show()"
   ]
  },
  {
   "cell_type": "code",
   "execution_count": 105,
   "metadata": {},
   "outputs": [],
   "source": [
    "from sklearn.model_selection import train_test_split\n",
    "\n",
    "x_train, x_test, y_train, y_test = train_test_split(X,y,test_size=0.2,random_state=42)"
   ]
  },
  {
   "cell_type": "code",
   "execution_count": 107,
   "metadata": {},
   "outputs": [
    {
     "name": "stdout",
     "output_type": "stream",
     "text": [
      "Params: {'max_depth': 3, 'min_samples_split': 2}, Training Time: 4.0353s, Accuracy: 1.0000\n",
      "Params: {'max_depth': 3, 'min_samples_split': 5}, Training Time: 3.2276s, Accuracy: 1.0000\n",
      "Params: {'max_depth': 3, 'min_samples_split': 10}, Training Time: 3.2502s, Accuracy: 1.0000\n",
      "Params: {'max_depth': 5, 'min_samples_split': 2}, Training Time: 3.4312s, Accuracy: 1.0000\n",
      "Params: {'max_depth': 5, 'min_samples_split': 5}, Training Time: 3.4747s, Accuracy: 1.0000\n",
      "Params: {'max_depth': 5, 'min_samples_split': 10}, Training Time: 3.9761s, Accuracy: 1.0000\n",
      "Params: {'max_depth': 7, 'min_samples_split': 2}, Training Time: 3.3306s, Accuracy: 1.0000\n",
      "Params: {'max_depth': 7, 'min_samples_split': 5}, Training Time: 3.5813s, Accuracy: 1.0000\n",
      "Params: {'max_depth': 7, 'min_samples_split': 10}, Training Time: 3.5214s, Accuracy: 1.0000\n",
      "Params: {'max_depth': 9, 'min_samples_split': 2}, Training Time: 3.4201s, Accuracy: 1.0000\n",
      "Params: {'max_depth': 9, 'min_samples_split': 5}, Training Time: 3.5224s, Accuracy: 1.0000\n",
      "Params: {'max_depth': 9, 'min_samples_split': 10}, Training Time: 3.1691s, Accuracy: 1.0000\n",
      "Best Params: {'max_depth': 3, 'min_samples_split': 2}, Best Accuracy: 1.0000\n"
     ]
    }
   ],
   "source": [
    "import time\n",
    "import numpy as np\n",
    "from sklearn.tree import DecisionTreeClassifier\n",
    "from sklearn.metrics import accuracy_score\n",
    "from sklearn.model_selection import ParameterGrid\n",
    "\n",
    "param_grid = {\n",
    "    'max_depth': [3, 5, 7, 9],\n",
    "    'min_samples_split': [2, 5, 10]\n",
    "}\n",
    "\n",
    "def greedy_search(xtrain, ytrain, xtest, ytest, param_grid):\n",
    "    best_params = None\n",
    "    best_accuracy = 0\n",
    "    best_model = None\n",
    "\n",
    "    for params in ParameterGrid(param_grid):\n",
    "        model = DecisionTreeClassifier(**params)\n",
    "\n",
    "        start_time = time.time()\n",
    "        model.fit(xtrain, ytrain)\n",
    "        end_time = time.time()\n",
    "\n",
    "        training_time = end_time - start_time\n",
    "        predictions = model.predict(xtest)\n",
    "        accuracy = accuracy_score(ytest, predictions)\n",
    "\n",
    "        print(f\"Params: {params}, Training Time: {training_time:.4f}s, Accuracy: {accuracy:.4f}\")\n",
    "\n",
    "        if accuracy > best_accuracy:\n",
    "            best_accuracy = accuracy\n",
    "            best_params = params\n",
    "            best_model = model\n",
    "\n",
    "    return best_model, best_params, best_accuracy\n",
    "\n",
    "best_model, best_params, best_accuracy = greedy_search(x_train, y_train, x_test, y_test, param_grid)\n",
    "\n",
    "print(f\"Best Params: {best_params}, Best Accuracy: {best_accuracy:.4f}\")"
   ]
  },
  {
   "cell_type": "code",
   "execution_count": 108,
   "metadata": {},
   "outputs": [],
   "source": [
    "acc_dict = {'CSO':99.61, 'Adam':99.10, 'LR':98.12, 'RF':96.72, 'SVM':98.56}\n",
    "time_dict = {'CSO':18.23, 'Adam':19.12, 'LR':4.27, 'RF':1.41, 'SVM':15.07}"
   ]
  },
  {
   "cell_type": "code",
   "execution_count": 109,
   "metadata": {},
   "outputs": [
    {
     "data": {
      "image/png": "[encoded data removed]",
      "text/plain": [
       "<Figure size 1000x500 with 1 Axes>"
      ]
     },
     "metadata": {},
     "output_type": "display_data"
    }
   ],
   "source": [
    "plt.figure(figsize=(10, 5))\n",
    "plt.bar(acc_dict.keys(), acc_dict.values(), color='blue')\n",
    "plt.xlabel('Model')\n",
    "plt.ylabel('Accuracy (%)')\n",
    "plt.title('Model Accuracy')\n",
    "plt.ylim([95, 100])\n",
    "plt.grid(axis='y', linestyle='--', linewidth=0.7)\n",
    "plt.show()"
   ]
  },
  {
   "cell_type": "code",
   "execution_count": 110,
   "metadata": {},
   "outputs": [
    {
     "data": {
      "image/png": "[encoded data removed]",
      "text/plain": [
       "<Figure size 1000x500 with 1 Axes>"
      ]
     },
     "metadata": {},
     "output_type": "display_data"
    }
   ],
   "source": [
    "plt.figure(figsize=(10, 5))\n",
    "plt.bar(time_dict.keys(), time_dict.values(), color='green')\n",
    "plt.xlabel('Model')\n",
    "plt.ylabel('Training Time (s)')\n",
    "plt.title('Model Training Time')\n",
    "plt.ylim([0, 20])\n",
    "plt.grid(axis='y', linestyle='--', linewidth=0.7)\n",
    "plt.show()"
   ]
  },
  {
   "cell_type": "code",
   "execution_count": 58,
   "metadata": {},
   "outputs": [],
   "source": [
    "import pickle\n",
    "import h5py"
   ]
  },
  {
   "cell_type": "code",
   "execution_count": 59,
   "metadata": {},
   "outputs": [],
   "source": [
    "with open('cso_ddos_model.pkl', 'wb') as f:\n",
    "    pickle.dump(model3.state_dict(), f)"
   ]
  },
  {
   "cell_type": "code",
   "execution_count": 60,
   "metadata": {},
   "outputs": [],
   "source": [
    "model_dict = model3.state_dict()\n",
    "with h5py.File('cso_ddos_model.h5', 'w') as f:\n",
    "    for key, value in model_dict.items():\n",
    "        f.create_dataset(key, data=value.cpu().numpy())"
   ]
  },
  {
   "cell_type": "code",
   "execution_count": 61,
   "metadata": {},
   "outputs": [],
   "source": [
    "torch.save(model3.state_dict(), 'cso_ddos_model.pth')"
   ]
  },
  {
   "cell_type": "markdown",
   "metadata": {},
   "source": [
    "### USING THE MODEL"
   ]
  },
  {
   "cell_type": "code",
   "execution_count": 40,
   "metadata": {},
   "outputs": [
    {
     "data": {
      "text/plain": [
       "Multiclass(\n",
       "  (layer1): Sequential(\n",
       "    (0): Conv1d(1, 16, kernel_size=(3,), stride=(1,), padding=(1,))\n",
       "    (1): BatchNorm1d(16, eps=1e-05, momentum=0.1, affine=True, track_running_stats=True)\n",
       "    (2): ReLU()\n",
       "    (3): MaxPool1d(kernel_size=2, stride=2, padding=0, dilation=1, ceil_mode=False)\n",
       "  )\n",
       "  (layer2): Sequential(\n",
       "    (0): Conv1d(16, 32, kernel_size=(3,), stride=(1,), padding=(1,))\n",
       "    (1): BatchNorm1d(32, eps=1e-05, momentum=0.1, affine=True, track_running_stats=True)\n",
       "    (2): ReLU()\n",
       "  )\n",
       "  (layer3): Sequential(\n",
       "    (0): Linear(in_features=704, out_features=64, bias=True)\n",
       "    (1): Dropout(p=0.5, inplace=False)\n",
       "    (2): ReLU()\n",
       "    (3): Linear(in_features=64, out_features=3, bias=True)\n",
       "  )\n",
       ")"
      ]
     },
     "execution_count": 40,
     "metadata": {},
     "output_type": "execute_result"
    }
   ],
   "source": [
    "from model import Multiclass\n",
    "model = torch.load('ddos_cnn_model_cso.pth', map_location=torch.device('cpu'))\n",
    "model.eval()"
   ]
  },
  {
   "cell_type": "code",
   "execution_count": 41,
   "metadata": {},
   "outputs": [],
   "source": [
    "def predict(features):\n",
    "     \n",
    "    with torch.no_grad():\n",
    "\n",
    "        output = model(features)\n",
    "        _, prediction = torch.max(output, 1)\n",
    "\n",
    "        if prediction.item() == 1:\n",
    "            output = False\n",
    "        else:\n",
    "            output = True\n",
    "    return output"
   ]
  },
  {
   "cell_type": "code",
   "execution_count": 43,
   "metadata": {},
   "outputs": [],
   "source": [
    "#Connv the ip addresses\n",
    "#Scale the parameters\n",
    "#pass them to the model using the above function"
   ]
  },
  {
   "cell_type": "code",
   "execution_count": null,
   "metadata": {},
   "outputs": [],
   "source": []
  }
 ],
 "metadata": {
  "kernelspec": {
   "display_name": "Python 3",
   "language": "python",
   "name": "python3"
  },
  "language_info": {
   "codemirror_mode": {
    "name": "ipython",
    "version": 3
   },
   "file_extension": ".py",
   "mimetype": "text/x-python",
   "name": "python",
   "nbconvert_exporter": "python",
   "pygments_lexer": "ipython3",
   "version": "3.10.1"
  },
  "orig_nbformat": 4
 },
 "nbformat": 4,
 "nbformat_minor": 2
}
