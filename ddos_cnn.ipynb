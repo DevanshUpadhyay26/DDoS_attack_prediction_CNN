{
 "cells": [
  {
   "cell_type": "code",
   "execution_count": 137,
   "metadata": {},
   "outputs": [],
   "source": [
    "import pandas as pd\n",
    "import numpy as np\n",
    "import matplotlib.pyplot as plt\n",
    "import seaborn as sns\n",
    "from sklearn.utils import resample\n",
    "from sklearn.model_selection import train_test_split as tts\n",
    "from sklearn.preprocessing import StandardScaler\n",
    "from tqdm import tqdm\n",
    "from imblearn.over_sampling import SMOTE\n",
    "from sklearn.metrics import confusion_matrix\n",
    "import itertools"
   ]
  },
  {
   "cell_type": "markdown",
   "metadata": {},
   "source": [
    "Read the data"
   ]
  },
  {
   "cell_type": "code",
   "execution_count": 79,
   "metadata": {},
   "outputs": [
    {
     "name": "stderr",
     "output_type": "stream",
     "text": [
      "C:\\Users\\009kr\\AppData\\Roaming\\Python\\Python310\\site-packages\\IPython\\core\\interactiveshell.py:3433: DtypeWarning: Columns (7,9) have mixed types.Specify dtype option on import or set low_memory=False.\n",
      "  exec(code_obj, self.user_global_ns, self.user_ns)\n"
     ]
    },
    {
     "data": {
      "text/plain": [
       "(668522, 46)"
      ]
     },
     "execution_count": 79,
     "metadata": {},
     "output_type": "execute_result"
    }
   ],
   "source": [
    "df = pd.read_csv('bot_iot.csv')\n",
    "df.shape"
   ]
  },
  {
   "cell_type": "code",
   "execution_count": 80,
   "metadata": {},
   "outputs": [
    {
     "data": {
      "text/html": [
       "<div>\n",
       "<style scoped>\n",
       "    .dataframe tbody tr th:only-of-type {\n",
       "        vertical-align: middle;\n",
       "    }\n",
       "\n",
       "    .dataframe tbody tr th {\n",
       "        vertical-align: top;\n",
       "    }\n",
       "\n",
       "    .dataframe thead th {\n",
       "        text-align: right;\n",
       "    }\n",
       "</style>\n",
       "<table border=\"1\" class=\"dataframe\">\n",
       "  <thead>\n",
       "    <tr style=\"text-align: right;\">\n",
       "      <th></th>\n",
       "      <th>pkSeqID</th>\n",
       "      <th>stime</th>\n",
       "      <th>flgs</th>\n",
       "      <th>flgs_number</th>\n",
       "      <th>proto</th>\n",
       "      <th>proto_number</th>\n",
       "      <th>saddr</th>\n",
       "      <th>sport</th>\n",
       "      <th>daddr</th>\n",
       "      <th>dport</th>\n",
       "      <th>...</th>\n",
       "      <th>AR_P_Proto_P_DstIP</th>\n",
       "      <th>N_IN_Conn_P_DstIP</th>\n",
       "      <th>N_IN_Conn_P_SrcIP</th>\n",
       "      <th>AR_P_Proto_P_Sport</th>\n",
       "      <th>AR_P_Proto_P_Dport</th>\n",
       "      <th>Pkts_P_State_P_Protocol_P_DestIP</th>\n",
       "      <th>Pkts_P_State_P_Protocol_P_SrcIP</th>\n",
       "      <th>attack</th>\n",
       "      <th>category</th>\n",
       "      <th>subcategory</th>\n",
       "    </tr>\n",
       "  </thead>\n",
       "  <tbody>\n",
       "    <tr>\n",
       "      <th>0</th>\n",
       "      <td>3000001</td>\n",
       "      <td>1.528099e+09</td>\n",
       "      <td>e</td>\n",
       "      <td>1</td>\n",
       "      <td>udp</td>\n",
       "      <td>3</td>\n",
       "      <td>192.168.100.147</td>\n",
       "      <td>6226</td>\n",
       "      <td>192.168.100.3</td>\n",
       "      <td>80</td>\n",
       "      <td>...</td>\n",
       "      <td>1.09825</td>\n",
       "      <td>100</td>\n",
       "      <td>100</td>\n",
       "      <td>1.09827</td>\n",
       "      <td>1.09825</td>\n",
       "      <td>1500</td>\n",
       "      <td>1500</td>\n",
       "      <td>1</td>\n",
       "      <td>DDoS</td>\n",
       "      <td>UDP</td>\n",
       "    </tr>\n",
       "    <tr>\n",
       "      <th>1</th>\n",
       "      <td>3000002</td>\n",
       "      <td>1.528099e+09</td>\n",
       "      <td>e</td>\n",
       "      <td>1</td>\n",
       "      <td>udp</td>\n",
       "      <td>3</td>\n",
       "      <td>192.168.100.147</td>\n",
       "      <td>6227</td>\n",
       "      <td>192.168.100.3</td>\n",
       "      <td>80</td>\n",
       "      <td>...</td>\n",
       "      <td>1.09825</td>\n",
       "      <td>100</td>\n",
       "      <td>100</td>\n",
       "      <td>1.09827</td>\n",
       "      <td>1.09825</td>\n",
       "      <td>1500</td>\n",
       "      <td>1500</td>\n",
       "      <td>1</td>\n",
       "      <td>DDoS</td>\n",
       "      <td>UDP</td>\n",
       "    </tr>\n",
       "    <tr>\n",
       "      <th>2</th>\n",
       "      <td>3000003</td>\n",
       "      <td>1.528099e+09</td>\n",
       "      <td>e</td>\n",
       "      <td>1</td>\n",
       "      <td>udp</td>\n",
       "      <td>3</td>\n",
       "      <td>192.168.100.147</td>\n",
       "      <td>6228</td>\n",
       "      <td>192.168.100.3</td>\n",
       "      <td>80</td>\n",
       "      <td>...</td>\n",
       "      <td>1.09825</td>\n",
       "      <td>100</td>\n",
       "      <td>100</td>\n",
       "      <td>1.09827</td>\n",
       "      <td>1.09825</td>\n",
       "      <td>1500</td>\n",
       "      <td>1500</td>\n",
       "      <td>1</td>\n",
       "      <td>DDoS</td>\n",
       "      <td>UDP</td>\n",
       "    </tr>\n",
       "    <tr>\n",
       "      <th>3</th>\n",
       "      <td>3000004</td>\n",
       "      <td>1.528099e+09</td>\n",
       "      <td>e</td>\n",
       "      <td>1</td>\n",
       "      <td>udp</td>\n",
       "      <td>3</td>\n",
       "      <td>192.168.100.147</td>\n",
       "      <td>6229</td>\n",
       "      <td>192.168.100.3</td>\n",
       "      <td>80</td>\n",
       "      <td>...</td>\n",
       "      <td>1.09825</td>\n",
       "      <td>100</td>\n",
       "      <td>100</td>\n",
       "      <td>1.09827</td>\n",
       "      <td>1.09825</td>\n",
       "      <td>1500</td>\n",
       "      <td>1500</td>\n",
       "      <td>1</td>\n",
       "      <td>DDoS</td>\n",
       "      <td>UDP</td>\n",
       "    </tr>\n",
       "    <tr>\n",
       "      <th>4</th>\n",
       "      <td>3000005</td>\n",
       "      <td>1.528099e+09</td>\n",
       "      <td>e</td>\n",
       "      <td>1</td>\n",
       "      <td>udp</td>\n",
       "      <td>3</td>\n",
       "      <td>192.168.100.147</td>\n",
       "      <td>6230</td>\n",
       "      <td>192.168.100.3</td>\n",
       "      <td>80</td>\n",
       "      <td>...</td>\n",
       "      <td>1.09825</td>\n",
       "      <td>100</td>\n",
       "      <td>100</td>\n",
       "      <td>1.09827</td>\n",
       "      <td>1.09825</td>\n",
       "      <td>1500</td>\n",
       "      <td>1500</td>\n",
       "      <td>1</td>\n",
       "      <td>DDoS</td>\n",
       "      <td>UDP</td>\n",
       "    </tr>\n",
       "  </tbody>\n",
       "</table>\n",
       "<p>5 rows × 46 columns</p>\n",
       "</div>"
      ],
      "text/plain": [
       "   pkSeqID         stime flgs  flgs_number proto  proto_number  \\\n",
       "0  3000001  1.528099e+09    e            1   udp             3   \n",
       "1  3000002  1.528099e+09    e            1   udp             3   \n",
       "2  3000003  1.528099e+09    e            1   udp             3   \n",
       "3  3000004  1.528099e+09    e            1   udp             3   \n",
       "4  3000005  1.528099e+09    e            1   udp             3   \n",
       "\n",
       "             saddr sport          daddr dport  ...  AR_P_Proto_P_DstIP  \\\n",
       "0  192.168.100.147  6226  192.168.100.3    80  ...             1.09825   \n",
       "1  192.168.100.147  6227  192.168.100.3    80  ...             1.09825   \n",
       "2  192.168.100.147  6228  192.168.100.3    80  ...             1.09825   \n",
       "3  192.168.100.147  6229  192.168.100.3    80  ...             1.09825   \n",
       "4  192.168.100.147  6230  192.168.100.3    80  ...             1.09825   \n",
       "\n",
       "   N_IN_Conn_P_DstIP N_IN_Conn_P_SrcIP  AR_P_Proto_P_Sport  \\\n",
       "0                100               100             1.09827   \n",
       "1                100               100             1.09827   \n",
       "2                100               100             1.09827   \n",
       "3                100               100             1.09827   \n",
       "4                100               100             1.09827   \n",
       "\n",
       "   AR_P_Proto_P_Dport  Pkts_P_State_P_Protocol_P_DestIP  \\\n",
       "0             1.09825                              1500   \n",
       "1             1.09825                              1500   \n",
       "2             1.09825                              1500   \n",
       "3             1.09825                              1500   \n",
       "4             1.09825                              1500   \n",
       "\n",
       "   Pkts_P_State_P_Protocol_P_SrcIP  attack  category  subcategory  \n",
       "0                             1500       1      DDoS          UDP  \n",
       "1                             1500       1      DDoS          UDP  \n",
       "2                             1500       1      DDoS          UDP  \n",
       "3                             1500       1      DDoS          UDP  \n",
       "4                             1500       1      DDoS          UDP  \n",
       "\n",
       "[5 rows x 46 columns]"
      ]
     },
     "execution_count": 80,
     "metadata": {},
     "output_type": "execute_result"
    }
   ],
   "source": [
    "df.head()"
   ]
  },
  {
   "cell_type": "code",
   "execution_count": 81,
   "metadata": {},
   "outputs": [
    {
     "data": {
      "text/plain": [
       "array(['DDoS', 'Normal', 'Reconnaissance', 'Theft'], dtype=object)"
      ]
     },
     "execution_count": 81,
     "metadata": {},
     "output_type": "execute_result"
    }
   ],
   "source": [
    "df.category.unique()"
   ]
  },
  {
   "cell_type": "code",
   "execution_count": 82,
   "metadata": {},
   "outputs": [],
   "source": [
    "df['category'] = df['category'].apply(lambda x: x if x in ['DDoS'] else 'Other')"
   ]
  },
  {
   "cell_type": "code",
   "execution_count": 83,
   "metadata": {},
   "outputs": [],
   "source": [
    "#label encode the output column\n",
    "category_map = {'DDoS':0, 'Other':1}\n",
    "df['category'] = df['category'].replace(category_map)"
   ]
  },
  {
   "cell_type": "code",
   "execution_count": 84,
   "metadata": {},
   "outputs": [
    {
     "data": {
      "text/plain": [
       "0    576884\n",
       "1     91638\n",
       "Name: category, dtype: int64"
      ]
     },
     "execution_count": 84,
     "metadata": {},
     "output_type": "execute_result"
    }
   ],
   "source": [
    "df.category.value_counts()"
   ]
  },
  {
   "cell_type": "code",
   "execution_count": 85,
   "metadata": {},
   "outputs": [
    {
     "data": {
      "text/plain": [
       "668522"
      ]
     },
     "execution_count": 85,
     "metadata": {},
     "output_type": "execute_result"
    }
   ],
   "source": [
    "df.pkSeqID.unique().size"
   ]
  },
  {
   "cell_type": "markdown",
   "metadata": {},
   "source": [
    "Check information regarding the features"
   ]
  },
  {
   "cell_type": "code",
   "execution_count": 86,
   "metadata": {},
   "outputs": [
    {
     "name": "stdout",
     "output_type": "stream",
     "text": [
      "<class 'pandas.core.frame.DataFrame'>\n",
      "RangeIndex: 668522 entries, 0 to 668521\n",
      "Data columns (total 46 columns):\n",
      " #   Column                            Non-Null Count   Dtype  \n",
      "---  ------                            --------------   -----  \n",
      " 0   pkSeqID                           668522 non-null  int64  \n",
      " 1   stime                             668522 non-null  float64\n",
      " 2   flgs                              668522 non-null  object \n",
      " 3   flgs_number                       668522 non-null  int64  \n",
      " 4   proto                             668522 non-null  object \n",
      " 5   proto_number                      668522 non-null  int64  \n",
      " 6   saddr                             668522 non-null  object \n",
      " 7   sport                             668522 non-null  object \n",
      " 8   daddr                             668522 non-null  object \n",
      " 9   dport                             668522 non-null  object \n",
      " 10  pkts                              668522 non-null  int64  \n",
      " 11  bytes                             668522 non-null  int64  \n",
      " 12  state                             668522 non-null  object \n",
      " 13  state_number                      668522 non-null  int64  \n",
      " 14  ltime                             668522 non-null  float64\n",
      " 15  seq                               668522 non-null  int64  \n",
      " 16  dur                               668522 non-null  float64\n",
      " 17  mean                              668522 non-null  float64\n",
      " 18  stddev                            668522 non-null  float64\n",
      " 19  sum                               668522 non-null  float64\n",
      " 20  min                               668522 non-null  float64\n",
      " 21  max                               668522 non-null  float64\n",
      " 22  spkts                             668522 non-null  int64  \n",
      " 23  dpkts                             668522 non-null  int64  \n",
      " 24  sbytes                            668522 non-null  int64  \n",
      " 25  dbytes                            668522 non-null  int64  \n",
      " 26  rate                              668522 non-null  float64\n",
      " 27  srate                             668522 non-null  float64\n",
      " 28  drate                             668522 non-null  float64\n",
      " 29  TnBPSrcIP                         668522 non-null  int64  \n",
      " 30  TnBPDstIP                         668522 non-null  int64  \n",
      " 31  TnP_PSrcIP                        668522 non-null  int64  \n",
      " 32  TnP_PDstIP                        668522 non-null  int64  \n",
      " 33  TnP_PerProto                      668522 non-null  int64  \n",
      " 34  TnP_Per_Dport                     668522 non-null  int64  \n",
      " 35  AR_P_Proto_P_SrcIP                668522 non-null  float64\n",
      " 36  AR_P_Proto_P_DstIP                668522 non-null  float64\n",
      " 37  N_IN_Conn_P_DstIP                 668522 non-null  int64  \n",
      " 38  N_IN_Conn_P_SrcIP                 668522 non-null  int64  \n",
      " 39  AR_P_Proto_P_Sport                668522 non-null  float64\n",
      " 40  AR_P_Proto_P_Dport                668522 non-null  float64\n",
      " 41  Pkts_P_State_P_Protocol_P_DestIP  668522 non-null  int64  \n",
      " 42  Pkts_P_State_P_Protocol_P_SrcIP   668522 non-null  int64  \n",
      " 43  attack                            668522 non-null  int64  \n",
      " 44  category                          668522 non-null  int64  \n",
      " 45  subcategory                       668522 non-null  object \n",
      "dtypes: float64(15), int64(23), object(8)\n",
      "memory usage: 234.6+ MB\n"
     ]
    }
   ],
   "source": [
    "df.info()"
   ]
  },
  {
   "cell_type": "markdown",
   "metadata": {},
   "source": [
    "Data Preprocessing"
   ]
  },
  {
   "cell_type": "code",
   "execution_count": 87,
   "metadata": {},
   "outputs": [
    {
     "data": {
      "text/plain": [
       "array(['e', 'eU', 'e &', 'e d', 'e   t', 'e s', 'e  D', 'e *', 'e g'],\n",
       "      dtype=object)"
      ]
     },
     "execution_count": 87,
     "metadata": {},
     "output_type": "execute_result"
    }
   ],
   "source": [
    "df.flgs.unique()"
   ]
  },
  {
   "cell_type": "code",
   "execution_count": 88,
   "metadata": {},
   "outputs": [],
   "source": [
    "#Features not useful\n",
    "df = df.drop(['flgs','flgs_number'], axis = 1)"
   ]
  },
  {
   "cell_type": "code",
   "execution_count": 89,
   "metadata": {},
   "outputs": [
    {
     "data": {
      "text/plain": [
       "array(['udp', 'arp', 'icmp', 'tcp', 'ipv6-icmp'], dtype=object)"
      ]
     },
     "execution_count": 89,
     "metadata": {},
     "output_type": "execute_result"
    }
   ],
   "source": [
    "df.proto.unique()"
   ]
  },
  {
   "cell_type": "code",
   "execution_count": 90,
   "metadata": {},
   "outputs": [],
   "source": [
    "#Similar feature exists in numeric format\n",
    "df = df.drop(['proto'],axis=1)"
   ]
  },
  {
   "cell_type": "code",
   "execution_count": 91,
   "metadata": {},
   "outputs": [
    {
     "data": {
      "text/plain": [
       "array([3, 2, 4, 1, 5], dtype=int64)"
      ]
     },
     "execution_count": 91,
     "metadata": {},
     "output_type": "execute_result"
    }
   ],
   "source": [
    "df.proto_number.unique()"
   ]
  },
  {
   "cell_type": "code",
   "execution_count": 92,
   "metadata": {},
   "outputs": [
    {
     "data": {
      "text/plain": [
       "array(['192.168.100.147', '192.168.100.148', '192.168.100.149',\n",
       "       '192.168.100.150', '192.168.100.3', '192.168.100.1',\n",
       "       '192.168.100.7', '192.168.100.4', '192.168.100.27',\n",
       "       'fe80::250:56ff:febe:254', '192.168.100.46', '192.168.100.6',\n",
       "       '192.168.100.5', 'fe80::250:56ff:febe:26db',\n",
       "       'fe80::250:56ff:febe:e9d9', 'fe80::c0c0:aa20:45b9:bdd9',\n",
       "       'fe80::250:56ff:febe:89ee', 'fe80::2c6a:ff9b:7e14:166a',\n",
       "       'fe80::250:56ff:febe:bf1a', 'fe80::250:56ff:febe:c038',\n",
       "       '192.168.100.55'], dtype=object)"
      ]
     },
     "execution_count": 92,
     "metadata": {},
     "output_type": "execute_result"
    }
   ],
   "source": [
    "df.saddr.unique()"
   ]
  },
  {
   "cell_type": "code",
   "execution_count": 93,
   "metadata": {},
   "outputs": [],
   "source": [
    "#Convert ip/mac addresses to a more useable format\n",
    "def conv_ip_addr(ip_addr):\n",
    "    ip_addr = ip_addr.replace(':','.')\n",
    "    temp = ip_addr.split('.')\n",
    "    op = ''.join(temp)\n",
    "    if op.isnumeric():\n",
    "        op = int(op)\n",
    "    else:\n",
    "        op =int(op, 16)\n",
    "    return op"
   ]
  },
  {
   "cell_type": "code",
   "execution_count": 94,
   "metadata": {},
   "outputs": [
    {
     "data": {
      "text/plain": [
       "dtype('O')"
      ]
     },
     "execution_count": 94,
     "metadata": {},
     "output_type": "execute_result"
    }
   ],
   "source": [
    "df.saddr.dtype"
   ]
  },
  {
   "cell_type": "code",
   "execution_count": 95,
   "metadata": {},
   "outputs": [],
   "source": [
    "df['saddr'] = df['saddr'].apply(conv_ip_addr)"
   ]
  },
  {
   "cell_type": "code",
   "execution_count": 96,
   "metadata": {},
   "outputs": [],
   "source": [
    "df['saddr'] = pd.to_numeric(df['saddr'], errors = 'coerce')"
   ]
  },
  {
   "cell_type": "code",
   "execution_count": 97,
   "metadata": {},
   "outputs": [],
   "source": [
    "df['daddr'] = df['daddr'].apply(conv_ip_addr)"
   ]
  },
  {
   "cell_type": "code",
   "execution_count": 98,
   "metadata": {},
   "outputs": [],
   "source": [
    "#Unable to find a better way to handle port addresses might change this\n",
    "df = df.drop(['dport','sport'],axis=1)"
   ]
  },
  {
   "cell_type": "code",
   "execution_count": 99,
   "metadata": {},
   "outputs": [
    {
     "data": {
      "text/plain": [
       "array(['INT', 'CON', 'URP', 'FIN', 'NRS', 'RST', 'ECO', 'TST', 'MAS',\n",
       "       'REQ'], dtype=object)"
      ]
     },
     "execution_count": 99,
     "metadata": {},
     "output_type": "execute_result"
    }
   ],
   "source": [
    "df.state.unique()"
   ]
  },
  {
   "cell_type": "code",
   "execution_count": 100,
   "metadata": {},
   "outputs": [],
   "source": [
    "#One hot encode state feature, might be important\n",
    "df = pd.get_dummies(df, columns=['state'], prefix=['state'])"
   ]
  },
  {
   "cell_type": "code",
   "execution_count": 101,
   "metadata": {},
   "outputs": [],
   "source": [
    "df = df.drop(['state_number'],axis=1)"
   ]
  },
  {
   "cell_type": "code",
   "execution_count": 102,
   "metadata": {},
   "outputs": [
    {
     "data": {
      "text/plain": [
       "array([1, 0], dtype=int64)"
      ]
     },
     "execution_count": 102,
     "metadata": {},
     "output_type": "execute_result"
    }
   ],
   "source": [
    "df.attack.unique()"
   ]
  },
  {
   "cell_type": "code",
   "execution_count": 103,
   "metadata": {},
   "outputs": [],
   "source": [
    "df = df.drop(['pkSeqID','attack','subcategory'], axis=1)"
   ]
  },
  {
   "cell_type": "markdown",
   "metadata": {},
   "source": [
    "CNN without Feature selection"
   ]
  },
  {
   "cell_type": "code",
   "execution_count": 104,
   "metadata": {},
   "outputs": [],
   "source": [
    "col_to_scale = ['stime','saddr','daddr', 'pkts', 'bytes', 'ltime', 'dur', \n",
    "                'mean', 'stddev', 'sum', 'min', 'max', 'spkts', 'dpkts',\n",
    "                'sbytes', 'dbytes', 'rate', 'srate', 'drate', 'TnBPSrcIP', 'TnBPDstIP',\n",
    "                'TnP_PSrcIP', 'TnP_PDstIP', 'TnP_PerProto', 'TnP_Per_Dport',\n",
    "                'Pkts_P_State_P_Protocol_P_DestIP', 'Pkts_P_State_P_Protocol_P_SrcIP']"
   ]
  },
  {
   "cell_type": "code",
   "execution_count": 105,
   "metadata": {},
   "outputs": [],
   "source": [
    "for col in col_to_scale:\n",
    "    mu = df[col].mean()\n",
    "    stdd = df[col].std()\n",
    "\n",
    "    df[col] = (df[col]-mu)/stdd"
   ]
  },
  {
   "cell_type": "code",
   "execution_count": 106,
   "metadata": {},
   "outputs": [],
   "source": [
    "X = df.drop(['category'],axis=1)\n",
    "y = df['category']"
   ]
  },
  {
   "cell_type": "code",
   "execution_count": 107,
   "metadata": {},
   "outputs": [],
   "source": [
    "xtrain, xtest, ytrain, ytest = tts(X,y,test_size=0.2,random_state=42)"
   ]
  },
  {
   "cell_type": "code",
   "execution_count": 108,
   "metadata": {},
   "outputs": [],
   "source": [
    "import torch\n",
    "import torch.nn as nn\n",
    "import torch.nn.functional as F\n",
    "from torch.utils.data import DataLoader, TensorDataset\n",
    "\n",
    "device = torch.device('cuda' if torch.cuda.is_available() else 'cpu')"
   ]
  },
  {
   "cell_type": "code",
   "execution_count": 109,
   "metadata": {},
   "outputs": [],
   "source": [
    "xtrain = torch.FloatTensor(xtrain.values).unsqueeze(1)\n",
    "ytrain = torch.LongTensor(ytrain.values)\n",
    "xtest = torch.FloatTensor(xtest.values).unsqueeze(1)\n",
    "ytest = torch.LongTensor(ytest.values)"
   ]
  },
  {
   "cell_type": "code",
   "execution_count": 110,
   "metadata": {},
   "outputs": [],
   "source": [
    "xtrain, xtest, ytrain, ytest = xtrain.to(device), xtest.to(device),ytrain.to(device), ytest.to(device)"
   ]
  },
  {
   "cell_type": "code",
   "execution_count": 111,
   "metadata": {},
   "outputs": [],
   "source": [
    "#xtrain, xtest = xtrain.reshape(-1,1,45), xtest.reshape(-1,1,45)"
   ]
  },
  {
   "cell_type": "code",
   "execution_count": 112,
   "metadata": {},
   "outputs": [
    {
     "data": {
      "text/plain": [
       "torch.Size([534817, 1, 45])"
      ]
     },
     "execution_count": 112,
     "metadata": {},
     "output_type": "execute_result"
    }
   ],
   "source": [
    "xtrain.shape"
   ]
  },
  {
   "cell_type": "code",
   "execution_count": 113,
   "metadata": {},
   "outputs": [],
   "source": [
    "train_dataset = TensorDataset(xtrain, ytrain)"
   ]
  },
  {
   "cell_type": "code",
   "execution_count": 114,
   "metadata": {},
   "outputs": [],
   "source": [
    "batch_size = 32\n",
    "train_loader = DataLoader(dataset=train_dataset, batch_size=batch_size, shuffle=True)"
   ]
  },
  {
   "cell_type": "code",
   "execution_count": 125,
   "metadata": {},
   "outputs": [],
   "source": [
    "num_epochs = 7\n",
    "learning_rate = 0.001"
   ]
  },
  {
   "cell_type": "code",
   "execution_count": 126,
   "metadata": {},
   "outputs": [],
   "source": [
    "class PrintShape(nn.Module):\n",
    "    def forward(self, x):\n",
    "        print(x.shape)\n",
    "        return x"
   ]
  },
  {
   "cell_type": "code",
   "execution_count": 127,
   "metadata": {},
   "outputs": [],
   "source": [
    "class Multiclass(nn.Module):\n",
    "    def __init__(self):\n",
    "        super(Multiclass, self).__init__()\n",
    "        self.layer1 = nn.Sequential(\n",
    "        nn.Conv1d(in_channels=1, out_channels=16, kernel_size=3, stride=1, padding=1),\n",
    "        #PrintShape(),\n",
    "        nn.BatchNorm1d(16),\n",
    "        nn.ReLU(),\n",
    "        nn.MaxPool1d(kernel_size=2)\n",
    "        )\n",
    "        \n",
    "        self.layer2 = nn.Sequential(\n",
    "        nn.Conv1d(in_channels=16, out_channels=32, kernel_size=3, stride=1, padding=1),\n",
    "        nn.BatchNorm1d(32),\n",
    "       # pool2 = nn.MaxPool1d(kernel_size=2),\n",
    "        nn.ReLU()\n",
    "        )\n",
    "        \n",
    "        self.layer3 = nn.Sequential(\n",
    "        nn.Linear(32*22, 64),\n",
    "        nn.Dropout(0.5),\n",
    "        nn.ReLU(),\n",
    "        nn.Linear(64,3)\n",
    "        )\n",
    "        \n",
    "    \n",
    "    def forward(self, x):\n",
    "        #print(\"Initial input shape:\", x.shape)\n",
    "        x = self.layer1(x)\n",
    "        x = self.layer2(x)\n",
    "        #print(\"Before reshaping:\", x.shape)\n",
    "        x = x.view(x.size(0),-1)\n",
    "        #print(\"After reshaping:\", x.shape)\n",
    "        x = self.layer3(x)\n",
    "        return x"
   ]
  },
  {
   "cell_type": "code",
   "execution_count": 128,
   "metadata": {},
   "outputs": [],
   "source": [
    "model = Multiclass().to(device)"
   ]
  },
  {
   "cell_type": "code",
   "execution_count": 129,
   "metadata": {},
   "outputs": [],
   "source": [
    "criterion = nn.CrossEntropyLoss()\n",
    "optimizer = torch.optim.Adam(model.parameters(), lr = learning_rate)"
   ]
  },
  {
   "cell_type": "code",
   "execution_count": 130,
   "metadata": {},
   "outputs": [
    {
     "name": "stderr",
     "output_type": "stream",
     "text": [
      "Epoch 0: 100%|██████████| 16714/16714 [02:09<00:00, 129.45it/s]\n"
     ]
    },
    {
     "name": "stdout",
     "output_type": "stream",
     "text": [
      "Epoch 0 --- Avg loss = 0.0000\n"
     ]
    },
    {
     "name": "stderr",
     "output_type": "stream",
     "text": [
      "Epoch 1: 100%|██████████| 16714/16714 [02:00<00:00, 138.26it/s]\n"
     ]
    },
    {
     "name": "stdout",
     "output_type": "stream",
     "text": [
      "Epoch 1 --- Avg loss = 0.0000\n"
     ]
    },
    {
     "name": "stderr",
     "output_type": "stream",
     "text": [
      "Epoch 2: 100%|██████████| 16714/16714 [01:59<00:00, 140.42it/s]\n"
     ]
    },
    {
     "name": "stdout",
     "output_type": "stream",
     "text": [
      "Epoch 2 --- Avg loss = 0.0000\n"
     ]
    },
    {
     "name": "stderr",
     "output_type": "stream",
     "text": [
      "Epoch 3: 100%|██████████| 16714/16714 [02:00<00:00, 138.65it/s]\n"
     ]
    },
    {
     "name": "stdout",
     "output_type": "stream",
     "text": [
      "Epoch 3 --- Avg loss = 0.0000\n"
     ]
    },
    {
     "name": "stderr",
     "output_type": "stream",
     "text": [
      "Epoch 4: 100%|██████████| 16714/16714 [02:01<00:00, 138.09it/s]\n"
     ]
    },
    {
     "name": "stdout",
     "output_type": "stream",
     "text": [
      "Epoch 4 --- Avg loss = 0.0000\n"
     ]
    },
    {
     "name": "stderr",
     "output_type": "stream",
     "text": [
      "Epoch 5: 100%|██████████| 16714/16714 [02:01<00:00, 137.85it/s]\n"
     ]
    },
    {
     "name": "stdout",
     "output_type": "stream",
     "text": [
      "Epoch 5 --- Avg loss = 0.0000\n"
     ]
    },
    {
     "name": "stderr",
     "output_type": "stream",
     "text": [
      "Epoch 6: 100%|██████████| 16714/16714 [02:00<00:00, 138.40it/s]"
     ]
    },
    {
     "name": "stdout",
     "output_type": "stream",
     "text": [
      "Epoch 6 --- Avg loss = 0.0000\n"
     ]
    },
    {
     "name": "stderr",
     "output_type": "stream",
     "text": [
      "\n"
     ]
    }
   ],
   "source": [
    "for e in range(num_epochs):\n",
    "    loss = 0.0\n",
    "    for batch_X, batch_y in tqdm(train_loader, desc=f\"Epoch {e}\"):\n",
    "        #print(\"Input data shape:\", batch_X.shape)\n",
    "        batch_X, batch_y = batch_X.to(device), batch_y.to(device)\n",
    "\n",
    "        outputs = model(batch_X)\n",
    "        loss = criterion(outputs, batch_y)\n",
    "\n",
    "        optimizer.zero_grad()\n",
    "        loss.backward()\n",
    "        optimizer.step()\n",
    "\n",
    "        \n",
    "        #print(f\"Epoch {e}, loss = {loss.item():.4f}\")\n",
    "    avg_loss = loss/len(train_loader)\n",
    "    print(f\"Epoch {e} --- Avg loss = {avg_loss:.4f}\")"
   ]
  },
  {
   "cell_type": "code",
   "execution_count": 131,
   "metadata": {},
   "outputs": [],
   "source": [
    "test_dataset = TensorDataset(xtest, ytest)\n",
    "test_loader = DataLoader(test_dataset, batch_size=32)"
   ]
  },
  {
   "cell_type": "code",
   "execution_count": 134,
   "metadata": {},
   "outputs": [
    {
     "name": "stdout",
     "output_type": "stream",
     "text": [
      "Accuracy of the model on the test data: 99.74%\n"
     ]
    }
   ],
   "source": [
    "model.eval() \n",
    "true = [] \n",
    "pred = []\n",
    "correct_predictions = 0\n",
    "total_predictions = 0\n",
    "\n",
    "with torch.no_grad():  \n",
    "    for data, labels in test_loader:\n",
    "        data, labels = data.to(device), labels.to(device) \n",
    "        outputs = model(data)\n",
    "        _, predicted = torch.max(outputs, 1) \n",
    "\n",
    "        pred.extend(predicted.cpu().tolist())\n",
    "        true.extend(labels.tolist())\n",
    "\n",
    "        total_predictions += labels.size(0)\n",
    "        correct_predictions += (predicted == labels).sum().item()\n",
    "\n",
    "accuracy = (correct_predictions / total_predictions) * 100\n",
    "print(f'Accuracy of the model on the test data: {accuracy:.2f}%')"
   ]
  },
  {
   "cell_type": "code",
   "execution_count": 133,
   "metadata": {},
   "outputs": [
    {
     "data": {
      "text/plain": [
       "Counter({0: 115539, 1: 18166})"
      ]
     },
     "execution_count": 133,
     "metadata": {},
     "output_type": "execute_result"
    }
   ],
   "source": [
    "from collections import Counter\n",
    "counter = Counter(pred)\n",
    "counter"
   ]
  },
  {
   "cell_type": "code",
   "execution_count": 136,
   "metadata": {},
   "outputs": [],
   "source": [
    "cm = confusion_matrix(true, pred)"
   ]
  },
  {
   "cell_type": "code",
   "execution_count": 138,
   "metadata": {},
   "outputs": [
    {
     "data": {
      "image/png": "[encoded data removed]",
      "text/plain": [
       "<Figure size 1000x700 with 2 Axes>"
      ]
     },
     "metadata": {},
     "output_type": "display_data"
    }
   ],
   "source": [
    "def plot_confusion_matrix(cm, classes, title='Confusion Matrix', cmap=plt.cm.Blues):\n",
    "    plt.figure(figsize=(10, 7))\n",
    "    plt.imshow(cm, interpolation='nearest', cmap=cmap)\n",
    "    plt.title(title)\n",
    "    plt.colorbar()\n",
    "    tick_marks = np.arange(len(classes))\n",
    "    plt.xticks(tick_marks, classes, rotation=45)\n",
    "    plt.yticks(tick_marks, classes)\n",
    "\n",
    "    thresh = cm.max() / 2.\n",
    "    for i, j in itertools.product(range(cm.shape[0]), range(cm.shape[1])):\n",
    "        plt.text(j, i, format(cm[i, j], 'd'),\n",
    "                 horizontalalignment=\"center\",\n",
    "                 color=\"white\" if cm[i, j] > thresh else \"black\")\n",
    "\n",
    "    plt.tight_layout()\n",
    "    plt.ylabel('True label')\n",
    "    plt.xlabel('Predicted label')\n",
    "    plt.show()\n",
    "\n",
    "# Assuming your classes are named 'DDOS', 'Normal', and 'Other'\n",
    "plot_confusion_matrix(cm, classes=['DDOS', 'Other'])"
   ]
  },
  {
   "cell_type": "code",
   "execution_count": 140,
   "metadata": {},
   "outputs": [
    {
     "name": "stdout",
     "output_type": "stream",
     "text": [
      "F1 Score: 0.9906\n"
     ]
    }
   ],
   "source": [
    "from sklearn.metrics import f1_score\n",
    "\n",
    "f1 = f1_score(true, pred)\n",
    "print(f\"F1 Score: {f1:.4f}\")"
   ]
  },
  {
   "cell_type": "markdown",
   "metadata": {},
   "source": [
    "Feature Selection"
   ]
  },
  {
   "cell_type": "code",
   "execution_count": 32,
   "metadata": {},
   "outputs": [
    {
     "name": "stdout",
     "output_type": "stream",
     "text": [
      "<class 'pandas.core.frame.DataFrame'>\n",
      "RangeIndex: 668522 entries, 0 to 668521\n",
      "Data columns (total 46 columns):\n",
      " #   Column                            Non-Null Count   Dtype  \n",
      "---  ------                            --------------   -----  \n",
      " 0   stime                             668522 non-null  float64\n",
      " 1   proto_number                      668522 non-null  int64  \n",
      " 2   saddr                             668522 non-null  float64\n",
      " 3   daddr                             668522 non-null  int64  \n",
      " 4   pkts                              668522 non-null  int64  \n",
      " 5   bytes                             668522 non-null  int64  \n",
      " 6   ltime                             668522 non-null  float64\n",
      " 7   seq                               668522 non-null  int64  \n",
      " 8   dur                               668522 non-null  float64\n",
      " 9   mean                              668522 non-null  float64\n",
      " 10  stddev                            668522 non-null  float64\n",
      " 11  sum                               668522 non-null  float64\n",
      " 12  min                               668522 non-null  float64\n",
      " 13  max                               668522 non-null  float64\n",
      " 14  spkts                             668522 non-null  int64  \n",
      " 15  dpkts                             668522 non-null  int64  \n",
      " 16  sbytes                            668522 non-null  int64  \n",
      " 17  dbytes                            668522 non-null  int64  \n",
      " 18  rate                              668522 non-null  float64\n",
      " 19  srate                             668522 non-null  float64\n",
      " 20  drate                             668522 non-null  float64\n",
      " 21  TnBPSrcIP                         668522 non-null  int64  \n",
      " 22  TnBPDstIP                         668522 non-null  int64  \n",
      " 23  TnP_PSrcIP                        668522 non-null  int64  \n",
      " 24  TnP_PDstIP                        668522 non-null  int64  \n",
      " 25  TnP_PerProto                      668522 non-null  int64  \n",
      " 26  TnP_Per_Dport                     668522 non-null  int64  \n",
      " 27  AR_P_Proto_P_SrcIP                668522 non-null  float64\n",
      " 28  AR_P_Proto_P_DstIP                668522 non-null  float64\n",
      " 29  N_IN_Conn_P_DstIP                 668522 non-null  int64  \n",
      " 30  N_IN_Conn_P_SrcIP                 668522 non-null  int64  \n",
      " 31  AR_P_Proto_P_Sport                668522 non-null  float64\n",
      " 32  AR_P_Proto_P_Dport                668522 non-null  float64\n",
      " 33  Pkts_P_State_P_Protocol_P_DestIP  668522 non-null  int64  \n",
      " 34  Pkts_P_State_P_Protocol_P_SrcIP   668522 non-null  int64  \n",
      " 35  category                          668522 non-null  int64  \n",
      " 36  state_CON                         668522 non-null  uint8  \n",
      " 37  state_ECO                         668522 non-null  uint8  \n",
      " 38  state_FIN                         668522 non-null  uint8  \n",
      " 39  state_INT                         668522 non-null  uint8  \n",
      " 40  state_MAS                         668522 non-null  uint8  \n",
      " 41  state_NRS                         668522 non-null  uint8  \n",
      " 42  state_REQ                         668522 non-null  uint8  \n",
      " 43  state_RST                         668522 non-null  uint8  \n",
      " 44  state_TST                         668522 non-null  uint8  \n",
      " 45  state_URP                         668522 non-null  uint8  \n",
      "dtypes: float64(16), int64(20), uint8(10)\n",
      "memory usage: 190.0 MB\n"
     ]
    }
   ],
   "source": [
    "df.info()"
   ]
  },
  {
   "cell_type": "code",
   "execution_count": 33,
   "metadata": {},
   "outputs": [],
   "source": [
    "#Find correlation matrix of the features\n",
    "corr_matrix = df.corr()"
   ]
  },
  {
   "cell_type": "code",
   "execution_count": 34,
   "metadata": {},
   "outputs": [],
   "source": [
    "#correlation of all features with the output feature\n",
    "corr_with_output = corr_matrix['category'].sort_values(ascending=False)"
   ]
  },
  {
   "cell_type": "code",
   "execution_count": 35,
   "metadata": {},
   "outputs": [
    {
     "data": {
      "image/png": "[encoded data removed]",
      "text/plain": [
       "<Figure size 1200x800 with 1 Axes>"
      ]
     },
     "metadata": {},
     "output_type": "display_data"
    }
   ],
   "source": [
    "plt.figure(figsize=(12, 8))\n",
    "sns.barplot(x=corr_with_output.values, y=corr_with_output.index)\n",
    "plt.title('Correlation with output feature')\n",
    "plt.show()"
   ]
  },
  {
   "cell_type": "code",
   "execution_count": 36,
   "metadata": {},
   "outputs": [],
   "source": [
    "useful_features = []\n",
    "for i in range(len(corr_with_output)):\n",
    "    if corr_with_output[i] > 0.2 or corr_with_output[i] < -0.2:\n",
    "        useful_features.append(corr_with_output.index[i])"
   ]
  },
  {
   "cell_type": "code",
   "execution_count": 37,
   "metadata": {},
   "outputs": [
    {
     "data": {
      "text/plain": [
       "['category',\n",
       " 'state_RST',\n",
       " 'AR_P_Proto_P_DstIP',\n",
       " 'daddr',\n",
       " 'state_URP',\n",
       " 'state_FIN',\n",
       " 'AR_P_Proto_P_SrcIP',\n",
       " 'AR_P_Proto_P_Dport',\n",
       " 'TnP_PSrcIP',\n",
       " 'TnP_PDstIP',\n",
       " 'N_IN_Conn_P_SrcIP',\n",
       " 'TnP_Per_Dport',\n",
       " 'sum',\n",
       " 'Pkts_P_State_P_Protocol_P_SrcIP',\n",
       " 'Pkts_P_State_P_Protocol_P_DestIP',\n",
       " 'N_IN_Conn_P_DstIP',\n",
       " 'min',\n",
       " 'seq',\n",
       " 'stddev',\n",
       " 'proto_number',\n",
       " 'state_INT',\n",
       " 'mean',\n",
       " 'max',\n",
       " 'stime',\n",
       " 'ltime']"
      ]
     },
     "execution_count": 37,
     "metadata": {},
     "output_type": "execute_result"
    }
   ],
   "source": [
    "#We can use these features for our model\n",
    "useful_features"
   ]
  },
  {
   "cell_type": "code",
   "execution_count": 30,
   "metadata": {},
   "outputs": [],
   "source": [
    "df1 = df[useful_features]"
   ]
  },
  {
   "cell_type": "code",
   "execution_count": 31,
   "metadata": {},
   "outputs": [
    {
     "data": {
      "text/html": [
       "<div>\n",
       "<style scoped>\n",
       "    .dataframe tbody tr th:only-of-type {\n",
       "        vertical-align: middle;\n",
       "    }\n",
       "\n",
       "    .dataframe tbody tr th {\n",
       "        vertical-align: top;\n",
       "    }\n",
       "\n",
       "    .dataframe thead th {\n",
       "        text-align: right;\n",
       "    }\n",
       "</style>\n",
       "<table border=\"1\" class=\"dataframe\">\n",
       "  <thead>\n",
       "    <tr style=\"text-align: right;\">\n",
       "      <th></th>\n",
       "      <th>category</th>\n",
       "      <th>state_RST</th>\n",
       "      <th>AR_P_Proto_P_DstIP</th>\n",
       "      <th>daddr</th>\n",
       "      <th>state_URP</th>\n",
       "      <th>state_FIN</th>\n",
       "      <th>AR_P_Proto_P_SrcIP</th>\n",
       "      <th>AR_P_Proto_P_Dport</th>\n",
       "      <th>TnP_PSrcIP</th>\n",
       "      <th>TnP_PDstIP</th>\n",
       "      <th>...</th>\n",
       "      <th>N_IN_Conn_P_DstIP</th>\n",
       "      <th>min</th>\n",
       "      <th>seq</th>\n",
       "      <th>stddev</th>\n",
       "      <th>proto_number</th>\n",
       "      <th>state_INT</th>\n",
       "      <th>mean</th>\n",
       "      <th>max</th>\n",
       "      <th>stime</th>\n",
       "      <th>ltime</th>\n",
       "    </tr>\n",
       "  </thead>\n",
       "  <tbody>\n",
       "    <tr>\n",
       "      <th>0</th>\n",
       "      <td>1</td>\n",
       "      <td>0</td>\n",
       "      <td>1.09825</td>\n",
       "      <td>1921681003</td>\n",
       "      <td>0</td>\n",
       "      <td>0</td>\n",
       "      <td>1.09825</td>\n",
       "      <td>1.09825</td>\n",
       "      <td>1500</td>\n",
       "      <td>1500</td>\n",
       "      <td>...</td>\n",
       "      <td>100</td>\n",
       "      <td>1.976111</td>\n",
       "      <td>109223</td>\n",
       "      <td>1.367803</td>\n",
       "      <td>3</td>\n",
       "      <td>1</td>\n",
       "      <td>3.91046</td>\n",
       "      <td>4.884452</td>\n",
       "      <td>1.528099e+09</td>\n",
       "      <td>1.528099e+09</td>\n",
       "    </tr>\n",
       "    <tr>\n",
       "      <th>1</th>\n",
       "      <td>1</td>\n",
       "      <td>0</td>\n",
       "      <td>1.09825</td>\n",
       "      <td>1921681003</td>\n",
       "      <td>0</td>\n",
       "      <td>0</td>\n",
       "      <td>1.09825</td>\n",
       "      <td>1.09825</td>\n",
       "      <td>1500</td>\n",
       "      <td>1500</td>\n",
       "      <td>...</td>\n",
       "      <td>100</td>\n",
       "      <td>1.976111</td>\n",
       "      <td>109224</td>\n",
       "      <td>1.367802</td>\n",
       "      <td>3</td>\n",
       "      <td>1</td>\n",
       "      <td>3.91046</td>\n",
       "      <td>4.884452</td>\n",
       "      <td>1.528099e+09</td>\n",
       "      <td>1.528099e+09</td>\n",
       "    </tr>\n",
       "    <tr>\n",
       "      <th>2</th>\n",
       "      <td>1</td>\n",
       "      <td>0</td>\n",
       "      <td>1.09825</td>\n",
       "      <td>1921681003</td>\n",
       "      <td>0</td>\n",
       "      <td>0</td>\n",
       "      <td>1.09825</td>\n",
       "      <td>1.09825</td>\n",
       "      <td>1500</td>\n",
       "      <td>1500</td>\n",
       "      <td>...</td>\n",
       "      <td>100</td>\n",
       "      <td>1.976111</td>\n",
       "      <td>109225</td>\n",
       "      <td>1.367802</td>\n",
       "      <td>3</td>\n",
       "      <td>1</td>\n",
       "      <td>3.91046</td>\n",
       "      <td>4.884452</td>\n",
       "      <td>1.528099e+09</td>\n",
       "      <td>1.528099e+09</td>\n",
       "    </tr>\n",
       "    <tr>\n",
       "      <th>3</th>\n",
       "      <td>1</td>\n",
       "      <td>0</td>\n",
       "      <td>1.09825</td>\n",
       "      <td>1921681003</td>\n",
       "      <td>0</td>\n",
       "      <td>0</td>\n",
       "      <td>1.09825</td>\n",
       "      <td>1.09825</td>\n",
       "      <td>1500</td>\n",
       "      <td>1500</td>\n",
       "      <td>...</td>\n",
       "      <td>100</td>\n",
       "      <td>1.976111</td>\n",
       "      <td>109226</td>\n",
       "      <td>1.367802</td>\n",
       "      <td>3</td>\n",
       "      <td>1</td>\n",
       "      <td>3.91046</td>\n",
       "      <td>4.884452</td>\n",
       "      <td>1.528099e+09</td>\n",
       "      <td>1.528099e+09</td>\n",
       "    </tr>\n",
       "    <tr>\n",
       "      <th>4</th>\n",
       "      <td>1</td>\n",
       "      <td>0</td>\n",
       "      <td>1.09825</td>\n",
       "      <td>1921681003</td>\n",
       "      <td>0</td>\n",
       "      <td>0</td>\n",
       "      <td>1.09825</td>\n",
       "      <td>1.09825</td>\n",
       "      <td>1500</td>\n",
       "      <td>1500</td>\n",
       "      <td>...</td>\n",
       "      <td>100</td>\n",
       "      <td>1.976111</td>\n",
       "      <td>109227</td>\n",
       "      <td>1.367803</td>\n",
       "      <td>3</td>\n",
       "      <td>1</td>\n",
       "      <td>3.91046</td>\n",
       "      <td>4.884453</td>\n",
       "      <td>1.528099e+09</td>\n",
       "      <td>1.528099e+09</td>\n",
       "    </tr>\n",
       "  </tbody>\n",
       "</table>\n",
       "<p>5 rows × 25 columns</p>\n",
       "</div>"
      ],
      "text/plain": [
       "   category  state_RST  AR_P_Proto_P_DstIP       daddr  state_URP  state_FIN  \\\n",
       "0         1          0             1.09825  1921681003          0          0   \n",
       "1         1          0             1.09825  1921681003          0          0   \n",
       "2         1          0             1.09825  1921681003          0          0   \n",
       "3         1          0             1.09825  1921681003          0          0   \n",
       "4         1          0             1.09825  1921681003          0          0   \n",
       "\n",
       "   AR_P_Proto_P_SrcIP  AR_P_Proto_P_Dport  TnP_PSrcIP  TnP_PDstIP  ...  \\\n",
       "0             1.09825             1.09825        1500        1500  ...   \n",
       "1             1.09825             1.09825        1500        1500  ...   \n",
       "2             1.09825             1.09825        1500        1500  ...   \n",
       "3             1.09825             1.09825        1500        1500  ...   \n",
       "4             1.09825             1.09825        1500        1500  ...   \n",
       "\n",
       "   N_IN_Conn_P_DstIP       min     seq    stddev  proto_number  state_INT  \\\n",
       "0                100  1.976111  109223  1.367803             3          1   \n",
       "1                100  1.976111  109224  1.367802             3          1   \n",
       "2                100  1.976111  109225  1.367802             3          1   \n",
       "3                100  1.976111  109226  1.367802             3          1   \n",
       "4                100  1.976111  109227  1.367803             3          1   \n",
       "\n",
       "      mean       max         stime         ltime  \n",
       "0  3.91046  4.884452  1.528099e+09  1.528099e+09  \n",
       "1  3.91046  4.884452  1.528099e+09  1.528099e+09  \n",
       "2  3.91046  4.884452  1.528099e+09  1.528099e+09  \n",
       "3  3.91046  4.884452  1.528099e+09  1.528099e+09  \n",
       "4  3.91046  4.884453  1.528099e+09  1.528099e+09  \n",
       "\n",
       "[5 rows x 25 columns]"
      ]
     },
     "execution_count": 31,
     "metadata": {},
     "output_type": "execute_result"
    }
   ],
   "source": [
    "df1.head()"
   ]
  },
  {
   "cell_type": "markdown",
   "metadata": {},
   "source": [
    "Export Dataset as CSV for repeated use"
   ]
  },
  {
   "cell_type": "code",
   "execution_count": 17,
   "metadata": {},
   "outputs": [
    {
     "ename": "NameError",
     "evalue": "name 'df1' is not defined",
     "output_type": "error",
     "traceback": [
      "\u001b[1;31m---------------------------------------------------------------------------\u001b[0m",
      "\u001b[1;31mNameError\u001b[0m                                 Traceback (most recent call last)",
      "\u001b[1;32md:\\Shobhan\\sem 7\\rs projec\\ddos_cnn.ipynb Cell 39\u001b[0m line \u001b[0;36m1\n\u001b[1;32m----> <a href='vscode-notebook-cell:/d%3A/Shobhan/sem%207/rs%20projec/ddos_cnn.ipynb#X51sZmlsZQ%3D%3D?line=0'>1</a>\u001b[0m df1\u001b[39m.\u001b[39mto_csv(\u001b[39m'\u001b[39m\u001b[39mbot_iot_cleaned.csv\u001b[39m\u001b[39m'\u001b[39m, index \u001b[39m=\u001b[39m \u001b[39mFalse\u001b[39;00m)\n",
      "\u001b[1;31mNameError\u001b[0m: name 'df1' is not defined"
     ]
    }
   ],
   "source": [
    "df1.to_csv('bot_iot_cleaned.csv', index = False)"
   ]
  },
  {
   "cell_type": "markdown",
   "metadata": {},
   "source": [
    "Imbalanced Data"
   ]
  },
  {
   "cell_type": "code",
   "execution_count": 38,
   "metadata": {},
   "outputs": [
    {
     "data": {
      "text/plain": [
       "(668522, 25)"
      ]
     },
     "execution_count": 38,
     "metadata": {},
     "output_type": "execute_result"
    }
   ],
   "source": [
    "df = pd.read_csv('bot_iot_cleaned.csv')\n",
    "df.shape"
   ]
  },
  {
   "cell_type": "code",
   "execution_count": 39,
   "metadata": {},
   "outputs": [
    {
     "data": {
      "text/plain": [
       "1    576884\n",
       "2     91161\n",
       "0       477\n",
       "Name: category, dtype: int64"
      ]
     },
     "execution_count": 39,
     "metadata": {},
     "output_type": "execute_result"
    }
   ],
   "source": [
    "df.category.value_counts()"
   ]
  },
  {
   "cell_type": "markdown",
   "metadata": {},
   "source": [
    "Data is severely unbalanced"
   ]
  },
  {
   "cell_type": "code",
   "execution_count": 136,
   "metadata": {},
   "outputs": [],
   "source": [
    "X = df.drop(['category'],axis=1)\n",
    "y = df.category"
   ]
  },
  {
   "cell_type": "code",
   "execution_count": 137,
   "metadata": {},
   "outputs": [],
   "source": [
    "xtrain, xtest, ytrain, ytest = tts(X, y, test_size=0.2, random_state=42)"
   ]
  },
  {
   "cell_type": "code",
   "execution_count": 138,
   "metadata": {},
   "outputs": [],
   "source": [
    "train_df = pd.concat([xtrain, ytrain], axis=1)"
   ]
  },
  {
   "cell_type": "code",
   "execution_count": 139,
   "metadata": {},
   "outputs": [
    {
     "data": {
      "text/plain": [
       "(534817, 25)"
      ]
     },
     "execution_count": 139,
     "metadata": {},
     "output_type": "execute_result"
    }
   ],
   "source": [
    "train_df.shape"
   ]
  },
  {
   "cell_type": "code",
   "execution_count": 140,
   "metadata": {},
   "outputs": [
    {
     "data": {
      "text/plain": [
       "1    461493\n",
       "2     72947\n",
       "0       377\n",
       "Name: category, dtype: int64"
      ]
     },
     "execution_count": 140,
     "metadata": {},
     "output_type": "execute_result"
    }
   ],
   "source": [
    "train_df.category.value_counts()"
   ]
  },
  {
   "cell_type": "code",
   "execution_count": 141,
   "metadata": {},
   "outputs": [],
   "source": [
    "ddos_df = train_df[train_df.category == 1]\n",
    "normal_df = train_df[train_df.category == 0]\n",
    "other_df = train_df[train_df.category == 2]"
   ]
  },
  {
   "cell_type": "code",
   "execution_count": 142,
   "metadata": {},
   "outputs": [],
   "source": [
    "ddos_df = resample(ddos_df, replace=True, n_samples = 20000, random_state=56)\n",
    "normal_df = resample(normal_df, replace=True, n_samples = 10000, random_state=42)\n",
    "other_df = resample(other_df, replace=True, n_samples = 1500, random_state=12)"
   ]
  },
  {
   "cell_type": "code",
   "execution_count": 143,
   "metadata": {},
   "outputs": [
    {
     "data": {
      "text/plain": [
       "(31500, 25)"
      ]
     },
     "execution_count": 143,
     "metadata": {},
     "output_type": "execute_result"
    }
   ],
   "source": [
    "train_df = pd.concat([ddos_df,normal_df,other_df], axis=0)\n",
    "train_df.shape"
   ]
  },
  {
   "cell_type": "code",
   "execution_count": 144,
   "metadata": {},
   "outputs": [],
   "source": [
    "xtrain = train_df.drop(['category'], axis=1)\n",
    "ytrain = train_df['category']"
   ]
  },
  {
   "cell_type": "markdown",
   "metadata": {},
   "source": [
    "Model Building"
   ]
  },
  {
   "cell_type": "code",
   "execution_count": 145,
   "metadata": {},
   "outputs": [],
   "source": [
    "import torch\n",
    "import torch.nn as nn\n",
    "import torch.nn.functional as F\n",
    "\n",
    "device = torch.device('cuda' if torch.cuda.is_available() else 'cpu')"
   ]
  },
  {
   "cell_type": "code",
   "execution_count": 146,
   "metadata": {},
   "outputs": [],
   "source": [
    "xtrain = torch.FloatTensor(xtrain.values)\n",
    "ytrain = torch.LongTensor(ytrain.values)\n",
    "xtest = torch.FloatTensor(xtest.values)\n",
    "ytest = torch.LongTensor(ytest.values)"
   ]
  },
  {
   "cell_type": "code",
   "execution_count": 147,
   "metadata": {},
   "outputs": [],
   "source": [
    "xtrain, xtest, ytrain, ytest = xtrain.to(device).unsqueeze(2), xtest.to(device).unsqueeze(2),ytrain.to(device), ytest.to(device)"
   ]
  },
  {
   "cell_type": "code",
   "execution_count": 148,
   "metadata": {},
   "outputs": [],
   "source": [
    "num_epopchs = 1000\n",
    "batch_size = 32\n",
    "learning_rate = 0.001"
   ]
  },
  {
   "cell_type": "code",
   "execution_count": 149,
   "metadata": {},
   "outputs": [],
   "source": [
    "class Multiclass(nn.Module):\n",
    "    def __init__(self):\n",
    "        super(Multiclass, self).__init__()\n",
    "        self.conv1 = nn.Conv1d(24, 16, kernel_size=3, stride=1, padding=1)\n",
    "        #self.pool1 = nn.MaxPool2d(2)\n",
    "        self.conv2 = nn.Conv1d(16, 32, kernel_size=3, stride=1, padding=1)\n",
    "        #self.pool2 = nn.MaxPool2d(2)\n",
    "        self.fc1 = nn.Linear(32, 64)\n",
    "        self.fc2 = nn.Linear(64, 3)\n",
    "    \n",
    "    def forward(self, x):\n",
    "        x = F.relu(self.conv1(x))\n",
    "        x = F.relu(self.conv2(x))\n",
    "        x = x.view(x.size(0), -1)\n",
    "        x = F.relu(self.fc1(x))\n",
    "        x = self.fc2(x)\n",
    "        return x"
   ]
  },
  {
   "cell_type": "code",
   "execution_count": 150,
   "metadata": {},
   "outputs": [],
   "source": [
    "model = Multiclass().to(device)"
   ]
  },
  {
   "cell_type": "code",
   "execution_count": 151,
   "metadata": {},
   "outputs": [],
   "source": [
    "criterion = nn.CrossEntropyLoss()\n",
    "optimizer = torch.optim.Adam(model.parameters(), lr = learning_rate)"
   ]
  },
  {
   "cell_type": "code",
   "execution_count": 152,
   "metadata": {},
   "outputs": [
    {
     "name": "stdout",
     "output_type": "stream",
     "text": [
      "Epoch [10/9], loss = 1913564.1250\n",
      "Epoch [20/19], loss = 531034.0625\n",
      "Epoch [30/29], loss = 926859.6250\n",
      "Epoch [40/39], loss = 260350.7656\n",
      "Epoch [50/49], loss = 410858.9375\n",
      "Epoch [60/59], loss = 293019.6250\n",
      "Epoch [70/69], loss = 220603.6719\n",
      "Epoch [80/79], loss = 807721.5000\n",
      "Epoch [90/89], loss = 351138.6562\n",
      "Epoch [100/99], loss = 289580.8438\n",
      "Epoch [110/109], loss = 241777.8750\n",
      "Epoch [120/119], loss = 245448.5000\n",
      "Epoch [130/129], loss = 256099.5156\n",
      "Epoch [140/139], loss = 324148.5000\n",
      "Epoch [150/149], loss = 152456.0938\n",
      "Epoch [160/159], loss = 268470.0625\n",
      "Epoch [170/169], loss = 378331.5938\n",
      "Epoch [180/179], loss = 119531.5625\n",
      "Epoch [190/189], loss = 212176.4375\n",
      "Epoch [200/199], loss = 239390.9375\n",
      "Epoch [210/209], loss = 680479.0625\n",
      "Epoch [220/219], loss = 263472.6250\n",
      "Epoch [230/229], loss = 178106.0781\n",
      "Epoch [240/239], loss = 211714.7344\n",
      "Epoch [250/249], loss = 154039.3594\n",
      "Epoch [260/259], loss = 168506.4062\n",
      "Epoch [270/269], loss = 101512.2500\n",
      "Epoch [280/279], loss = 272313.9688\n",
      "Epoch [290/289], loss = 767126.1875\n",
      "Epoch [300/299], loss = 205063.1250\n",
      "Epoch [310/309], loss = 65716.6094\n",
      "Epoch [320/319], loss = 375065.5312\n",
      "Epoch [330/329], loss = 340052.2500\n",
      "Epoch [340/339], loss = 551056.2500\n",
      "Epoch [350/349], loss = 660351.5000\n",
      "Epoch [360/359], loss = 438439.5312\n",
      "Epoch [370/369], loss = 380466.3750\n",
      "Epoch [380/379], loss = 290151.0000\n",
      "Epoch [390/389], loss = 85064.8047\n",
      "Epoch [400/399], loss = 260955.3438\n",
      "Epoch [410/409], loss = 200447.0625\n",
      "Epoch [420/419], loss = 72950.6016\n",
      "Epoch [430/429], loss = 114414.9219\n",
      "Epoch [440/439], loss = 229593.5781\n",
      "Epoch [450/449], loss = 104415.1641\n",
      "Epoch [460/459], loss = 267398.0938\n",
      "Epoch [470/469], loss = 109149.5312\n",
      "Epoch [480/479], loss = 59510.3242\n",
      "Epoch [490/489], loss = 32374.4961\n",
      "Epoch [500/499], loss = 85139.9219\n",
      "Epoch [510/509], loss = 144502.3906\n",
      "Epoch [520/519], loss = 172071.2656\n",
      "Epoch [530/529], loss = 159023.9219\n",
      "Epoch [540/539], loss = 137401.3125\n",
      "Epoch [550/549], loss = 146420.4688\n",
      "Epoch [560/559], loss = 274618.2812\n",
      "Epoch [570/569], loss = 67710.1562\n",
      "Epoch [580/579], loss = 161593.2500\n",
      "Epoch [590/589], loss = 83983.9375\n",
      "Epoch [600/599], loss = 166591.2344\n",
      "Epoch [610/609], loss = 477639.6562\n",
      "Epoch [620/619], loss = 184815.8594\n",
      "Epoch [630/629], loss = 492157.9375\n",
      "Epoch [640/639], loss = 150088.3594\n",
      "Epoch [650/649], loss = 245891.2656\n",
      "Epoch [660/659], loss = 60486.5234\n",
      "Epoch [670/669], loss = 137287.3594\n",
      "Epoch [680/679], loss = 270850.5938\n",
      "Epoch [690/689], loss = 692335.0000\n",
      "Epoch [700/699], loss = 192032.8281\n",
      "Epoch [710/709], loss = 368477.6875\n",
      "Epoch [720/719], loss = 39694.2461\n",
      "Epoch [730/729], loss = 58519.0469\n",
      "Epoch [740/739], loss = 89158.8828\n",
      "Epoch [750/749], loss = 101776.2266\n",
      "Epoch [760/759], loss = 80831.0547\n",
      "Epoch [770/769], loss = 136437.4219\n",
      "Epoch [780/779], loss = 105173.7656\n",
      "Epoch [790/789], loss = 53820.1914\n",
      "Epoch [800/799], loss = 158119.6719\n",
      "Epoch [810/809], loss = 80650.2422\n",
      "Epoch [820/819], loss = 131155.5781\n",
      "Epoch [830/829], loss = 122881.2031\n",
      "Epoch [840/839], loss = 26599.1387\n",
      "Epoch [850/849], loss = 76261.4844\n",
      "Epoch [860/859], loss = 87151.4609\n",
      "Epoch [870/869], loss = 49987.6367\n",
      "Epoch [880/879], loss = 83535.9844\n",
      "Epoch [890/889], loss = 88693.7812\n",
      "Epoch [900/899], loss = 87395.5000\n",
      "Epoch [910/909], loss = 423862.7188\n",
      "Epoch [920/919], loss = 301253.6250\n",
      "Epoch [930/929], loss = 238679.0938\n",
      "Epoch [940/939], loss = 121453.0000\n",
      "Epoch [950/949], loss = 79316.2344\n",
      "Epoch [960/959], loss = 146085.7344\n",
      "Epoch [970/969], loss = 70552.2734\n",
      "Epoch [980/979], loss = 38008.8164\n",
      "Epoch [990/989], loss = 65249.3438\n",
      "Epoch [1000/999], loss = 62254.4453\n"
     ]
    }
   ],
   "source": [
    "for e in range(num_epopchs):\n",
    "    outputs = model(xtrain)\n",
    "    loss = criterion(outputs, ytrain)\n",
    "\n",
    "    optimizer.zero_grad()\n",
    "    loss.backward()\n",
    "    optimizer.step()\n",
    "\n",
    "    if (e + 1) % 10 == 0:\n",
    "        print(f\"Epoch [{e+1}/{e}], loss = {loss.item():.4f}\")"
   ]
  },
  {
   "cell_type": "code",
   "execution_count": 153,
   "metadata": {},
   "outputs": [],
   "source": [
    "test_dataset = torch.utils.data.TensorDataset(xtest, ytest)\n",
    "test_loader = torch.utils.data.DataLoader(dataset=test_dataset, batch_size=32, shuffle=False)"
   ]
  },
  {
   "cell_type": "code",
   "execution_count": 154,
   "metadata": {},
   "outputs": [
    {
     "ename": "RuntimeError",
     "evalue": "Expected 2D (unbatched) or 3D (batched) input to conv1d, but got input of size: [32, 24, 1, 1]",
     "output_type": "error",
     "traceback": [
      "\u001b[1;31m---------------------------------------------------------------------------\u001b[0m",
      "\u001b[1;31mRuntimeError\u001b[0m                              Traceback (most recent call last)",
      "\u001b[1;32md:\\Shobhan\\sem 7\\rs projec\\ddos_cnn.ipynb Cell 62\u001b[0m line \u001b[0;36m1\n\u001b[0;32m     <a href='vscode-notebook-cell:/d%3A/Shobhan/sem%207/rs%20projec/ddos_cnn.ipynb#Y162sZmlsZQ%3D%3D?line=13'>14</a>\u001b[0m \u001b[39m# Reshape the input to be compatible with the model\u001b[39;00m\n\u001b[0;32m     <a href='vscode-notebook-cell:/d%3A/Shobhan/sem%207/rs%20projec/ddos_cnn.ipynb#Y162sZmlsZQ%3D%3D?line=14'>15</a>\u001b[0m inputs \u001b[39m=\u001b[39m inputs\u001b[39m.\u001b[39munsqueeze(\u001b[39m2\u001b[39m)\n\u001b[1;32m---> <a href='vscode-notebook-cell:/d%3A/Shobhan/sem%207/rs%20projec/ddos_cnn.ipynb#Y162sZmlsZQ%3D%3D?line=16'>17</a>\u001b[0m outputs \u001b[39m=\u001b[39m model(inputs)\n\u001b[0;32m     <a href='vscode-notebook-cell:/d%3A/Shobhan/sem%207/rs%20projec/ddos_cnn.ipynb#Y162sZmlsZQ%3D%3D?line=17'>18</a>\u001b[0m _, predicted \u001b[39m=\u001b[39m torch\u001b[39m.\u001b[39mmax(outputs, \u001b[39m1\u001b[39m)\n\u001b[0;32m     <a href='vscode-notebook-cell:/d%3A/Shobhan/sem%207/rs%20projec/ddos_cnn.ipynb#Y162sZmlsZQ%3D%3D?line=19'>20</a>\u001b[0m all_predictions\u001b[39m.\u001b[39mextend(predicted\u001b[39m.\u001b[39mcpu()\u001b[39m.\u001b[39mnumpy())\n",
      "File \u001b[1;32md:\\Python\\lib\\site-packages\\torch\\nn\\modules\\module.py:1501\u001b[0m, in \u001b[0;36mModule._call_impl\u001b[1;34m(self, *args, **kwargs)\u001b[0m\n\u001b[0;32m   1496\u001b[0m \u001b[39m# If we don't have any hooks, we want to skip the rest of the logic in\u001b[39;00m\n\u001b[0;32m   1497\u001b[0m \u001b[39m# this function, and just call forward.\u001b[39;00m\n\u001b[0;32m   1498\u001b[0m \u001b[39mif\u001b[39;00m \u001b[39mnot\u001b[39;00m (\u001b[39mself\u001b[39m\u001b[39m.\u001b[39m_backward_hooks \u001b[39mor\u001b[39;00m \u001b[39mself\u001b[39m\u001b[39m.\u001b[39m_backward_pre_hooks \u001b[39mor\u001b[39;00m \u001b[39mself\u001b[39m\u001b[39m.\u001b[39m_forward_hooks \u001b[39mor\u001b[39;00m \u001b[39mself\u001b[39m\u001b[39m.\u001b[39m_forward_pre_hooks\n\u001b[0;32m   1499\u001b[0m         \u001b[39mor\u001b[39;00m _global_backward_pre_hooks \u001b[39mor\u001b[39;00m _global_backward_hooks\n\u001b[0;32m   1500\u001b[0m         \u001b[39mor\u001b[39;00m _global_forward_hooks \u001b[39mor\u001b[39;00m _global_forward_pre_hooks):\n\u001b[1;32m-> 1501\u001b[0m     \u001b[39mreturn\u001b[39;00m forward_call(\u001b[39m*\u001b[39margs, \u001b[39m*\u001b[39m\u001b[39m*\u001b[39mkwargs)\n\u001b[0;32m   1502\u001b[0m \u001b[39m# Do not call functions when jit is used\u001b[39;00m\n\u001b[0;32m   1503\u001b[0m full_backward_hooks, non_full_backward_hooks \u001b[39m=\u001b[39m [], []\n",
      "\u001b[1;32md:\\Shobhan\\sem 7\\rs projec\\ddos_cnn.ipynb Cell 62\u001b[0m line \u001b[0;36m1\n\u001b[0;32m     <a href='vscode-notebook-cell:/d%3A/Shobhan/sem%207/rs%20projec/ddos_cnn.ipynb#Y162sZmlsZQ%3D%3D?line=10'>11</a>\u001b[0m \u001b[39mdef\u001b[39;00m \u001b[39mforward\u001b[39m(\u001b[39mself\u001b[39m, x):\n\u001b[1;32m---> <a href='vscode-notebook-cell:/d%3A/Shobhan/sem%207/rs%20projec/ddos_cnn.ipynb#Y162sZmlsZQ%3D%3D?line=11'>12</a>\u001b[0m     x \u001b[39m=\u001b[39m F\u001b[39m.\u001b[39mrelu(\u001b[39mself\u001b[39;49m\u001b[39m.\u001b[39;49mconv1(x))\n\u001b[0;32m     <a href='vscode-notebook-cell:/d%3A/Shobhan/sem%207/rs%20projec/ddos_cnn.ipynb#Y162sZmlsZQ%3D%3D?line=12'>13</a>\u001b[0m     x \u001b[39m=\u001b[39m F\u001b[39m.\u001b[39mrelu(\u001b[39mself\u001b[39m\u001b[39m.\u001b[39mconv2(x))\n\u001b[0;32m     <a href='vscode-notebook-cell:/d%3A/Shobhan/sem%207/rs%20projec/ddos_cnn.ipynb#Y162sZmlsZQ%3D%3D?line=13'>14</a>\u001b[0m     x \u001b[39m=\u001b[39m x\u001b[39m.\u001b[39mview(x\u001b[39m.\u001b[39msize(\u001b[39m0\u001b[39m), \u001b[39m-\u001b[39m\u001b[39m1\u001b[39m)\n",
      "File \u001b[1;32md:\\Python\\lib\\site-packages\\torch\\nn\\modules\\module.py:1501\u001b[0m, in \u001b[0;36mModule._call_impl\u001b[1;34m(self, *args, **kwargs)\u001b[0m\n\u001b[0;32m   1496\u001b[0m \u001b[39m# If we don't have any hooks, we want to skip the rest of the logic in\u001b[39;00m\n\u001b[0;32m   1497\u001b[0m \u001b[39m# this function, and just call forward.\u001b[39;00m\n\u001b[0;32m   1498\u001b[0m \u001b[39mif\u001b[39;00m \u001b[39mnot\u001b[39;00m (\u001b[39mself\u001b[39m\u001b[39m.\u001b[39m_backward_hooks \u001b[39mor\u001b[39;00m \u001b[39mself\u001b[39m\u001b[39m.\u001b[39m_backward_pre_hooks \u001b[39mor\u001b[39;00m \u001b[39mself\u001b[39m\u001b[39m.\u001b[39m_forward_hooks \u001b[39mor\u001b[39;00m \u001b[39mself\u001b[39m\u001b[39m.\u001b[39m_forward_pre_hooks\n\u001b[0;32m   1499\u001b[0m         \u001b[39mor\u001b[39;00m _global_backward_pre_hooks \u001b[39mor\u001b[39;00m _global_backward_hooks\n\u001b[0;32m   1500\u001b[0m         \u001b[39mor\u001b[39;00m _global_forward_hooks \u001b[39mor\u001b[39;00m _global_forward_pre_hooks):\n\u001b[1;32m-> 1501\u001b[0m     \u001b[39mreturn\u001b[39;00m forward_call(\u001b[39m*\u001b[39margs, \u001b[39m*\u001b[39m\u001b[39m*\u001b[39mkwargs)\n\u001b[0;32m   1502\u001b[0m \u001b[39m# Do not call functions when jit is used\u001b[39;00m\n\u001b[0;32m   1503\u001b[0m full_backward_hooks, non_full_backward_hooks \u001b[39m=\u001b[39m [], []\n",
      "File \u001b[1;32md:\\Python\\lib\\site-packages\\torch\\nn\\modules\\conv.py:313\u001b[0m, in \u001b[0;36mConv1d.forward\u001b[1;34m(self, input)\u001b[0m\n\u001b[0;32m    312\u001b[0m \u001b[39mdef\u001b[39;00m \u001b[39mforward\u001b[39m(\u001b[39mself\u001b[39m, \u001b[39minput\u001b[39m: Tensor) \u001b[39m-\u001b[39m\u001b[39m>\u001b[39m Tensor:\n\u001b[1;32m--> 313\u001b[0m     \u001b[39mreturn\u001b[39;00m \u001b[39mself\u001b[39;49m\u001b[39m.\u001b[39;49m_conv_forward(\u001b[39minput\u001b[39;49m, \u001b[39mself\u001b[39;49m\u001b[39m.\u001b[39;49mweight, \u001b[39mself\u001b[39;49m\u001b[39m.\u001b[39;49mbias)\n",
      "File \u001b[1;32md:\\Python\\lib\\site-packages\\torch\\nn\\modules\\conv.py:309\u001b[0m, in \u001b[0;36mConv1d._conv_forward\u001b[1;34m(self, input, weight, bias)\u001b[0m\n\u001b[0;32m    305\u001b[0m \u001b[39mif\u001b[39;00m \u001b[39mself\u001b[39m\u001b[39m.\u001b[39mpadding_mode \u001b[39m!=\u001b[39m \u001b[39m'\u001b[39m\u001b[39mzeros\u001b[39m\u001b[39m'\u001b[39m:\n\u001b[0;32m    306\u001b[0m     \u001b[39mreturn\u001b[39;00m F\u001b[39m.\u001b[39mconv1d(F\u001b[39m.\u001b[39mpad(\u001b[39minput\u001b[39m, \u001b[39mself\u001b[39m\u001b[39m.\u001b[39m_reversed_padding_repeated_twice, mode\u001b[39m=\u001b[39m\u001b[39mself\u001b[39m\u001b[39m.\u001b[39mpadding_mode),\n\u001b[0;32m    307\u001b[0m                     weight, bias, \u001b[39mself\u001b[39m\u001b[39m.\u001b[39mstride,\n\u001b[0;32m    308\u001b[0m                     _single(\u001b[39m0\u001b[39m), \u001b[39mself\u001b[39m\u001b[39m.\u001b[39mdilation, \u001b[39mself\u001b[39m\u001b[39m.\u001b[39mgroups)\n\u001b[1;32m--> 309\u001b[0m \u001b[39mreturn\u001b[39;00m F\u001b[39m.\u001b[39;49mconv1d(\u001b[39minput\u001b[39;49m, weight, bias, \u001b[39mself\u001b[39;49m\u001b[39m.\u001b[39;49mstride,\n\u001b[0;32m    310\u001b[0m                 \u001b[39mself\u001b[39;49m\u001b[39m.\u001b[39;49mpadding, \u001b[39mself\u001b[39;49m\u001b[39m.\u001b[39;49mdilation, \u001b[39mself\u001b[39;49m\u001b[39m.\u001b[39;49mgroups)\n",
      "\u001b[1;31mRuntimeError\u001b[0m: Expected 2D (unbatched) or 3D (batched) input to conv1d, but got input of size: [32, 24, 1, 1]"
     ]
    }
   ],
   "source": [
    "model.eval()\n",
    "\n",
    "correct = 0\n",
    "total = 0\n",
    "\n",
    "# To store all predictions (useful for metrics calculation afterwards)\n",
    "all_predictions = []\n",
    "all_labels = []\n",
    "\n",
    "with torch.no_grad():\n",
    "    for inputs, labels in test_loader:\n",
    "        inputs, labels = inputs.to(device), labels.to(device)\n",
    "        \n",
    "        # Reshape the input to be compatible with the model\n",
    "        inputs = inputs.unsqueeze(2)\n",
    "        \n",
    "        outputs = model(inputs)\n",
    "        _, predicted = torch.max(outputs, 1)\n",
    "        \n",
    "        all_predictions.extend(predicted.cpu().numpy())\n",
    "        all_labels.extend(labels.cpu().numpy())\n",
    "        \n",
    "        total += labels.size(0)\n",
    "        correct += (predicted == labels).sum().item()\n",
    "\n",
    "print(f\"Accuracy of the model on test data: {100 * correct / total}%\")"
   ]
  },
  {
   "cell_type": "code",
   "execution_count": null,
   "metadata": {},
   "outputs": [],
   "source": []
  }
 ],
 "metadata": {
  "kernelspec": {
   "display_name": "Python 3",
   "language": "python",
   "name": "python3"
  },
  "language_info": {
   "codemirror_mode": {
    "name": "ipython",
    "version": 3
   },
   "file_extension": ".py",
   "mimetype": "text/x-python",
   "name": "python",
   "nbconvert_exporter": "python",
   "pygments_lexer": "ipython3",
   "version": "3.10.1"
  },
  "orig_nbformat": 4
 },
 "nbformat": 4,
 "nbformat_minor": 2
}
