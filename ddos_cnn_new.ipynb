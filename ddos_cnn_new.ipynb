{
 "cells": [
  {
   "cell_type": "code",
   "execution_count": 1,
   "metadata": {},
   "outputs": [],
   "source": [
    "import pandas as pd\n",
    "import numpy as np\n",
    "import matplotlib.pyplot as plt\n",
    "import seaborn as sns\n",
    "import random\n",
    "import time\n",
    "from sklearn.utils import resample\n",
    "from sklearn.model_selection import train_test_split as tts\n",
    "from sklearn.preprocessing import StandardScaler\n",
    "from torch.utils.data import Dataset, DataLoader, TensorDataset, random_split\n",
    "from tqdm import tqdm\n",
    "# from imblearn.over_sampling import SMOTE\n",
    "from sklearn.metrics import confusion_matrix, accuracy_score\n",
    "import itertools"
   ]
  },
  {
   "cell_type": "markdown",
   "metadata": {},
   "source": [
    "Read the data"
   ]
  },
  {
   "cell_type": "code",
   "execution_count": 2,
   "metadata": {},
   "outputs": [
    {
     "name": "stderr",
     "output_type": "stream",
     "text": [
      "C:\\Users\\009kr\\AppData\\Local\\Temp\\ipykernel_11604\\3036118028.py:1: DtypeWarning: Columns (7,9) have mixed types. Specify dtype option on import or set low_memory=False.\n",
      "  df = pd.read_csv('bot_iot.csv')\n"
     ]
    },
    {
     "data": {
      "text/plain": [
       "(668522, 46)"
      ]
     },
     "execution_count": 2,
     "metadata": {},
     "output_type": "execute_result"
    }
   ],
   "source": [
    "df = pd.read_csv('bot_iot.csv')\n",
    "df.shape"
   ]
  },
  {
   "cell_type": "code",
   "execution_count": 3,
   "metadata": {},
   "outputs": [
    {
     "data": {
      "text/html": [
       "<div>\n",
       "<style scoped>\n",
       "    .dataframe tbody tr th:only-of-type {\n",
       "        vertical-align: middle;\n",
       "    }\n",
       "\n",
       "    .dataframe tbody tr th {\n",
       "        vertical-align: top;\n",
       "    }\n",
       "\n",
       "    .dataframe thead th {\n",
       "        text-align: right;\n",
       "    }\n",
       "</style>\n",
       "<table border=\"1\" class=\"dataframe\">\n",
       "  <thead>\n",
       "    <tr style=\"text-align: right;\">\n",
       "      <th></th>\n",
       "      <th>pkSeqID</th>\n",
       "      <th>stime</th>\n",
       "      <th>flgs</th>\n",
       "      <th>flgs_number</th>\n",
       "      <th>proto</th>\n",
       "      <th>proto_number</th>\n",
       "      <th>saddr</th>\n",
       "      <th>sport</th>\n",
       "      <th>daddr</th>\n",
       "      <th>dport</th>\n",
       "      <th>...</th>\n",
       "      <th>AR_P_Proto_P_DstIP</th>\n",
       "      <th>N_IN_Conn_P_DstIP</th>\n",
       "      <th>N_IN_Conn_P_SrcIP</th>\n",
       "      <th>AR_P_Proto_P_Sport</th>\n",
       "      <th>AR_P_Proto_P_Dport</th>\n",
       "      <th>Pkts_P_State_P_Protocol_P_DestIP</th>\n",
       "      <th>Pkts_P_State_P_Protocol_P_SrcIP</th>\n",
       "      <th>attack</th>\n",
       "      <th>category</th>\n",
       "      <th>subcategory</th>\n",
       "    </tr>\n",
       "  </thead>\n",
       "  <tbody>\n",
       "    <tr>\n",
       "      <th>0</th>\n",
       "      <td>3000001</td>\n",
       "      <td>1.528099e+09</td>\n",
       "      <td>e</td>\n",
       "      <td>1</td>\n",
       "      <td>udp</td>\n",
       "      <td>3</td>\n",
       "      <td>192.168.100.147</td>\n",
       "      <td>6226</td>\n",
       "      <td>192.168.100.3</td>\n",
       "      <td>80</td>\n",
       "      <td>...</td>\n",
       "      <td>1.09825</td>\n",
       "      <td>100</td>\n",
       "      <td>100</td>\n",
       "      <td>1.09827</td>\n",
       "      <td>1.09825</td>\n",
       "      <td>1500</td>\n",
       "      <td>1500</td>\n",
       "      <td>1</td>\n",
       "      <td>DDoS</td>\n",
       "      <td>UDP</td>\n",
       "    </tr>\n",
       "    <tr>\n",
       "      <th>1</th>\n",
       "      <td>3000002</td>\n",
       "      <td>1.528099e+09</td>\n",
       "      <td>e</td>\n",
       "      <td>1</td>\n",
       "      <td>udp</td>\n",
       "      <td>3</td>\n",
       "      <td>192.168.100.147</td>\n",
       "      <td>6227</td>\n",
       "      <td>192.168.100.3</td>\n",
       "      <td>80</td>\n",
       "      <td>...</td>\n",
       "      <td>1.09825</td>\n",
       "      <td>100</td>\n",
       "      <td>100</td>\n",
       "      <td>1.09827</td>\n",
       "      <td>1.09825</td>\n",
       "      <td>1500</td>\n",
       "      <td>1500</td>\n",
       "      <td>1</td>\n",
       "      <td>DDoS</td>\n",
       "      <td>UDP</td>\n",
       "    </tr>\n",
       "    <tr>\n",
       "      <th>2</th>\n",
       "      <td>3000003</td>\n",
       "      <td>1.528099e+09</td>\n",
       "      <td>e</td>\n",
       "      <td>1</td>\n",
       "      <td>udp</td>\n",
       "      <td>3</td>\n",
       "      <td>192.168.100.147</td>\n",
       "      <td>6228</td>\n",
       "      <td>192.168.100.3</td>\n",
       "      <td>80</td>\n",
       "      <td>...</td>\n",
       "      <td>1.09825</td>\n",
       "      <td>100</td>\n",
       "      <td>100</td>\n",
       "      <td>1.09827</td>\n",
       "      <td>1.09825</td>\n",
       "      <td>1500</td>\n",
       "      <td>1500</td>\n",
       "      <td>1</td>\n",
       "      <td>DDoS</td>\n",
       "      <td>UDP</td>\n",
       "    </tr>\n",
       "    <tr>\n",
       "      <th>3</th>\n",
       "      <td>3000004</td>\n",
       "      <td>1.528099e+09</td>\n",
       "      <td>e</td>\n",
       "      <td>1</td>\n",
       "      <td>udp</td>\n",
       "      <td>3</td>\n",
       "      <td>192.168.100.147</td>\n",
       "      <td>6229</td>\n",
       "      <td>192.168.100.3</td>\n",
       "      <td>80</td>\n",
       "      <td>...</td>\n",
       "      <td>1.09825</td>\n",
       "      <td>100</td>\n",
       "      <td>100</td>\n",
       "      <td>1.09827</td>\n",
       "      <td>1.09825</td>\n",
       "      <td>1500</td>\n",
       "      <td>1500</td>\n",
       "      <td>1</td>\n",
       "      <td>DDoS</td>\n",
       "      <td>UDP</td>\n",
       "    </tr>\n",
       "    <tr>\n",
       "      <th>4</th>\n",
       "      <td>3000005</td>\n",
       "      <td>1.528099e+09</td>\n",
       "      <td>e</td>\n",
       "      <td>1</td>\n",
       "      <td>udp</td>\n",
       "      <td>3</td>\n",
       "      <td>192.168.100.147</td>\n",
       "      <td>6230</td>\n",
       "      <td>192.168.100.3</td>\n",
       "      <td>80</td>\n",
       "      <td>...</td>\n",
       "      <td>1.09825</td>\n",
       "      <td>100</td>\n",
       "      <td>100</td>\n",
       "      <td>1.09827</td>\n",
       "      <td>1.09825</td>\n",
       "      <td>1500</td>\n",
       "      <td>1500</td>\n",
       "      <td>1</td>\n",
       "      <td>DDoS</td>\n",
       "      <td>UDP</td>\n",
       "    </tr>\n",
       "  </tbody>\n",
       "</table>\n",
       "<p>5 rows × 46 columns</p>\n",
       "</div>"
      ],
      "text/plain": [
       "   pkSeqID         stime flgs  flgs_number proto  proto_number  \\\n",
       "0  3000001  1.528099e+09    e            1   udp             3   \n",
       "1  3000002  1.528099e+09    e            1   udp             3   \n",
       "2  3000003  1.528099e+09    e            1   udp             3   \n",
       "3  3000004  1.528099e+09    e            1   udp             3   \n",
       "4  3000005  1.528099e+09    e            1   udp             3   \n",
       "\n",
       "             saddr sport          daddr dport  ...  AR_P_Proto_P_DstIP  \\\n",
       "0  192.168.100.147  6226  192.168.100.3    80  ...             1.09825   \n",
       "1  192.168.100.147  6227  192.168.100.3    80  ...             1.09825   \n",
       "2  192.168.100.147  6228  192.168.100.3    80  ...             1.09825   \n",
       "3  192.168.100.147  6229  192.168.100.3    80  ...             1.09825   \n",
       "4  192.168.100.147  6230  192.168.100.3    80  ...             1.09825   \n",
       "\n",
       "   N_IN_Conn_P_DstIP N_IN_Conn_P_SrcIP  AR_P_Proto_P_Sport  \\\n",
       "0                100               100             1.09827   \n",
       "1                100               100             1.09827   \n",
       "2                100               100             1.09827   \n",
       "3                100               100             1.09827   \n",
       "4                100               100             1.09827   \n",
       "\n",
       "   AR_P_Proto_P_Dport  Pkts_P_State_P_Protocol_P_DestIP  \\\n",
       "0             1.09825                              1500   \n",
       "1             1.09825                              1500   \n",
       "2             1.09825                              1500   \n",
       "3             1.09825                              1500   \n",
       "4             1.09825                              1500   \n",
       "\n",
       "   Pkts_P_State_P_Protocol_P_SrcIP  attack  category  subcategory  \n",
       "0                             1500       1      DDoS          UDP  \n",
       "1                             1500       1      DDoS          UDP  \n",
       "2                             1500       1      DDoS          UDP  \n",
       "3                             1500       1      DDoS          UDP  \n",
       "4                             1500       1      DDoS          UDP  \n",
       "\n",
       "[5 rows x 46 columns]"
      ]
     },
     "execution_count": 3,
     "metadata": {},
     "output_type": "execute_result"
    }
   ],
   "source": [
    "df.head()"
   ]
  },
  {
   "cell_type": "code",
   "execution_count": 4,
   "metadata": {},
   "outputs": [
    {
     "data": {
      "text/plain": [
       "array(['DDoS', 'Normal', 'Reconnaissance', 'Theft'], dtype=object)"
      ]
     },
     "execution_count": 4,
     "metadata": {},
     "output_type": "execute_result"
    }
   ],
   "source": [
    "df.category.unique()"
   ]
  },
  {
   "cell_type": "code",
   "execution_count": 5,
   "metadata": {},
   "outputs": [],
   "source": [
    "df['category'] = df['category'].apply(lambda x: x if x in ['DDoS'] else 'Other')"
   ]
  },
  {
   "cell_type": "code",
   "execution_count": 6,
   "metadata": {},
   "outputs": [
    {
     "name": "stderr",
     "output_type": "stream",
     "text": [
      "C:\\Users\\009kr\\AppData\\Local\\Temp\\ipykernel_11604\\355839375.py:3: FutureWarning: Downcasting behavior in `replace` is deprecated and will be removed in a future version. To retain the old behavior, explicitly call `result.infer_objects(copy=False)`. To opt-in to the future behavior, set `pd.set_option('future.no_silent_downcasting', True)`\n",
      "  df['category'] = df['category'].replace(category_map)\n"
     ]
    }
   ],
   "source": [
    "#label encode the output column\n",
    "category_map = {'DDoS':0, 'Other':1}\n",
    "df['category'] = df['category'].replace(category_map)"
   ]
  },
  {
   "cell_type": "code",
   "execution_count": 7,
   "metadata": {},
   "outputs": [
    {
     "data": {
      "text/plain": [
       "category\n",
       "0    576884\n",
       "1     91638\n",
       "Name: count, dtype: int64"
      ]
     },
     "execution_count": 7,
     "metadata": {},
     "output_type": "execute_result"
    }
   ],
   "source": [
    "df.category.value_counts()"
   ]
  },
  {
   "cell_type": "code",
   "execution_count": 8,
   "metadata": {},
   "outputs": [
    {
     "data": {
      "text/plain": [
       "668522"
      ]
     },
     "execution_count": 8,
     "metadata": {},
     "output_type": "execute_result"
    }
   ],
   "source": [
    "df.pkSeqID.unique().size"
   ]
  },
  {
   "cell_type": "markdown",
   "metadata": {},
   "source": [
    "Check information regarding the features"
   ]
  },
  {
   "cell_type": "code",
   "execution_count": 9,
   "metadata": {},
   "outputs": [
    {
     "name": "stdout",
     "output_type": "stream",
     "text": [
      "<class 'pandas.core.frame.DataFrame'>\n",
      "RangeIndex: 668522 entries, 0 to 668521\n",
      "Data columns (total 46 columns):\n",
      " #   Column                            Non-Null Count   Dtype  \n",
      "---  ------                            --------------   -----  \n",
      " 0   pkSeqID                           668522 non-null  int64  \n",
      " 1   stime                             668522 non-null  float64\n",
      " 2   flgs                              668522 non-null  object \n",
      " 3   flgs_number                       668522 non-null  int64  \n",
      " 4   proto                             668522 non-null  object \n",
      " 5   proto_number                      668522 non-null  int64  \n",
      " 6   saddr                             668522 non-null  object \n",
      " 7   sport                             668522 non-null  object \n",
      " 8   daddr                             668522 non-null  object \n",
      " 9   dport                             668522 non-null  object \n",
      " 10  pkts                              668522 non-null  int64  \n",
      " 11  bytes                             668522 non-null  int64  \n",
      " 12  state                             668522 non-null  object \n",
      " 13  state_number                      668522 non-null  int64  \n",
      " 14  ltime                             668522 non-null  float64\n",
      " 15  seq                               668522 non-null  int64  \n",
      " 16  dur                               668522 non-null  float64\n",
      " 17  mean                              668522 non-null  float64\n",
      " 18  stddev                            668522 non-null  float64\n",
      " 19  sum                               668522 non-null  float64\n",
      " 20  min                               668522 non-null  float64\n",
      " 21  max                               668522 non-null  float64\n",
      " 22  spkts                             668522 non-null  int64  \n",
      " 23  dpkts                             668522 non-null  int64  \n",
      " 24  sbytes                            668522 non-null  int64  \n",
      " 25  dbytes                            668522 non-null  int64  \n",
      " 26  rate                              668522 non-null  float64\n",
      " 27  srate                             668522 non-null  float64\n",
      " 28  drate                             668522 non-null  float64\n",
      " 29  TnBPSrcIP                         668522 non-null  int64  \n",
      " 30  TnBPDstIP                         668522 non-null  int64  \n",
      " 31  TnP_PSrcIP                        668522 non-null  int64  \n",
      " 32  TnP_PDstIP                        668522 non-null  int64  \n",
      " 33  TnP_PerProto                      668522 non-null  int64  \n",
      " 34  TnP_Per_Dport                     668522 non-null  int64  \n",
      " 35  AR_P_Proto_P_SrcIP                668522 non-null  float64\n",
      " 36  AR_P_Proto_P_DstIP                668522 non-null  float64\n",
      " 37  N_IN_Conn_P_DstIP                 668522 non-null  int64  \n",
      " 38  N_IN_Conn_P_SrcIP                 668522 non-null  int64  \n",
      " 39  AR_P_Proto_P_Sport                668522 non-null  float64\n",
      " 40  AR_P_Proto_P_Dport                668522 non-null  float64\n",
      " 41  Pkts_P_State_P_Protocol_P_DestIP  668522 non-null  int64  \n",
      " 42  Pkts_P_State_P_Protocol_P_SrcIP   668522 non-null  int64  \n",
      " 43  attack                            668522 non-null  int64  \n",
      " 44  category                          668522 non-null  int64  \n",
      " 45  subcategory                       668522 non-null  object \n",
      "dtypes: float64(15), int64(23), object(8)\n",
      "memory usage: 234.6+ MB\n"
     ]
    }
   ],
   "source": [
    "df.info()"
   ]
  },
  {
   "cell_type": "code",
   "execution_count": 10,
   "metadata": {},
   "outputs": [
    {
     "data": {
      "text/plain": [
       "0         False\n",
       "1         False\n",
       "2         False\n",
       "3         False\n",
       "4         False\n",
       "          ...  \n",
       "668517    False\n",
       "668518    False\n",
       "668519    False\n",
       "668520    False\n",
       "668521    False\n",
       "Length: 668522, dtype: bool"
      ]
     },
     "execution_count": 10,
     "metadata": {},
     "output_type": "execute_result"
    }
   ],
   "source": [
    "df['Pkts_P_State_P_Protocol_P_SrcIP'] == df['AR_P_Proto_P_SrcIP']"
   ]
  },
  {
   "cell_type": "markdown",
   "metadata": {},
   "source": [
    "Data Preprocessing"
   ]
  },
  {
   "cell_type": "code",
   "execution_count": 11,
   "metadata": {},
   "outputs": [
    {
     "data": {
      "text/plain": [
       "array(['e', 'eU', 'e &', 'e d', 'e   t', 'e s', 'e  D', 'e *', 'e g'],\n",
       "      dtype=object)"
      ]
     },
     "execution_count": 11,
     "metadata": {},
     "output_type": "execute_result"
    }
   ],
   "source": [
    "df.flgs.unique()"
   ]
  },
  {
   "cell_type": "code",
   "execution_count": 12,
   "metadata": {},
   "outputs": [],
   "source": [
    "#Features not useful\n",
    "df = df.drop(['flgs','flgs_number'], axis = 1)"
   ]
  },
  {
   "cell_type": "code",
   "execution_count": 13,
   "metadata": {},
   "outputs": [
    {
     "data": {
      "text/plain": [
       "array(['udp', 'arp', 'icmp', 'tcp', 'ipv6-icmp'], dtype=object)"
      ]
     },
     "execution_count": 13,
     "metadata": {},
     "output_type": "execute_result"
    }
   ],
   "source": [
    "df.proto.unique()"
   ]
  },
  {
   "cell_type": "code",
   "execution_count": 14,
   "metadata": {},
   "outputs": [],
   "source": [
    "#Similar feature exists in numeric format\n",
    "df = df.drop(['proto'],axis=1)"
   ]
  },
  {
   "cell_type": "code",
   "execution_count": 15,
   "metadata": {},
   "outputs": [
    {
     "data": {
      "text/plain": [
       "array([3, 2, 4, 1, 5], dtype=int64)"
      ]
     },
     "execution_count": 15,
     "metadata": {},
     "output_type": "execute_result"
    }
   ],
   "source": [
    "df.proto_number.unique()"
   ]
  },
  {
   "cell_type": "code",
   "execution_count": 16,
   "metadata": {},
   "outputs": [
    {
     "data": {
      "text/plain": [
       "array(['192.168.100.147', '192.168.100.148', '192.168.100.149',\n",
       "       '192.168.100.150', '192.168.100.3', '192.168.100.1',\n",
       "       '192.168.100.7', '192.168.100.4', '192.168.100.27',\n",
       "       'fe80::250:56ff:febe:254', '192.168.100.46', '192.168.100.6',\n",
       "       '192.168.100.5', 'fe80::250:56ff:febe:26db',\n",
       "       'fe80::250:56ff:febe:e9d9', 'fe80::c0c0:aa20:45b9:bdd9',\n",
       "       'fe80::250:56ff:febe:89ee', 'fe80::2c6a:ff9b:7e14:166a',\n",
       "       'fe80::250:56ff:febe:bf1a', 'fe80::250:56ff:febe:c038',\n",
       "       '192.168.100.55'], dtype=object)"
      ]
     },
     "execution_count": 16,
     "metadata": {},
     "output_type": "execute_result"
    }
   ],
   "source": [
    "df.saddr.unique()"
   ]
  },
  {
   "cell_type": "code",
   "execution_count": 17,
   "metadata": {},
   "outputs": [],
   "source": [
    "#Convert ip/mac addresses to a more useable format\n",
    "def conv_ip_addr(ip_addr):\n",
    "    ip_addr = ip_addr.replace(':','.')\n",
    "    temp = ip_addr.split('.')\n",
    "    op = ''.join(temp)\n",
    "    if op.isnumeric():\n",
    "        op = int(op)\n",
    "    else:\n",
    "        op =int(op, 16)\n",
    "    return op"
   ]
  },
  {
   "cell_type": "code",
   "execution_count": 18,
   "metadata": {},
   "outputs": [
    {
     "data": {
      "text/plain": [
       "dtype('O')"
      ]
     },
     "execution_count": 18,
     "metadata": {},
     "output_type": "execute_result"
    }
   ],
   "source": [
    "df.saddr.dtype"
   ]
  },
  {
   "cell_type": "code",
   "execution_count": 19,
   "metadata": {},
   "outputs": [],
   "source": [
    "df['saddr'] = df['saddr'].apply(conv_ip_addr)"
   ]
  },
  {
   "cell_type": "code",
   "execution_count": 20,
   "metadata": {},
   "outputs": [],
   "source": [
    "df['saddr'] = pd.to_numeric(df['saddr'], errors = 'coerce')"
   ]
  },
  {
   "cell_type": "code",
   "execution_count": 21,
   "metadata": {},
   "outputs": [],
   "source": [
    "df['daddr'] = df['daddr'].apply(conv_ip_addr)"
   ]
  },
  {
   "cell_type": "code",
   "execution_count": 22,
   "metadata": {},
   "outputs": [],
   "source": [
    "#Unable to find a better way to handle port addresses might change this\n",
    "df = df.drop(['dport','sport'],axis=1)"
   ]
  },
  {
   "cell_type": "code",
   "execution_count": 23,
   "metadata": {},
   "outputs": [
    {
     "data": {
      "text/plain": [
       "array(['INT', 'CON', 'URP', 'FIN', 'NRS', 'RST', 'ECO', 'TST', 'MAS',\n",
       "       'REQ'], dtype=object)"
      ]
     },
     "execution_count": 23,
     "metadata": {},
     "output_type": "execute_result"
    }
   ],
   "source": [
    "df.state.unique()"
   ]
  },
  {
   "cell_type": "code",
   "execution_count": 24,
   "metadata": {},
   "outputs": [],
   "source": [
    "#One hot encode state feature, might be important\n",
    "df = pd.get_dummies(df, columns=['state'], prefix=['state'])"
   ]
  },
  {
   "cell_type": "code",
   "execution_count": 25,
   "metadata": {},
   "outputs": [],
   "source": [
    "df = df.drop(['state_number'],axis=1)"
   ]
  },
  {
   "cell_type": "code",
   "execution_count": 26,
   "metadata": {},
   "outputs": [
    {
     "data": {
      "text/plain": [
       "array([1, 0], dtype=int64)"
      ]
     },
     "execution_count": 26,
     "metadata": {},
     "output_type": "execute_result"
    }
   ],
   "source": [
    "df.attack.unique()"
   ]
  },
  {
   "cell_type": "code",
   "execution_count": 27,
   "metadata": {},
   "outputs": [],
   "source": [
    "df = df.drop(['pkSeqID','attack','subcategory'], axis=1)"
   ]
  },
  {
   "cell_type": "code",
   "execution_count": 28,
   "metadata": {},
   "outputs": [
    {
     "name": "stdout",
     "output_type": "stream",
     "text": [
      "<class 'pandas.core.frame.DataFrame'>\n",
      "RangeIndex: 668522 entries, 0 to 668521\n",
      "Data columns (total 46 columns):\n",
      " #   Column                            Non-Null Count   Dtype  \n",
      "---  ------                            --------------   -----  \n",
      " 0   stime                             668522 non-null  float64\n",
      " 1   proto_number                      668522 non-null  int64  \n",
      " 2   saddr                             668522 non-null  float64\n",
      " 3   daddr                             668522 non-null  int64  \n",
      " 4   pkts                              668522 non-null  int64  \n",
      " 5   bytes                             668522 non-null  int64  \n",
      " 6   ltime                             668522 non-null  float64\n",
      " 7   seq                               668522 non-null  int64  \n",
      " 8   dur                               668522 non-null  float64\n",
      " 9   mean                              668522 non-null  float64\n",
      " 10  stddev                            668522 non-null  float64\n",
      " 11  sum                               668522 non-null  float64\n",
      " 12  min                               668522 non-null  float64\n",
      " 13  max                               668522 non-null  float64\n",
      " 14  spkts                             668522 non-null  int64  \n",
      " 15  dpkts                             668522 non-null  int64  \n",
      " 16  sbytes                            668522 non-null  int64  \n",
      " 17  dbytes                            668522 non-null  int64  \n",
      " 18  rate                              668522 non-null  float64\n",
      " 19  srate                             668522 non-null  float64\n",
      " 20  drate                             668522 non-null  float64\n",
      " 21  TnBPSrcIP                         668522 non-null  int64  \n",
      " 22  TnBPDstIP                         668522 non-null  int64  \n",
      " 23  TnP_PSrcIP                        668522 non-null  int64  \n",
      " 24  TnP_PDstIP                        668522 non-null  int64  \n",
      " 25  TnP_PerProto                      668522 non-null  int64  \n",
      " 26  TnP_Per_Dport                     668522 non-null  int64  \n",
      " 27  AR_P_Proto_P_SrcIP                668522 non-null  float64\n",
      " 28  AR_P_Proto_P_DstIP                668522 non-null  float64\n",
      " 29  N_IN_Conn_P_DstIP                 668522 non-null  int64  \n",
      " 30  N_IN_Conn_P_SrcIP                 668522 non-null  int64  \n",
      " 31  AR_P_Proto_P_Sport                668522 non-null  float64\n",
      " 32  AR_P_Proto_P_Dport                668522 non-null  float64\n",
      " 33  Pkts_P_State_P_Protocol_P_DestIP  668522 non-null  int64  \n",
      " 34  Pkts_P_State_P_Protocol_P_SrcIP   668522 non-null  int64  \n",
      " 35  category                          668522 non-null  int64  \n",
      " 36  state_CON                         668522 non-null  bool   \n",
      " 37  state_ECO                         668522 non-null  bool   \n",
      " 38  state_FIN                         668522 non-null  bool   \n",
      " 39  state_INT                         668522 non-null  bool   \n",
      " 40  state_MAS                         668522 non-null  bool   \n",
      " 41  state_NRS                         668522 non-null  bool   \n",
      " 42  state_REQ                         668522 non-null  bool   \n",
      " 43  state_RST                         668522 non-null  bool   \n",
      " 44  state_TST                         668522 non-null  bool   \n",
      " 45  state_URP                         668522 non-null  bool   \n",
      "dtypes: bool(10), float64(16), int64(20)\n",
      "memory usage: 190.0 MB\n"
     ]
    }
   ],
   "source": [
    "df.info()"
   ]
  },
  {
   "cell_type": "markdown",
   "metadata": {},
   "source": [
    "CNN without Feature selection"
   ]
  },
  {
   "cell_type": "code",
   "execution_count": 29,
   "metadata": {},
   "outputs": [],
   "source": [
    "col_to_scale = ['stime','saddr','daddr', 'pkts', 'bytes', 'ltime', 'dur', \n",
    "                'mean', 'stddev', 'sum', 'min', 'max', 'spkts', 'dpkts',\n",
    "                'sbytes', 'dbytes', 'rate', 'srate', 'drate', 'TnBPSrcIP', 'TnBPDstIP',\n",
    "                'TnP_PSrcIP', 'TnP_PDstIP', 'TnP_PerProto', 'TnP_Per_Dport',\n",
    "                'Pkts_P_State_P_Protocol_P_DestIP', 'Pkts_P_State_P_Protocol_P_SrcIP']"
   ]
  },
  {
   "cell_type": "code",
   "execution_count": 30,
   "metadata": {},
   "outputs": [],
   "source": [
    "m = []\n",
    "s = []\n",
    "\n",
    "for col in col_to_scale:\n",
    "    mu = df[col].mean()\n",
    "    m.append(mu)\n",
    "    stdd = df[col].std()\n",
    "    s.append(stdd)\n",
    "\n",
    "    df[col] = (df[col]-mu)/stdd"
   ]
  },
  {
   "cell_type": "code",
   "execution_count": 31,
   "metadata": {},
   "outputs": [
    {
     "data": {
      "text/plain": [
       "Index(['stime', 'proto_number', 'saddr', 'daddr', 'pkts', 'bytes', 'ltime',\n",
       "       'seq', 'dur', 'mean', 'stddev', 'sum', 'min', 'max', 'spkts', 'dpkts',\n",
       "       'sbytes', 'dbytes', 'rate', 'srate', 'drate', 'TnBPSrcIP', 'TnBPDstIP',\n",
       "       'TnP_PSrcIP', 'TnP_PDstIP', 'TnP_PerProto', 'TnP_Per_Dport',\n",
       "       'AR_P_Proto_P_SrcIP', 'AR_P_Proto_P_DstIP', 'N_IN_Conn_P_DstIP',\n",
       "       'N_IN_Conn_P_SrcIP', 'AR_P_Proto_P_Sport', 'AR_P_Proto_P_Dport',\n",
       "       'Pkts_P_State_P_Protocol_P_DestIP', 'Pkts_P_State_P_Protocol_P_SrcIP',\n",
       "       'category', 'state_CON', 'state_ECO', 'state_FIN', 'state_INT',\n",
       "       'state_MAS', 'state_NRS', 'state_REQ', 'state_RST', 'state_TST',\n",
       "       'state_URP'],\n",
       "      dtype='object')"
      ]
     },
     "execution_count": 31,
     "metadata": {},
     "output_type": "execute_result"
    }
   ],
   "source": [
    "df.columns"
   ]
  },
  {
   "cell_type": "code",
   "execution_count": 32,
   "metadata": {},
   "outputs": [],
   "source": [
    "cols_to_conv = ['state_CON', 'state_ECO', 'state_FIN', 'state_INT',\n",
    "       'state_MAS', 'state_NRS', 'state_REQ', 'state_RST', 'state_TST',\n",
    "       'state_URP']\n",
    "\n",
    "df[cols_to_conv] = df[cols_to_conv].astype(int)"
   ]
  },
  {
   "cell_type": "code",
   "execution_count": 33,
   "metadata": {},
   "outputs": [],
   "source": [
    "indices_to_remove = df[df['category'] == 0].index\n",
    "\n",
    "# Randomly select 106 indices from those\n",
    "indices_to_remove = np.random.choice(indices_to_remove, size=106, replace=False)\n",
    "\n",
    "# Remove the selected rows from the DataFrame\n",
    "df = df.drop(indices_to_remove)"
   ]
  },
  {
   "cell_type": "code",
   "execution_count": 34,
   "metadata": {},
   "outputs": [],
   "source": [
    "X = df.drop(['category'],axis=1)\n",
    "y = df['category']"
   ]
  },
  {
   "cell_type": "code",
   "execution_count": 35,
   "metadata": {},
   "outputs": [
    {
     "data": {
      "text/html": [
       "<div>\n",
       "<style scoped>\n",
       "    .dataframe tbody tr th:only-of-type {\n",
       "        vertical-align: middle;\n",
       "    }\n",
       "\n",
       "    .dataframe tbody tr th {\n",
       "        vertical-align: top;\n",
       "    }\n",
       "\n",
       "    .dataframe thead th {\n",
       "        text-align: right;\n",
       "    }\n",
       "</style>\n",
       "<table border=\"1\" class=\"dataframe\">\n",
       "  <thead>\n",
       "    <tr style=\"text-align: right;\">\n",
       "      <th></th>\n",
       "      <th>stime</th>\n",
       "      <th>proto_number</th>\n",
       "      <th>saddr</th>\n",
       "      <th>daddr</th>\n",
       "      <th>pkts</th>\n",
       "      <th>bytes</th>\n",
       "      <th>ltime</th>\n",
       "      <th>seq</th>\n",
       "      <th>dur</th>\n",
       "      <th>mean</th>\n",
       "      <th>...</th>\n",
       "      <th>state_CON</th>\n",
       "      <th>state_ECO</th>\n",
       "      <th>state_FIN</th>\n",
       "      <th>state_INT</th>\n",
       "      <th>state_MAS</th>\n",
       "      <th>state_NRS</th>\n",
       "      <th>state_REQ</th>\n",
       "      <th>state_RST</th>\n",
       "      <th>state_TST</th>\n",
       "      <th>state_URP</th>\n",
       "    </tr>\n",
       "  </thead>\n",
       "  <tbody>\n",
       "    <tr>\n",
       "      <th>0</th>\n",
       "      <td>0.394231</td>\n",
       "      <td>3</td>\n",
       "      <td>-0.003309</td>\n",
       "      <td>-0.12099</td>\n",
       "      <td>0.015126</td>\n",
       "      <td>-0.004334</td>\n",
       "      <td>0.394231</td>\n",
       "      <td>109223</td>\n",
       "      <td>0.004998</td>\n",
       "      <td>0.770506</td>\n",
       "      <td>...</td>\n",
       "      <td>0</td>\n",
       "      <td>0</td>\n",
       "      <td>0</td>\n",
       "      <td>1</td>\n",
       "      <td>0</td>\n",
       "      <td>0</td>\n",
       "      <td>0</td>\n",
       "      <td>0</td>\n",
       "      <td>0</td>\n",
       "      <td>0</td>\n",
       "    </tr>\n",
       "    <tr>\n",
       "      <th>1</th>\n",
       "      <td>0.394231</td>\n",
       "      <td>3</td>\n",
       "      <td>-0.003309</td>\n",
       "      <td>-0.12099</td>\n",
       "      <td>0.015126</td>\n",
       "      <td>-0.004334</td>\n",
       "      <td>0.394231</td>\n",
       "      <td>109224</td>\n",
       "      <td>0.004998</td>\n",
       "      <td>0.770506</td>\n",
       "      <td>...</td>\n",
       "      <td>0</td>\n",
       "      <td>0</td>\n",
       "      <td>0</td>\n",
       "      <td>1</td>\n",
       "      <td>0</td>\n",
       "      <td>0</td>\n",
       "      <td>0</td>\n",
       "      <td>0</td>\n",
       "      <td>0</td>\n",
       "      <td>0</td>\n",
       "    </tr>\n",
       "    <tr>\n",
       "      <th>2</th>\n",
       "      <td>0.394231</td>\n",
       "      <td>3</td>\n",
       "      <td>-0.003309</td>\n",
       "      <td>-0.12099</td>\n",
       "      <td>0.015126</td>\n",
       "      <td>-0.004334</td>\n",
       "      <td>0.394231</td>\n",
       "      <td>109225</td>\n",
       "      <td>0.004998</td>\n",
       "      <td>0.770506</td>\n",
       "      <td>...</td>\n",
       "      <td>0</td>\n",
       "      <td>0</td>\n",
       "      <td>0</td>\n",
       "      <td>1</td>\n",
       "      <td>0</td>\n",
       "      <td>0</td>\n",
       "      <td>0</td>\n",
       "      <td>0</td>\n",
       "      <td>0</td>\n",
       "      <td>0</td>\n",
       "    </tr>\n",
       "    <tr>\n",
       "      <th>3</th>\n",
       "      <td>0.394231</td>\n",
       "      <td>3</td>\n",
       "      <td>-0.003309</td>\n",
       "      <td>-0.12099</td>\n",
       "      <td>0.015126</td>\n",
       "      <td>-0.004334</td>\n",
       "      <td>0.394231</td>\n",
       "      <td>109226</td>\n",
       "      <td>0.004998</td>\n",
       "      <td>0.770506</td>\n",
       "      <td>...</td>\n",
       "      <td>0</td>\n",
       "      <td>0</td>\n",
       "      <td>0</td>\n",
       "      <td>1</td>\n",
       "      <td>0</td>\n",
       "      <td>0</td>\n",
       "      <td>0</td>\n",
       "      <td>0</td>\n",
       "      <td>0</td>\n",
       "      <td>0</td>\n",
       "    </tr>\n",
       "    <tr>\n",
       "      <th>4</th>\n",
       "      <td>0.394231</td>\n",
       "      <td>3</td>\n",
       "      <td>-0.003309</td>\n",
       "      <td>-0.12099</td>\n",
       "      <td>0.015126</td>\n",
       "      <td>-0.004334</td>\n",
       "      <td>0.394231</td>\n",
       "      <td>109227</td>\n",
       "      <td>0.004998</td>\n",
       "      <td>0.770506</td>\n",
       "      <td>...</td>\n",
       "      <td>0</td>\n",
       "      <td>0</td>\n",
       "      <td>0</td>\n",
       "      <td>1</td>\n",
       "      <td>0</td>\n",
       "      <td>0</td>\n",
       "      <td>0</td>\n",
       "      <td>0</td>\n",
       "      <td>0</td>\n",
       "      <td>0</td>\n",
       "    </tr>\n",
       "  </tbody>\n",
       "</table>\n",
       "<p>5 rows × 46 columns</p>\n",
       "</div>"
      ],
      "text/plain": [
       "      stime  proto_number     saddr    daddr      pkts     bytes     ltime  \\\n",
       "0  0.394231             3 -0.003309 -0.12099  0.015126 -0.004334  0.394231   \n",
       "1  0.394231             3 -0.003309 -0.12099  0.015126 -0.004334  0.394231   \n",
       "2  0.394231             3 -0.003309 -0.12099  0.015126 -0.004334  0.394231   \n",
       "3  0.394231             3 -0.003309 -0.12099  0.015126 -0.004334  0.394231   \n",
       "4  0.394231             3 -0.003309 -0.12099  0.015126 -0.004334  0.394231   \n",
       "\n",
       "      seq       dur      mean  ...  state_CON  state_ECO  state_FIN  \\\n",
       "0  109223  0.004998  0.770506  ...          0          0          0   \n",
       "1  109224  0.004998  0.770506  ...          0          0          0   \n",
       "2  109225  0.004998  0.770506  ...          0          0          0   \n",
       "3  109226  0.004998  0.770506  ...          0          0          0   \n",
       "4  109227  0.004998  0.770506  ...          0          0          0   \n",
       "\n",
       "   state_INT  state_MAS  state_NRS  state_REQ  state_RST  state_TST  state_URP  \n",
       "0          1          0          0          0          0          0          0  \n",
       "1          1          0          0          0          0          0          0  \n",
       "2          1          0          0          0          0          0          0  \n",
       "3          1          0          0          0          0          0          0  \n",
       "4          1          0          0          0          0          0          0  \n",
       "\n",
       "[5 rows x 46 columns]"
      ]
     },
     "execution_count": 35,
     "metadata": {},
     "output_type": "execute_result"
    }
   ],
   "source": [
    "df.head()"
   ]
  },
  {
   "cell_type": "code",
   "execution_count": 36,
   "metadata": {},
   "outputs": [],
   "source": [
    "X = df.drop(['category'], axis=1)\n",
    "y = df['category']"
   ]
  },
  {
   "cell_type": "code",
   "execution_count": 37,
   "metadata": {},
   "outputs": [],
   "source": [
    "xtrain, xtest, ytrain, ytest = tts(X,y,test_size=0.2,random_state=42)"
   ]
  },
  {
   "cell_type": "code",
   "execution_count": 38,
   "metadata": {},
   "outputs": [],
   "source": [
    "import torch\n",
    "import torch.nn as nn\n",
    "import torch.nn.functional as F\n",
    "from torch.utils.data import DataLoader, TensorDataset\n",
    "\n",
    "device = torch.device('cuda' if torch.cuda.is_available() else 'cpu')"
   ]
  },
  {
   "cell_type": "code",
   "execution_count": 39,
   "metadata": {},
   "outputs": [
    {
     "data": {
      "text/plain": [
       "device(type='cuda')"
      ]
     },
     "execution_count": 39,
     "metadata": {},
     "output_type": "execute_result"
    }
   ],
   "source": [
    "device"
   ]
  },
  {
   "cell_type": "code",
   "execution_count": 40,
   "metadata": {},
   "outputs": [],
   "source": [
    "xtrain = torch.FloatTensor(xtrain.values).unsqueeze(1)\n",
    "ytrain = torch.LongTensor(ytrain.values)\n",
    "xtest = torch.FloatTensor(xtest.values).unsqueeze(1)\n",
    "ytest = torch.LongTensor(ytest.values)"
   ]
  },
  {
   "cell_type": "code",
   "execution_count": 41,
   "metadata": {},
   "outputs": [],
   "source": [
    "xtrain, xtest, ytrain, ytest = xtrain.to(device), xtest.to(device),ytrain.to(device), ytest.to(device)"
   ]
  },
  {
   "cell_type": "code",
   "execution_count": 42,
   "metadata": {},
   "outputs": [],
   "source": [
    "#xtrain, xtest = xtrain.reshape(-1,1,45), xtest.reshape(-1,1,45)"
   ]
  },
  {
   "cell_type": "code",
   "execution_count": 43,
   "metadata": {},
   "outputs": [
    {
     "data": {
      "text/plain": [
       "torch.Size([534732, 1, 45])"
      ]
     },
     "execution_count": 43,
     "metadata": {},
     "output_type": "execute_result"
    }
   ],
   "source": [
    "xtrain.shape"
   ]
  },
  {
   "cell_type": "code",
   "execution_count": 44,
   "metadata": {},
   "outputs": [],
   "source": [
    "train_dataset = TensorDataset(xtrain, ytrain)"
   ]
  },
  {
   "cell_type": "code",
   "execution_count": 45,
   "metadata": {},
   "outputs": [],
   "source": [
    "batch_size = 64\n",
    "train_loader = DataLoader(dataset=train_dataset, batch_size=batch_size, shuffle=True)"
   ]
  },
  {
   "cell_type": "code",
   "execution_count": 46,
   "metadata": {},
   "outputs": [],
   "source": [
    "num_epochs = 21\n",
    "learning_rate = 0.001"
   ]
  },
  {
   "cell_type": "code",
   "execution_count": 48,
   "metadata": {},
   "outputs": [],
   "source": [
    "class PrintShape(nn.Module):\n",
    "    def forward(self, x):\n",
    "        print(x.shape)\n",
    "        return x"
   ]
  },
  {
   "cell_type": "code",
   "execution_count": 49,
   "metadata": {},
   "outputs": [
    {
     "data": {
      "text/plain": [
       "(668416, 46)"
      ]
     },
     "execution_count": 49,
     "metadata": {},
     "output_type": "execute_result"
    }
   ],
   "source": [
    "df.shape"
   ]
  },
  {
   "cell_type": "code",
   "execution_count": 50,
   "metadata": {},
   "outputs": [],
   "source": [
    "class Multiclass(nn.Module):\n",
    "    def __init__(self):\n",
    "        super(Multiclass, self).__init__()\n",
    "        self.layer1 = nn.Sequential(\n",
    "            nn.Conv1d(in_channels=1, out_channels=16, kernel_size=3, stride=1, padding=1),\n",
    "            nn.BatchNorm1d(16),\n",
    "            nn.ReLU(),\n",
    "            nn.MaxPool1d(kernel_size=2)\n",
    "        )\n",
    "\n",
    "        self.layer2 = nn.Sequential(\n",
    "            nn.Conv1d(in_channels=16, out_channels=32, kernel_size=3, stride=1, padding=1),\n",
    "            nn.BatchNorm1d(32),\n",
    "            nn.ReLU()\n",
    "        )\n",
    "\n",
    "        self.layer3 = nn.Sequential(\n",
    "            nn.Linear(32 * 22, 64),\n",
    "            nn.Dropout(0.5),\n",
    "            nn.ReLU(),\n",
    "            nn.Linear(64, 3)\n",
    "        )\n",
    "\n",
    "    def forward(self, x):\n",
    "        x = self.layer1(x)\n",
    "        x = self.layer2(x)\n",
    "        x = x.view(x.size(0), -1)\n",
    "        x = self.layer3(x)\n",
    "        return x\n"
   ]
  },
  {
   "cell_type": "code",
   "execution_count": 51,
   "metadata": {},
   "outputs": [],
   "source": [
    "model = Multiclass().to(device)\n",
    "model2 = Multiclass().to(device)"
   ]
  },
  {
   "cell_type": "code",
   "execution_count": 144,
   "metadata": {},
   "outputs": [],
   "source": [
    "class CrowSearchOptimizer(torch.optim.Optimizer):\n",
    "    def __init__(self, params, lr=0.01, alpha=0.1, beta=0.1, gamma=0.1):\n",
    "        defaults = dict(lr=lr, alpha=alpha, beta=beta, gamma=gamma)\n",
    "        super(CrowSearchOptimizer, self).__init__(params, defaults)\n",
    "        \n",
    "    def step(self, closure=None):\n",
    "        loss = None\n",
    "        if closure is not None:\n",
    "            loss = closure()\n",
    "\n",
    "        for group in self.param_groups:\n",
    "            for p in group['params']:\n",
    "                if p.grad is None:\n",
    "                    continue\n",
    "                d_p = p.grad.data\n",
    "                \n",
    "                # Perform Crow Search Algorithm update\n",
    "                alpha = group['alpha']\n",
    "                beta = group['beta']\n",
    "                gamma = group['gamma']\n",
    "                lr = group['lr']\n",
    "                \n",
    "                # Scale the gradient\n",
    "                scaled_grad = lr * d_p\n",
    "                \n",
    "                # Add noise terms\n",
    "                noise_alpha = alpha * torch.randn_like(p.data)\n",
    "                noise_beta = beta * torch.randn_like(p.data) * scaled_grad\n",
    "                noise_gamma = gamma * torch.randn_like(p.data) * scaled_grad\n",
    "                \n",
    "                # Update parameter\n",
    "                p.data.add_(noise_alpha + noise_beta + noise_gamma)\n",
    "                \n",
    "                # Clip parameter to prevent large changes\n",
    "                if 'clip' in group and group['clip'] is not None:\n",
    "                    p.data.clamp_(-group['clip'], group['clip'])\n",
    "\n",
    "        return loss\n",
    "\n",
    "# Define your optimizer\n",
    "optimizer = CrowSearchOptimizer(model.parameters(), lr=0.01, alpha=0.1, beta=0.1, gamma=0.1)"
   ]
  },
  {
   "cell_type": "code",
   "execution_count": 56,
   "metadata": {},
   "outputs": [],
   "source": [
    "criterion = nn.CrossEntropyLoss()\n",
    "optimizer = torch.optim.Adam(model.parameters(), lr = learning_rate)"
   ]
  },
  {
   "cell_type": "code",
   "execution_count": 57,
   "metadata": {},
   "outputs": [
    {
     "name": "stderr",
     "output_type": "stream",
     "text": [
      "Epoch 0: 100%|██████████| 8356/8356 [01:50<00:00, 75.40it/s]\n"
     ]
    },
    {
     "name": "stdout",
     "output_type": "stream",
     "text": [
      "Epoch 0 --- Avg loss = 0.0268 --- Time = 110.83s --- Accuracy = 99.11%\n",
      "New Lowest model: Epoch 0\n"
     ]
    },
    {
     "name": "stderr",
     "output_type": "stream",
     "text": [
      "Epoch 1: 100%|██████████| 8356/8356 [01:34<00:00, 88.02it/s]\n"
     ]
    },
    {
     "name": "stdout",
     "output_type": "stream",
     "text": [
      "Epoch 1 --- Avg loss = 0.0149 --- Time = 94.94s --- Accuracy = 99.58%\n",
      "New Lowest model: Epoch 1\n"
     ]
    },
    {
     "name": "stderr",
     "output_type": "stream",
     "text": [
      "Epoch 2: 100%|██████████| 8356/8356 [01:43<00:00, 80.74it/s]\n"
     ]
    },
    {
     "name": "stdout",
     "output_type": "stream",
     "text": [
      "Epoch 2 --- Avg loss = 0.0132 --- Time = 103.50s --- Accuracy = 99.63%\n",
      "New Lowest model: Epoch 2\n"
     ]
    },
    {
     "name": "stderr",
     "output_type": "stream",
     "text": [
      "Epoch 3: 100%|██████████| 8356/8356 [01:39<00:00, 84.24it/s]\n"
     ]
    },
    {
     "name": "stdout",
     "output_type": "stream",
     "text": [
      "Epoch 3 --- Avg loss = 0.0124 --- Time = 99.20s --- Accuracy = 99.67%\n",
      "New Lowest model: Epoch 3\n"
     ]
    },
    {
     "name": "stderr",
     "output_type": "stream",
     "text": [
      "Epoch 4: 100%|██████████| 8356/8356 [01:43<00:00, 80.61it/s]\n"
     ]
    },
    {
     "name": "stdout",
     "output_type": "stream",
     "text": [
      "Epoch 4 --- Avg loss = 0.0156 --- Time = 103.66s --- Accuracy = 99.73%\n"
     ]
    },
    {
     "name": "stderr",
     "output_type": "stream",
     "text": [
      "Epoch 5: 100%|██████████| 8356/8356 [01:38<00:00, 85.21it/s]\n"
     ]
    },
    {
     "name": "stdout",
     "output_type": "stream",
     "text": [
      "Epoch 5 --- Avg loss = 0.0120 --- Time = 98.07s --- Accuracy = 99.81%\n",
      "New Lowest model: Epoch 5\n"
     ]
    },
    {
     "name": "stderr",
     "output_type": "stream",
     "text": [
      "Epoch 6: 100%|██████████| 8356/8356 [01:41<00:00, 82.16it/s]\n"
     ]
    },
    {
     "name": "stdout",
     "output_type": "stream",
     "text": [
      "Epoch 6 --- Avg loss = 0.0111 --- Time = 101.71s --- Accuracy = 99.83%\n",
      "New Lowest model: Epoch 6\n"
     ]
    },
    {
     "name": "stderr",
     "output_type": "stream",
     "text": [
      "Epoch 7: 100%|██████████| 8356/8356 [01:45<00:00, 79.52it/s]\n"
     ]
    },
    {
     "name": "stdout",
     "output_type": "stream",
     "text": [
      "Epoch 7 --- Avg loss = 0.0084 --- Time = 105.09s --- Accuracy = 99.88%\n",
      "New Lowest model: Epoch 7\n"
     ]
    },
    {
     "name": "stderr",
     "output_type": "stream",
     "text": [
      "Epoch 8: 100%|██████████| 8356/8356 [01:43<00:00, 80.54it/s]\n"
     ]
    },
    {
     "name": "stdout",
     "output_type": "stream",
     "text": [
      "Epoch 8 --- Avg loss = 0.0054 --- Time = 103.76s --- Accuracy = 99.89%\n",
      "New Lowest model: Epoch 8\n"
     ]
    },
    {
     "name": "stderr",
     "output_type": "stream",
     "text": [
      "Epoch 9: 100%|██████████| 8356/8356 [01:41<00:00, 82.01it/s]\n"
     ]
    },
    {
     "name": "stdout",
     "output_type": "stream",
     "text": [
      "Epoch 9 --- Avg loss = 0.0131 --- Time = 101.90s --- Accuracy = 99.93%\n"
     ]
    },
    {
     "name": "stderr",
     "output_type": "stream",
     "text": [
      "Epoch 10: 100%|██████████| 8356/8356 [01:44<00:00, 80.26it/s]\n"
     ]
    },
    {
     "name": "stdout",
     "output_type": "stream",
     "text": [
      "Epoch 10 --- Avg loss = 0.0086 --- Time = 104.12s --- Accuracy = 99.93%\n"
     ]
    },
    {
     "name": "stderr",
     "output_type": "stream",
     "text": [
      "Epoch 11: 100%|██████████| 8356/8356 [01:47<00:00, 77.39it/s]\n"
     ]
    },
    {
     "name": "stdout",
     "output_type": "stream",
     "text": [
      "Epoch 11 --- Avg loss = 0.0058 --- Time = 107.97s --- Accuracy = 99.95%\n"
     ]
    },
    {
     "name": "stderr",
     "output_type": "stream",
     "text": [
      "Epoch 12: 100%|██████████| 8356/8356 [01:43<00:00, 80.74it/s]\n"
     ]
    },
    {
     "name": "stdout",
     "output_type": "stream",
     "text": [
      "Epoch 12 --- Avg loss = 0.0092 --- Time = 103.50s --- Accuracy = 99.94%\n"
     ]
    },
    {
     "name": "stderr",
     "output_type": "stream",
     "text": [
      "Epoch 13: 100%|██████████| 8356/8356 [01:45<00:00, 79.45it/s]\n"
     ]
    },
    {
     "name": "stdout",
     "output_type": "stream",
     "text": [
      "Epoch 13 --- Avg loss = 0.0091 --- Time = 105.18s --- Accuracy = 99.95%\n"
     ]
    },
    {
     "name": "stderr",
     "output_type": "stream",
     "text": [
      "Epoch 14: 100%|██████████| 8356/8356 [01:44<00:00, 79.73it/s]\n"
     ]
    },
    {
     "name": "stdout",
     "output_type": "stream",
     "text": [
      "Epoch 14 --- Avg loss = 0.0030 --- Time = 104.81s --- Accuracy = 99.96%\n",
      "New Lowest model: Epoch 14\n"
     ]
    },
    {
     "name": "stderr",
     "output_type": "stream",
     "text": [
      "Epoch 15: 100%|██████████| 8356/8356 [01:44<00:00, 79.96it/s]\n"
     ]
    },
    {
     "name": "stdout",
     "output_type": "stream",
     "text": [
      "Epoch 15 --- Avg loss = 0.0056 --- Time = 104.52s --- Accuracy = 99.97%\n"
     ]
    },
    {
     "name": "stderr",
     "output_type": "stream",
     "text": [
      "Epoch 16: 100%|██████████| 8356/8356 [01:44<00:00, 80.01it/s]\n"
     ]
    },
    {
     "name": "stdout",
     "output_type": "stream",
     "text": [
      "Epoch 16 --- Avg loss = 0.0019 --- Time = 104.45s --- Accuracy = 99.97%\n",
      "New Lowest model: Epoch 16\n"
     ]
    },
    {
     "name": "stderr",
     "output_type": "stream",
     "text": [
      "Epoch 17: 100%|██████████| 8356/8356 [01:44<00:00, 79.92it/s]\n"
     ]
    },
    {
     "name": "stdout",
     "output_type": "stream",
     "text": [
      "Epoch 17 --- Avg loss = 0.0068 --- Time = 104.56s --- Accuracy = 99.98%\n"
     ]
    },
    {
     "name": "stderr",
     "output_type": "stream",
     "text": [
      "Epoch 18: 100%|██████████| 8356/8356 [01:45<00:00, 79.54it/s]\n"
     ]
    },
    {
     "name": "stdout",
     "output_type": "stream",
     "text": [
      "Epoch 18 --- Avg loss = 0.0074 --- Time = 105.06s --- Accuracy = 99.97%\n"
     ]
    },
    {
     "name": "stderr",
     "output_type": "stream",
     "text": [
      "Epoch 19: 100%|██████████| 8356/8356 [01:44<00:00, 80.19it/s]\n"
     ]
    },
    {
     "name": "stdout",
     "output_type": "stream",
     "text": [
      "Epoch 19 --- Avg loss = 0.0054 --- Time = 104.21s --- Accuracy = 99.94%\n"
     ]
    },
    {
     "name": "stderr",
     "output_type": "stream",
     "text": [
      "Epoch 20: 100%|██████████| 8356/8356 [01:44<00:00, 79.96it/s]"
     ]
    },
    {
     "name": "stdout",
     "output_type": "stream",
     "text": [
      "Epoch 20 --- Avg loss = 0.0034 --- Time = 104.52s --- Accuracy = 99.95%\n"
     ]
    },
    {
     "name": "stderr",
     "output_type": "stream",
     "text": [
      "\n"
     ]
    }
   ],
   "source": [
    "from tqdm import tqdm\n",
    "\n",
    "lowest_loss = float('inf')\n",
    "losses = []\n",
    "times = []\n",
    "accuracies = []\n",
    "\n",
    "# Training loop\n",
    "for e in range(num_epochs):\n",
    "    start_time = time.time()\n",
    "    total_loss = 0.0\n",
    "    correct = 0\n",
    "    total = 0\n",
    "\n",
    "    model.train()\n",
    "    for batch_X, batch_y in tqdm(train_loader, desc=f\"Epoch {e}\"):\n",
    "        batch_X, batch_y = batch_X.to(device), batch_y.to(device)\n",
    "\n",
    "        outputs = model(batch_X)\n",
    "        loss = criterion(outputs, batch_y)\n",
    "\n",
    "        # Check for NaN values in loss\n",
    "        if torch.isnan(loss):\n",
    "            print(\"NaN loss detected. Skipping batch...\")\n",
    "            continue\n",
    "\n",
    "        optimizer.zero_grad()\n",
    "        loss.backward()\n",
    "\n",
    "        # Gradient clipping\n",
    "        torch.nn.utils.clip_grad_norm_(model.parameters(), max_norm=1.0)\n",
    "\n",
    "        optimizer.step()\n",
    "\n",
    "        total_loss += loss.item()\n",
    "        _, predicted = torch.max(outputs.data, 1)\n",
    "        total += batch_y.size(0)\n",
    "        correct += (predicted == batch_y).sum().item()\n",
    "\n",
    "    avg_loss = total_loss / len(train_loader)\n",
    "    epoch_accuracy = correct / total * 100\n",
    "    end_time = time.time()\n",
    "    epoch_time = end_time - start_time\n",
    "\n",
    "    losses.append(avg_loss)\n",
    "    times.append(epoch_time)\n",
    "    accuracies.append(epoch_accuracy)\n",
    "\n",
    "    print(f\"Epoch {e} --- Avg loss = {avg_loss:.4f} --- Time = {epoch_time:.2f}s --- Accuracy = {epoch_accuracy:.2f}%\")\n",
    "\n",
    "    # Check if current epoch's loss is lower than the lowest loss\n",
    "    if avg_loss < lowest_loss:\n",
    "        lowest_loss = avg_loss\n",
    "        # Save the state dictionary of the model\n",
    "        print(f'New Lowest model: Epoch {e}')"
   ]
  },
  {
   "cell_type": "code",
   "execution_count": 146,
   "metadata": {},
   "outputs": [
    {
     "name": "stderr",
     "output_type": "stream",
     "text": [
      "Epoch 0: 100%|██████████| 250/250 [00:05<00:00, 41.99it/s]\n"
     ]
    },
    {
     "name": "stdout",
     "output_type": "stream",
     "text": [
      "Epoch 0 --- Avg loss = 292.2984\n",
      "New Lowest model: Epoch 0\n"
     ]
    },
    {
     "name": "stderr",
     "output_type": "stream",
     "text": [
      "Epoch 1: 100%|██████████| 250/250 [00:05<00:00, 42.98it/s]\n"
     ]
    },
    {
     "name": "stdout",
     "output_type": "stream",
     "text": [
      "Epoch 1 --- Avg loss = 709.6061\n"
     ]
    },
    {
     "name": "stderr",
     "output_type": "stream",
     "text": [
      "Epoch 2: 100%|██████████| 250/250 [00:05<00:00, 43.94it/s]\n"
     ]
    },
    {
     "name": "stdout",
     "output_type": "stream",
     "text": [
      "Epoch 2 --- Avg loss = 965.8085\n"
     ]
    },
    {
     "name": "stderr",
     "output_type": "stream",
     "text": [
      "Epoch 3: 100%|██████████| 250/250 [00:05<00:00, 43.07it/s]\n"
     ]
    },
    {
     "name": "stdout",
     "output_type": "stream",
     "text": [
      "Epoch 3 --- Avg loss = 2516.6366\n"
     ]
    },
    {
     "name": "stderr",
     "output_type": "stream",
     "text": [
      "Epoch 4: 100%|██████████| 250/250 [00:04<00:00, 60.72it/s]\n"
     ]
    },
    {
     "name": "stdout",
     "output_type": "stream",
     "text": [
      "Epoch 4 --- Avg loss = 3208.1493\n"
     ]
    },
    {
     "name": "stderr",
     "output_type": "stream",
     "text": [
      "Epoch 5: 100%|██████████| 250/250 [00:05<00:00, 49.46it/s]\n"
     ]
    },
    {
     "name": "stdout",
     "output_type": "stream",
     "text": [
      "Epoch 5 --- Avg loss = 5407.4232\n"
     ]
    },
    {
     "name": "stderr",
     "output_type": "stream",
     "text": [
      "Epoch 6: 100%|██████████| 250/250 [00:06<00:00, 40.77it/s]\n"
     ]
    },
    {
     "name": "stdout",
     "output_type": "stream",
     "text": [
      "Epoch 6 --- Avg loss = 6916.2059\n"
     ]
    },
    {
     "name": "stderr",
     "output_type": "stream",
     "text": [
      "Epoch 7: 100%|██████████| 250/250 [00:05<00:00, 46.39it/s]\n"
     ]
    },
    {
     "name": "stdout",
     "output_type": "stream",
     "text": [
      "Epoch 7 --- Avg loss = 7659.0482\n"
     ]
    },
    {
     "name": "stderr",
     "output_type": "stream",
     "text": [
      "Epoch 8: 100%|██████████| 250/250 [00:04<00:00, 56.20it/s]\n"
     ]
    },
    {
     "name": "stdout",
     "output_type": "stream",
     "text": [
      "Epoch 8 --- Avg loss = 7444.1410\n"
     ]
    },
    {
     "name": "stderr",
     "output_type": "stream",
     "text": [
      "Epoch 9: 100%|██████████| 250/250 [00:06<00:00, 40.32it/s]\n"
     ]
    },
    {
     "name": "stdout",
     "output_type": "stream",
     "text": [
      "Epoch 9 --- Avg loss = 8985.6209\n"
     ]
    },
    {
     "name": "stderr",
     "output_type": "stream",
     "text": [
      "Epoch 10: 100%|██████████| 250/250 [00:05<00:00, 44.96it/s]\n"
     ]
    },
    {
     "name": "stdout",
     "output_type": "stream",
     "text": [
      "Epoch 10 --- Avg loss = 12510.3901\n"
     ]
    },
    {
     "name": "stderr",
     "output_type": "stream",
     "text": [
      "Epoch 11: 100%|██████████| 250/250 [00:05<00:00, 42.82it/s]\n"
     ]
    },
    {
     "name": "stdout",
     "output_type": "stream",
     "text": [
      "Epoch 11 --- Avg loss = 18877.9026\n"
     ]
    },
    {
     "name": "stderr",
     "output_type": "stream",
     "text": [
      "Epoch 12: 100%|██████████| 250/250 [00:05<00:00, 46.78it/s]\n"
     ]
    },
    {
     "name": "stdout",
     "output_type": "stream",
     "text": [
      "Epoch 12 --- Avg loss = 26751.7138\n"
     ]
    },
    {
     "name": "stderr",
     "output_type": "stream",
     "text": [
      "Epoch 13: 100%|██████████| 250/250 [00:04<00:00, 54.21it/s]\n"
     ]
    },
    {
     "name": "stdout",
     "output_type": "stream",
     "text": [
      "Epoch 13 --- Avg loss = 32950.7305\n"
     ]
    },
    {
     "name": "stderr",
     "output_type": "stream",
     "text": [
      "Epoch 14: 100%|██████████| 250/250 [00:04<00:00, 55.10it/s]\n"
     ]
    },
    {
     "name": "stdout",
     "output_type": "stream",
     "text": [
      "Epoch 14 --- Avg loss = 33502.6258\n"
     ]
    },
    {
     "name": "stderr",
     "output_type": "stream",
     "text": [
      "Epoch 15: 100%|██████████| 250/250 [00:04<00:00, 56.35it/s]\n"
     ]
    },
    {
     "name": "stdout",
     "output_type": "stream",
     "text": [
      "Epoch 15 --- Avg loss = 31863.2652\n"
     ]
    },
    {
     "name": "stderr",
     "output_type": "stream",
     "text": [
      "Epoch 16: 100%|██████████| 250/250 [00:04<00:00, 62.21it/s]\n"
     ]
    },
    {
     "name": "stdout",
     "output_type": "stream",
     "text": [
      "Epoch 16 --- Avg loss = 36840.2522\n"
     ]
    },
    {
     "name": "stderr",
     "output_type": "stream",
     "text": [
      "Epoch 17: 100%|██████████| 250/250 [00:04<00:00, 56.13it/s]\n"
     ]
    },
    {
     "name": "stdout",
     "output_type": "stream",
     "text": [
      "Epoch 17 --- Avg loss = 45721.6944\n"
     ]
    },
    {
     "name": "stderr",
     "output_type": "stream",
     "text": [
      "Epoch 18: 100%|██████████| 250/250 [00:04<00:00, 52.91it/s]\n"
     ]
    },
    {
     "name": "stdout",
     "output_type": "stream",
     "text": [
      "Epoch 18 --- Avg loss = 50556.1480\n"
     ]
    },
    {
     "name": "stderr",
     "output_type": "stream",
     "text": [
      "Epoch 19: 100%|██████████| 250/250 [00:05<00:00, 45.03it/s]\n"
     ]
    },
    {
     "name": "stdout",
     "output_type": "stream",
     "text": [
      "Epoch 19 --- Avg loss = 59467.8485\n"
     ]
    },
    {
     "name": "stderr",
     "output_type": "stream",
     "text": [
      "Epoch 20: 100%|██████████| 250/250 [00:04<00:00, 50.67it/s]"
     ]
    },
    {
     "name": "stdout",
     "output_type": "stream",
     "text": [
      "Epoch 20 --- Avg loss = 51786.7446\n"
     ]
    },
    {
     "name": "stderr",
     "output_type": "stream",
     "text": [
      "\n"
     ]
    }
   ],
   "source": [
    "from tqdm import tqdm\n",
    "\n",
    "lowest_loss = float('inf')\n",
    "\n",
    "# Training loop\n",
    "for e in range(num_epochs):\n",
    "    total_loss = 0.0\n",
    "    for batch_X, batch_y in tqdm(train_loader, desc=f\"Epoch {e}\"):\n",
    "        batch_X, batch_y = batch_X.to(device), batch_y.to(device)\n",
    "\n",
    "        outputs = model(batch_X)\n",
    "        loss = criterion(outputs, batch_y)\n",
    "\n",
    "        # Check for NaN values in loss\n",
    "        if torch.isnan(loss):\n",
    "            print(\"NaN loss detected. Skipping batch...\")\n",
    "            continue\n",
    "\n",
    "        optimizer.zero_grad()\n",
    "        loss.backward()\n",
    "\n",
    "        # Gradient clipping\n",
    "        torch.nn.utils.clip_grad_norm_(model.parameters(), max_norm=1.0)\n",
    "\n",
    "        optimizer.step()\n",
    "\n",
    "        total_loss += loss.item()\n",
    "\n",
    "    avg_loss = total_loss / len(train_loader)\n",
    "    print(f\"Epoch {e} --- Avg loss = {avg_loss:.4f}\")\n",
    "\n",
    "    # Check if current epoch's loss is lower than lowest loss\n",
    "    if avg_loss < lowest_loss:\n",
    "        lowest_loss = avg_loss\n",
    "        # Save the state dictionary of the model\n",
    "        print(f'New Lowest model: Epoch {e}')\n",
    "        # torch.save(model.state_dict(), 'best_model.pth')\n"
   ]
  },
  {
   "cell_type": "code",
   "execution_count": 130,
   "metadata": {},
   "outputs": [
    {
     "data": {
      "text/plain": [
       "<All keys matched successfully>"
      ]
     },
     "execution_count": 130,
     "metadata": {},
     "output_type": "execute_result"
    }
   ],
   "source": [
    "best_model = Multiclass().to(device)\n",
    "best_model.load_state_dict(torch.load('best_model.pth'))"
   ]
  },
  {
   "cell_type": "code",
   "execution_count": 131,
   "metadata": {},
   "outputs": [
    {
     "name": "stderr",
     "output_type": "stream",
     "text": [
      "Epoch 0:   0%|          | 0/250 [00:00<?, ?it/s]"
     ]
    },
    {
     "name": "stderr",
     "output_type": "stream",
     "text": [
      "Epoch 0: 100%|██████████| 250/250 [00:04<00:00, 54.94it/s]\n"
     ]
    },
    {
     "name": "stdout",
     "output_type": "stream",
     "text": [
      "Epoch 0 --- Avg loss = 0.1700\n"
     ]
    },
    {
     "name": "stderr",
     "output_type": "stream",
     "text": [
      "Epoch 1: 100%|██████████| 250/250 [00:03<00:00, 72.32it/s]"
     ]
    },
    {
     "name": "stdout",
     "output_type": "stream",
     "text": [
      "Epoch 1 --- Avg loss = 0.1051\n"
     ]
    },
    {
     "name": "stderr",
     "output_type": "stream",
     "text": [
      "\n"
     ]
    }
   ],
   "source": [
    "optimizer = torch.optim.Adam(model2.parameters(), lr = learning_rate)\n",
    "for e in range(num_epochs):\n",
    "    total_loss = 0.0\n",
    "    for batch_X, batch_y in tqdm(train_loader, desc=f\"Epoch {e}\"):\n",
    "        #print(\"Input data shape:\", batch_X.shape)\n",
    "        batch_X, batch_y = batch_X.to(device), batch_y.to(device)\n",
    "\n",
    "        outputs = model2(batch_X)\n",
    "        loss = criterion(outputs, batch_y)\n",
    "\n",
    "        optimizer.zero_grad()\n",
    "        loss.backward()\n",
    "        optimizer.step()\n",
    "\n",
    "        total_loss += loss.item()\n",
    "        \n",
    "        #print(f\"Epoch {e}, loss = {loss.item():.4f}\")\n",
    "    avg_loss = total_loss/len(train_loader)\n",
    "    print(f\"Epoch {e} --- Avg loss = {avg_loss:.4f}\")"
   ]
  },
  {
   "cell_type": "code",
   "execution_count": 132,
   "metadata": {},
   "outputs": [],
   "source": [
    "test_dataset = TensorDataset(xtest, ytest)\n",
    "test_loader = DataLoader(test_dataset, batch_size=32)"
   ]
  },
  {
   "cell_type": "code",
   "execution_count": 133,
   "metadata": {},
   "outputs": [
    {
     "name": "stdout",
     "output_type": "stream",
     "text": [
      "Accuracy of the model on the test data: 85.42%\n"
     ]
    }
   ],
   "source": [
    "best_model.eval() \n",
    "true = [] \n",
    "pred = []\n",
    "correct_predictions = 0\n",
    "total_predictions = 0\n",
    "\n",
    "with torch.no_grad():  \n",
    "    for data, labels in test_loader:\n",
    "        data, labels = data.to(device), labels.to(device) \n",
    "        outputs = best_model(data)\n",
    "        _, predicted = torch.max(outputs, 1) \n",
    "\n",
    "        pred.extend(predicted.cpu().tolist())\n",
    "        true.extend(labels.tolist())\n",
    "\n",
    "        total_predictions += labels.size(0)\n",
    "        correct_predictions += (predicted == labels).sum().item()\n",
    "\n",
    "accuracy = (correct_predictions / total_predictions) * 100\n",
    "print(f'Accuracy of the model on the test data: {accuracy:.2f}%')"
   ]
  },
  {
   "cell_type": "code",
   "execution_count": 134,
   "metadata": {},
   "outputs": [
    {
     "data": {
      "text/plain": [
       "Counter({0: 1474, 1: 2526})"
      ]
     },
     "execution_count": 134,
     "metadata": {},
     "output_type": "execute_result"
    }
   ],
   "source": [
    "from collections import Counter\n",
    "counter = Counter(pred)\n",
    "counter"
   ]
  },
  {
   "cell_type": "code",
   "execution_count": 135,
   "metadata": {},
   "outputs": [
    {
     "name": "stdout",
     "output_type": "stream",
     "text": [
      "Accuracy of the model on the test data: 94.03%\n"
     ]
    }
   ],
   "source": [
    "model2.eval() \n",
    "true = [] \n",
    "pred = []\n",
    "correct_predictions = 0\n",
    "total_predictions = 0\n",
    "\n",
    "with torch.no_grad():  \n",
    "    for data, labels in test_loader:\n",
    "        data, labels = data.to(device), labels.to(device) \n",
    "        outputs = model2(data)\n",
    "        _, predicted = torch.max(outputs, 1) \n",
    "\n",
    "        pred.extend(predicted.cpu().tolist())\n",
    "        true.extend(labels.tolist())\n",
    "\n",
    "        total_predictions += labels.size(0)\n",
    "        correct_predictions += (predicted == labels).sum().item()\n",
    "\n",
    "accuracy = (correct_predictions / total_predictions) * 100\n",
    "print(f'Accuracy of the model on the test data: {accuracy:.2f}%')"
   ]
  },
  {
   "cell_type": "code",
   "execution_count": 136,
   "metadata": {},
   "outputs": [
    {
     "data": {
      "text/plain": [
       "Counter({0: 1816, 1: 2184})"
      ]
     },
     "execution_count": 136,
     "metadata": {},
     "output_type": "execute_result"
    }
   ],
   "source": [
    "from collections import Counter\n",
    "counter = Counter(pred)\n",
    "counter"
   ]
  },
  {
   "cell_type": "code",
   "execution_count": 137,
   "metadata": {},
   "outputs": [],
   "source": [
    "cm = confusion_matrix(true, pred)"
   ]
  },
  {
   "cell_type": "code",
   "execution_count": 138,
   "metadata": {},
   "outputs": [
    {
     "data": {
      "image/png": "[encoded data removed]",
      "text/plain": [
       "<Figure size 1000x700 with 2 Axes>"
      ]
     },
     "metadata": {},
     "output_type": "display_data"
    }
   ],
   "source": [
    "def plot_confusion_matrix(cm, classes, title='Confusion Matrix', cmap=plt.cm.Blues):\n",
    "    plt.figure(figsize=(10, 7))\n",
    "    plt.imshow(cm, interpolation='nearest', cmap=cmap)\n",
    "    plt.title(title)\n",
    "    plt.colorbar()\n",
    "    tick_marks = np.arange(len(classes))\n",
    "    plt.xticks(tick_marks, classes, rotation=45)\n",
    "    plt.yticks(tick_marks, classes)\n",
    "\n",
    "    thresh = cm.max() / 2.\n",
    "    for i, j in itertools.product(range(cm.shape[0]), range(cm.shape[1])):\n",
    "        plt.text(j, i, format(cm[i, j], 'd'),\n",
    "                 horizontalalignment=\"center\",\n",
    "                 color=\"white\" if cm[i, j] > thresh else \"black\")\n",
    "\n",
    "    plt.tight_layout()\n",
    "    plt.ylabel('True label')\n",
    "    plt.xlabel('Predicted label')\n",
    "    plt.show()\n",
    "\n",
    "# Assuming your classes are named 'DDOS', 'Normal', and 'Other'\n",
    "plot_confusion_matrix(cm, classes=['DDOS', 'Other'])"
   ]
  },
  {
   "cell_type": "code",
   "execution_count": 139,
   "metadata": {},
   "outputs": [
    {
     "name": "stdout",
     "output_type": "stream",
     "text": [
      "F1 Score: 0.9421\n"
     ]
    }
   ],
   "source": [
    "from sklearn.metrics import f1_score\n",
    "\n",
    "f1 = f1_score(true, pred)\n",
    "print(f\"F1 Score: {f1:.4f}\")"
   ]
  },
  {
   "cell_type": "code",
   "execution_count": null,
   "metadata": {},
   "outputs": [],
   "source": [
    "torch.save(model, 'ddos_cnn_model.pth')"
   ]
  },
  {
   "cell_type": "code",
   "execution_count": 58,
   "metadata": {},
   "outputs": [
    {
     "data": {
      "text/plain": [
       "([0.026772374838440856,\n",
       "  0.014939200107731629,\n",
       "  0.013203356270931709,\n",
       "  0.0123502258603162,\n",
       "  0.01564459268938006,\n",
       "  0.011979394227877764,\n",
       "  0.011133208617416667,\n",
       "  0.008356628014749835,\n",
       "  0.005397392977171197,\n",
       "  0.01305569207687318,\n",
       "  0.00861787025508544,\n",
       "  0.005805049562515554,\n",
       "  0.009193565020437904,\n",
       "  0.009051411435767778,\n",
       "  0.0030364772064926954,\n",
       "  0.005570148655685494,\n",
       "  0.0019433110374047244,\n",
       "  0.006818537863563818,\n",
       "  0.007417301956493232,\n",
       "  0.005447490738759131,\n",
       "  0.003376008791073833],\n",
       " [110.82984471321106,\n",
       "  94.93877053260803,\n",
       "  103.50078821182251,\n",
       "  99.20205998420715,\n",
       "  103.66176795959473,\n",
       "  98.07132911682129,\n",
       "  101.70803499221802,\n",
       "  105.09132432937622,\n",
       "  103.76076555252075,\n",
       "  101.89930605888367,\n",
       "  104.11514806747437,\n",
       "  107.97387647628784,\n",
       "  103.49810743331909,\n",
       "  105.1833655834198,\n",
       "  104.80934071540833,\n",
       "  104.51566123962402,\n",
       "  104.45177674293518,\n",
       "  104.56206893920898,\n",
       "  105.06345677375793,\n",
       "  104.20622181892395,\n",
       "  104.51675605773926],\n",
       " [99.10908642086129,\n",
       "  99.57679734895237,\n",
       "  99.62504581734402,\n",
       "  99.6721722283312,\n",
       "  99.72902313682368,\n",
       "  99.80569705946156,\n",
       "  99.82533306403955,\n",
       "  99.87919181945348,\n",
       "  99.88611117344763,\n",
       "  99.93080646005849,\n",
       "  99.93080646005849,\n",
       "  99.95212555074318,\n",
       "  99.93996992886156,\n",
       "  99.94558021588385,\n",
       "  99.96484220132702,\n",
       "  99.97176155532117,\n",
       "  99.97456669883232,\n",
       "  99.9783068901805,\n",
       "  99.96502921089443,\n",
       "  99.94109198626602,\n",
       "  99.95306059858022])"
      ]
     },
     "execution_count": 58,
     "metadata": {},
     "output_type": "execute_result"
    }
   ],
   "source": [
    "losses, times, accuracies"
   ]
  },
  {
   "cell_type": "markdown",
   "metadata": {},
   "source": [
    "### Actual implementation (3)"
   ]
  },
  {
   "cell_type": "code",
   "execution_count": 59,
   "metadata": {},
   "outputs": [],
   "source": [
    "class Multiclass(nn.Module):\n",
    "    def __init__(self):\n",
    "        super(Multiclass, self).__init__()\n",
    "        self.layer1 = nn.Sequential(\n",
    "        nn.Conv1d(in_channels=1, out_channels=15, kernel_size=3, stride=1, padding=1),\n",
    "        #PrintShape(),\n",
    "        nn.BatchNorm1d(15),\n",
    "        nn.ReLU(),\n",
    "        nn.MaxPool1d(kernel_size=2)\n",
    "        )\n",
    "        \n",
    "        self.layer2 = nn.Sequential(\n",
    "        nn.Conv1d(in_channels=15, out_channels=32, kernel_size=3, stride=1, padding=1),\n",
    "        nn.BatchNorm1d(32),\n",
    "       # pool2 = nn.MaxPool1d(kernel_size=2),\n",
    "        nn.ReLU()\n",
    "        )\n",
    "        \n",
    "        self.layer3 = nn.Sequential(\n",
    "        nn.Linear(32*22, 64),\n",
    "        nn.Dropout(0.5),\n",
    "        nn.ReLU(),\n",
    "        nn.Linear(64,2)\n",
    "        )\n",
    "        \n",
    "    \n",
    "    def forward(self, x):\n",
    "        #print(\"Initial input shape:\", x.shape)\n",
    "        x = self.layer1(x)\n",
    "        x = self.layer2(x)\n",
    "        #print(\"Before reshaping:\", x.shape)\n",
    "        x = x.view(x.size(0),-1)\n",
    "        #print(\"After reshaping:\", x.shape)\n",
    "        x = self.layer3(x)\n",
    "        return x"
   ]
  },
  {
   "cell_type": "code",
   "execution_count": 60,
   "metadata": {},
   "outputs": [],
   "source": [
    "def initialize_population(population_size):\n",
    "    # Generate random initial positions for crows\n",
    "    return [np.random.uniform(low=-1.0, high=1.0, size=45) for _ in range(population_size)]"
   ]
  },
  {
   "cell_type": "code",
   "execution_count": 61,
   "metadata": {},
   "outputs": [],
   "source": [
    "def update_positions(population, global_best_position, inertia_weight=0.5, exploration_rate=0.1):\n",
    "    # Update positions of crows based on their previous positions and the global best position\n",
    "    # Use some exploration strategy (e.g., randomization, inertia, etc.)\n",
    "    updated_population = []\n",
    "    for crow_position in population:\n",
    "        # Calculate crow movement towards the global best position\n",
    "        crow_movement = inertia_weight * (global_best_position - crow_position)\n",
    "        \n",
    "        # Add some randomness for exploration\n",
    "        exploration = exploration_rate * np.random.uniform(-1, 1, size=crow_position.shape)\n",
    "        \n",
    "        # Update crow position\n",
    "        new_crow_position = crow_position + crow_movement + exploration\n",
    "        \n",
    "        # Append the updated position to the list\n",
    "        updated_population.append(new_crow_position)\n",
    "    \n",
    "    return updated_population"
   ]
  },
  {
   "cell_type": "code",
   "execution_count": 62,
   "metadata": {},
   "outputs": [],
   "source": [
    "def update_model_parameters(model, crow_position):\n",
    "    # Update model parameters based on crow position\n",
    "    crow_position_tensor = torch.tensor(crow_position, dtype=torch.float32)\n",
    "\n",
    "    # Total number of parameters in the model\n",
    "    total_params = sum(p.numel() for p in model.parameters())\n",
    "\n",
    "    # Iterate through model parameters and update them based on the crow position\n",
    "    param_index = 0\n",
    "    for param in model.parameters():\n",
    "        if param_index >= 45:\n",
    "            break  # Break the loop if all parameters have been updated\n",
    "        # Calculate the number of elements in the parameter tensor\n",
    "        num_elements = param.numel()\n",
    "        print(f'prarm_idx: {param_index}, numel: {num_elements}')\n",
    "        # Extract a slice of the crow position tensor with the same size as the parameter tensor\n",
    "        param_update = crow_position_tensor[param_index:param_index+num_elements]\n",
    "\n",
    "        # Reshape the parameter update to match the shape of the parameter tensor\n",
    "        param_update = param_update.view(param.size())\n",
    "\n",
    "        # Update the parameter tensor with the crow position values\n",
    "        param.data = param_update\n",
    "\n",
    "        # Move to the next position in the crow position tensor\n",
    "        param_index += 15\n",
    "\n",
    "        # Ensure param_index does not exceed the total number of parameters\n",
    "        \n"
   ]
  },
  {
   "cell_type": "code",
   "execution_count": 142,
   "metadata": {},
   "outputs": [],
   "source": [
    "def train_and_evaluate(model, data_loader, criterion, optimizer):\n",
    "    # Train the model on the dataset and evaluate performance\n",
    "    # Return performance metric (e.g., accuracy)\n",
    "    model.train()\n",
    "\n",
    "    # Iterate over the dataset in batches\n",
    "    for inputs, labels in data_loader:\n",
    "        # print(inputs.shape)\n",
    "        # print(labels)\n",
    "        \n",
    "        # Forward pass\n",
    "        inputs = inputs.unsqueeze(-1).permute(0,2,1)\n",
    "        # print(inputs.shape)\n",
    "        outputs = model(inputs)\n",
    "        \n",
    "        # Compute the loss\n",
    "        loss = criterion(outputs, labels)\n",
    "        \n",
    "        # Backward pass and optimization\n",
    "        optimizer.zero_grad()\n",
    "        loss.backward()\n",
    "        optimizer.step()\n",
    "\n",
    "    # Set the model to evaluation mode\n",
    "    model.eval()\n",
    "\n",
    "    # Evaluate the model on the entire dataset\n",
    "    predictions = []\n",
    "    targets = []\n",
    "    with torch.no_grad():\n",
    "        for inputs, labels in data_loader:\n",
    "            # Forward pass\n",
    "            inputs = inputs.unsqueeze(-1).permute(0,2,1)\n",
    "            outputs = model(inputs)\n",
    "            \n",
    "            # Convert outputs and labels to numpy arrays\n",
    "            predictions.extend(torch.argmax(outputs, dim=1).cpu().numpy())\n",
    "            targets.extend(labels.cpu().numpy())\n",
    "\n",
    "    # Calculate evaluation metric (e.g., accuracy)\n",
    "    accuracy = accuracy_score(targets, predictions)\n",
    "    print(\"Accuracy:\", accuracy)\n",
    "\n",
    "    return accuracy"
   ]
  },
  {
   "cell_type": "code",
   "execution_count": 143,
   "metadata": {},
   "outputs": [],
   "source": [
    "test_pred = []"
   ]
  },
  {
   "cell_type": "code",
   "execution_count": 144,
   "metadata": {},
   "outputs": [],
   "source": [
    "def train_and_evaluate(model, train_loader, test_loader, criterion, optimizer):\n",
    "    model.train()\n",
    "    for inputs, labels in train_loader:\n",
    "        inputs = inputs.unsqueeze(-1).permute(0, 2, 1)\n",
    "        outputs = model(inputs)\n",
    "        loss = criterion(outputs, labels)\n",
    "        optimizer.zero_grad()\n",
    "        loss.backward()\n",
    "        optimizer.step()\n",
    "    \n",
    "    model.eval()\n",
    "    predictions, targets = [], []\n",
    "    with torch.no_grad():\n",
    "        for inputs, labels in test_loader:\n",
    "            inputs = inputs.unsqueeze(-1).permute(0, 2, 1)\n",
    "            outputs = model(inputs)\n",
    "            predictions.extend(torch.argmax(outputs, dim=1).cpu().numpy())\n",
    "            targets.extend(labels.cpu().numpy())\n",
    "    \n",
    "    accuracy = accuracy_score(targets, predictions)\n",
    "    # test_pred = predictions\n",
    "    print(\"Testing Accuracy:\", accuracy)\n",
    "    return accuracy"
   ]
  },
  {
   "cell_type": "code",
   "execution_count": 121,
   "metadata": {},
   "outputs": [],
   "source": [
    "losses_cso = []\n",
    "times_cso = []\n",
    "accuracies_cso = []"
   ]
  },
  {
   "cell_type": "code",
   "execution_count": 129,
   "metadata": {},
   "outputs": [],
   "source": [
    "def train_and_evaluate(model, train_loader, test_loader, criterion, optimizer):\n",
    "    global losses_cso, times_cso, accuracies_cso\n",
    "    model.train()\n",
    "    start_time = time.time()\n",
    "    total_loss = 0.0\n",
    "    for inputs, labels in train_loader:\n",
    "        inputs = inputs.unsqueeze(-1).permute(0, 2, 1)\n",
    "        labels = labels\n",
    "\n",
    "        outputs = model(inputs)\n",
    "        loss = criterion(outputs, labels)\n",
    "        optimizer.zero_grad()\n",
    "        loss.backward()\n",
    "        optimizer.step()\n",
    "        total_loss += loss.item()\n",
    "\n",
    "    avg_loss = total_loss / len(train_loader)\n",
    "    losses_cso.append(avg_loss)\n",
    "\n",
    "    model.eval()\n",
    "    predictions, targets = [], []\n",
    "    with torch.no_grad():\n",
    "        for inputs, labels in test_loader:\n",
    "            inputs = inputs.unsqueeze(-1).permute(0, 2, 1)\n",
    "            labels = labels\n",
    "            outputs = model(inputs)\n",
    "            predictions.extend(torch.argmax(outputs, dim=1).cpu().numpy())\n",
    "            targets.extend(labels.cpu().numpy())\n",
    "\n",
    "    accuracy = accuracy_score(targets, predictions)\n",
    "    accuracies_cso.append(accuracy)\n",
    "\n",
    "    end_time = time.time()\n",
    "    epoch_time = end_time - start_time\n",
    "    times_cso.append(epoch_time)\n",
    "\n",
    "    print(f\"Avg loss = {avg_loss:.4f} --- Time = {epoch_time:.2f}s --- Accuracy = {accuracy:.2f}%\")\n",
    "\n",
    "    return accuracy"
   ]
  },
  {
   "cell_type": "code",
   "execution_count": 130,
   "metadata": {},
   "outputs": [],
   "source": [
    "model3 = Multiclass()\n",
    "optimizer = torch.optim.Adam(model3.parameters(), lr=0.001)"
   ]
  },
  {
   "cell_type": "code",
   "execution_count": 131,
   "metadata": {},
   "outputs": [],
   "source": [
    "def evaluate_fitness(model, data, criterion, population):\n",
    "    # Evaluate the fitness (performance metric) of each crow (solution)\n",
    "    fitness_values = []\n",
    "    for crow_position in population:\n",
    "        # Update model parameters\n",
    "        # print(model)\n",
    "        update_model_parameters(model, crow_position)\n",
    "\n",
    "        # Train the model and evaluate performance\n",
    "        # Calculate accuracy or other performance metric\n",
    "        accuracy = train_and_evaluate(model, data, criterion,optimizer)\n",
    "\n",
    "        fitness_values.append(accuracy)  # Or any other performance metric\n",
    "\n",
    "    return np.array(fitness_values)"
   ]
  },
  {
   "cell_type": "code",
   "execution_count": 132,
   "metadata": {},
   "outputs": [],
   "source": [
    "def evaluate_fitness(model, train_loader, test_loader, criterion, population):\n",
    "    fitness_values = []\n",
    "    for crow_position in population:\n",
    "        update_model_parameters(model, crow_position)\n",
    "        accuracy = train_and_evaluate(model, train_loader, test_loader, criterion, optimizer)\n",
    "        fitness_values.append(accuracy)\n",
    "    return np.array(fitness_values)"
   ]
  },
  {
   "cell_type": "code",
   "execution_count": 133,
   "metadata": {},
   "outputs": [],
   "source": [
    "def cso_optimization(population_size, max_iterations, model, data, criterion):\n",
    "    # Initialize population randomly or using some strategy\n",
    "    population = initialize_population(population_size)\n",
    "\n",
    "    # Main optimization loop\n",
    "    for iteration in range(max_iterations):\n",
    "        # Evaluate fitness of each crow (solution)\n",
    "        # print(population[1].shape)\n",
    "        fitness_values = evaluate_fitness(model, data, criterion, population)\n",
    "\n",
    "        # Update global best position\n",
    "        global_best_index = np.argmax(fitness_values)\n",
    "        global_best_position = population[global_best_index]\n",
    "        # print(global_best_position)\n",
    "\n",
    "        # Update crow positions\n",
    "        population = update_positions(population, global_best_position)\n",
    "\n",
    "        # Update model parameters based on best solution found\n",
    "        update_model_parameters(model, global_best_position)"
   ]
  },
  {
   "cell_type": "code",
   "execution_count": 134,
   "metadata": {},
   "outputs": [],
   "source": [
    "def cso_optimization(population_size, max_iterations, model, train_loader, test_loader, criterion):\n",
    "    population = initialize_population(population_size)\n",
    "    for iteration in range(max_iterations):\n",
    "        fitness_values = evaluate_fitness(model, train_loader, test_loader, criterion, population)\n",
    "        global_best_index = np.argmax(fitness_values)\n",
    "        global_best_position = population[global_best_index]\n",
    "        population = update_positions(population, global_best_position)\n",
    "        update_model_parameters(model, global_best_position)"
   ]
  },
  {
   "cell_type": "code",
   "execution_count": 135,
   "metadata": {},
   "outputs": [
    {
     "data": {
      "text/plain": [
       "category\n",
       "0    576778\n",
       "1     91638\n",
       "Name: count, dtype: int64"
      ]
     },
     "execution_count": 135,
     "metadata": {},
     "output_type": "execute_result"
    }
   ],
   "source": [
    "y.value_counts()"
   ]
  },
  {
   "cell_type": "code",
   "execution_count": 136,
   "metadata": {},
   "outputs": [
    {
     "name": "stdout",
     "output_type": "stream",
     "text": [
      "prarm_idx: 0, numel: 45\n",
      "prarm_idx: 15, numel: 15\n",
      "prarm_idx: 30, numel: 15\n",
      "Avg loss = 0.0302 --- Time = 118.19s --- Accuracy = 1.00%\n",
      "prarm_idx: 0, numel: 45\n",
      "prarm_idx: 15, numel: 15\n",
      "prarm_idx: 30, numel: 15\n",
      "Avg loss = 0.0328 --- Time = 124.25s --- Accuracy = 1.00%\n",
      "prarm_idx: 0, numel: 45\n",
      "prarm_idx: 15, numel: 15\n",
      "prarm_idx: 30, numel: 15\n",
      "Avg loss = 0.0305 --- Time = 125.22s --- Accuracy = 1.00%\n",
      "prarm_idx: 0, numel: 45\n",
      "prarm_idx: 15, numel: 15\n",
      "prarm_idx: 30, numel: 15\n",
      "Avg loss = 0.0312 --- Time = 123.06s --- Accuracy = 1.00%\n",
      "prarm_idx: 0, numel: 45\n",
      "prarm_idx: 15, numel: 15\n",
      "prarm_idx: 30, numel: 15\n",
      "Avg loss = 0.0190 --- Time = 121.37s --- Accuracy = 1.00%\n",
      "prarm_idx: 0, numel: 45\n",
      "prarm_idx: 15, numel: 15\n",
      "prarm_idx: 30, numel: 15\n",
      "Avg loss = 0.0202 --- Time = 115.53s --- Accuracy = 0.99%\n",
      "prarm_idx: 0, numel: 45\n",
      "prarm_idx: 15, numel: 15\n",
      "prarm_idx: 30, numel: 15\n",
      "Avg loss = 0.0196 --- Time = 123.60s --- Accuracy = 1.00%\n",
      "prarm_idx: 0, numel: 45\n",
      "prarm_idx: 15, numel: 15\n",
      "prarm_idx: 30, numel: 15\n",
      "Avg loss = 0.0292 --- Time = 116.22s --- Accuracy = 1.00%\n",
      "prarm_idx: 0, numel: 45\n",
      "prarm_idx: 15, numel: 15\n",
      "prarm_idx: 30, numel: 15\n",
      "Avg loss = 0.0259 --- Time = 113.52s --- Accuracy = 1.00%\n",
      "prarm_idx: 0, numel: 45\n",
      "prarm_idx: 15, numel: 15\n",
      "prarm_idx: 30, numel: 15\n",
      "Avg loss = 0.0391 --- Time = 112.15s --- Accuracy = 1.00%\n",
      "prarm_idx: 0, numel: 45\n",
      "prarm_idx: 15, numel: 15\n",
      "prarm_idx: 30, numel: 15\n"
     ]
    }
   ],
   "source": [
    "X_tensor = torch.tensor(X.values, dtype=torch.float32)\n",
    "y_tensor = torch.tensor(y.values, dtype=torch.long)\n",
    "dataset = TensorDataset(X_tensor, y_tensor)\n",
    "\n",
    "# Split dataset into training and testing sets\n",
    "train_size = int(0.8 * len(dataset))\n",
    "test_size = len(dataset) - train_size\n",
    "train_dataset, test_dataset = random_split(dataset, [train_size, test_size])\n",
    "\n",
    "train_loader = DataLoader(train_dataset, batch_size=128, shuffle=True)\n",
    "test_loader = DataLoader(test_dataset, batch_size=128, shuffle=False)\n",
    "\n",
    "criterion = nn.CrossEntropyLoss()\n",
    "\n",
    "# Perform CSO optimization\n",
    "cso_optimization(population_size=10, max_iterations=1, model=model3, train_loader=train_loader, test_loader=test_loader, criterion=criterion)"
   ]
  },
  {
   "cell_type": "code",
   "execution_count": 140,
   "metadata": {},
   "outputs": [],
   "source": [
    "losses = losses[:10]\n",
    "accuracies = accuracies[:10]\n",
    "times = times[:10]"
   ]
  },
  {
   "cell_type": "code",
   "execution_count": 141,
   "metadata": {},
   "outputs": [],
   "source": [
    "epochs = range(1, len(accuracies) + 1)"
   ]
  },
  {
   "cell_type": "code",
   "execution_count": 145,
   "metadata": {},
   "outputs": [],
   "source": [
    "accuracies_cso = [i*100 for i in accuracies_cso]"
   ]
  },
  {
   "cell_type": "code",
   "execution_count": 151,
   "metadata": {},
   "outputs": [
    {
     "data": {
      "image/png": "[encoded data removed]",
      "text/plain": [
       "<Figure size 1200x600 with 1 Axes>"
      ]
     },
     "metadata": {},
     "output_type": "display_data"
    }
   ],
   "source": [
    "plt.figure(figsize=(12, 6))\n",
    "plt.plot(epochs, accuracies, label='Crow Search Optimization', marker='o')\n",
    "plt.plot(epochs, accuracies_cso, label='Adam Optimizer', marker='o')\n",
    "plt.xlabel('Epoch')\n",
    "plt.ylabel('Accuracy')\n",
    "plt.title('Accuracy per Epoch')\n",
    "plt.legend()\n",
    "plt.grid(True)\n",
    "plt.show()"
   ]
  },
  {
   "cell_type": "code",
   "execution_count": 153,
   "metadata": {},
   "outputs": [
    {
     "data": {
      "image/png": "[encoded data removed]",
      "text/plain": [
       "<Figure size 1200x600 with 1 Axes>"
      ]
     },
     "metadata": {},
     "output_type": "display_data"
    }
   ],
   "source": [
    "plt.figure(figsize=(12, 6))\n",
    "plt.plot(epochs, times, label='Crow Search Optimization', marker='o')\n",
    "plt.plot(epochs, times_cso, label='Adam Optimizer', marker='o')\n",
    "plt.xlabel('Epoch')\n",
    "plt.ylabel('Time (seconds)')\n",
    "plt.title('Time per Epoch')\n",
    "plt.legend()\n",
    "plt.grid(True)\n",
    "plt.show()"
   ]
  },
  {
   "cell_type": "code",
   "execution_count": 154,
   "metadata": {},
   "outputs": [
    {
     "data": {
      "text/plain": [
       "[99.10908642086129,\n",
       " 99.57679734895237,\n",
       " 99.62504581734402,\n",
       " 99.6721722283312,\n",
       " 99.72902313682368,\n",
       " 99.80569705946156,\n",
       " 99.82533306403955,\n",
       " 99.87919181945348,\n",
       " 99.88611117344763,\n",
       " 99.93080646005849]"
      ]
     },
     "execution_count": 154,
     "metadata": {},
     "output_type": "execute_result"
    }
   ],
   "source": [
    "accuracies"
   ]
  },
  {
   "cell_type": "code",
   "execution_count": 138,
   "metadata": {},
   "outputs": [
    {
     "data": {
      "text/plain": [
       "([118.18854665756226,\n",
       "  124.25189757347107,\n",
       "  125.22058033943176,\n",
       "  123.06470561027527,\n",
       "  121.37195992469788,\n",
       "  115.52838063240051,\n",
       "  123.59891271591187,\n",
       "  116.21579313278198,\n",
       "  113.52357792854309,\n",
       "  112.15270590782166],\n",
       " [0.02542378989884999,\n",
       "  0.030207861494420625,\n",
       "  0.03281625653371777,\n",
       "  0.030459842619355835,\n",
       "  0.031158236558190496,\n",
       "  0.018996780138631524,\n",
       "  0.02019757924035325,\n",
       "  0.019567149784704353,\n",
       "  0.02915697485995276,\n",
       "  0.025934357296824043,\n",
       "  0.03912828719175726],\n",
       " [0.9955940875497442,\n",
       "  0.996805900481733,\n",
       "  0.9956240088567069,\n",
       "  0.9964468447981808,\n",
       "  0.9972547200861733,\n",
       "  0.9949956614104905,\n",
       "  0.9973070823733581,\n",
       "  0.9952425121929326,\n",
       "  0.9961700727087759,\n",
       "  0.996192513688998])"
      ]
     },
     "execution_count": 138,
     "metadata": {},
     "output_type": "execute_result"
    }
   ],
   "source": [
    "times_cso, losses_cso, accuracies_cso"
   ]
  },
  {
   "cell_type": "code",
   "execution_count": 157,
   "metadata": {},
   "outputs": [],
   "source": [
    "from sklearn.model_selection import train_test_split as tts\n",
    "\n",
    "Xtrain, Xtest, ytrain, ytest = tts(X, y, train_size=0.8, random_state=42)"
   ]
  },
  {
   "cell_type": "code",
   "execution_count": 158,
   "metadata": {},
   "outputs": [],
   "source": [
    "from sklearn.linear_model import LogisticRegression\n",
    "\n",
    "lr_model = LogisticRegression(max_iter=1000)\n",
    "lr_model.fit(Xtrain, ytrain)"
   ]
  },
  {
   "cell_type": "code",
   "execution_count": null,
   "metadata": {},
   "outputs": [],
   "source": [
    "y_pred = lr_model.predict(Xtest)\n",
    "accuracy = accuracy_score(ytest, y_pred)\n",
    "accuracy"
   ]
  },
  {
   "cell_type": "code",
   "execution_count": null,
   "metadata": {},
   "outputs": [],
   "source": [
    "from sklearn.ensemble import RandomForestClassifier\n",
    "\n",
    "rf_model = RandomForestClassifier(n_estimators=100, random_state=42)\n",
    "rf_model.fit(Xtrain, ytrain)\n",
    "y_pred = rf_model.predict(Xtest)\n",
    "accuracy = accuracy_score(ytest, y_pred)"
   ]
  },
  {
   "cell_type": "code",
   "execution_count": null,
   "metadata": {},
   "outputs": [],
   "source": [
    "from sklearn.svm import SVC\n",
    "\n",
    "svm_model = SVC()\n",
    "svm_model.fit(Xtrain, ytrain)\n",
    "y_pred = svm_model.predict(Xtest)\n",
    "accuracy = accuracy_score(ytest, y_pred)\n",
    "accuracy"
   ]
  },
  {
   "cell_type": "code",
   "execution_count": null,
   "metadata": {},
   "outputs": [
    {
     "ename": "KeyboardInterrupt",
     "evalue": "",
     "output_type": "error",
     "traceback": [
      "\u001b[1;31m---------------------------------------------------------------------------\u001b[0m",
      "\u001b[1;31mKeyboardInterrupt\u001b[0m                         Traceback (most recent call last)",
      "Cell \u001b[1;32mIn [92], line 5\u001b[0m\n\u001b[0;32m      2\u001b[0m targ \u001b[38;5;241m=\u001b[39m []\n\u001b[0;32m      3\u001b[0m ip \u001b[38;5;241m=\u001b[39m []\n\u001b[1;32m----> 5\u001b[0m \u001b[38;5;28;01mfor\u001b[39;00m inputs, labels \u001b[38;5;129;01min\u001b[39;00m test_loader:\n\u001b[0;32m      6\u001b[0m         inputs \u001b[38;5;241m=\u001b[39m inputs\u001b[38;5;241m.\u001b[39munsqueeze(\u001b[38;5;241m-\u001b[39m\u001b[38;5;241m1\u001b[39m)\u001b[38;5;241m.\u001b[39mpermute(\u001b[38;5;241m0\u001b[39m, \u001b[38;5;241m2\u001b[39m, \u001b[38;5;241m1\u001b[39m)\n\u001b[0;32m      7\u001b[0m         outputs \u001b[38;5;241m=\u001b[39m model3(inputs)\n",
      "File \u001b[1;32md:\\Python\\lib\\site-packages\\torch\\utils\\data\\dataloader.py:631\u001b[0m, in \u001b[0;36m_BaseDataLoaderIter.__next__\u001b[1;34m(self)\u001b[0m\n\u001b[0;32m    628\u001b[0m \u001b[38;5;28;01mif\u001b[39;00m \u001b[38;5;28mself\u001b[39m\u001b[38;5;241m.\u001b[39m_sampler_iter \u001b[38;5;129;01mis\u001b[39;00m \u001b[38;5;28;01mNone\u001b[39;00m:\n\u001b[0;32m    629\u001b[0m     \u001b[38;5;66;03m# TODO(https://github.com/pytorch/pytorch/issues/76750)\u001b[39;00m\n\u001b[0;32m    630\u001b[0m     \u001b[38;5;28mself\u001b[39m\u001b[38;5;241m.\u001b[39m_reset()  \u001b[38;5;66;03m# type: ignore[call-arg]\u001b[39;00m\n\u001b[1;32m--> 631\u001b[0m data \u001b[38;5;241m=\u001b[39m \u001b[38;5;28;43mself\u001b[39;49m\u001b[38;5;241;43m.\u001b[39;49m\u001b[43m_next_data\u001b[49m\u001b[43m(\u001b[49m\u001b[43m)\u001b[49m\n\u001b[0;32m    632\u001b[0m \u001b[38;5;28mself\u001b[39m\u001b[38;5;241m.\u001b[39m_num_yielded \u001b[38;5;241m+\u001b[39m\u001b[38;5;241m=\u001b[39m \u001b[38;5;241m1\u001b[39m\n\u001b[0;32m    633\u001b[0m \u001b[38;5;28;01mif\u001b[39;00m \u001b[38;5;28mself\u001b[39m\u001b[38;5;241m.\u001b[39m_dataset_kind \u001b[38;5;241m==\u001b[39m _DatasetKind\u001b[38;5;241m.\u001b[39mIterable \u001b[38;5;129;01mand\u001b[39;00m \\\n\u001b[0;32m    634\u001b[0m         \u001b[38;5;28mself\u001b[39m\u001b[38;5;241m.\u001b[39m_IterableDataset_len_called \u001b[38;5;129;01mis\u001b[39;00m \u001b[38;5;129;01mnot\u001b[39;00m \u001b[38;5;28;01mNone\u001b[39;00m \u001b[38;5;129;01mand\u001b[39;00m \\\n\u001b[0;32m    635\u001b[0m         \u001b[38;5;28mself\u001b[39m\u001b[38;5;241m.\u001b[39m_num_yielded \u001b[38;5;241m>\u001b[39m \u001b[38;5;28mself\u001b[39m\u001b[38;5;241m.\u001b[39m_IterableDataset_len_called:\n",
      "File \u001b[1;32md:\\Python\\lib\\site-packages\\torch\\utils\\data\\dataloader.py:675\u001b[0m, in \u001b[0;36m_SingleProcessDataLoaderIter._next_data\u001b[1;34m(self)\u001b[0m\n\u001b[0;32m    673\u001b[0m \u001b[38;5;28;01mdef\u001b[39;00m \u001b[38;5;21m_next_data\u001b[39m(\u001b[38;5;28mself\u001b[39m):\n\u001b[0;32m    674\u001b[0m     index \u001b[38;5;241m=\u001b[39m \u001b[38;5;28mself\u001b[39m\u001b[38;5;241m.\u001b[39m_next_index()  \u001b[38;5;66;03m# may raise StopIteration\u001b[39;00m\n\u001b[1;32m--> 675\u001b[0m     data \u001b[38;5;241m=\u001b[39m \u001b[38;5;28;43mself\u001b[39;49m\u001b[38;5;241;43m.\u001b[39;49m\u001b[43m_dataset_fetcher\u001b[49m\u001b[38;5;241;43m.\u001b[39;49m\u001b[43mfetch\u001b[49m\u001b[43m(\u001b[49m\u001b[43mindex\u001b[49m\u001b[43m)\u001b[49m  \u001b[38;5;66;03m# may raise StopIteration\u001b[39;00m\n\u001b[0;32m    676\u001b[0m     \u001b[38;5;28;01mif\u001b[39;00m \u001b[38;5;28mself\u001b[39m\u001b[38;5;241m.\u001b[39m_pin_memory:\n\u001b[0;32m    677\u001b[0m         data \u001b[38;5;241m=\u001b[39m _utils\u001b[38;5;241m.\u001b[39mpin_memory\u001b[38;5;241m.\u001b[39mpin_memory(data, \u001b[38;5;28mself\u001b[39m\u001b[38;5;241m.\u001b[39m_pin_memory_device)\n",
      "File \u001b[1;32md:\\Python\\lib\\site-packages\\torch\\utils\\data\\_utils\\fetch.py:54\u001b[0m, in \u001b[0;36m_MapDatasetFetcher.fetch\u001b[1;34m(self, possibly_batched_index)\u001b[0m\n\u001b[0;32m     52\u001b[0m \u001b[38;5;28;01melse\u001b[39;00m:\n\u001b[0;32m     53\u001b[0m     data \u001b[38;5;241m=\u001b[39m \u001b[38;5;28mself\u001b[39m\u001b[38;5;241m.\u001b[39mdataset[possibly_batched_index]\n\u001b[1;32m---> 54\u001b[0m \u001b[38;5;28;01mreturn\u001b[39;00m \u001b[38;5;28;43mself\u001b[39;49m\u001b[38;5;241;43m.\u001b[39;49m\u001b[43mcollate_fn\u001b[49m\u001b[43m(\u001b[49m\u001b[43mdata\u001b[49m\u001b[43m)\u001b[49m\n",
      "File \u001b[1;32md:\\Python\\lib\\site-packages\\torch\\utils\\data\\_utils\\collate.py:316\u001b[0m, in \u001b[0;36mdefault_collate\u001b[1;34m(batch)\u001b[0m\n\u001b[0;32m    255\u001b[0m \u001b[38;5;28;01mdef\u001b[39;00m \u001b[38;5;21mdefault_collate\u001b[39m(batch):\n\u001b[0;32m    256\u001b[0m     \u001b[38;5;124mr\u001b[39m\u001b[38;5;124;03m\"\"\"\u001b[39;00m\n\u001b[0;32m    257\u001b[0m \u001b[38;5;124;03m    Take in a batch of data and put the elements within the batch into a tensor with an additional outer dimension - batch size.\u001b[39;00m\n\u001b[0;32m    258\u001b[0m \n\u001b[1;32m   (...)\u001b[0m\n\u001b[0;32m    314\u001b[0m \u001b[38;5;124;03m        >>> default_collate(batch)  # Handle `CustomType` automatically\u001b[39;00m\n\u001b[0;32m    315\u001b[0m \u001b[38;5;124;03m    \"\"\"\u001b[39;00m\n\u001b[1;32m--> 316\u001b[0m     \u001b[38;5;28;01mreturn\u001b[39;00m \u001b[43mcollate\u001b[49m\u001b[43m(\u001b[49m\u001b[43mbatch\u001b[49m\u001b[43m,\u001b[49m\u001b[43m \u001b[49m\u001b[43mcollate_fn_map\u001b[49m\u001b[38;5;241;43m=\u001b[39;49m\u001b[43mdefault_collate_fn_map\u001b[49m\u001b[43m)\u001b[49m\n",
      "File \u001b[1;32md:\\Python\\lib\\site-packages\\torch\\utils\\data\\_utils\\collate.py:173\u001b[0m, in \u001b[0;36mcollate\u001b[1;34m(batch, collate_fn_map)\u001b[0m\n\u001b[0;32m    170\u001b[0m transposed \u001b[38;5;241m=\u001b[39m \u001b[38;5;28mlist\u001b[39m(\u001b[38;5;28mzip\u001b[39m(\u001b[38;5;241m*\u001b[39mbatch))  \u001b[38;5;66;03m# It may be accessed twice, so we use a list.\u001b[39;00m\n\u001b[0;32m    172\u001b[0m \u001b[38;5;28;01mif\u001b[39;00m \u001b[38;5;28misinstance\u001b[39m(elem, \u001b[38;5;28mtuple\u001b[39m):\n\u001b[1;32m--> 173\u001b[0m     \u001b[38;5;28;01mreturn\u001b[39;00m [collate(samples, collate_fn_map\u001b[38;5;241m=\u001b[39mcollate_fn_map) \u001b[38;5;28;01mfor\u001b[39;00m samples \u001b[38;5;129;01min\u001b[39;00m transposed]  \u001b[38;5;66;03m# Backwards compatibility.\u001b[39;00m\n\u001b[0;32m    174\u001b[0m \u001b[38;5;28;01melse\u001b[39;00m:\n\u001b[0;32m    175\u001b[0m     \u001b[38;5;28;01mtry\u001b[39;00m:\n",
      "File \u001b[1;32md:\\Python\\lib\\site-packages\\torch\\utils\\data\\_utils\\collate.py:173\u001b[0m, in \u001b[0;36m<listcomp>\u001b[1;34m(.0)\u001b[0m\n\u001b[0;32m    170\u001b[0m transposed \u001b[38;5;241m=\u001b[39m \u001b[38;5;28mlist\u001b[39m(\u001b[38;5;28mzip\u001b[39m(\u001b[38;5;241m*\u001b[39mbatch))  \u001b[38;5;66;03m# It may be accessed twice, so we use a list.\u001b[39;00m\n\u001b[0;32m    172\u001b[0m \u001b[38;5;28;01mif\u001b[39;00m \u001b[38;5;28misinstance\u001b[39m(elem, \u001b[38;5;28mtuple\u001b[39m):\n\u001b[1;32m--> 173\u001b[0m     \u001b[38;5;28;01mreturn\u001b[39;00m [\u001b[43mcollate\u001b[49m\u001b[43m(\u001b[49m\u001b[43msamples\u001b[49m\u001b[43m,\u001b[49m\u001b[43m \u001b[49m\u001b[43mcollate_fn_map\u001b[49m\u001b[38;5;241;43m=\u001b[39;49m\u001b[43mcollate_fn_map\u001b[49m\u001b[43m)\u001b[49m \u001b[38;5;28;01mfor\u001b[39;00m samples \u001b[38;5;129;01min\u001b[39;00m transposed]  \u001b[38;5;66;03m# Backwards compatibility.\u001b[39;00m\n\u001b[0;32m    174\u001b[0m \u001b[38;5;28;01melse\u001b[39;00m:\n\u001b[0;32m    175\u001b[0m     \u001b[38;5;28;01mtry\u001b[39;00m:\n",
      "File \u001b[1;32md:\\Python\\lib\\site-packages\\torch\\utils\\data\\_utils\\collate.py:141\u001b[0m, in \u001b[0;36mcollate\u001b[1;34m(batch, collate_fn_map)\u001b[0m\n\u001b[0;32m    139\u001b[0m \u001b[38;5;28;01mif\u001b[39;00m collate_fn_map \u001b[38;5;129;01mis\u001b[39;00m \u001b[38;5;129;01mnot\u001b[39;00m \u001b[38;5;28;01mNone\u001b[39;00m:\n\u001b[0;32m    140\u001b[0m     \u001b[38;5;28;01mif\u001b[39;00m elem_type \u001b[38;5;129;01min\u001b[39;00m collate_fn_map:\n\u001b[1;32m--> 141\u001b[0m         \u001b[38;5;28;01mreturn\u001b[39;00m \u001b[43mcollate_fn_map\u001b[49m\u001b[43m[\u001b[49m\u001b[43melem_type\u001b[49m\u001b[43m]\u001b[49m\u001b[43m(\u001b[49m\u001b[43mbatch\u001b[49m\u001b[43m,\u001b[49m\u001b[43m \u001b[49m\u001b[43mcollate_fn_map\u001b[49m\u001b[38;5;241;43m=\u001b[39;49m\u001b[43mcollate_fn_map\u001b[49m\u001b[43m)\u001b[49m\n\u001b[0;32m    143\u001b[0m     \u001b[38;5;28;01mfor\u001b[39;00m collate_type \u001b[38;5;129;01min\u001b[39;00m collate_fn_map:\n\u001b[0;32m    144\u001b[0m         \u001b[38;5;28;01mif\u001b[39;00m \u001b[38;5;28misinstance\u001b[39m(elem, collate_type):\n",
      "File \u001b[1;32md:\\Python\\lib\\site-packages\\torch\\utils\\data\\_utils\\collate.py:213\u001b[0m, in \u001b[0;36mcollate_tensor_fn\u001b[1;34m(batch, collate_fn_map)\u001b[0m\n\u001b[0;32m    211\u001b[0m     storage \u001b[38;5;241m=\u001b[39m elem\u001b[38;5;241m.\u001b[39m_typed_storage()\u001b[38;5;241m.\u001b[39m_new_shared(numel, device\u001b[38;5;241m=\u001b[39melem\u001b[38;5;241m.\u001b[39mdevice)\n\u001b[0;32m    212\u001b[0m     out \u001b[38;5;241m=\u001b[39m elem\u001b[38;5;241m.\u001b[39mnew(storage)\u001b[38;5;241m.\u001b[39mresize_(\u001b[38;5;28mlen\u001b[39m(batch), \u001b[38;5;241m*\u001b[39m\u001b[38;5;28mlist\u001b[39m(elem\u001b[38;5;241m.\u001b[39msize()))\n\u001b[1;32m--> 213\u001b[0m \u001b[38;5;28;01mreturn\u001b[39;00m \u001b[43mtorch\u001b[49m\u001b[38;5;241;43m.\u001b[39;49m\u001b[43mstack\u001b[49m\u001b[43m(\u001b[49m\u001b[43mbatch\u001b[49m\u001b[43m,\u001b[49m\u001b[43m \u001b[49m\u001b[38;5;241;43m0\u001b[39;49m\u001b[43m,\u001b[49m\u001b[43m \u001b[49m\u001b[43mout\u001b[49m\u001b[38;5;241;43m=\u001b[39;49m\u001b[43mout\u001b[49m\u001b[43m)\u001b[49m\n",
      "\u001b[1;31mKeyboardInterrupt\u001b[0m: "
     ]
    }
   ],
   "source": [
    "p = []\n",
    "targ = []\n",
    "ip = []\n",
    "\n",
    "for inputs, labels in test_loader:\n",
    "        inputs = inputs.unsqueeze(-1).permute(0, 2, 1)\n",
    "        outputs = model3(inputs)\n",
    "\n",
    "        ip.extend(inputs)\n",
    "        p.extend(torch.argmax(outputs, dim=1).cpu().numpy())\n",
    "        targ.extend(labels.cpu().numpy())"
   ]
  },
  {
   "cell_type": "code",
   "execution_count": 174,
   "metadata": {},
   "outputs": [
    {
     "data": {
      "text/html": [
       "<div>\n",
       "<style scoped>\n",
       "    .dataframe tbody tr th:only-of-type {\n",
       "        vertical-align: middle;\n",
       "    }\n",
       "\n",
       "    .dataframe tbody tr th {\n",
       "        vertical-align: top;\n",
       "    }\n",
       "\n",
       "    .dataframe thead th {\n",
       "        text-align: right;\n",
       "    }\n",
       "</style>\n",
       "<table border=\"1\" class=\"dataframe\">\n",
       "  <thead>\n",
       "    <tr style=\"text-align: right;\">\n",
       "      <th></th>\n",
       "      <th>stime</th>\n",
       "      <th>proto_number</th>\n",
       "      <th>saddr</th>\n",
       "      <th>daddr</th>\n",
       "      <th>pkts</th>\n",
       "      <th>bytes</th>\n",
       "      <th>ltime</th>\n",
       "      <th>seq</th>\n",
       "      <th>dur</th>\n",
       "      <th>mean</th>\n",
       "      <th>...</th>\n",
       "      <th>state_CON</th>\n",
       "      <th>state_ECO</th>\n",
       "      <th>state_FIN</th>\n",
       "      <th>state_INT</th>\n",
       "      <th>state_MAS</th>\n",
       "      <th>state_NRS</th>\n",
       "      <th>state_REQ</th>\n",
       "      <th>state_RST</th>\n",
       "      <th>state_TST</th>\n",
       "      <th>state_URP</th>\n",
       "    </tr>\n",
       "  </thead>\n",
       "  <tbody>\n",
       "    <tr>\n",
       "      <th>0</th>\n",
       "      <td>0.394231</td>\n",
       "      <td>3</td>\n",
       "      <td>-0.003309</td>\n",
       "      <td>-0.12099</td>\n",
       "      <td>0.015126</td>\n",
       "      <td>-0.004334</td>\n",
       "      <td>0.394231</td>\n",
       "      <td>109223</td>\n",
       "      <td>0.004998</td>\n",
       "      <td>0.770506</td>\n",
       "      <td>...</td>\n",
       "      <td>0</td>\n",
       "      <td>0</td>\n",
       "      <td>0</td>\n",
       "      <td>1</td>\n",
       "      <td>0</td>\n",
       "      <td>0</td>\n",
       "      <td>0</td>\n",
       "      <td>0</td>\n",
       "      <td>0</td>\n",
       "      <td>0</td>\n",
       "    </tr>\n",
       "  </tbody>\n",
       "</table>\n",
       "<p>1 rows × 46 columns</p>\n",
       "</div>"
      ],
      "text/plain": [
       "      stime  proto_number     saddr    daddr      pkts     bytes     ltime  \\\n",
       "0  0.394231             3 -0.003309 -0.12099  0.015126 -0.004334  0.394231   \n",
       "\n",
       "      seq       dur      mean  ...  state_CON  state_ECO  state_FIN  \\\n",
       "0  109223  0.004998  0.770506  ...          0          0          0   \n",
       "\n",
       "   state_INT  state_MAS  state_NRS  state_REQ  state_RST  state_TST  state_URP  \n",
       "0          1          0          0          0          0          0          0  \n",
       "\n",
       "[1 rows x 46 columns]"
      ]
     },
     "execution_count": 174,
     "metadata": {},
     "output_type": "execute_result"
    }
   ],
   "source": [
    "df.head(1)"
   ]
  },
  {
   "cell_type": "code",
   "execution_count": 190,
   "metadata": {},
   "outputs": [
    {
     "data": {
      "text/plain": [
       "0.3942297399044037"
      ]
     },
     "execution_count": 190,
     "metadata": {},
     "output_type": "execute_result"
    }
   ],
   "source": [
    "ip[1][0][6].item()"
   ]
  },
  {
   "cell_type": "code",
   "execution_count": 189,
   "metadata": {},
   "outputs": [
    {
     "data": {
      "text/plain": [
       "1527870246.274043"
      ]
     },
     "execution_count": 189,
     "metadata": {},
     "output_type": "execute_result"
    }
   ],
   "source": [
    "(ip[1][0][5].item() * s[5]) + m[5]"
   ]
  },
  {
   "cell_type": "code",
   "execution_count": 178,
   "metadata": {},
   "outputs": [
    {
     "data": {
      "text/plain": [
       "(2039.7210233919004, 262984.05756207026)"
      ]
     },
     "execution_count": 178,
     "metadata": {},
     "output_type": "execute_result"
    }
   ],
   "source": [
    "m[4], s[4]"
   ]
  },
  {
   "cell_type": "code",
   "execution_count": 177,
   "metadata": {},
   "outputs": [],
   "source": [
    "col_to_scale = ['stime','saddr','daddr', 'pkts', 'bytes', 'ltime', 'dur', \n",
    "                'mean', 'stddev', 'sum', 'min', 'max', 'spkts', 'dpkts',\n",
    "                'sbytes', 'dbytes', 'rate', 'srate', 'drate', 'TnBPSrcIP', 'TnBPDstIP',\n",
    "                'TnP_PSrcIP', 'TnP_PDstIP', 'TnP_PerProto', 'TnP_Per_Dport',\n",
    "                'Pkts_P_State_P_Protocol_P_DestIP', 'Pkts_P_State_P_Protocol_P_SrcIP']"
   ]
  },
  {
   "cell_type": "code",
   "execution_count": 155,
   "metadata": {},
   "outputs": [
    {
     "data": {
      "text/plain": [
       "35116"
      ]
     },
     "execution_count": 155,
     "metadata": {},
     "output_type": "execute_result"
    }
   ],
   "source": [
    "count_0 = 0\n",
    "l=[]\n",
    "count_1 = 1\n",
    "x = 0\n",
    "for i in range(len(p)):\n",
    "    if p[i] != targ[i]:\n",
    "        x+=1\n",
    "    elif p[i] == 0 and p[i] == targ[i]:\n",
    "        l.append(i)\n",
    "x"
   ]
  },
  {
   "cell_type": "code",
   "execution_count": 156,
   "metadata": {},
   "outputs": [
    {
     "data": {
      "text/plain": [
       "[1,\n",
       " 3,\n",
       " 6,\n",
       " 7,\n",
       " 11,\n",
       " 16,\n",
       " 17,\n",
       " 18,\n",
       " 19,\n",
       " 21,\n",
       " 22,\n",
       " 23,\n",
       " 26,\n",
       " 27,\n",
       " 28,\n",
       " 31,\n",
       " 33,\n",
       " 35,\n",
       " 36,\n",
       " 38,\n",
       " 43,\n",
       " 45,\n",
       " 46,\n",
       " 47,\n",
       " 48,\n",
       " 49,\n",
       " 51,\n",
       " 52,\n",
       " 53,\n",
       " 54,\n",
       " 55,\n",
       " 56,\n",
       " 57,\n",
       " 59,\n",
       " 62,\n",
       " 63,\n",
       " 64,\n",
       " 65,\n",
       " 66,\n",
       " 68,\n",
       " 69,\n",
       " 70,\n",
       " 72,\n",
       " 73,\n",
       " 77,\n",
       " 78,\n",
       " 79,\n",
       " 80,\n",
       " 82,\n",
       " 87,\n",
       " 89,\n",
       " 90,\n",
       " 95,\n",
       " 96,\n",
       " 100,\n",
       " 101,\n",
       " 105,\n",
       " 106,\n",
       " 108,\n",
       " 109,\n",
       " 116,\n",
       " 117,\n",
       " 118,\n",
       " 120,\n",
       " 122,\n",
       " 124,\n",
       " 125,\n",
       " 126,\n",
       " 128,\n",
       " 130,\n",
       " 135,\n",
       " 136,\n",
       " 138,\n",
       " 142,\n",
       " 143,\n",
       " 147,\n",
       " 148,\n",
       " 149,\n",
       " 150,\n",
       " 151,\n",
       " 154,\n",
       " 155,\n",
       " 156,\n",
       " 160,\n",
       " 162,\n",
       " 163,\n",
       " 164,\n",
       " 165,\n",
       " 166,\n",
       " 167,\n",
       " 168,\n",
       " 169,\n",
       " 171,\n",
       " 172,\n",
       " 173,\n",
       " 175,\n",
       " 176,\n",
       " 177,\n",
       " 178,\n",
       " 179,\n",
       " 181,\n",
       " 183,\n",
       " 185,\n",
       " 186,\n",
       " 187,\n",
       " 188,\n",
       " 190,\n",
       " 194,\n",
       " 197,\n",
       " 198,\n",
       " 199,\n",
       " 201,\n",
       " 202,\n",
       " 203,\n",
       " 204,\n",
       " 206,\n",
       " 208,\n",
       " 211,\n",
       " 212,\n",
       " 216,\n",
       " 217,\n",
       " 218,\n",
       " 220,\n",
       " 221,\n",
       " 222,\n",
       " 224,\n",
       " 225,\n",
       " 227,\n",
       " 228,\n",
       " 230,\n",
       " 231,\n",
       " 235,\n",
       " 237,\n",
       " 238,\n",
       " 242,\n",
       " 244,\n",
       " 246,\n",
       " 247,\n",
       " 248,\n",
       " 250,\n",
       " 252,\n",
       " 255,\n",
       " 258,\n",
       " 259,\n",
       " 260,\n",
       " 261,\n",
       " 264,\n",
       " 266,\n",
       " 267,\n",
       " 269,\n",
       " 270,\n",
       " 272,\n",
       " 274,\n",
       " 276,\n",
       " 278,\n",
       " 282,\n",
       " 284,\n",
       " 287,\n",
       " 290,\n",
       " 292,\n",
       " 295,\n",
       " 296,\n",
       " 297,\n",
       " 298,\n",
       " 299,\n",
       " 300,\n",
       " 301,\n",
       " 303,\n",
       " 304,\n",
       " 305,\n",
       " 307,\n",
       " 309,\n",
       " 311,\n",
       " 312,\n",
       " 313,\n",
       " 314,\n",
       " 316,\n",
       " 318,\n",
       " 319,\n",
       " 321,\n",
       " 322,\n",
       " 323,\n",
       " 324,\n",
       " 325,\n",
       " 327,\n",
       " 328,\n",
       " 329,\n",
       " 330,\n",
       " 332,\n",
       " 335,\n",
       " 336,\n",
       " 337,\n",
       " 338,\n",
       " 343,\n",
       " 346,\n",
       " 347,\n",
       " 348,\n",
       " 350,\n",
       " 352,\n",
       " 354,\n",
       " 355,\n",
       " 356,\n",
       " 360,\n",
       " 361,\n",
       " 362,\n",
       " 363,\n",
       " 364,\n",
       " 365,\n",
       " 366,\n",
       " 367,\n",
       " 368,\n",
       " 369,\n",
       " 370,\n",
       " 372,\n",
       " 373,\n",
       " 374,\n",
       " 377,\n",
       " 378,\n",
       " 379,\n",
       " 380,\n",
       " 381,\n",
       " 382,\n",
       " 384,\n",
       " 385,\n",
       " 386,\n",
       " 388,\n",
       " 389,\n",
       " 390,\n",
       " 391,\n",
       " 393,\n",
       " 395,\n",
       " 396,\n",
       " 397,\n",
       " 399,\n",
       " 400,\n",
       " 402,\n",
       " 404,\n",
       " 405,\n",
       " 410,\n",
       " 412,\n",
       " 413,\n",
       " 414,\n",
       " 415,\n",
       " 416,\n",
       " 417,\n",
       " 420,\n",
       " 421,\n",
       " 422,\n",
       " 429,\n",
       " 431,\n",
       " 433,\n",
       " 434,\n",
       " 435,\n",
       " 437,\n",
       " 438,\n",
       " 439,\n",
       " 440,\n",
       " 441,\n",
       " 442,\n",
       " 444,\n",
       " 448,\n",
       " 450,\n",
       " 451,\n",
       " 452,\n",
       " 453,\n",
       " 454,\n",
       " 455,\n",
       " 456,\n",
       " 457,\n",
       " 458,\n",
       " 460,\n",
       " 461,\n",
       " 463,\n",
       " 464,\n",
       " 465,\n",
       " 467,\n",
       " 468,\n",
       " 471,\n",
       " 473,\n",
       " 474,\n",
       " 477,\n",
       " 478,\n",
       " 481,\n",
       " 485,\n",
       " 486,\n",
       " 488,\n",
       " 492,\n",
       " 494,\n",
       " 497,\n",
       " 500,\n",
       " 501,\n",
       " 504,\n",
       " 505,\n",
       " 507,\n",
       " 509,\n",
       " 510,\n",
       " 512,\n",
       " 514,\n",
       " 516,\n",
       " 518,\n",
       " 519,\n",
       " 520,\n",
       " 524,\n",
       " 525,\n",
       " 527,\n",
       " 529,\n",
       " 530,\n",
       " 531,\n",
       " 532,\n",
       " 533,\n",
       " 534,\n",
       " 535,\n",
       " 538,\n",
       " 540,\n",
       " 541,\n",
       " 542,\n",
       " 544,\n",
       " 548,\n",
       " 551,\n",
       " 552,\n",
       " 554,\n",
       " 555,\n",
       " 556,\n",
       " 557,\n",
       " 558,\n",
       " 561,\n",
       " 567,\n",
       " 568,\n",
       " 571,\n",
       " 573,\n",
       " 574,\n",
       " 575,\n",
       " 576,\n",
       " 578,\n",
       " 580,\n",
       " 584,\n",
       " 585,\n",
       " 586,\n",
       " 590,\n",
       " 591,\n",
       " 592,\n",
       " 593,\n",
       " 595,\n",
       " 596,\n",
       " 598,\n",
       " 599,\n",
       " 600,\n",
       " 601,\n",
       " 602,\n",
       " 603,\n",
       " 604,\n",
       " 605,\n",
       " 606,\n",
       " 609,\n",
       " 612,\n",
       " 613,\n",
       " 615,\n",
       " 622,\n",
       " 623,\n",
       " 627,\n",
       " 628,\n",
       " 630,\n",
       " 631,\n",
       " 634,\n",
       " 637,\n",
       " 638,\n",
       " 642,\n",
       " 644,\n",
       " 646,\n",
       " 649,\n",
       " 653,\n",
       " 655,\n",
       " 657,\n",
       " 658,\n",
       " 661,\n",
       " 663,\n",
       " 664,\n",
       " 665,\n",
       " 666,\n",
       " 667,\n",
       " 670,\n",
       " 671,\n",
       " 672,\n",
       " 673,\n",
       " 674,\n",
       " 675,\n",
       " 677,\n",
       " 678,\n",
       " 679,\n",
       " 680,\n",
       " 681,\n",
       " 682,\n",
       " 683,\n",
       " 684,\n",
       " 685,\n",
       " 688,\n",
       " 692,\n",
       " 694,\n",
       " 695,\n",
       " 696,\n",
       " 697,\n",
       " 698,\n",
       " 699,\n",
       " 700,\n",
       " 701,\n",
       " 703,\n",
       " 704,\n",
       " 705,\n",
       " 706,\n",
       " 707,\n",
       " 710,\n",
       " 711,\n",
       " 715,\n",
       " 717,\n",
       " 718,\n",
       " 719,\n",
       " 722,\n",
       " 723,\n",
       " 724,\n",
       " 725,\n",
       " 727,\n",
       " 729,\n",
       " 732,\n",
       " 733,\n",
       " 734,\n",
       " 735,\n",
       " 736,\n",
       " 737,\n",
       " 739,\n",
       " 740,\n",
       " 745,\n",
       " 747,\n",
       " 749,\n",
       " 750,\n",
       " 751,\n",
       " 753,\n",
       " 754,\n",
       " 755,\n",
       " 757,\n",
       " 758,\n",
       " 759,\n",
       " 761,\n",
       " 762,\n",
       " 763,\n",
       " 764,\n",
       " 765,\n",
       " 766,\n",
       " 768,\n",
       " 770,\n",
       " 775,\n",
       " 776,\n",
       " 777,\n",
       " 778,\n",
       " 779,\n",
       " 780,\n",
       " 782,\n",
       " 787,\n",
       " 788,\n",
       " 791,\n",
       " 792,\n",
       " 793,\n",
       " 797,\n",
       " 798,\n",
       " 800,\n",
       " 802,\n",
       " 803,\n",
       " 805,\n",
       " 806,\n",
       " 807,\n",
       " 810,\n",
       " 811,\n",
       " 812,\n",
       " 815,\n",
       " 818,\n",
       " 821,\n",
       " 823,\n",
       " 824,\n",
       " 825,\n",
       " 826,\n",
       " 829,\n",
       " 832,\n",
       " 833,\n",
       " 834,\n",
       " 835,\n",
       " 836,\n",
       " 837,\n",
       " 838,\n",
       " 839,\n",
       " 840,\n",
       " 841,\n",
       " 843,\n",
       " 844,\n",
       " 845,\n",
       " 847,\n",
       " 849,\n",
       " 850,\n",
       " 851,\n",
       " 852,\n",
       " 855,\n",
       " 859,\n",
       " 860,\n",
       " 861,\n",
       " 863,\n",
       " 864,\n",
       " 866,\n",
       " 867,\n",
       " 868,\n",
       " 870,\n",
       " 871,\n",
       " 872,\n",
       " 874,\n",
       " 875,\n",
       " 876,\n",
       " 877,\n",
       " 879,\n",
       " 881,\n",
       " 882,\n",
       " 883,\n",
       " 884,\n",
       " 885,\n",
       " 887,\n",
       " 889,\n",
       " 890,\n",
       " 891,\n",
       " 894,\n",
       " 898,\n",
       " 903,\n",
       " 907,\n",
       " 908,\n",
       " 909,\n",
       " 910,\n",
       " 914,\n",
       " 916,\n",
       " 917,\n",
       " 919,\n",
       " 921,\n",
       " 922,\n",
       " 924,\n",
       " 926,\n",
       " 929,\n",
       " 930,\n",
       " 932,\n",
       " 933,\n",
       " 935,\n",
       " 937,\n",
       " 939,\n",
       " 942,\n",
       " 944,\n",
       " 946,\n",
       " 949,\n",
       " 950,\n",
       " 954,\n",
       " 955,\n",
       " 957,\n",
       " 960,\n",
       " 961,\n",
       " 962,\n",
       " 966,\n",
       " 967,\n",
       " 968,\n",
       " 970,\n",
       " 972,\n",
       " 973,\n",
       " 976,\n",
       " 977,\n",
       " 980,\n",
       " 981,\n",
       " 982,\n",
       " 983,\n",
       " 984,\n",
       " 985,\n",
       " 987,\n",
       " 988,\n",
       " 989,\n",
       " 990,\n",
       " 991,\n",
       " 992,\n",
       " 993,\n",
       " 999,\n",
       " 1001,\n",
       " 1002,\n",
       " 1003,\n",
       " 1006,\n",
       " 1007,\n",
       " 1008,\n",
       " 1010,\n",
       " 1011,\n",
       " 1013,\n",
       " 1014,\n",
       " 1016,\n",
       " 1017,\n",
       " 1020,\n",
       " 1021,\n",
       " 1022,\n",
       " 1026,\n",
       " 1027,\n",
       " 1028,\n",
       " 1030,\n",
       " 1032,\n",
       " 1033,\n",
       " 1034,\n",
       " 1035,\n",
       " 1042,\n",
       " 1043,\n",
       " 1044,\n",
       " 1045,\n",
       " 1046,\n",
       " 1047,\n",
       " 1049,\n",
       " 1050,\n",
       " 1051,\n",
       " 1052,\n",
       " 1053,\n",
       " 1055,\n",
       " 1056,\n",
       " 1057,\n",
       " 1058,\n",
       " 1059,\n",
       " 1060,\n",
       " 1061,\n",
       " 1065,\n",
       " 1066,\n",
       " 1067,\n",
       " 1070,\n",
       " 1071,\n",
       " 1072,\n",
       " 1073,\n",
       " 1074,\n",
       " 1077,\n",
       " 1080,\n",
       " 1082,\n",
       " 1083,\n",
       " 1084,\n",
       " 1086,\n",
       " 1087,\n",
       " 1089,\n",
       " 1091,\n",
       " 1092,\n",
       " 1093,\n",
       " 1095,\n",
       " 1097,\n",
       " 1099,\n",
       " 1100,\n",
       " 1101,\n",
       " 1105,\n",
       " 1107,\n",
       " 1108,\n",
       " 1113,\n",
       " 1114,\n",
       " 1115,\n",
       " 1117,\n",
       " 1118,\n",
       " 1124,\n",
       " 1127,\n",
       " 1129,\n",
       " 1132,\n",
       " 1133,\n",
       " 1134,\n",
       " 1135,\n",
       " 1136,\n",
       " 1140,\n",
       " 1142,\n",
       " 1144,\n",
       " 1145,\n",
       " 1147,\n",
       " 1148,\n",
       " 1152,\n",
       " 1154,\n",
       " 1155,\n",
       " 1158,\n",
       " 1160,\n",
       " 1163,\n",
       " 1164,\n",
       " 1165,\n",
       " 1166,\n",
       " 1169,\n",
       " 1171,\n",
       " 1174,\n",
       " 1175,\n",
       " 1176,\n",
       " 1178,\n",
       " 1180,\n",
       " 1181,\n",
       " 1182,\n",
       " 1183,\n",
       " 1184,\n",
       " 1186,\n",
       " 1187,\n",
       " 1188,\n",
       " 1189,\n",
       " 1190,\n",
       " 1191,\n",
       " 1193,\n",
       " 1194,\n",
       " 1195,\n",
       " 1197,\n",
       " 1198,\n",
       " 1199,\n",
       " 1200,\n",
       " 1202,\n",
       " 1204,\n",
       " 1207,\n",
       " 1208,\n",
       " 1211,\n",
       " 1212,\n",
       " 1214,\n",
       " 1217,\n",
       " 1220,\n",
       " 1221,\n",
       " 1223,\n",
       " 1226,\n",
       " 1227,\n",
       " 1228,\n",
       " 1229,\n",
       " 1230,\n",
       " 1232,\n",
       " 1235,\n",
       " 1236,\n",
       " 1237,\n",
       " 1239,\n",
       " 1242,\n",
       " 1243,\n",
       " 1244,\n",
       " 1245,\n",
       " 1247,\n",
       " 1248,\n",
       " 1249,\n",
       " 1250,\n",
       " 1251,\n",
       " 1253,\n",
       " 1254,\n",
       " 1256,\n",
       " 1257,\n",
       " 1259,\n",
       " 1261,\n",
       " 1262,\n",
       " 1265,\n",
       " 1266,\n",
       " 1267,\n",
       " 1268,\n",
       " 1270,\n",
       " 1272,\n",
       " 1278,\n",
       " 1279,\n",
       " 1281,\n",
       " 1285,\n",
       " 1286,\n",
       " 1287,\n",
       " 1288,\n",
       " 1289,\n",
       " 1290,\n",
       " 1291,\n",
       " 1293,\n",
       " 1294,\n",
       " 1295,\n",
       " 1296,\n",
       " 1299,\n",
       " 1300,\n",
       " 1301,\n",
       " 1302,\n",
       " 1303,\n",
       " 1305,\n",
       " 1306,\n",
       " 1307,\n",
       " 1310,\n",
       " 1312,\n",
       " 1317,\n",
       " 1318,\n",
       " 1319,\n",
       " 1322,\n",
       " 1324,\n",
       " 1325,\n",
       " 1327,\n",
       " 1328,\n",
       " 1329,\n",
       " 1331,\n",
       " 1332,\n",
       " 1333,\n",
       " 1338,\n",
       " 1339,\n",
       " 1340,\n",
       " 1345,\n",
       " 1349,\n",
       " 1352,\n",
       " 1357,\n",
       " 1358,\n",
       " 1359,\n",
       " 1361,\n",
       " 1365,\n",
       " 1366,\n",
       " 1370,\n",
       " 1371,\n",
       " 1375,\n",
       " 1376,\n",
       " 1377,\n",
       " 1378,\n",
       " 1379,\n",
       " 1382,\n",
       " 1383,\n",
       " 1385,\n",
       " 1387,\n",
       " 1388,\n",
       " 1389,\n",
       " 1393,\n",
       " 1394,\n",
       " 1396,\n",
       " 1397,\n",
       " 1399,\n",
       " 1403,\n",
       " 1405,\n",
       " 1409,\n",
       " 1411,\n",
       " 1412,\n",
       " 1413,\n",
       " 1415,\n",
       " 1416,\n",
       " 1417,\n",
       " 1418,\n",
       " 1419,\n",
       " 1420,\n",
       " 1422,\n",
       " 1427,\n",
       " 1429,\n",
       " 1431,\n",
       " 1432,\n",
       " 1433,\n",
       " 1434,\n",
       " 1435,\n",
       " 1437,\n",
       " 1439,\n",
       " 1441,\n",
       " 1444,\n",
       " 1448,\n",
       " 1450,\n",
       " 1451,\n",
       " 1452,\n",
       " 1453,\n",
       " 1456,\n",
       " 1457,\n",
       " 1458,\n",
       " 1459,\n",
       " 1460,\n",
       " 1462,\n",
       " 1463,\n",
       " 1465,\n",
       " 1467,\n",
       " 1468,\n",
       " 1469,\n",
       " 1470,\n",
       " 1471,\n",
       " 1473,\n",
       " 1475,\n",
       " 1476,\n",
       " 1477,\n",
       " 1478,\n",
       " 1479,\n",
       " 1480,\n",
       " 1481,\n",
       " 1486,\n",
       " 1489,\n",
       " 1490,\n",
       " 1491,\n",
       " 1492,\n",
       " 1493,\n",
       " 1494,\n",
       " 1497,\n",
       " 1498,\n",
       " 1499,\n",
       " 1500,\n",
       " 1501,\n",
       " 1502,\n",
       " 1503,\n",
       " 1504,\n",
       " 1509,\n",
       " 1510,\n",
       " 1512,\n",
       " 1513,\n",
       " 1514,\n",
       " 1515,\n",
       " 1518,\n",
       " 1520,\n",
       " 1524,\n",
       " 1525,\n",
       " 1526,\n",
       " 1527,\n",
       " 1530,\n",
       " 1532,\n",
       " 1534,\n",
       " 1535,\n",
       " 1537,\n",
       " 1538,\n",
       " 1539,\n",
       " 1540,\n",
       " 1541,\n",
       " 1542,\n",
       " 1543,\n",
       " 1544,\n",
       " 1545,\n",
       " 1546,\n",
       " 1547,\n",
       " 1548,\n",
       " 1549,\n",
       " 1550,\n",
       " 1551,\n",
       " 1552,\n",
       " 1553,\n",
       " 1554,\n",
       " 1557,\n",
       " 1559,\n",
       " 1562,\n",
       " 1563,\n",
       " 1565,\n",
       " 1566,\n",
       " 1567,\n",
       " 1568,\n",
       " 1569,\n",
       " 1571,\n",
       " 1572,\n",
       " 1575,\n",
       " 1576,\n",
       " 1578,\n",
       " 1581,\n",
       " 1582,\n",
       " 1583,\n",
       " 1584,\n",
       " 1586,\n",
       " 1587,\n",
       " 1592,\n",
       " 1593,\n",
       " 1594,\n",
       " 1596,\n",
       " 1597,\n",
       " 1598,\n",
       " 1599,\n",
       " 1601,\n",
       " 1603,\n",
       " 1604,\n",
       " 1606,\n",
       " 1607,\n",
       " 1608,\n",
       " 1609,\n",
       " 1610,\n",
       " 1611,\n",
       " 1612,\n",
       " 1615,\n",
       " 1616,\n",
       " 1617,\n",
       " 1620,\n",
       " 1621,\n",
       " 1622,\n",
       " 1623,\n",
       " 1624,\n",
       " 1625,\n",
       " 1626,\n",
       " 1627,\n",
       " 1628,\n",
       " 1630,\n",
       " 1631,\n",
       " 1634,\n",
       " 1640,\n",
       " 1642,\n",
       " 1643,\n",
       " 1644,\n",
       " 1645,\n",
       " 1647,\n",
       " 1649,\n",
       " 1651,\n",
       " 1652,\n",
       " 1653,\n",
       " 1654,\n",
       " 1656,\n",
       " 1658,\n",
       " 1659,\n",
       " 1660,\n",
       " 1664,\n",
       " 1666,\n",
       " 1667,\n",
       " 1669,\n",
       " 1671,\n",
       " 1672,\n",
       " 1673,\n",
       " 1675,\n",
       " 1677,\n",
       " 1683,\n",
       " 1685,\n",
       " 1686,\n",
       " 1687,\n",
       " 1690,\n",
       " 1691,\n",
       " 1692,\n",
       " 1693,\n",
       " 1694,\n",
       " 1695,\n",
       " 1696,\n",
       " 1699,\n",
       " 1700,\n",
       " 1702,\n",
       " 1704,\n",
       " 1705,\n",
       " 1708,\n",
       " ...]"
      ]
     },
     "execution_count": 156,
     "metadata": {},
     "output_type": "execute_result"
    }
   ],
   "source": [
    "l"
   ]
  },
  {
   "cell_type": "code",
   "execution_count": 157,
   "metadata": {},
   "outputs": [
    {
     "data": {
      "text/plain": [
       "133684"
      ]
     },
     "execution_count": 157,
     "metadata": {},
     "output_type": "execute_result"
    }
   ],
   "source": [
    "len(p)"
   ]
  },
  {
   "cell_type": "code",
   "execution_count": 62,
   "metadata": {},
   "outputs": [],
   "source": [
    "c = 0\n",
    "for inp, op in test_loader:\n",
    "    c+=1\n",
    "    if c == 2:\n",
    "        break"
   ]
  },
  {
   "cell_type": "code",
   "execution_count": 63,
   "metadata": {},
   "outputs": [
    {
     "data": {
      "text/plain": [
       "tensor([0, 1, 0, 1, 1, 1, 0, 0, 0, 1, 1, 0, 1, 1, 1, 0, 0, 0, 0, 1, 0, 1, 1, 1,\n",
       "        0, 1, 1, 1, 1, 1, 1, 1, 0, 1, 1, 1, 1, 0, 0, 0, 1, 0, 1, 0, 1, 1, 1, 0,\n",
       "        0, 1, 0, 0, 1, 0, 1, 0, 0, 0, 0, 1, 0, 0, 1, 0, 1, 1, 0, 1, 1, 0, 1, 0,\n",
       "        0, 0, 0, 0, 0, 1, 0, 1, 1, 0, 0, 1, 1, 1, 0, 0, 1, 0, 1, 0, 0, 0, 1, 1,\n",
       "        1, 1, 0, 1, 0, 1, 1, 0, 1, 0, 1, 0, 1, 0, 0, 1, 0, 0, 0, 0, 1, 0, 1, 1,\n",
       "        0, 0, 0, 1, 0, 0, 0, 1])"
      ]
     },
     "execution_count": 63,
     "metadata": {},
     "output_type": "execute_result"
    }
   ],
   "source": [
    "op"
   ]
  },
  {
   "cell_type": "code",
   "execution_count": 64,
   "metadata": {},
   "outputs": [
    {
     "ename": "TypeError",
     "evalue": "cso_optimization() got an unexpected keyword argument 'data'",
     "output_type": "error",
     "traceback": [
      "\u001b[1;31m---------------------------------------------------------------------------\u001b[0m",
      "\u001b[1;31mTypeError\u001b[0m                                 Traceback (most recent call last)",
      "Cell \u001b[1;32mIn [64], line 5\u001b[0m\n\u001b[0;32m      2\u001b[0m criterion \u001b[38;5;241m=\u001b[39m nn\u001b[38;5;241m.\u001b[39mCrossEntropyLoss()  \n\u001b[0;32m      4\u001b[0m \u001b[38;5;66;03m# Perform CSO optimization\u001b[39;00m\n\u001b[1;32m----> 5\u001b[0m \u001b[43mcso_optimization\u001b[49m\u001b[43m(\u001b[49m\u001b[43mpopulation_size\u001b[49m\u001b[38;5;241;43m=\u001b[39;49m\u001b[38;5;241;43m10\u001b[39;49m\u001b[43m,\u001b[49m\u001b[43m \u001b[49m\u001b[43mmax_iterations\u001b[49m\u001b[38;5;241;43m=\u001b[39;49m\u001b[38;5;241;43m1\u001b[39;49m\u001b[43m,\u001b[49m\u001b[43m \u001b[49m\u001b[43mmodel\u001b[49m\u001b[38;5;241;43m=\u001b[39;49m\u001b[43mmodel3\u001b[49m\u001b[43m,\u001b[49m\u001b[43m \u001b[49m\u001b[43mdata\u001b[49m\u001b[38;5;241;43m=\u001b[39;49m\u001b[43mdata\u001b[49m\u001b[43m,\u001b[49m\u001b[43m \u001b[49m\u001b[43mcriterion\u001b[49m\u001b[38;5;241;43m=\u001b[39;49m\u001b[43mcriterion\u001b[49m\u001b[43m)\u001b[49m\n",
      "\u001b[1;31mTypeError\u001b[0m: cso_optimization() got an unexpected keyword argument 'data'"
     ]
    }
   ],
   "source": [
    "data = data_loader # Your dataset\n",
    "criterion = nn.CrossEntropyLoss()  \n",
    "\n",
    "# Perform CSO optimization\n",
    "cso_optimization(population_size=10, max_iterations=1, model=model3, data=data, criterion=criterion)"
   ]
  },
  {
   "cell_type": "code",
   "execution_count": 58,
   "metadata": {},
   "outputs": [],
   "source": [
    "import pickle\n",
    "import h5py"
   ]
  },
  {
   "cell_type": "code",
   "execution_count": 59,
   "metadata": {},
   "outputs": [],
   "source": [
    "with open('cso_ddos_model.pkl', 'wb') as f:\n",
    "    pickle.dump(model3.state_dict(), f)"
   ]
  },
  {
   "cell_type": "code",
   "execution_count": 60,
   "metadata": {},
   "outputs": [],
   "source": [
    "model_dict = model3.state_dict()\n",
    "with h5py.File('cso_ddos_model.h5', 'w') as f:\n",
    "    for key, value in model_dict.items():\n",
    "        f.create_dataset(key, data=value.cpu().numpy())"
   ]
  },
  {
   "cell_type": "code",
   "execution_count": 61,
   "metadata": {},
   "outputs": [],
   "source": [
    "torch.save(model3.state_dict(), 'cso_ddos_model.pth')"
   ]
  },
  {
   "cell_type": "code",
   "execution_count": 69,
   "metadata": {},
   "outputs": [],
   "source": [
    "def initialize_population(population_size):\n",
    "    return [np.random.uniform(low=-1.0, high=1.0, size=45) for _ in range(population_size)]\n",
    "\n",
    "def update_positions(population, global_best_position, inertia_weight=0.5, exploration_rate=0.1):\n",
    "    updated_population = []\n",
    "    for crow_position in population:\n",
    "        crow_movement = inertia_weight * (global_best_position - crow_position)\n",
    "        exploration = exploration_rate * np.random.uniform(-1, 1, size=crow_position.shape)\n",
    "        new_crow_position = crow_position + crow_movement + exploration\n",
    "        updated_population.append(new_crow_position)\n",
    "    return updated_population\n",
    "\n",
    "def update_model_parameters(model, crow_position):\n",
    "    crow_position_tensor = torch.tensor(crow_position, dtype=torch.float32)\n",
    "    param_index = 0\n",
    "    for param in model.parameters():\n",
    "        if param_index >= 45:\n",
    "            break\n",
    "        num_elements = param.numel()\n",
    "        param_update = crow_position_tensor[param_index:param_index + num_elements]\n",
    "        param_update = param_update.view(param.size())\n",
    "        param.data = param_update\n",
    "        param_index += 15\n",
    "\n",
    "def train_and_evaluate(model, train_loader, test_loader, criterion, optimizer):\n",
    "    model.train()\n",
    "    for inputs, labels in train_loader:\n",
    "        inputs = inputs.unsqueeze(-1).permute(0, 2, 1)\n",
    "        outputs = model(inputs)\n",
    "        loss = criterion(outputs, labels)\n",
    "        optimizer.zero_grad()\n",
    "        loss.backward()\n",
    "        optimizer.step()\n",
    "    \n",
    "    model.eval()\n",
    "    train_predictions, train_targets = [], []\n",
    "    with torch.no_grad():\n",
    "        for inputs, labels in train_loader:\n",
    "            inputs = inputs.unsqueeze(-1).permute(0, 2, 1)\n",
    "            outputs = model(inputs)\n",
    "            train_predictions.extend(torch.argmax(outputs, dim=1).cpu().numpy())\n",
    "            train_targets.extend(labels.cpu().numpy())\n",
    "    train_accuracy = accuracy_score(train_targets, train_predictions)\n",
    "    # train_f1 = f1_score(train_targets, train_predictions, average='weighted')\n",
    "\n",
    "    test_predictions, test_targets = [], []\n",
    "    with torch.no_grad():\n",
    "        for inputs, labels in test_loader:\n",
    "            inputs = inputs.unsqueeze(-1).permute(0, 2, 1)\n",
    "            outputs = model(inputs)\n",
    "            test_predictions.extend(torch.argmax(outputs, dim=1).cpu().numpy())\n",
    "            test_targets.extend(labels.cpu().numpy())\n",
    "    test_accuracy = accuracy_score(test_targets, test_predictions)\n",
    "    # test_f1 = f1_score(test_targets, test_predictions, average='weighted')\n",
    "\n",
    "    print(\"Training Accuracy:\", train_accuracy)\n",
    "    # print(\"Training F1 Score:\", train_f1)\n",
    "    print(\"Testing Accuracy:\", test_accuracy)\n",
    "    # print(\"Testing F1 Score:\", test_f1)\n",
    "\n",
    "    return train_accuracy, test_accuracy\n",
    "\n",
    "model3 = Multiclass()\n",
    "optimizer = torch.optim.Adam(model3.parameters(), lr=0.001)\n",
    "\n",
    "def evaluate_fitness(model, train_loader, test_loader, criterion, population):\n",
    "    train_accuracies = []\n",
    "    test_accuracies = []\n",
    "    for crow_position in population:\n",
    "        update_model_parameters(model, crow_position)\n",
    "        train_accuracy, test_accuracy = train_and_evaluate(model, train_loader, test_loader, criterion, optimizer)\n",
    "        train_accuracies.append(train_accuracy)\n",
    "        test_accuracies.append(test_accuracy)\n",
    "    return np.array(train_accuracies), np.array(test_accuracies)\n",
    "\n",
    "def cso_optimization(population_size, max_iterations, model, train_loader, test_loader, criterion):\n",
    "    population = initialize_population(population_size)\n",
    "    all_train_accuracies = []\n",
    "    all_test_accuracies = []\n",
    "    for iteration in range(max_iterations):\n",
    "        train_accuracies, test_accuracies = evaluate_fitness(model, train_loader, test_loader, criterion, population)\n",
    "        all_train_accuracies.append(np.mean(train_accuracies))\n",
    "        all_test_accuracies.append(np.mean(test_accuracies))\n",
    "        global_best_index = np.argmax(test_accuracies)\n",
    "        global_best_position = population[global_best_index]\n",
    "        population = update_positions(population, global_best_position)\n",
    "        update_model_parameters(model, global_best_position)\n",
    "\n",
    "    return train_accuracies, test_accuracies"
   ]
  },
  {
   "cell_type": "code",
   "execution_count": 70,
   "metadata": {},
   "outputs": [
    {
     "name": "stdout",
     "output_type": "stream",
     "text": [
      "Training Accuracy: 0.9901855135725003\n",
      "Testing Accuracy: 0.9896606285464863\n",
      "Training Accuracy: 0.9493929886782158\n",
      "Testing Accuracy: 0.9497490178961152\n",
      "Training Accuracy: 0.9905606329286591\n",
      "Testing Accuracy: 0.9900152771715408\n",
      "Training Accuracy: 0.9476196971763743\n",
      "Testing Accuracy: 0.9483031427324312\n",
      "Training Accuracy: 0.930384667848861\n",
      "Testing Accuracy: 0.9319893059799215\n"
     ]
    },
    {
     "ename": "KeyboardInterrupt",
     "evalue": "",
     "output_type": "error",
     "traceback": [
      "\u001b[1;31m---------------------------------------------------------------------------\u001b[0m",
      "\u001b[1;31mKeyboardInterrupt\u001b[0m                         Traceback (most recent call last)",
      "Cell \u001b[1;32mIn [70], line 16\u001b[0m\n\u001b[0;32m     13\u001b[0m criterion \u001b[38;5;241m=\u001b[39m nn\u001b[38;5;241m.\u001b[39mCrossEntropyLoss()\n\u001b[0;32m     15\u001b[0m \u001b[38;5;66;03m# Perform CSO optimization\u001b[39;00m\n\u001b[1;32m---> 16\u001b[0m train_accuracies, test_accuracies \u001b[38;5;241m=\u001b[39m \u001b[43mcso_optimization\u001b[49m\u001b[43m(\u001b[49m\u001b[43mpopulation_size\u001b[49m\u001b[38;5;241;43m=\u001b[39;49m\u001b[38;5;241;43m10\u001b[39;49m\u001b[43m,\u001b[49m\u001b[43m \u001b[49m\u001b[43mmax_iterations\u001b[49m\u001b[38;5;241;43m=\u001b[39;49m\u001b[38;5;241;43m1\u001b[39;49m\u001b[43m,\u001b[49m\u001b[43m \u001b[49m\u001b[43mmodel\u001b[49m\u001b[38;5;241;43m=\u001b[39;49m\u001b[43mmodel3\u001b[49m\u001b[43m,\u001b[49m\u001b[43m \u001b[49m\u001b[43mtrain_loader\u001b[49m\u001b[38;5;241;43m=\u001b[39;49m\u001b[43mtrain_loader\u001b[49m\u001b[43m,\u001b[49m\u001b[43m \u001b[49m\u001b[43mtest_loader\u001b[49m\u001b[38;5;241;43m=\u001b[39;49m\u001b[43mtest_loader\u001b[49m\u001b[43m,\u001b[49m\u001b[43m \u001b[49m\u001b[43mcriterion\u001b[49m\u001b[38;5;241;43m=\u001b[39;49m\u001b[43mcriterion\u001b[49m\u001b[43m)\u001b[49m\n",
      "Cell \u001b[1;32mIn [69], line 81\u001b[0m, in \u001b[0;36mcso_optimization\u001b[1;34m(population_size, max_iterations, model, train_loader, test_loader, criterion)\u001b[0m\n\u001b[0;32m     79\u001b[0m all_test_accuracies \u001b[38;5;241m=\u001b[39m []\n\u001b[0;32m     80\u001b[0m \u001b[38;5;28;01mfor\u001b[39;00m iteration \u001b[38;5;129;01min\u001b[39;00m \u001b[38;5;28mrange\u001b[39m(max_iterations):\n\u001b[1;32m---> 81\u001b[0m     train_accuracies, test_accuracies \u001b[38;5;241m=\u001b[39m \u001b[43mevaluate_fitness\u001b[49m\u001b[43m(\u001b[49m\u001b[43mmodel\u001b[49m\u001b[43m,\u001b[49m\u001b[43m \u001b[49m\u001b[43mtrain_loader\u001b[49m\u001b[43m,\u001b[49m\u001b[43m \u001b[49m\u001b[43mtest_loader\u001b[49m\u001b[43m,\u001b[49m\u001b[43m \u001b[49m\u001b[43mcriterion\u001b[49m\u001b[43m,\u001b[49m\u001b[43m \u001b[49m\u001b[43mpopulation\u001b[49m\u001b[43m)\u001b[49m\n\u001b[0;32m     82\u001b[0m     all_train_accuracies\u001b[38;5;241m.\u001b[39mappend(np\u001b[38;5;241m.\u001b[39mmean(train_accuracies))\n\u001b[0;32m     83\u001b[0m     all_test_accuracies\u001b[38;5;241m.\u001b[39mappend(np\u001b[38;5;241m.\u001b[39mmean(test_accuracies))\n",
      "Cell \u001b[1;32mIn [69], line 71\u001b[0m, in \u001b[0;36mevaluate_fitness\u001b[1;34m(model, train_loader, test_loader, criterion, population)\u001b[0m\n\u001b[0;32m     69\u001b[0m \u001b[38;5;28;01mfor\u001b[39;00m crow_position \u001b[38;5;129;01min\u001b[39;00m population:\n\u001b[0;32m     70\u001b[0m     update_model_parameters(model, crow_position)\n\u001b[1;32m---> 71\u001b[0m     train_accuracy, test_accuracy \u001b[38;5;241m=\u001b[39m \u001b[43mtrain_and_evaluate\u001b[49m\u001b[43m(\u001b[49m\u001b[43mmodel\u001b[49m\u001b[43m,\u001b[49m\u001b[43m \u001b[49m\u001b[43mtrain_loader\u001b[49m\u001b[43m,\u001b[49m\u001b[43m \u001b[49m\u001b[43mtest_loader\u001b[49m\u001b[43m,\u001b[49m\u001b[43m \u001b[49m\u001b[43mcriterion\u001b[49m\u001b[43m,\u001b[49m\u001b[43m \u001b[49m\u001b[43moptimizer\u001b[49m\u001b[43m)\u001b[49m\n\u001b[0;32m     72\u001b[0m     train_accuracies\u001b[38;5;241m.\u001b[39mappend(train_accuracy)\n\u001b[0;32m     73\u001b[0m     test_accuracies\u001b[38;5;241m.\u001b[39mappend(test_accuracy)\n",
      "Cell \u001b[1;32mIn [69], line 33\u001b[0m, in \u001b[0;36mtrain_and_evaluate\u001b[1;34m(model, train_loader, test_loader, criterion, optimizer)\u001b[0m\n\u001b[0;32m     31\u001b[0m     optimizer\u001b[38;5;241m.\u001b[39mzero_grad()\n\u001b[0;32m     32\u001b[0m     loss\u001b[38;5;241m.\u001b[39mbackward()\n\u001b[1;32m---> 33\u001b[0m     \u001b[43moptimizer\u001b[49m\u001b[38;5;241;43m.\u001b[39;49m\u001b[43mstep\u001b[49m\u001b[43m(\u001b[49m\u001b[43m)\u001b[49m\n\u001b[0;32m     35\u001b[0m model\u001b[38;5;241m.\u001b[39meval()\n\u001b[0;32m     36\u001b[0m train_predictions, train_targets \u001b[38;5;241m=\u001b[39m [], []\n",
      "File \u001b[1;32md:\\Python\\lib\\site-packages\\torch\\optim\\optimizer.py:391\u001b[0m, in \u001b[0;36mOptimizer.profile_hook_step.<locals>.wrapper\u001b[1;34m(*args, **kwargs)\u001b[0m\n\u001b[0;32m    386\u001b[0m         \u001b[38;5;28;01melse\u001b[39;00m:\n\u001b[0;32m    387\u001b[0m             \u001b[38;5;28;01mraise\u001b[39;00m \u001b[38;5;167;01mRuntimeError\u001b[39;00m(\n\u001b[0;32m    388\u001b[0m                 \u001b[38;5;124mf\u001b[39m\u001b[38;5;124m\"\u001b[39m\u001b[38;5;132;01m{\u001b[39;00mfunc\u001b[38;5;132;01m}\u001b[39;00m\u001b[38;5;124m must return None or a tuple of (new_args, new_kwargs), but got \u001b[39m\u001b[38;5;132;01m{\u001b[39;00mresult\u001b[38;5;132;01m}\u001b[39;00m\u001b[38;5;124m.\u001b[39m\u001b[38;5;124m\"\u001b[39m\n\u001b[0;32m    389\u001b[0m             )\n\u001b[1;32m--> 391\u001b[0m out \u001b[38;5;241m=\u001b[39m func(\u001b[38;5;241m*\u001b[39margs, \u001b[38;5;241m*\u001b[39m\u001b[38;5;241m*\u001b[39mkwargs)\n\u001b[0;32m    392\u001b[0m \u001b[38;5;28mself\u001b[39m\u001b[38;5;241m.\u001b[39m_optimizer_step_code()\n\u001b[0;32m    394\u001b[0m \u001b[38;5;66;03m# call optimizer step post hooks\u001b[39;00m\n",
      "File \u001b[1;32md:\\Python\\lib\\site-packages\\torch\\optim\\optimizer.py:76\u001b[0m, in \u001b[0;36m_use_grad_for_differentiable.<locals>._use_grad\u001b[1;34m(self, *args, **kwargs)\u001b[0m\n\u001b[0;32m     74\u001b[0m     torch\u001b[38;5;241m.\u001b[39mset_grad_enabled(\u001b[38;5;28mself\u001b[39m\u001b[38;5;241m.\u001b[39mdefaults[\u001b[38;5;124m'\u001b[39m\u001b[38;5;124mdifferentiable\u001b[39m\u001b[38;5;124m'\u001b[39m])\n\u001b[0;32m     75\u001b[0m     torch\u001b[38;5;241m.\u001b[39m_dynamo\u001b[38;5;241m.\u001b[39mgraph_break()\n\u001b[1;32m---> 76\u001b[0m     ret \u001b[38;5;241m=\u001b[39m func(\u001b[38;5;28mself\u001b[39m, \u001b[38;5;241m*\u001b[39margs, \u001b[38;5;241m*\u001b[39m\u001b[38;5;241m*\u001b[39mkwargs)\n\u001b[0;32m     77\u001b[0m \u001b[38;5;28;01mfinally\u001b[39;00m:\n\u001b[0;32m     78\u001b[0m     torch\u001b[38;5;241m.\u001b[39m_dynamo\u001b[38;5;241m.\u001b[39mgraph_break()\n",
      "File \u001b[1;32md:\\Python\\lib\\site-packages\\torch\\optim\\adam.py:168\u001b[0m, in \u001b[0;36mAdam.step\u001b[1;34m(self, closure)\u001b[0m\n\u001b[0;32m    157\u001b[0m     beta1, beta2 \u001b[38;5;241m=\u001b[39m group[\u001b[38;5;124m'\u001b[39m\u001b[38;5;124mbetas\u001b[39m\u001b[38;5;124m'\u001b[39m]\n\u001b[0;32m    159\u001b[0m     has_complex \u001b[38;5;241m=\u001b[39m \u001b[38;5;28mself\u001b[39m\u001b[38;5;241m.\u001b[39m_init_group(\n\u001b[0;32m    160\u001b[0m         group,\n\u001b[0;32m    161\u001b[0m         params_with_grad,\n\u001b[1;32m   (...)\u001b[0m\n\u001b[0;32m    165\u001b[0m         max_exp_avg_sqs,\n\u001b[0;32m    166\u001b[0m         state_steps)\n\u001b[1;32m--> 168\u001b[0m     \u001b[43madam\u001b[49m\u001b[43m(\u001b[49m\n\u001b[0;32m    169\u001b[0m \u001b[43m        \u001b[49m\u001b[43mparams_with_grad\u001b[49m\u001b[43m,\u001b[49m\n\u001b[0;32m    170\u001b[0m \u001b[43m        \u001b[49m\u001b[43mgrads\u001b[49m\u001b[43m,\u001b[49m\n\u001b[0;32m    171\u001b[0m \u001b[43m        \u001b[49m\u001b[43mexp_avgs\u001b[49m\u001b[43m,\u001b[49m\n\u001b[0;32m    172\u001b[0m \u001b[43m        \u001b[49m\u001b[43mexp_avg_sqs\u001b[49m\u001b[43m,\u001b[49m\n\u001b[0;32m    173\u001b[0m \u001b[43m        \u001b[49m\u001b[43mmax_exp_avg_sqs\u001b[49m\u001b[43m,\u001b[49m\n\u001b[0;32m    174\u001b[0m \u001b[43m        \u001b[49m\u001b[43mstate_steps\u001b[49m\u001b[43m,\u001b[49m\n\u001b[0;32m    175\u001b[0m \u001b[43m        \u001b[49m\u001b[43mamsgrad\u001b[49m\u001b[38;5;241;43m=\u001b[39;49m\u001b[43mgroup\u001b[49m\u001b[43m[\u001b[49m\u001b[38;5;124;43m'\u001b[39;49m\u001b[38;5;124;43mamsgrad\u001b[39;49m\u001b[38;5;124;43m'\u001b[39;49m\u001b[43m]\u001b[49m\u001b[43m,\u001b[49m\n\u001b[0;32m    176\u001b[0m \u001b[43m        \u001b[49m\u001b[43mhas_complex\u001b[49m\u001b[38;5;241;43m=\u001b[39;49m\u001b[43mhas_complex\u001b[49m\u001b[43m,\u001b[49m\n\u001b[0;32m    177\u001b[0m \u001b[43m        \u001b[49m\u001b[43mbeta1\u001b[49m\u001b[38;5;241;43m=\u001b[39;49m\u001b[43mbeta1\u001b[49m\u001b[43m,\u001b[49m\n\u001b[0;32m    178\u001b[0m \u001b[43m        \u001b[49m\u001b[43mbeta2\u001b[49m\u001b[38;5;241;43m=\u001b[39;49m\u001b[43mbeta2\u001b[49m\u001b[43m,\u001b[49m\n\u001b[0;32m    179\u001b[0m \u001b[43m        \u001b[49m\u001b[43mlr\u001b[49m\u001b[38;5;241;43m=\u001b[39;49m\u001b[43mgroup\u001b[49m\u001b[43m[\u001b[49m\u001b[38;5;124;43m'\u001b[39;49m\u001b[38;5;124;43mlr\u001b[39;49m\u001b[38;5;124;43m'\u001b[39;49m\u001b[43m]\u001b[49m\u001b[43m,\u001b[49m\n\u001b[0;32m    180\u001b[0m \u001b[43m        \u001b[49m\u001b[43mweight_decay\u001b[49m\u001b[38;5;241;43m=\u001b[39;49m\u001b[43mgroup\u001b[49m\u001b[43m[\u001b[49m\u001b[38;5;124;43m'\u001b[39;49m\u001b[38;5;124;43mweight_decay\u001b[39;49m\u001b[38;5;124;43m'\u001b[39;49m\u001b[43m]\u001b[49m\u001b[43m,\u001b[49m\n\u001b[0;32m    181\u001b[0m \u001b[43m        \u001b[49m\u001b[43meps\u001b[49m\u001b[38;5;241;43m=\u001b[39;49m\u001b[43mgroup\u001b[49m\u001b[43m[\u001b[49m\u001b[38;5;124;43m'\u001b[39;49m\u001b[38;5;124;43meps\u001b[39;49m\u001b[38;5;124;43m'\u001b[39;49m\u001b[43m]\u001b[49m\u001b[43m,\u001b[49m\n\u001b[0;32m    182\u001b[0m \u001b[43m        \u001b[49m\u001b[43mmaximize\u001b[49m\u001b[38;5;241;43m=\u001b[39;49m\u001b[43mgroup\u001b[49m\u001b[43m[\u001b[49m\u001b[38;5;124;43m'\u001b[39;49m\u001b[38;5;124;43mmaximize\u001b[39;49m\u001b[38;5;124;43m'\u001b[39;49m\u001b[43m]\u001b[49m\u001b[43m,\u001b[49m\n\u001b[0;32m    183\u001b[0m \u001b[43m        \u001b[49m\u001b[43mforeach\u001b[49m\u001b[38;5;241;43m=\u001b[39;49m\u001b[43mgroup\u001b[49m\u001b[43m[\u001b[49m\u001b[38;5;124;43m'\u001b[39;49m\u001b[38;5;124;43mforeach\u001b[39;49m\u001b[38;5;124;43m'\u001b[39;49m\u001b[43m]\u001b[49m\u001b[43m,\u001b[49m\n\u001b[0;32m    184\u001b[0m \u001b[43m        \u001b[49m\u001b[43mcapturable\u001b[49m\u001b[38;5;241;43m=\u001b[39;49m\u001b[43mgroup\u001b[49m\u001b[43m[\u001b[49m\u001b[38;5;124;43m'\u001b[39;49m\u001b[38;5;124;43mcapturable\u001b[39;49m\u001b[38;5;124;43m'\u001b[39;49m\u001b[43m]\u001b[49m\u001b[43m,\u001b[49m\n\u001b[0;32m    185\u001b[0m \u001b[43m        \u001b[49m\u001b[43mdifferentiable\u001b[49m\u001b[38;5;241;43m=\u001b[39;49m\u001b[43mgroup\u001b[49m\u001b[43m[\u001b[49m\u001b[38;5;124;43m'\u001b[39;49m\u001b[38;5;124;43mdifferentiable\u001b[39;49m\u001b[38;5;124;43m'\u001b[39;49m\u001b[43m]\u001b[49m\u001b[43m,\u001b[49m\n\u001b[0;32m    186\u001b[0m \u001b[43m        \u001b[49m\u001b[43mfused\u001b[49m\u001b[38;5;241;43m=\u001b[39;49m\u001b[43mgroup\u001b[49m\u001b[43m[\u001b[49m\u001b[38;5;124;43m'\u001b[39;49m\u001b[38;5;124;43mfused\u001b[39;49m\u001b[38;5;124;43m'\u001b[39;49m\u001b[43m]\u001b[49m\u001b[43m,\u001b[49m\n\u001b[0;32m    187\u001b[0m \u001b[43m        \u001b[49m\u001b[43mgrad_scale\u001b[49m\u001b[38;5;241;43m=\u001b[39;49m\u001b[38;5;28;43mgetattr\u001b[39;49m\u001b[43m(\u001b[49m\u001b[38;5;28;43mself\u001b[39;49m\u001b[43m,\u001b[49m\u001b[43m \u001b[49m\u001b[38;5;124;43m\"\u001b[39;49m\u001b[38;5;124;43mgrad_scale\u001b[39;49m\u001b[38;5;124;43m\"\u001b[39;49m\u001b[43m,\u001b[49m\u001b[43m \u001b[49m\u001b[38;5;28;43;01mNone\u001b[39;49;00m\u001b[43m)\u001b[49m\u001b[43m,\u001b[49m\n\u001b[0;32m    188\u001b[0m \u001b[43m        \u001b[49m\u001b[43mfound_inf\u001b[49m\u001b[38;5;241;43m=\u001b[39;49m\u001b[38;5;28;43mgetattr\u001b[39;49m\u001b[43m(\u001b[49m\u001b[38;5;28;43mself\u001b[39;49m\u001b[43m,\u001b[49m\u001b[43m \u001b[49m\u001b[38;5;124;43m\"\u001b[39;49m\u001b[38;5;124;43mfound_inf\u001b[39;49m\u001b[38;5;124;43m\"\u001b[39;49m\u001b[43m,\u001b[49m\u001b[43m \u001b[49m\u001b[38;5;28;43;01mNone\u001b[39;49;00m\u001b[43m)\u001b[49m\u001b[43m,\u001b[49m\n\u001b[0;32m    189\u001b[0m \u001b[43m    \u001b[49m\u001b[43m)\u001b[49m\n\u001b[0;32m    191\u001b[0m \u001b[38;5;28;01mreturn\u001b[39;00m loss\n",
      "File \u001b[1;32md:\\Python\\lib\\site-packages\\torch\\optim\\adam.py:318\u001b[0m, in \u001b[0;36madam\u001b[1;34m(params, grads, exp_avgs, exp_avg_sqs, max_exp_avg_sqs, state_steps, foreach, capturable, differentiable, fused, grad_scale, found_inf, has_complex, amsgrad, beta1, beta2, lr, weight_decay, eps, maximize)\u001b[0m\n\u001b[0;32m    315\u001b[0m \u001b[38;5;28;01melse\u001b[39;00m:\n\u001b[0;32m    316\u001b[0m     func \u001b[38;5;241m=\u001b[39m _single_tensor_adam\n\u001b[1;32m--> 318\u001b[0m \u001b[43mfunc\u001b[49m\u001b[43m(\u001b[49m\u001b[43mparams\u001b[49m\u001b[43m,\u001b[49m\n\u001b[0;32m    319\u001b[0m \u001b[43m     \u001b[49m\u001b[43mgrads\u001b[49m\u001b[43m,\u001b[49m\n\u001b[0;32m    320\u001b[0m \u001b[43m     \u001b[49m\u001b[43mexp_avgs\u001b[49m\u001b[43m,\u001b[49m\n\u001b[0;32m    321\u001b[0m \u001b[43m     \u001b[49m\u001b[43mexp_avg_sqs\u001b[49m\u001b[43m,\u001b[49m\n\u001b[0;32m    322\u001b[0m \u001b[43m     \u001b[49m\u001b[43mmax_exp_avg_sqs\u001b[49m\u001b[43m,\u001b[49m\n\u001b[0;32m    323\u001b[0m \u001b[43m     \u001b[49m\u001b[43mstate_steps\u001b[49m\u001b[43m,\u001b[49m\n\u001b[0;32m    324\u001b[0m \u001b[43m     \u001b[49m\u001b[43mamsgrad\u001b[49m\u001b[38;5;241;43m=\u001b[39;49m\u001b[43mamsgrad\u001b[49m\u001b[43m,\u001b[49m\n\u001b[0;32m    325\u001b[0m \u001b[43m     \u001b[49m\u001b[43mhas_complex\u001b[49m\u001b[38;5;241;43m=\u001b[39;49m\u001b[43mhas_complex\u001b[49m\u001b[43m,\u001b[49m\n\u001b[0;32m    326\u001b[0m \u001b[43m     \u001b[49m\u001b[43mbeta1\u001b[49m\u001b[38;5;241;43m=\u001b[39;49m\u001b[43mbeta1\u001b[49m\u001b[43m,\u001b[49m\n\u001b[0;32m    327\u001b[0m \u001b[43m     \u001b[49m\u001b[43mbeta2\u001b[49m\u001b[38;5;241;43m=\u001b[39;49m\u001b[43mbeta2\u001b[49m\u001b[43m,\u001b[49m\n\u001b[0;32m    328\u001b[0m \u001b[43m     \u001b[49m\u001b[43mlr\u001b[49m\u001b[38;5;241;43m=\u001b[39;49m\u001b[43mlr\u001b[49m\u001b[43m,\u001b[49m\n\u001b[0;32m    329\u001b[0m \u001b[43m     \u001b[49m\u001b[43mweight_decay\u001b[49m\u001b[38;5;241;43m=\u001b[39;49m\u001b[43mweight_decay\u001b[49m\u001b[43m,\u001b[49m\n\u001b[0;32m    330\u001b[0m \u001b[43m     \u001b[49m\u001b[43meps\u001b[49m\u001b[38;5;241;43m=\u001b[39;49m\u001b[43meps\u001b[49m\u001b[43m,\u001b[49m\n\u001b[0;32m    331\u001b[0m \u001b[43m     \u001b[49m\u001b[43mmaximize\u001b[49m\u001b[38;5;241;43m=\u001b[39;49m\u001b[43mmaximize\u001b[49m\u001b[43m,\u001b[49m\n\u001b[0;32m    332\u001b[0m \u001b[43m     \u001b[49m\u001b[43mcapturable\u001b[49m\u001b[38;5;241;43m=\u001b[39;49m\u001b[43mcapturable\u001b[49m\u001b[43m,\u001b[49m\n\u001b[0;32m    333\u001b[0m \u001b[43m     \u001b[49m\u001b[43mdifferentiable\u001b[49m\u001b[38;5;241;43m=\u001b[39;49m\u001b[43mdifferentiable\u001b[49m\u001b[43m,\u001b[49m\n\u001b[0;32m    334\u001b[0m \u001b[43m     \u001b[49m\u001b[43mgrad_scale\u001b[49m\u001b[38;5;241;43m=\u001b[39;49m\u001b[43mgrad_scale\u001b[49m\u001b[43m,\u001b[49m\n\u001b[0;32m    335\u001b[0m \u001b[43m     \u001b[49m\u001b[43mfound_inf\u001b[49m\u001b[38;5;241;43m=\u001b[39;49m\u001b[43mfound_inf\u001b[49m\u001b[43m)\u001b[49m\n",
      "File \u001b[1;32md:\\Python\\lib\\site-packages\\torch\\optim\\adam.py:443\u001b[0m, in \u001b[0;36m_single_tensor_adam\u001b[1;34m(params, grads, exp_avgs, exp_avg_sqs, max_exp_avg_sqs, state_steps, grad_scale, found_inf, amsgrad, has_complex, beta1, beta2, lr, weight_decay, eps, maximize, capturable, differentiable)\u001b[0m\n\u001b[0;32m    440\u001b[0m     \u001b[38;5;28;01melse\u001b[39;00m:\n\u001b[0;32m    441\u001b[0m         denom \u001b[38;5;241m=\u001b[39m (exp_avg_sq\u001b[38;5;241m.\u001b[39msqrt() \u001b[38;5;241m/\u001b[39m bias_correction2_sqrt)\u001b[38;5;241m.\u001b[39madd_(eps)\n\u001b[1;32m--> 443\u001b[0m     \u001b[43mparam\u001b[49m\u001b[38;5;241;43m.\u001b[39;49m\u001b[43maddcdiv_\u001b[49m\u001b[43m(\u001b[49m\u001b[43mexp_avg\u001b[49m\u001b[43m,\u001b[49m\u001b[43m \u001b[49m\u001b[43mdenom\u001b[49m\u001b[43m,\u001b[49m\u001b[43m \u001b[49m\u001b[43mvalue\u001b[49m\u001b[38;5;241;43m=\u001b[39;49m\u001b[38;5;241;43m-\u001b[39;49m\u001b[43mstep_size\u001b[49m\u001b[43m)\u001b[49m\n\u001b[0;32m    445\u001b[0m \u001b[38;5;66;03m# Lastly, switch back to complex view\u001b[39;00m\n\u001b[0;32m    446\u001b[0m \u001b[38;5;28;01mif\u001b[39;00m amsgrad \u001b[38;5;129;01mand\u001b[39;00m torch\u001b[38;5;241m.\u001b[39mis_complex(params[i]):\n",
      "\u001b[1;31mKeyboardInterrupt\u001b[0m: "
     ]
    }
   ],
   "source": [
    "X_tensor = torch.tensor(X.values, dtype=torch.float32)\n",
    "y_tensor = torch.tensor(y.values, dtype=torch.long)\n",
    "dataset = TensorDataset(X_tensor, y_tensor)\n",
    "\n",
    "# Split dataset into training and testing sets\n",
    "train_size = int(0.8 * len(dataset))\n",
    "test_size = len(dataset) - train_size\n",
    "train_dataset, test_dataset = random_split(dataset, [train_size, test_size])\n",
    "\n",
    "train_loader = DataLoader(train_dataset, batch_size=128, shuffle=True)\n",
    "test_loader = DataLoader(test_dataset, batch_size=128, shuffle=False)\n",
    "\n",
    "criterion = nn.CrossEntropyLoss()\n",
    "\n",
    "# Perform CSO optimization\n",
    "train_accuracies, test_accuracies = cso_optimization(population_size=10, max_iterations=1, model=model3, train_loader=train_loader, test_loader=test_loader, criterion=criterion)"
   ]
  },
  {
   "cell_type": "code",
   "execution_count": 78,
   "metadata": {},
   "outputs": [
    {
     "data": {
      "image/png": "[encoded data removed]",
      "text/plain": [
       "<Figure size 1000x500 with 1 Axes>"
      ]
     },
     "metadata": {},
     "output_type": "display_data"
    }
   ],
   "source": [
    "plt.figure(figsize=(10, 5))\n",
    "plt.plot(train_accuracies, label='Training Accuracy')\n",
    "plt.plot(test_accuracies, label='Testing Accuracy')\n",
    "plt.xlabel('Iterations')\n",
    "plt.ylabel('Accuracy')\n",
    "plt.title('Training and Testing Accuracies Over Iterations')\n",
    "plt.legend()\n",
    "plt.show()"
   ]
  },
  {
   "cell_type": "markdown",
   "metadata": {},
   "source": [
    "### USING THE MODEL"
   ]
  },
  {
   "cell_type": "code",
   "execution_count": 40,
   "metadata": {},
   "outputs": [
    {
     "data": {
      "text/plain": [
       "Multiclass(\n",
       "  (layer1): Sequential(\n",
       "    (0): Conv1d(1, 16, kernel_size=(3,), stride=(1,), padding=(1,))\n",
       "    (1): BatchNorm1d(16, eps=1e-05, momentum=0.1, affine=True, track_running_stats=True)\n",
       "    (2): ReLU()\n",
       "    (3): MaxPool1d(kernel_size=2, stride=2, padding=0, dilation=1, ceil_mode=False)\n",
       "  )\n",
       "  (layer2): Sequential(\n",
       "    (0): Conv1d(16, 32, kernel_size=(3,), stride=(1,), padding=(1,))\n",
       "    (1): BatchNorm1d(32, eps=1e-05, momentum=0.1, affine=True, track_running_stats=True)\n",
       "    (2): ReLU()\n",
       "  )\n",
       "  (layer3): Sequential(\n",
       "    (0): Linear(in_features=704, out_features=64, bias=True)\n",
       "    (1): Dropout(p=0.5, inplace=False)\n",
       "    (2): ReLU()\n",
       "    (3): Linear(in_features=64, out_features=3, bias=True)\n",
       "  )\n",
       ")"
      ]
     },
     "execution_count": 40,
     "metadata": {},
     "output_type": "execute_result"
    }
   ],
   "source": [
    "from model import Multiclass\n",
    "model = torch.load('ddos_cnn_model_cso.pth', map_location=torch.device('cpu'))\n",
    "model.eval()"
   ]
  },
  {
   "cell_type": "code",
   "execution_count": 41,
   "metadata": {},
   "outputs": [],
   "source": [
    "def predict(features):\n",
    "     \n",
    "    with torch.no_grad():\n",
    "\n",
    "        output = model(features)\n",
    "        _, prediction = torch.max(output, 1)\n",
    "\n",
    "        if prediction.item() == 1:\n",
    "            output = False\n",
    "        else:\n",
    "            output = True\n",
    "    return output"
   ]
  },
  {
   "cell_type": "code",
   "execution_count": 43,
   "metadata": {},
   "outputs": [],
   "source": [
    "#Connv the ip addresses\n",
    "#Scale the parameters\n",
    "#pass them to the model using the above function"
   ]
  },
  {
   "cell_type": "code",
   "execution_count": null,
   "metadata": {},
   "outputs": [],
   "source": []
  }
 ],
 "metadata": {
  "kernelspec": {
   "display_name": "Python 3",
   "language": "python",
   "name": "python3"
  },
  "language_info": {
   "codemirror_mode": {
    "name": "ipython",
    "version": 3
   },
   "file_extension": ".py",
   "mimetype": "text/x-python",
   "name": "python",
   "nbconvert_exporter": "python",
   "pygments_lexer": "ipython3",
   "version": "3.10.1"
  },
  "orig_nbformat": 4
 },
 "nbformat": 4,
 "nbformat_minor": 2
}
