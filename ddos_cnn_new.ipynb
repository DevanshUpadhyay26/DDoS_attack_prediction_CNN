{
 "cells": [
  {
   "cell_type": "code",
   "execution_count": 44,
   "metadata": {},
   "outputs": [],
   "source": [
    "import pandas as pd\n",
    "import numpy as np\n",
    "import matplotlib.pyplot as plt\n",
    "import seaborn as sns\n",
    "import random\n",
    "import time\n",
    "from sklearn.utils import resample\n",
    "from sklearn.model_selection import train_test_split as tts\n",
    "from sklearn.preprocessing import StandardScaler\n",
    "from torch.utils.data import Dataset, DataLoader, TensorDataset \n",
    "from tqdm import tqdm\n",
    "# from imblearn.over_sampling import SMOTE\n",
    "from sklearn.metrics import confusion_matrix, accuracy_score\n",
    "import itertools"
   ]
  },
  {
   "cell_type": "markdown",
   "metadata": {},
   "source": [
    "Read the data"
   ]
  },
  {
   "cell_type": "code",
   "execution_count": 45,
   "metadata": {},
   "outputs": [
    {
     "name": "stderr",
     "output_type": "stream",
     "text": [
      "C:\\Users\\009kr\\AppData\\Local\\Temp\\ipykernel_15172\\3036118028.py:1: DtypeWarning: Columns (7,9) have mixed types. Specify dtype option on import or set low_memory=False.\n",
      "  df = pd.read_csv('bot_iot.csv')\n"
     ]
    },
    {
     "data": {
      "text/plain": [
       "(668522, 46)"
      ]
     },
     "execution_count": 45,
     "metadata": {},
     "output_type": "execute_result"
    }
   ],
   "source": [
    "df = pd.read_csv('bot_iot.csv')\n",
    "df.shape"
   ]
  },
  {
   "cell_type": "code",
   "execution_count": 46,
   "metadata": {},
   "outputs": [
    {
     "data": {
      "text/html": [
       "<div>\n",
       "<style scoped>\n",
       "    .dataframe tbody tr th:only-of-type {\n",
       "        vertical-align: middle;\n",
       "    }\n",
       "\n",
       "    .dataframe tbody tr th {\n",
       "        vertical-align: top;\n",
       "    }\n",
       "\n",
       "    .dataframe thead th {\n",
       "        text-align: right;\n",
       "    }\n",
       "</style>\n",
       "<table border=\"1\" class=\"dataframe\">\n",
       "  <thead>\n",
       "    <tr style=\"text-align: right;\">\n",
       "      <th></th>\n",
       "      <th>pkSeqID</th>\n",
       "      <th>stime</th>\n",
       "      <th>flgs</th>\n",
       "      <th>flgs_number</th>\n",
       "      <th>proto</th>\n",
       "      <th>proto_number</th>\n",
       "      <th>saddr</th>\n",
       "      <th>sport</th>\n",
       "      <th>daddr</th>\n",
       "      <th>dport</th>\n",
       "      <th>...</th>\n",
       "      <th>AR_P_Proto_P_DstIP</th>\n",
       "      <th>N_IN_Conn_P_DstIP</th>\n",
       "      <th>N_IN_Conn_P_SrcIP</th>\n",
       "      <th>AR_P_Proto_P_Sport</th>\n",
       "      <th>AR_P_Proto_P_Dport</th>\n",
       "      <th>Pkts_P_State_P_Protocol_P_DestIP</th>\n",
       "      <th>Pkts_P_State_P_Protocol_P_SrcIP</th>\n",
       "      <th>attack</th>\n",
       "      <th>category</th>\n",
       "      <th>subcategory</th>\n",
       "    </tr>\n",
       "  </thead>\n",
       "  <tbody>\n",
       "    <tr>\n",
       "      <th>0</th>\n",
       "      <td>3000001</td>\n",
       "      <td>1.528099e+09</td>\n",
       "      <td>e</td>\n",
       "      <td>1</td>\n",
       "      <td>udp</td>\n",
       "      <td>3</td>\n",
       "      <td>192.168.100.147</td>\n",
       "      <td>6226</td>\n",
       "      <td>192.168.100.3</td>\n",
       "      <td>80</td>\n",
       "      <td>...</td>\n",
       "      <td>1.09825</td>\n",
       "      <td>100</td>\n",
       "      <td>100</td>\n",
       "      <td>1.09827</td>\n",
       "      <td>1.09825</td>\n",
       "      <td>1500</td>\n",
       "      <td>1500</td>\n",
       "      <td>1</td>\n",
       "      <td>DDoS</td>\n",
       "      <td>UDP</td>\n",
       "    </tr>\n",
       "    <tr>\n",
       "      <th>1</th>\n",
       "      <td>3000002</td>\n",
       "      <td>1.528099e+09</td>\n",
       "      <td>e</td>\n",
       "      <td>1</td>\n",
       "      <td>udp</td>\n",
       "      <td>3</td>\n",
       "      <td>192.168.100.147</td>\n",
       "      <td>6227</td>\n",
       "      <td>192.168.100.3</td>\n",
       "      <td>80</td>\n",
       "      <td>...</td>\n",
       "      <td>1.09825</td>\n",
       "      <td>100</td>\n",
       "      <td>100</td>\n",
       "      <td>1.09827</td>\n",
       "      <td>1.09825</td>\n",
       "      <td>1500</td>\n",
       "      <td>1500</td>\n",
       "      <td>1</td>\n",
       "      <td>DDoS</td>\n",
       "      <td>UDP</td>\n",
       "    </tr>\n",
       "    <tr>\n",
       "      <th>2</th>\n",
       "      <td>3000003</td>\n",
       "      <td>1.528099e+09</td>\n",
       "      <td>e</td>\n",
       "      <td>1</td>\n",
       "      <td>udp</td>\n",
       "      <td>3</td>\n",
       "      <td>192.168.100.147</td>\n",
       "      <td>6228</td>\n",
       "      <td>192.168.100.3</td>\n",
       "      <td>80</td>\n",
       "      <td>...</td>\n",
       "      <td>1.09825</td>\n",
       "      <td>100</td>\n",
       "      <td>100</td>\n",
       "      <td>1.09827</td>\n",
       "      <td>1.09825</td>\n",
       "      <td>1500</td>\n",
       "      <td>1500</td>\n",
       "      <td>1</td>\n",
       "      <td>DDoS</td>\n",
       "      <td>UDP</td>\n",
       "    </tr>\n",
       "    <tr>\n",
       "      <th>3</th>\n",
       "      <td>3000004</td>\n",
       "      <td>1.528099e+09</td>\n",
       "      <td>e</td>\n",
       "      <td>1</td>\n",
       "      <td>udp</td>\n",
       "      <td>3</td>\n",
       "      <td>192.168.100.147</td>\n",
       "      <td>6229</td>\n",
       "      <td>192.168.100.3</td>\n",
       "      <td>80</td>\n",
       "      <td>...</td>\n",
       "      <td>1.09825</td>\n",
       "      <td>100</td>\n",
       "      <td>100</td>\n",
       "      <td>1.09827</td>\n",
       "      <td>1.09825</td>\n",
       "      <td>1500</td>\n",
       "      <td>1500</td>\n",
       "      <td>1</td>\n",
       "      <td>DDoS</td>\n",
       "      <td>UDP</td>\n",
       "    </tr>\n",
       "    <tr>\n",
       "      <th>4</th>\n",
       "      <td>3000005</td>\n",
       "      <td>1.528099e+09</td>\n",
       "      <td>e</td>\n",
       "      <td>1</td>\n",
       "      <td>udp</td>\n",
       "      <td>3</td>\n",
       "      <td>192.168.100.147</td>\n",
       "      <td>6230</td>\n",
       "      <td>192.168.100.3</td>\n",
       "      <td>80</td>\n",
       "      <td>...</td>\n",
       "      <td>1.09825</td>\n",
       "      <td>100</td>\n",
       "      <td>100</td>\n",
       "      <td>1.09827</td>\n",
       "      <td>1.09825</td>\n",
       "      <td>1500</td>\n",
       "      <td>1500</td>\n",
       "      <td>1</td>\n",
       "      <td>DDoS</td>\n",
       "      <td>UDP</td>\n",
       "    </tr>\n",
       "  </tbody>\n",
       "</table>\n",
       "<p>5 rows × 46 columns</p>\n",
       "</div>"
      ],
      "text/plain": [
       "   pkSeqID         stime flgs  flgs_number proto  proto_number  \\\n",
       "0  3000001  1.528099e+09    e            1   udp             3   \n",
       "1  3000002  1.528099e+09    e            1   udp             3   \n",
       "2  3000003  1.528099e+09    e            1   udp             3   \n",
       "3  3000004  1.528099e+09    e            1   udp             3   \n",
       "4  3000005  1.528099e+09    e            1   udp             3   \n",
       "\n",
       "             saddr sport          daddr dport  ...  AR_P_Proto_P_DstIP  \\\n",
       "0  192.168.100.147  6226  192.168.100.3    80  ...             1.09825   \n",
       "1  192.168.100.147  6227  192.168.100.3    80  ...             1.09825   \n",
       "2  192.168.100.147  6228  192.168.100.3    80  ...             1.09825   \n",
       "3  192.168.100.147  6229  192.168.100.3    80  ...             1.09825   \n",
       "4  192.168.100.147  6230  192.168.100.3    80  ...             1.09825   \n",
       "\n",
       "   N_IN_Conn_P_DstIP N_IN_Conn_P_SrcIP  AR_P_Proto_P_Sport  \\\n",
       "0                100               100             1.09827   \n",
       "1                100               100             1.09827   \n",
       "2                100               100             1.09827   \n",
       "3                100               100             1.09827   \n",
       "4                100               100             1.09827   \n",
       "\n",
       "   AR_P_Proto_P_Dport  Pkts_P_State_P_Protocol_P_DestIP  \\\n",
       "0             1.09825                              1500   \n",
       "1             1.09825                              1500   \n",
       "2             1.09825                              1500   \n",
       "3             1.09825                              1500   \n",
       "4             1.09825                              1500   \n",
       "\n",
       "   Pkts_P_State_P_Protocol_P_SrcIP  attack  category  subcategory  \n",
       "0                             1500       1      DDoS          UDP  \n",
       "1                             1500       1      DDoS          UDP  \n",
       "2                             1500       1      DDoS          UDP  \n",
       "3                             1500       1      DDoS          UDP  \n",
       "4                             1500       1      DDoS          UDP  \n",
       "\n",
       "[5 rows x 46 columns]"
      ]
     },
     "execution_count": 46,
     "metadata": {},
     "output_type": "execute_result"
    }
   ],
   "source": [
    "df.head()"
   ]
  },
  {
   "cell_type": "code",
   "execution_count": 47,
   "metadata": {},
   "outputs": [
    {
     "data": {
      "text/plain": [
       "array(['DDoS', 'Normal', 'Reconnaissance', 'Theft'], dtype=object)"
      ]
     },
     "execution_count": 47,
     "metadata": {},
     "output_type": "execute_result"
    }
   ],
   "source": [
    "df.category.unique()"
   ]
  },
  {
   "cell_type": "code",
   "execution_count": 48,
   "metadata": {},
   "outputs": [],
   "source": [
    "df['category'] = df['category'].apply(lambda x: x if x in ['DDoS'] else 'Other')"
   ]
  },
  {
   "cell_type": "code",
   "execution_count": 49,
   "metadata": {},
   "outputs": [
    {
     "name": "stderr",
     "output_type": "stream",
     "text": [
      "C:\\Users\\009kr\\AppData\\Local\\Temp\\ipykernel_15172\\355839375.py:3: FutureWarning: Downcasting behavior in `replace` is deprecated and will be removed in a future version. To retain the old behavior, explicitly call `result.infer_objects(copy=False)`. To opt-in to the future behavior, set `pd.set_option('future.no_silent_downcasting', True)`\n",
      "  df['category'] = df['category'].replace(category_map)\n"
     ]
    }
   ],
   "source": [
    "#label encode the output column\n",
    "category_map = {'DDoS':0, 'Other':1}\n",
    "df['category'] = df['category'].replace(category_map)"
   ]
  },
  {
   "cell_type": "code",
   "execution_count": 50,
   "metadata": {},
   "outputs": [
    {
     "data": {
      "text/plain": [
       "category\n",
       "0    576884\n",
       "1     91638\n",
       "Name: count, dtype: int64"
      ]
     },
     "execution_count": 50,
     "metadata": {},
     "output_type": "execute_result"
    }
   ],
   "source": [
    "df.category.value_counts()"
   ]
  },
  {
   "cell_type": "code",
   "execution_count": 51,
   "metadata": {},
   "outputs": [
    {
     "data": {
      "text/plain": [
       "668522"
      ]
     },
     "execution_count": 51,
     "metadata": {},
     "output_type": "execute_result"
    }
   ],
   "source": [
    "df.pkSeqID.unique().size"
   ]
  },
  {
   "cell_type": "markdown",
   "metadata": {},
   "source": [
    "Check information regarding the features"
   ]
  },
  {
   "cell_type": "code",
   "execution_count": 52,
   "metadata": {},
   "outputs": [
    {
     "name": "stdout",
     "output_type": "stream",
     "text": [
      "<class 'pandas.core.frame.DataFrame'>\n",
      "RangeIndex: 668522 entries, 0 to 668521\n",
      "Data columns (total 46 columns):\n",
      " #   Column                            Non-Null Count   Dtype  \n",
      "---  ------                            --------------   -----  \n",
      " 0   pkSeqID                           668522 non-null  int64  \n",
      " 1   stime                             668522 non-null  float64\n",
      " 2   flgs                              668522 non-null  object \n",
      " 3   flgs_number                       668522 non-null  int64  \n",
      " 4   proto                             668522 non-null  object \n",
      " 5   proto_number                      668522 non-null  int64  \n",
      " 6   saddr                             668522 non-null  object \n",
      " 7   sport                             668522 non-null  object \n",
      " 8   daddr                             668522 non-null  object \n",
      " 9   dport                             668522 non-null  object \n",
      " 10  pkts                              668522 non-null  int64  \n",
      " 11  bytes                             668522 non-null  int64  \n",
      " 12  state                             668522 non-null  object \n",
      " 13  state_number                      668522 non-null  int64  \n",
      " 14  ltime                             668522 non-null  float64\n",
      " 15  seq                               668522 non-null  int64  \n",
      " 16  dur                               668522 non-null  float64\n",
      " 17  mean                              668522 non-null  float64\n",
      " 18  stddev                            668522 non-null  float64\n",
      " 19  sum                               668522 non-null  float64\n",
      " 20  min                               668522 non-null  float64\n",
      " 21  max                               668522 non-null  float64\n",
      " 22  spkts                             668522 non-null  int64  \n",
      " 23  dpkts                             668522 non-null  int64  \n",
      " 24  sbytes                            668522 non-null  int64  \n",
      " 25  dbytes                            668522 non-null  int64  \n",
      " 26  rate                              668522 non-null  float64\n",
      " 27  srate                             668522 non-null  float64\n",
      " 28  drate                             668522 non-null  float64\n",
      " 29  TnBPSrcIP                         668522 non-null  int64  \n",
      " 30  TnBPDstIP                         668522 non-null  int64  \n",
      " 31  TnP_PSrcIP                        668522 non-null  int64  \n",
      " 32  TnP_PDstIP                        668522 non-null  int64  \n",
      " 33  TnP_PerProto                      668522 non-null  int64  \n",
      " 34  TnP_Per_Dport                     668522 non-null  int64  \n",
      " 35  AR_P_Proto_P_SrcIP                668522 non-null  float64\n",
      " 36  AR_P_Proto_P_DstIP                668522 non-null  float64\n",
      " 37  N_IN_Conn_P_DstIP                 668522 non-null  int64  \n",
      " 38  N_IN_Conn_P_SrcIP                 668522 non-null  int64  \n",
      " 39  AR_P_Proto_P_Sport                668522 non-null  float64\n",
      " 40  AR_P_Proto_P_Dport                668522 non-null  float64\n",
      " 41  Pkts_P_State_P_Protocol_P_DestIP  668522 non-null  int64  \n",
      " 42  Pkts_P_State_P_Protocol_P_SrcIP   668522 non-null  int64  \n",
      " 43  attack                            668522 non-null  int64  \n",
      " 44  category                          668522 non-null  int64  \n",
      " 45  subcategory                       668522 non-null  object \n",
      "dtypes: float64(15), int64(23), object(8)\n",
      "memory usage: 234.6+ MB\n"
     ]
    }
   ],
   "source": [
    "df.info()"
   ]
  },
  {
   "cell_type": "code",
   "execution_count": 53,
   "metadata": {},
   "outputs": [
    {
     "data": {
      "text/plain": [
       "0         False\n",
       "1         False\n",
       "2         False\n",
       "3         False\n",
       "4         False\n",
       "          ...  \n",
       "668517    False\n",
       "668518    False\n",
       "668519    False\n",
       "668520    False\n",
       "668521    False\n",
       "Length: 668522, dtype: bool"
      ]
     },
     "execution_count": 53,
     "metadata": {},
     "output_type": "execute_result"
    }
   ],
   "source": [
    "df['Pkts_P_State_P_Protocol_P_SrcIP'] == df['AR_P_Proto_P_SrcIP']"
   ]
  },
  {
   "cell_type": "markdown",
   "metadata": {},
   "source": [
    "Data Preprocessing"
   ]
  },
  {
   "cell_type": "code",
   "execution_count": 54,
   "metadata": {},
   "outputs": [
    {
     "data": {
      "text/plain": [
       "array(['e', 'eU', 'e &', 'e d', 'e   t', 'e s', 'e  D', 'e *', 'e g'],\n",
       "      dtype=object)"
      ]
     },
     "execution_count": 54,
     "metadata": {},
     "output_type": "execute_result"
    }
   ],
   "source": [
    "df.flgs.unique()"
   ]
  },
  {
   "cell_type": "code",
   "execution_count": 55,
   "metadata": {},
   "outputs": [],
   "source": [
    "#Features not useful\n",
    "df = df.drop(['flgs','flgs_number'], axis = 1)"
   ]
  },
  {
   "cell_type": "code",
   "execution_count": 56,
   "metadata": {},
   "outputs": [
    {
     "data": {
      "text/plain": [
       "array(['udp', 'arp', 'icmp', 'tcp', 'ipv6-icmp'], dtype=object)"
      ]
     },
     "execution_count": 56,
     "metadata": {},
     "output_type": "execute_result"
    }
   ],
   "source": [
    "df.proto.unique()"
   ]
  },
  {
   "cell_type": "code",
   "execution_count": 57,
   "metadata": {},
   "outputs": [],
   "source": [
    "#Similar feature exists in numeric format\n",
    "df = df.drop(['proto'],axis=1)"
   ]
  },
  {
   "cell_type": "code",
   "execution_count": 58,
   "metadata": {},
   "outputs": [
    {
     "data": {
      "text/plain": [
       "array([3, 2, 4, 1, 5], dtype=int64)"
      ]
     },
     "execution_count": 58,
     "metadata": {},
     "output_type": "execute_result"
    }
   ],
   "source": [
    "df.proto_number.unique()"
   ]
  },
  {
   "cell_type": "code",
   "execution_count": 59,
   "metadata": {},
   "outputs": [
    {
     "data": {
      "text/plain": [
       "array(['192.168.100.147', '192.168.100.148', '192.168.100.149',\n",
       "       '192.168.100.150', '192.168.100.3', '192.168.100.1',\n",
       "       '192.168.100.7', '192.168.100.4', '192.168.100.27',\n",
       "       'fe80::250:56ff:febe:254', '192.168.100.46', '192.168.100.6',\n",
       "       '192.168.100.5', 'fe80::250:56ff:febe:26db',\n",
       "       'fe80::250:56ff:febe:e9d9', 'fe80::c0c0:aa20:45b9:bdd9',\n",
       "       'fe80::250:56ff:febe:89ee', 'fe80::2c6a:ff9b:7e14:166a',\n",
       "       'fe80::250:56ff:febe:bf1a', 'fe80::250:56ff:febe:c038',\n",
       "       '192.168.100.55'], dtype=object)"
      ]
     },
     "execution_count": 59,
     "metadata": {},
     "output_type": "execute_result"
    }
   ],
   "source": [
    "df.saddr.unique()"
   ]
  },
  {
   "cell_type": "code",
   "execution_count": 60,
   "metadata": {},
   "outputs": [],
   "source": [
    "#Convert ip/mac addresses to a more useable format\n",
    "def conv_ip_addr(ip_addr):\n",
    "    ip_addr = ip_addr.replace(':','.')\n",
    "    temp = ip_addr.split('.')\n",
    "    op = ''.join(temp)\n",
    "    if op.isnumeric():\n",
    "        op = int(op)\n",
    "    else:\n",
    "        op =int(op, 16)\n",
    "    return op"
   ]
  },
  {
   "cell_type": "code",
   "execution_count": 61,
   "metadata": {},
   "outputs": [
    {
     "data": {
      "text/plain": [
       "dtype('O')"
      ]
     },
     "execution_count": 61,
     "metadata": {},
     "output_type": "execute_result"
    }
   ],
   "source": [
    "df.saddr.dtype"
   ]
  },
  {
   "cell_type": "code",
   "execution_count": 62,
   "metadata": {},
   "outputs": [],
   "source": [
    "df['saddr'] = df['saddr'].apply(conv_ip_addr)"
   ]
  },
  {
   "cell_type": "code",
   "execution_count": 63,
   "metadata": {},
   "outputs": [],
   "source": [
    "df['saddr'] = pd.to_numeric(df['saddr'], errors = 'coerce')"
   ]
  },
  {
   "cell_type": "code",
   "execution_count": 64,
   "metadata": {},
   "outputs": [],
   "source": [
    "df['daddr'] = df['daddr'].apply(conv_ip_addr)"
   ]
  },
  {
   "cell_type": "code",
   "execution_count": 65,
   "metadata": {},
   "outputs": [],
   "source": [
    "#Unable to find a better way to handle port addresses might change this\n",
    "df = df.drop(['dport','sport'],axis=1)"
   ]
  },
  {
   "cell_type": "code",
   "execution_count": 66,
   "metadata": {},
   "outputs": [
    {
     "data": {
      "text/plain": [
       "array(['INT', 'CON', 'URP', 'FIN', 'NRS', 'RST', 'ECO', 'TST', 'MAS',\n",
       "       'REQ'], dtype=object)"
      ]
     },
     "execution_count": 66,
     "metadata": {},
     "output_type": "execute_result"
    }
   ],
   "source": [
    "df.state.unique()"
   ]
  },
  {
   "cell_type": "code",
   "execution_count": 67,
   "metadata": {},
   "outputs": [],
   "source": [
    "#One hot encode state feature, might be important\n",
    "df = pd.get_dummies(df, columns=['state'], prefix=['state'])"
   ]
  },
  {
   "cell_type": "code",
   "execution_count": 68,
   "metadata": {},
   "outputs": [],
   "source": [
    "df = df.drop(['state_number'],axis=1)"
   ]
  },
  {
   "cell_type": "code",
   "execution_count": 69,
   "metadata": {},
   "outputs": [
    {
     "data": {
      "text/plain": [
       "array([1, 0], dtype=int64)"
      ]
     },
     "execution_count": 69,
     "metadata": {},
     "output_type": "execute_result"
    }
   ],
   "source": [
    "df.attack.unique()"
   ]
  },
  {
   "cell_type": "code",
   "execution_count": 70,
   "metadata": {},
   "outputs": [],
   "source": [
    "df = df.drop(['pkSeqID','attack','subcategory'], axis=1)"
   ]
  },
  {
   "cell_type": "code",
   "execution_count": 71,
   "metadata": {},
   "outputs": [
    {
     "name": "stdout",
     "output_type": "stream",
     "text": [
      "<class 'pandas.core.frame.DataFrame'>\n",
      "RangeIndex: 668522 entries, 0 to 668521\n",
      "Data columns (total 46 columns):\n",
      " #   Column                            Non-Null Count   Dtype  \n",
      "---  ------                            --------------   -----  \n",
      " 0   stime                             668522 non-null  float64\n",
      " 1   proto_number                      668522 non-null  int64  \n",
      " 2   saddr                             668522 non-null  float64\n",
      " 3   daddr                             668522 non-null  int64  \n",
      " 4   pkts                              668522 non-null  int64  \n",
      " 5   bytes                             668522 non-null  int64  \n",
      " 6   ltime                             668522 non-null  float64\n",
      " 7   seq                               668522 non-null  int64  \n",
      " 8   dur                               668522 non-null  float64\n",
      " 9   mean                              668522 non-null  float64\n",
      " 10  stddev                            668522 non-null  float64\n",
      " 11  sum                               668522 non-null  float64\n",
      " 12  min                               668522 non-null  float64\n",
      " 13  max                               668522 non-null  float64\n",
      " 14  spkts                             668522 non-null  int64  \n",
      " 15  dpkts                             668522 non-null  int64  \n",
      " 16  sbytes                            668522 non-null  int64  \n",
      " 17  dbytes                            668522 non-null  int64  \n",
      " 18  rate                              668522 non-null  float64\n",
      " 19  srate                             668522 non-null  float64\n",
      " 20  drate                             668522 non-null  float64\n",
      " 21  TnBPSrcIP                         668522 non-null  int64  \n",
      " 22  TnBPDstIP                         668522 non-null  int64  \n",
      " 23  TnP_PSrcIP                        668522 non-null  int64  \n",
      " 24  TnP_PDstIP                        668522 non-null  int64  \n",
      " 25  TnP_PerProto                      668522 non-null  int64  \n",
      " 26  TnP_Per_Dport                     668522 non-null  int64  \n",
      " 27  AR_P_Proto_P_SrcIP                668522 non-null  float64\n",
      " 28  AR_P_Proto_P_DstIP                668522 non-null  float64\n",
      " 29  N_IN_Conn_P_DstIP                 668522 non-null  int64  \n",
      " 30  N_IN_Conn_P_SrcIP                 668522 non-null  int64  \n",
      " 31  AR_P_Proto_P_Sport                668522 non-null  float64\n",
      " 32  AR_P_Proto_P_Dport                668522 non-null  float64\n",
      " 33  Pkts_P_State_P_Protocol_P_DestIP  668522 non-null  int64  \n",
      " 34  Pkts_P_State_P_Protocol_P_SrcIP   668522 non-null  int64  \n",
      " 35  category                          668522 non-null  int64  \n",
      " 36  state_CON                         668522 non-null  bool   \n",
      " 37  state_ECO                         668522 non-null  bool   \n",
      " 38  state_FIN                         668522 non-null  bool   \n",
      " 39  state_INT                         668522 non-null  bool   \n",
      " 40  state_MAS                         668522 non-null  bool   \n",
      " 41  state_NRS                         668522 non-null  bool   \n",
      " 42  state_REQ                         668522 non-null  bool   \n",
      " 43  state_RST                         668522 non-null  bool   \n",
      " 44  state_TST                         668522 non-null  bool   \n",
      " 45  state_URP                         668522 non-null  bool   \n",
      "dtypes: bool(10), float64(16), int64(20)\n",
      "memory usage: 190.0 MB\n"
     ]
    }
   ],
   "source": [
    "df.info()"
   ]
  },
  {
   "cell_type": "markdown",
   "metadata": {},
   "source": [
    "CNN without Feature selection"
   ]
  },
  {
   "cell_type": "code",
   "execution_count": 72,
   "metadata": {},
   "outputs": [],
   "source": [
    "col_to_scale = ['stime','saddr','daddr', 'pkts', 'bytes', 'ltime', 'dur', \n",
    "                'mean', 'stddev', 'sum', 'min', 'max', 'spkts', 'dpkts',\n",
    "                'sbytes', 'dbytes', 'rate', 'srate', 'drate', 'TnBPSrcIP', 'TnBPDstIP',\n",
    "                'TnP_PSrcIP', 'TnP_PDstIP', 'TnP_PerProto', 'TnP_Per_Dport',\n",
    "                'Pkts_P_State_P_Protocol_P_DestIP', 'Pkts_P_State_P_Protocol_P_SrcIP']"
   ]
  },
  {
   "cell_type": "code",
   "execution_count": 73,
   "metadata": {},
   "outputs": [],
   "source": [
    "m = []\n",
    "s = []\n",
    "\n",
    "for col in col_to_scale:\n",
    "    mu = df[col].mean()\n",
    "    m.append(mu)\n",
    "    stdd = df[col].std()\n",
    "    s.append(stdd)\n",
    "\n",
    "    df[col] = (df[col]-mu)/stdd"
   ]
  },
  {
   "cell_type": "code",
   "execution_count": 74,
   "metadata": {},
   "outputs": [
    {
     "data": {
      "text/plain": [
       "Index(['stime', 'proto_number', 'saddr', 'daddr', 'pkts', 'bytes', 'ltime',\n",
       "       'seq', 'dur', 'mean', 'stddev', 'sum', 'min', 'max', 'spkts', 'dpkts',\n",
       "       'sbytes', 'dbytes', 'rate', 'srate', 'drate', 'TnBPSrcIP', 'TnBPDstIP',\n",
       "       'TnP_PSrcIP', 'TnP_PDstIP', 'TnP_PerProto', 'TnP_Per_Dport',\n",
       "       'AR_P_Proto_P_SrcIP', 'AR_P_Proto_P_DstIP', 'N_IN_Conn_P_DstIP',\n",
       "       'N_IN_Conn_P_SrcIP', 'AR_P_Proto_P_Sport', 'AR_P_Proto_P_Dport',\n",
       "       'Pkts_P_State_P_Protocol_P_DestIP', 'Pkts_P_State_P_Protocol_P_SrcIP',\n",
       "       'category', 'state_CON', 'state_ECO', 'state_FIN', 'state_INT',\n",
       "       'state_MAS', 'state_NRS', 'state_REQ', 'state_RST', 'state_TST',\n",
       "       'state_URP'],\n",
       "      dtype='object')"
      ]
     },
     "execution_count": 74,
     "metadata": {},
     "output_type": "execute_result"
    }
   ],
   "source": [
    "df.columns"
   ]
  },
  {
   "cell_type": "code",
   "execution_count": 75,
   "metadata": {},
   "outputs": [],
   "source": [
    "cols_to_conv = ['state_CON', 'state_ECO', 'state_FIN', 'state_INT',\n",
    "       'state_MAS', 'state_NRS', 'state_REQ', 'state_RST', 'state_TST',\n",
    "       'state_URP']\n",
    "\n",
    "df[cols_to_conv] = df[cols_to_conv].astype(int)"
   ]
  },
  {
   "cell_type": "code",
   "execution_count": 76,
   "metadata": {},
   "outputs": [],
   "source": [
    "indices_to_remove = df[df['category'] == 0].index\n",
    "\n",
    "# Randomly select 106 indices from those\n",
    "indices_to_remove = np.random.choice(indices_to_remove, size=106, replace=False)\n",
    "\n",
    "# Remove the selected rows from the DataFrame\n",
    "df = df.drop(indices_to_remove)"
   ]
  },
  {
   "cell_type": "code",
   "execution_count": 77,
   "metadata": {},
   "outputs": [],
   "source": [
    "X = df.drop(['category'],axis=1)\n",
    "y = df['category']"
   ]
  },
  {
   "cell_type": "code",
   "execution_count": 78,
   "metadata": {},
   "outputs": [
    {
     "data": {
      "text/html": [
       "<div>\n",
       "<style scoped>\n",
       "    .dataframe tbody tr th:only-of-type {\n",
       "        vertical-align: middle;\n",
       "    }\n",
       "\n",
       "    .dataframe tbody tr th {\n",
       "        vertical-align: top;\n",
       "    }\n",
       "\n",
       "    .dataframe thead th {\n",
       "        text-align: right;\n",
       "    }\n",
       "</style>\n",
       "<table border=\"1\" class=\"dataframe\">\n",
       "  <thead>\n",
       "    <tr style=\"text-align: right;\">\n",
       "      <th></th>\n",
       "      <th>stime</th>\n",
       "      <th>proto_number</th>\n",
       "      <th>saddr</th>\n",
       "      <th>daddr</th>\n",
       "      <th>pkts</th>\n",
       "      <th>bytes</th>\n",
       "      <th>ltime</th>\n",
       "      <th>seq</th>\n",
       "      <th>dur</th>\n",
       "      <th>mean</th>\n",
       "      <th>...</th>\n",
       "      <th>state_CON</th>\n",
       "      <th>state_ECO</th>\n",
       "      <th>state_FIN</th>\n",
       "      <th>state_INT</th>\n",
       "      <th>state_MAS</th>\n",
       "      <th>state_NRS</th>\n",
       "      <th>state_REQ</th>\n",
       "      <th>state_RST</th>\n",
       "      <th>state_TST</th>\n",
       "      <th>state_URP</th>\n",
       "    </tr>\n",
       "  </thead>\n",
       "  <tbody>\n",
       "    <tr>\n",
       "      <th>0</th>\n",
       "      <td>0.394231</td>\n",
       "      <td>3</td>\n",
       "      <td>-0.003309</td>\n",
       "      <td>-0.12099</td>\n",
       "      <td>0.015126</td>\n",
       "      <td>-0.004334</td>\n",
       "      <td>0.394231</td>\n",
       "      <td>109223</td>\n",
       "      <td>0.004998</td>\n",
       "      <td>0.770506</td>\n",
       "      <td>...</td>\n",
       "      <td>0</td>\n",
       "      <td>0</td>\n",
       "      <td>0</td>\n",
       "      <td>1</td>\n",
       "      <td>0</td>\n",
       "      <td>0</td>\n",
       "      <td>0</td>\n",
       "      <td>0</td>\n",
       "      <td>0</td>\n",
       "      <td>0</td>\n",
       "    </tr>\n",
       "    <tr>\n",
       "      <th>1</th>\n",
       "      <td>0.394231</td>\n",
       "      <td>3</td>\n",
       "      <td>-0.003309</td>\n",
       "      <td>-0.12099</td>\n",
       "      <td>0.015126</td>\n",
       "      <td>-0.004334</td>\n",
       "      <td>0.394231</td>\n",
       "      <td>109224</td>\n",
       "      <td>0.004998</td>\n",
       "      <td>0.770506</td>\n",
       "      <td>...</td>\n",
       "      <td>0</td>\n",
       "      <td>0</td>\n",
       "      <td>0</td>\n",
       "      <td>1</td>\n",
       "      <td>0</td>\n",
       "      <td>0</td>\n",
       "      <td>0</td>\n",
       "      <td>0</td>\n",
       "      <td>0</td>\n",
       "      <td>0</td>\n",
       "    </tr>\n",
       "    <tr>\n",
       "      <th>2</th>\n",
       "      <td>0.394231</td>\n",
       "      <td>3</td>\n",
       "      <td>-0.003309</td>\n",
       "      <td>-0.12099</td>\n",
       "      <td>0.015126</td>\n",
       "      <td>-0.004334</td>\n",
       "      <td>0.394231</td>\n",
       "      <td>109225</td>\n",
       "      <td>0.004998</td>\n",
       "      <td>0.770506</td>\n",
       "      <td>...</td>\n",
       "      <td>0</td>\n",
       "      <td>0</td>\n",
       "      <td>0</td>\n",
       "      <td>1</td>\n",
       "      <td>0</td>\n",
       "      <td>0</td>\n",
       "      <td>0</td>\n",
       "      <td>0</td>\n",
       "      <td>0</td>\n",
       "      <td>0</td>\n",
       "    </tr>\n",
       "    <tr>\n",
       "      <th>3</th>\n",
       "      <td>0.394231</td>\n",
       "      <td>3</td>\n",
       "      <td>-0.003309</td>\n",
       "      <td>-0.12099</td>\n",
       "      <td>0.015126</td>\n",
       "      <td>-0.004334</td>\n",
       "      <td>0.394231</td>\n",
       "      <td>109226</td>\n",
       "      <td>0.004998</td>\n",
       "      <td>0.770506</td>\n",
       "      <td>...</td>\n",
       "      <td>0</td>\n",
       "      <td>0</td>\n",
       "      <td>0</td>\n",
       "      <td>1</td>\n",
       "      <td>0</td>\n",
       "      <td>0</td>\n",
       "      <td>0</td>\n",
       "      <td>0</td>\n",
       "      <td>0</td>\n",
       "      <td>0</td>\n",
       "    </tr>\n",
       "    <tr>\n",
       "      <th>4</th>\n",
       "      <td>0.394231</td>\n",
       "      <td>3</td>\n",
       "      <td>-0.003309</td>\n",
       "      <td>-0.12099</td>\n",
       "      <td>0.015126</td>\n",
       "      <td>-0.004334</td>\n",
       "      <td>0.394231</td>\n",
       "      <td>109227</td>\n",
       "      <td>0.004998</td>\n",
       "      <td>0.770506</td>\n",
       "      <td>...</td>\n",
       "      <td>0</td>\n",
       "      <td>0</td>\n",
       "      <td>0</td>\n",
       "      <td>1</td>\n",
       "      <td>0</td>\n",
       "      <td>0</td>\n",
       "      <td>0</td>\n",
       "      <td>0</td>\n",
       "      <td>0</td>\n",
       "      <td>0</td>\n",
       "    </tr>\n",
       "  </tbody>\n",
       "</table>\n",
       "<p>5 rows × 46 columns</p>\n",
       "</div>"
      ],
      "text/plain": [
       "      stime  proto_number     saddr    daddr      pkts     bytes     ltime  \\\n",
       "0  0.394231             3 -0.003309 -0.12099  0.015126 -0.004334  0.394231   \n",
       "1  0.394231             3 -0.003309 -0.12099  0.015126 -0.004334  0.394231   \n",
       "2  0.394231             3 -0.003309 -0.12099  0.015126 -0.004334  0.394231   \n",
       "3  0.394231             3 -0.003309 -0.12099  0.015126 -0.004334  0.394231   \n",
       "4  0.394231             3 -0.003309 -0.12099  0.015126 -0.004334  0.394231   \n",
       "\n",
       "      seq       dur      mean  ...  state_CON  state_ECO  state_FIN  \\\n",
       "0  109223  0.004998  0.770506  ...          0          0          0   \n",
       "1  109224  0.004998  0.770506  ...          0          0          0   \n",
       "2  109225  0.004998  0.770506  ...          0          0          0   \n",
       "3  109226  0.004998  0.770506  ...          0          0          0   \n",
       "4  109227  0.004998  0.770506  ...          0          0          0   \n",
       "\n",
       "   state_INT  state_MAS  state_NRS  state_REQ  state_RST  state_TST  state_URP  \n",
       "0          1          0          0          0          0          0          0  \n",
       "1          1          0          0          0          0          0          0  \n",
       "2          1          0          0          0          0          0          0  \n",
       "3          1          0          0          0          0          0          0  \n",
       "4          1          0          0          0          0          0          0  \n",
       "\n",
       "[5 rows x 46 columns]"
      ]
     },
     "execution_count": 78,
     "metadata": {},
     "output_type": "execute_result"
    }
   ],
   "source": [
    "df.head()"
   ]
  },
  {
   "cell_type": "code",
   "execution_count": 79,
   "metadata": {},
   "outputs": [],
   "source": [
    "X = df.drop(['category'], axis=1)\n",
    "y = df['category']"
   ]
  },
  {
   "cell_type": "code",
   "execution_count": 38,
   "metadata": {},
   "outputs": [],
   "source": [
    "xtrain, xtest, ytrain, ytest = tts(X,y,test_size=0.2,random_state=42)"
   ]
  },
  {
   "cell_type": "code",
   "execution_count": 80,
   "metadata": {},
   "outputs": [],
   "source": [
    "import torch\n",
    "import torch.nn as nn\n",
    "import torch.nn.functional as F\n",
    "from torch.utils.data import DataLoader, TensorDataset\n",
    "\n",
    "device = torch.device('cuda' if torch.cuda.is_available() else 'cpu')"
   ]
  },
  {
   "cell_type": "code",
   "execution_count": 81,
   "metadata": {},
   "outputs": [
    {
     "data": {
      "text/plain": [
       "device(type='cuda')"
      ]
     },
     "execution_count": 81,
     "metadata": {},
     "output_type": "execute_result"
    }
   ],
   "source": [
    "device"
   ]
  },
  {
   "cell_type": "code",
   "execution_count": 35,
   "metadata": {},
   "outputs": [
    {
     "ename": "TypeError",
     "evalue": "can't convert np.ndarray of type numpy.object_. The only supported types are: float64, float32, float16, complex64, complex128, int64, int32, int16, int8, uint64, uint32, uint16, uint8, and bool.",
     "output_type": "error",
     "traceback": [
      "\u001b[1;31m---------------------------------------------------------------------------\u001b[0m",
      "\u001b[1;31mTypeError\u001b[0m                                 Traceback (most recent call last)",
      "Cell \u001b[1;32mIn [35], line 1\u001b[0m\n\u001b[1;32m----> 1\u001b[0m xtrain \u001b[38;5;241m=\u001b[39m \u001b[43mtorch\u001b[49m\u001b[38;5;241;43m.\u001b[39;49m\u001b[43mFloatTensor\u001b[49m\u001b[43m(\u001b[49m\u001b[43mxtrain\u001b[49m\u001b[38;5;241;43m.\u001b[39;49m\u001b[43mvalues\u001b[49m\u001b[43m)\u001b[49m\u001b[38;5;241m.\u001b[39munsqueeze(\u001b[38;5;241m1\u001b[39m)\n\u001b[0;32m      2\u001b[0m ytrain \u001b[38;5;241m=\u001b[39m torch\u001b[38;5;241m.\u001b[39mLongTensor(ytrain\u001b[38;5;241m.\u001b[39mvalues)\n\u001b[0;32m      3\u001b[0m xtest \u001b[38;5;241m=\u001b[39m torch\u001b[38;5;241m.\u001b[39mFloatTensor(xtest\u001b[38;5;241m.\u001b[39mvalues)\u001b[38;5;241m.\u001b[39munsqueeze(\u001b[38;5;241m1\u001b[39m)\n",
      "\u001b[1;31mTypeError\u001b[0m: can't convert np.ndarray of type numpy.object_. The only supported types are: float64, float32, float16, complex64, complex128, int64, int32, int16, int8, uint64, uint32, uint16, uint8, and bool."
     ]
    }
   ],
   "source": [
    "xtrain = torch.FloatTensor(xtrain.values).unsqueeze(1)\n",
    "ytrain = torch.LongTensor(ytrain.values)\n",
    "xtest = torch.FloatTensor(xtest.values).unsqueeze(1)\n",
    "ytest = torch.LongTensor(ytest.values)"
   ]
  },
  {
   "cell_type": "code",
   "execution_count": null,
   "metadata": {},
   "outputs": [],
   "source": [
    "xtrain, xtest, ytrain, ytest = xtrain.to(device), xtest.to(device),ytrain.to(device), ytest.to(device)"
   ]
  },
  {
   "cell_type": "code",
   "execution_count": null,
   "metadata": {},
   "outputs": [],
   "source": [
    "#xtrain, xtest = xtrain.reshape(-1,1,45), xtest.reshape(-1,1,45)"
   ]
  },
  {
   "cell_type": "code",
   "execution_count": null,
   "metadata": {},
   "outputs": [
    {
     "data": {
      "text/plain": [
       "torch.Size([16000, 1, 45])"
      ]
     },
     "execution_count": 120,
     "metadata": {},
     "output_type": "execute_result"
    }
   ],
   "source": [
    "xtrain.shape"
   ]
  },
  {
   "cell_type": "code",
   "execution_count": null,
   "metadata": {},
   "outputs": [],
   "source": [
    "train_dataset = TensorDataset(xtrain, ytrain)"
   ]
  },
  {
   "cell_type": "code",
   "execution_count": 44,
   "metadata": {},
   "outputs": [
    {
     "ename": "NameError",
     "evalue": "name 'train_dataset' is not defined",
     "output_type": "error",
     "traceback": [
      "\u001b[1;31m---------------------------------------------------------------------------\u001b[0m",
      "\u001b[1;31mNameError\u001b[0m                                 Traceback (most recent call last)",
      "Cell \u001b[1;32mIn [44], line 2\u001b[0m\n\u001b[0;32m      1\u001b[0m batch_size \u001b[38;5;241m=\u001b[39m \u001b[38;5;241m64\u001b[39m\n\u001b[1;32m----> 2\u001b[0m train_loader \u001b[38;5;241m=\u001b[39m DataLoader(dataset\u001b[38;5;241m=\u001b[39m\u001b[43mtrain_dataset\u001b[49m, batch_size\u001b[38;5;241m=\u001b[39mbatch_size, shuffle\u001b[38;5;241m=\u001b[39m\u001b[38;5;28;01mTrue\u001b[39;00m)\n",
      "\u001b[1;31mNameError\u001b[0m: name 'train_dataset' is not defined"
     ]
    }
   ],
   "source": [
    "batch_size = 64\n",
    "train_loader = DataLoader(dataset=train_dataset, batch_size=batch_size, shuffle=True)"
   ]
  },
  {
   "cell_type": "code",
   "execution_count": 45,
   "metadata": {},
   "outputs": [],
   "source": [
    "num_epochs = 21\n",
    "learning_rate = 0.001"
   ]
  },
  {
   "cell_type": "code",
   "execution_count": 46,
   "metadata": {},
   "outputs": [],
   "source": [
    "class PrintShape(nn.Module):\n",
    "    def forward(self, x):\n",
    "        print(x.shape)\n",
    "        return x"
   ]
  },
  {
   "cell_type": "code",
   "execution_count": 47,
   "metadata": {},
   "outputs": [
    {
     "data": {
      "text/plain": [
       "(668522, 46)"
      ]
     },
     "execution_count": 47,
     "metadata": {},
     "output_type": "execute_result"
    }
   ],
   "source": [
    "df.shape"
   ]
  },
  {
   "cell_type": "code",
   "execution_count": 82,
   "metadata": {},
   "outputs": [],
   "source": [
    "class Multiclass(nn.Module):\n",
    "    def __init__(self):\n",
    "        super(Multiclass, self).__init__()\n",
    "        self.layer1 = nn.Sequential(\n",
    "        nn.Conv1d(in_channels=1, out_channels=15, kernel_size=3, stride=1, padding=1),\n",
    "        #PrintShape(),\n",
    "        nn.BatchNorm1d(15),\n",
    "        nn.ReLU(),\n",
    "        nn.MaxPool1d(kernel_size=2)\n",
    "        )\n",
    "        \n",
    "        self.layer2 = nn.Sequential(\n",
    "        nn.Conv1d(in_channels=15, out_channels=32, kernel_size=3, stride=1, padding=1),\n",
    "        nn.BatchNorm1d(32),\n",
    "       # pool2 = nn.MaxPool1d(kernel_size=2),\n",
    "        nn.ReLU()\n",
    "        )\n",
    "        \n",
    "        self.layer3 = nn.Sequential(\n",
    "        nn.Linear(32*22, 64),\n",
    "        nn.Dropout(0.5),\n",
    "        nn.ReLU(),\n",
    "        nn.Linear(64,2)\n",
    "        )\n",
    "        \n",
    "    \n",
    "    def forward(self, x):\n",
    "        #print(\"Initial input shape:\", x.shape)\n",
    "        x = self.layer1(x)\n",
    "        x = self.layer2(x)\n",
    "        #print(\"Before reshaping:\", x.shape)\n",
    "        x = x.view(x.size(0),-1)\n",
    "        #print(\"After reshaping:\", x.shape)\n",
    "        x = self.layer3(x)\n",
    "        return x"
   ]
  },
  {
   "cell_type": "code",
   "execution_count": 83,
   "metadata": {},
   "outputs": [],
   "source": [
    "model = Multiclass().to(device)\n",
    "model2 = Multiclass().to(device)"
   ]
  },
  {
   "cell_type": "code",
   "execution_count": 144,
   "metadata": {},
   "outputs": [],
   "source": [
    "class CrowSearchOptimizer(torch.optim.Optimizer):\n",
    "    def __init__(self, params, lr=0.01, alpha=0.1, beta=0.1, gamma=0.1):\n",
    "        defaults = dict(lr=lr, alpha=alpha, beta=beta, gamma=gamma)\n",
    "        super(CrowSearchOptimizer, self).__init__(params, defaults)\n",
    "        \n",
    "    def step(self, closure=None):\n",
    "        loss = None\n",
    "        if closure is not None:\n",
    "            loss = closure()\n",
    "\n",
    "        for group in self.param_groups:\n",
    "            for p in group['params']:\n",
    "                if p.grad is None:\n",
    "                    continue\n",
    "                d_p = p.grad.data\n",
    "                \n",
    "                # Perform Crow Search Algorithm update\n",
    "                alpha = group['alpha']\n",
    "                beta = group['beta']\n",
    "                gamma = group['gamma']\n",
    "                lr = group['lr']\n",
    "                \n",
    "                # Scale the gradient\n",
    "                scaled_grad = lr * d_p\n",
    "                \n",
    "                # Add noise terms\n",
    "                noise_alpha = alpha * torch.randn_like(p.data)\n",
    "                noise_beta = beta * torch.randn_like(p.data) * scaled_grad\n",
    "                noise_gamma = gamma * torch.randn_like(p.data) * scaled_grad\n",
    "                \n",
    "                # Update parameter\n",
    "                p.data.add_(noise_alpha + noise_beta + noise_gamma)\n",
    "                \n",
    "                # Clip parameter to prevent large changes\n",
    "                if 'clip' in group and group['clip'] is not None:\n",
    "                    p.data.clamp_(-group['clip'], group['clip'])\n",
    "\n",
    "        return loss\n",
    "\n",
    "# Define your optimizer\n",
    "optimizer = CrowSearchOptimizer(model.parameters(), lr=0.01, alpha=0.1, beta=0.1, gamma=0.1)"
   ]
  },
  {
   "cell_type": "code",
   "execution_count": 145,
   "metadata": {},
   "outputs": [],
   "source": [
    "criterion = nn.CrossEntropyLoss()\n",
    "# optimizer = torch.optim.Adam(model.parameters(), lr = learning_rate)"
   ]
  },
  {
   "cell_type": "code",
   "execution_count": 146,
   "metadata": {},
   "outputs": [
    {
     "name": "stderr",
     "output_type": "stream",
     "text": [
      "Epoch 0: 100%|██████████| 250/250 [00:05<00:00, 41.99it/s]\n"
     ]
    },
    {
     "name": "stdout",
     "output_type": "stream",
     "text": [
      "Epoch 0 --- Avg loss = 292.2984\n",
      "New Lowest model: Epoch 0\n"
     ]
    },
    {
     "name": "stderr",
     "output_type": "stream",
     "text": [
      "Epoch 1: 100%|██████████| 250/250 [00:05<00:00, 42.98it/s]\n"
     ]
    },
    {
     "name": "stdout",
     "output_type": "stream",
     "text": [
      "Epoch 1 --- Avg loss = 709.6061\n"
     ]
    },
    {
     "name": "stderr",
     "output_type": "stream",
     "text": [
      "Epoch 2: 100%|██████████| 250/250 [00:05<00:00, 43.94it/s]\n"
     ]
    },
    {
     "name": "stdout",
     "output_type": "stream",
     "text": [
      "Epoch 2 --- Avg loss = 965.8085\n"
     ]
    },
    {
     "name": "stderr",
     "output_type": "stream",
     "text": [
      "Epoch 3: 100%|██████████| 250/250 [00:05<00:00, 43.07it/s]\n"
     ]
    },
    {
     "name": "stdout",
     "output_type": "stream",
     "text": [
      "Epoch 3 --- Avg loss = 2516.6366\n"
     ]
    },
    {
     "name": "stderr",
     "output_type": "stream",
     "text": [
      "Epoch 4: 100%|██████████| 250/250 [00:04<00:00, 60.72it/s]\n"
     ]
    },
    {
     "name": "stdout",
     "output_type": "stream",
     "text": [
      "Epoch 4 --- Avg loss = 3208.1493\n"
     ]
    },
    {
     "name": "stderr",
     "output_type": "stream",
     "text": [
      "Epoch 5: 100%|██████████| 250/250 [00:05<00:00, 49.46it/s]\n"
     ]
    },
    {
     "name": "stdout",
     "output_type": "stream",
     "text": [
      "Epoch 5 --- Avg loss = 5407.4232\n"
     ]
    },
    {
     "name": "stderr",
     "output_type": "stream",
     "text": [
      "Epoch 6: 100%|██████████| 250/250 [00:06<00:00, 40.77it/s]\n"
     ]
    },
    {
     "name": "stdout",
     "output_type": "stream",
     "text": [
      "Epoch 6 --- Avg loss = 6916.2059\n"
     ]
    },
    {
     "name": "stderr",
     "output_type": "stream",
     "text": [
      "Epoch 7: 100%|██████████| 250/250 [00:05<00:00, 46.39it/s]\n"
     ]
    },
    {
     "name": "stdout",
     "output_type": "stream",
     "text": [
      "Epoch 7 --- Avg loss = 7659.0482\n"
     ]
    },
    {
     "name": "stderr",
     "output_type": "stream",
     "text": [
      "Epoch 8: 100%|██████████| 250/250 [00:04<00:00, 56.20it/s]\n"
     ]
    },
    {
     "name": "stdout",
     "output_type": "stream",
     "text": [
      "Epoch 8 --- Avg loss = 7444.1410\n"
     ]
    },
    {
     "name": "stderr",
     "output_type": "stream",
     "text": [
      "Epoch 9: 100%|██████████| 250/250 [00:06<00:00, 40.32it/s]\n"
     ]
    },
    {
     "name": "stdout",
     "output_type": "stream",
     "text": [
      "Epoch 9 --- Avg loss = 8985.6209\n"
     ]
    },
    {
     "name": "stderr",
     "output_type": "stream",
     "text": [
      "Epoch 10: 100%|██████████| 250/250 [00:05<00:00, 44.96it/s]\n"
     ]
    },
    {
     "name": "stdout",
     "output_type": "stream",
     "text": [
      "Epoch 10 --- Avg loss = 12510.3901\n"
     ]
    },
    {
     "name": "stderr",
     "output_type": "stream",
     "text": [
      "Epoch 11: 100%|██████████| 250/250 [00:05<00:00, 42.82it/s]\n"
     ]
    },
    {
     "name": "stdout",
     "output_type": "stream",
     "text": [
      "Epoch 11 --- Avg loss = 18877.9026\n"
     ]
    },
    {
     "name": "stderr",
     "output_type": "stream",
     "text": [
      "Epoch 12: 100%|██████████| 250/250 [00:05<00:00, 46.78it/s]\n"
     ]
    },
    {
     "name": "stdout",
     "output_type": "stream",
     "text": [
      "Epoch 12 --- Avg loss = 26751.7138\n"
     ]
    },
    {
     "name": "stderr",
     "output_type": "stream",
     "text": [
      "Epoch 13: 100%|██████████| 250/250 [00:04<00:00, 54.21it/s]\n"
     ]
    },
    {
     "name": "stdout",
     "output_type": "stream",
     "text": [
      "Epoch 13 --- Avg loss = 32950.7305\n"
     ]
    },
    {
     "name": "stderr",
     "output_type": "stream",
     "text": [
      "Epoch 14: 100%|██████████| 250/250 [00:04<00:00, 55.10it/s]\n"
     ]
    },
    {
     "name": "stdout",
     "output_type": "stream",
     "text": [
      "Epoch 14 --- Avg loss = 33502.6258\n"
     ]
    },
    {
     "name": "stderr",
     "output_type": "stream",
     "text": [
      "Epoch 15: 100%|██████████| 250/250 [00:04<00:00, 56.35it/s]\n"
     ]
    },
    {
     "name": "stdout",
     "output_type": "stream",
     "text": [
      "Epoch 15 --- Avg loss = 31863.2652\n"
     ]
    },
    {
     "name": "stderr",
     "output_type": "stream",
     "text": [
      "Epoch 16: 100%|██████████| 250/250 [00:04<00:00, 62.21it/s]\n"
     ]
    },
    {
     "name": "stdout",
     "output_type": "stream",
     "text": [
      "Epoch 16 --- Avg loss = 36840.2522\n"
     ]
    },
    {
     "name": "stderr",
     "output_type": "stream",
     "text": [
      "Epoch 17: 100%|██████████| 250/250 [00:04<00:00, 56.13it/s]\n"
     ]
    },
    {
     "name": "stdout",
     "output_type": "stream",
     "text": [
      "Epoch 17 --- Avg loss = 45721.6944\n"
     ]
    },
    {
     "name": "stderr",
     "output_type": "stream",
     "text": [
      "Epoch 18: 100%|██████████| 250/250 [00:04<00:00, 52.91it/s]\n"
     ]
    },
    {
     "name": "stdout",
     "output_type": "stream",
     "text": [
      "Epoch 18 --- Avg loss = 50556.1480\n"
     ]
    },
    {
     "name": "stderr",
     "output_type": "stream",
     "text": [
      "Epoch 19: 100%|██████████| 250/250 [00:05<00:00, 45.03it/s]\n"
     ]
    },
    {
     "name": "stdout",
     "output_type": "stream",
     "text": [
      "Epoch 19 --- Avg loss = 59467.8485\n"
     ]
    },
    {
     "name": "stderr",
     "output_type": "stream",
     "text": [
      "Epoch 20: 100%|██████████| 250/250 [00:04<00:00, 50.67it/s]"
     ]
    },
    {
     "name": "stdout",
     "output_type": "stream",
     "text": [
      "Epoch 20 --- Avg loss = 51786.7446\n"
     ]
    },
    {
     "name": "stderr",
     "output_type": "stream",
     "text": [
      "\n"
     ]
    }
   ],
   "source": [
    "from tqdm import tqdm\n",
    "\n",
    "lowest_loss = float('inf')\n",
    "\n",
    "# Training loop\n",
    "for e in range(num_epochs):\n",
    "    total_loss = 0.0\n",
    "    for batch_X, batch_y in tqdm(train_loader, desc=f\"Epoch {e}\"):\n",
    "        batch_X, batch_y = batch_X.to(device), batch_y.to(device)\n",
    "\n",
    "        outputs = model(batch_X)\n",
    "        loss = criterion(outputs, batch_y)\n",
    "\n",
    "        # Check for NaN values in loss\n",
    "        if torch.isnan(loss):\n",
    "            print(\"NaN loss detected. Skipping batch...\")\n",
    "            continue\n",
    "\n",
    "        optimizer.zero_grad()\n",
    "        loss.backward()\n",
    "\n",
    "        # Gradient clipping\n",
    "        torch.nn.utils.clip_grad_norm_(model.parameters(), max_norm=1.0)\n",
    "\n",
    "        optimizer.step()\n",
    "\n",
    "        total_loss += loss.item()\n",
    "\n",
    "    avg_loss = total_loss / len(train_loader)\n",
    "    print(f\"Epoch {e} --- Avg loss = {avg_loss:.4f}\")\n",
    "\n",
    "    # Check if current epoch's loss is lower than lowest loss\n",
    "    if avg_loss < lowest_loss:\n",
    "        lowest_loss = avg_loss\n",
    "        # Save the state dictionary of the model\n",
    "        print(f'New Lowest model: Epoch {e}')\n",
    "        torch.save(model.state_dict(), 'best_model.pth')\n"
   ]
  },
  {
   "cell_type": "code",
   "execution_count": 130,
   "metadata": {},
   "outputs": [
    {
     "data": {
      "text/plain": [
       "<All keys matched successfully>"
      ]
     },
     "execution_count": 130,
     "metadata": {},
     "output_type": "execute_result"
    }
   ],
   "source": [
    "best_model = Multiclass().to(device)\n",
    "best_model.load_state_dict(torch.load('best_model.pth'))"
   ]
  },
  {
   "cell_type": "code",
   "execution_count": 131,
   "metadata": {},
   "outputs": [
    {
     "name": "stderr",
     "output_type": "stream",
     "text": [
      "Epoch 0:   0%|          | 0/250 [00:00<?, ?it/s]"
     ]
    },
    {
     "name": "stderr",
     "output_type": "stream",
     "text": [
      "Epoch 0: 100%|██████████| 250/250 [00:04<00:00, 54.94it/s]\n"
     ]
    },
    {
     "name": "stdout",
     "output_type": "stream",
     "text": [
      "Epoch 0 --- Avg loss = 0.1700\n"
     ]
    },
    {
     "name": "stderr",
     "output_type": "stream",
     "text": [
      "Epoch 1: 100%|██████████| 250/250 [00:03<00:00, 72.32it/s]"
     ]
    },
    {
     "name": "stdout",
     "output_type": "stream",
     "text": [
      "Epoch 1 --- Avg loss = 0.1051\n"
     ]
    },
    {
     "name": "stderr",
     "output_type": "stream",
     "text": [
      "\n"
     ]
    }
   ],
   "source": [
    "optimizer = torch.optim.Adam(model2.parameters(), lr = learning_rate)\n",
    "for e in range(num_epochs):\n",
    "    total_loss = 0.0\n",
    "    for batch_X, batch_y in tqdm(train_loader, desc=f\"Epoch {e}\"):\n",
    "        #print(\"Input data shape:\", batch_X.shape)\n",
    "        batch_X, batch_y = batch_X.to(device), batch_y.to(device)\n",
    "\n",
    "        outputs = model2(batch_X)\n",
    "        loss = criterion(outputs, batch_y)\n",
    "\n",
    "        optimizer.zero_grad()\n",
    "        loss.backward()\n",
    "        optimizer.step()\n",
    "\n",
    "        total_loss += loss.item()\n",
    "        \n",
    "        #print(f\"Epoch {e}, loss = {loss.item():.4f}\")\n",
    "    avg_loss = total_loss/len(train_loader)\n",
    "    print(f\"Epoch {e} --- Avg loss = {avg_loss:.4f}\")"
   ]
  },
  {
   "cell_type": "code",
   "execution_count": 132,
   "metadata": {},
   "outputs": [],
   "source": [
    "test_dataset = TensorDataset(xtest, ytest)\n",
    "test_loader = DataLoader(test_dataset, batch_size=32)"
   ]
  },
  {
   "cell_type": "code",
   "execution_count": 133,
   "metadata": {},
   "outputs": [
    {
     "name": "stdout",
     "output_type": "stream",
     "text": [
      "Accuracy of the model on the test data: 85.42%\n"
     ]
    }
   ],
   "source": [
    "best_model.eval() \n",
    "true = [] \n",
    "pred = []\n",
    "correct_predictions = 0\n",
    "total_predictions = 0\n",
    "\n",
    "with torch.no_grad():  \n",
    "    for data, labels in test_loader:\n",
    "        data, labels = data.to(device), labels.to(device) \n",
    "        outputs = best_model(data)\n",
    "        _, predicted = torch.max(outputs, 1) \n",
    "\n",
    "        pred.extend(predicted.cpu().tolist())\n",
    "        true.extend(labels.tolist())\n",
    "\n",
    "        total_predictions += labels.size(0)\n",
    "        correct_predictions += (predicted == labels).sum().item()\n",
    "\n",
    "accuracy = (correct_predictions / total_predictions) * 100\n",
    "print(f'Accuracy of the model on the test data: {accuracy:.2f}%')"
   ]
  },
  {
   "cell_type": "code",
   "execution_count": 134,
   "metadata": {},
   "outputs": [
    {
     "data": {
      "text/plain": [
       "Counter({0: 1474, 1: 2526})"
      ]
     },
     "execution_count": 134,
     "metadata": {},
     "output_type": "execute_result"
    }
   ],
   "source": [
    "from collections import Counter\n",
    "counter = Counter(pred)\n",
    "counter"
   ]
  },
  {
   "cell_type": "code",
   "execution_count": 135,
   "metadata": {},
   "outputs": [
    {
     "name": "stdout",
     "output_type": "stream",
     "text": [
      "Accuracy of the model on the test data: 94.03%\n"
     ]
    }
   ],
   "source": [
    "model2.eval() \n",
    "true = [] \n",
    "pred = []\n",
    "correct_predictions = 0\n",
    "total_predictions = 0\n",
    "\n",
    "with torch.no_grad():  \n",
    "    for data, labels in test_loader:\n",
    "        data, labels = data.to(device), labels.to(device) \n",
    "        outputs = model2(data)\n",
    "        _, predicted = torch.max(outputs, 1) \n",
    "\n",
    "        pred.extend(predicted.cpu().tolist())\n",
    "        true.extend(labels.tolist())\n",
    "\n",
    "        total_predictions += labels.size(0)\n",
    "        correct_predictions += (predicted == labels).sum().item()\n",
    "\n",
    "accuracy = (correct_predictions / total_predictions) * 100\n",
    "print(f'Accuracy of the model on the test data: {accuracy:.2f}%')"
   ]
  },
  {
   "cell_type": "code",
   "execution_count": 136,
   "metadata": {},
   "outputs": [
    {
     "data": {
      "text/plain": [
       "Counter({0: 1816, 1: 2184})"
      ]
     },
     "execution_count": 136,
     "metadata": {},
     "output_type": "execute_result"
    }
   ],
   "source": [
    "from collections import Counter\n",
    "counter = Counter(pred)\n",
    "counter"
   ]
  },
  {
   "cell_type": "code",
   "execution_count": 137,
   "metadata": {},
   "outputs": [],
   "source": [
    "cm = confusion_matrix(true, pred)"
   ]
  },
  {
   "cell_type": "code",
   "execution_count": 138,
   "metadata": {},
   "outputs": [
    {
     "data": {
      "image/png": "[encoded data removed]",
      "text/plain": [
       "<Figure size 1000x700 with 2 Axes>"
      ]
     },
     "metadata": {},
     "output_type": "display_data"
    }
   ],
   "source": [
    "def plot_confusion_matrix(cm, classes, title='Confusion Matrix', cmap=plt.cm.Blues):\n",
    "    plt.figure(figsize=(10, 7))\n",
    "    plt.imshow(cm, interpolation='nearest', cmap=cmap)\n",
    "    plt.title(title)\n",
    "    plt.colorbar()\n",
    "    tick_marks = np.arange(len(classes))\n",
    "    plt.xticks(tick_marks, classes, rotation=45)\n",
    "    plt.yticks(tick_marks, classes)\n",
    "\n",
    "    thresh = cm.max() / 2.\n",
    "    for i, j in itertools.product(range(cm.shape[0]), range(cm.shape[1])):\n",
    "        plt.text(j, i, format(cm[i, j], 'd'),\n",
    "                 horizontalalignment=\"center\",\n",
    "                 color=\"white\" if cm[i, j] > thresh else \"black\")\n",
    "\n",
    "    plt.tight_layout()\n",
    "    plt.ylabel('True label')\n",
    "    plt.xlabel('Predicted label')\n",
    "    plt.show()\n",
    "\n",
    "# Assuming your classes are named 'DDOS', 'Normal', and 'Other'\n",
    "plot_confusion_matrix(cm, classes=['DDOS', 'Other'])"
   ]
  },
  {
   "cell_type": "code",
   "execution_count": 139,
   "metadata": {},
   "outputs": [
    {
     "name": "stdout",
     "output_type": "stream",
     "text": [
      "F1 Score: 0.9421\n"
     ]
    }
   ],
   "source": [
    "from sklearn.metrics import f1_score\n",
    "\n",
    "f1 = f1_score(true, pred)\n",
    "print(f\"F1 Score: {f1:.4f}\")"
   ]
  },
  {
   "cell_type": "code",
   "execution_count": null,
   "metadata": {},
   "outputs": [],
   "source": [
    "torch.save(model, 'ddos_cnn_model.pth')"
   ]
  },
  {
   "cell_type": "markdown",
   "metadata": {},
   "source": [
    "### Crow Search Optimization"
   ]
  },
  {
   "cell_type": "code",
   "execution_count": 86,
   "metadata": {},
   "outputs": [],
   "source": [
    "m=35  # Problem dimension (number of decision variables\n",
    "Ap=0.2  # Awareness probability\n",
    "fl=2   # Flight length (fl)\n",
    "wf=1.2# wf is used to control the importance of classification accuracy and number of selected features.\n",
    "d=48# Flock (population) size\n",
    "lt=48"
   ]
  },
  {
   "cell_type": "code",
   "execution_count": 87,
   "metadata": {},
   "outputs": [
    {
     "data": {
      "text/plain": [
       "47"
      ]
     },
     "execution_count": 87,
     "metadata": {},
     "output_type": "execute_result"
    }
   ],
   "source": [
    "features=[i for i in range(0,lt)]\n",
    "features[-1]"
   ]
  },
  {
   "cell_type": "code",
   "execution_count": 88,
   "metadata": {},
   "outputs": [],
   "source": [
    "imo = pd.Series(df['category'])"
   ]
  },
  {
   "cell_type": "code",
   "execution_count": 89,
   "metadata": {},
   "outputs": [],
   "source": [
    "def init():   #initialization function\n",
    "    df2=pd.DataFrame(np.ones((m,d),dtype='int'),columns=features)\n",
    "    return df2"
   ]
  },
  {
   "cell_type": "code",
   "execution_count": 90,
   "metadata": {},
   "outputs": [],
   "source": [
    "def fitness(df2):      # fitness function whose 1 parameter takes the crows and their position as input\n",
    "    fnt=np.zeros((m,1))  # fnt is the fitness function\n",
    "    for k in range(m):    \n",
    "        global sel\n",
    "        sel=[]\n",
    "        q=0\n",
    "        imp=0\n",
    "        a=(df2.iloc[k,:])==0.0\n",
    "        if a.all()==True:\n",
    "            df2.iloc[k,:]=1.0\n",
    "        for p in features:\n",
    "            if df2.loc[k,p]==1.0:\n",
    "                sel.insert(q,p)\n",
    "                temp=imo[p]\n",
    "                imp=imp+temp\n",
    "            q=q+1\n",
    "        lf=len(sel)\n",
    "        divide=lf/lt\n",
    "        fnt[k]=imp+wf*(1-float(lf/lt))     # fitness formula\n",
    "        del sel\n",
    "    return fnt"
   ]
  },
  {
   "cell_type": "code",
   "execution_count": 91,
   "metadata": {},
   "outputs": [],
   "source": [
    "z=init()   #crow memory with initial position\n",
    "tmax=1 #   # Maximum number of iterations (itermax)\n",
    "xn=z.copy()  # the position of the crow\n",
    "mem=init()  # memory is initialized using the init function\n",
    "xnew=(xn).copy()   # the positions of the crow\n",
    "ft=fitness(xn)\n",
    "plotit=[]"
   ]
  },
  {
   "cell_type": "code",
   "execution_count": 92,
   "metadata": {},
   "outputs": [],
   "source": [
    "criterion = nn.BCELoss()\n",
    "\n",
    "# Define optimizer for your neural network\n",
    "optimizer = torch.optim.SGD(model2.parameters(), lr=0.001)  "
   ]
  },
  {
   "cell_type": "code",
   "execution_count": 93,
   "metadata": {},
   "outputs": [
    {
     "name": "stdout",
     "output_type": "stream",
     "text": [
      "got s\n",
      "0\n"
     ]
    },
    {
     "name": "stderr",
     "output_type": "stream",
     "text": [
      "100%|██████████| 35/35 [00:00<00:00, 593.24it/s]\n"
     ]
    },
    {
     "name": "stdout",
     "output_type": "stream",
     "text": [
      "transpose\n",
      "exp\n",
      "apply lambda\n",
      "copied\n"
     ]
    },
    {
     "name": "stderr",
     "output_type": "stream",
     "text": [
      "100%|██████████| 35/35 [00:00<00:00, 1129.11it/s]\n"
     ]
    },
    {
     "name": "stdout",
     "output_type": "stream",
     "text": [
      "running fitness\n",
      "fitness done\n"
     ]
    },
    {
     "name": "stderr",
     "output_type": "stream",
     "text": [
      "100%|██████████| 35/35 [00:00<00:00, 507.30it/s]"
     ]
    },
    {
     "name": "stdout",
     "output_type": "stream",
     "text": [
      "complete\n",
      "0.006940102577209473\n"
     ]
    },
    {
     "name": "stderr",
     "output_type": "stream",
     "text": [
      "\n"
     ]
    }
   ],
   "source": [
    "tottime=0\n",
    "s=pd.DataFrame(z)\n",
    "print(\"got s\")    # it is a formula to convert positions of each crow into 0 and 1 \n",
    "for t in range(tmax):\n",
    "    print(t)# no of iterations\n",
    "    time1=time.time()\n",
    "   \n",
    "    xnew_list = []\n",
    "    plotit.insert(t,ft.max())\n",
    "    num = random.randint(0,m-1)  \n",
    "   # Generation of random candidate crows for following (chasing)\n",
    "    for i in tqdm(range(m)):   \n",
    "       \n",
    "        r=random.random()\n",
    "        if r>=Ap:\n",
    "            \n",
    "            xnew_list.append((xn.loc[i,:]+fl*r*(mem.loc[num,:]-xn.loc[i,:])).tolist())# Generation of a new position for crow i (state 1)\n",
    "            \n",
    "        else:\n",
    "            \n",
    "            xnew_list.append((xnew.loc[i,:].apply(lambda lam:random.random())).tolist())   # Generation of a new position for crow i (state 2)\n",
    "            \n",
    "            \n",
    "    xnew = pd.DataFrame(xnew_list)\n",
    "    del xnew_list\n",
    "    print('transpose')\n",
    "    xnew= 1/( 1 + np.expm1(( 10*(xnew-0.5 ) ) ))    #  formula to convert positions of each crow into 0 and 1\n",
    "    print('exp')\n",
    "    xnew=xnew.apply(lambda l:l>=random.random()).astype(int)\n",
    "    print('apply lambda')\n",
    "    xn=xnew.copy()     \n",
    "    print('copied')\n",
    "    # it is the updated binary position of each crow\n",
    "    #feasibility test\n",
    "    # this is done so that to check if atleast one position of the crow has value equal to 1. if it is not true then every\n",
    "    # position value of the crow is made 1.\n",
    "    for i in tqdm(range(m)):\n",
    "        a=(xn.loc[i,:])==0.0\n",
    "        if a.all()==True:\n",
    "            xn.loc[i,:]=1.0\n",
    "    print('running fitness')\n",
    "    ft_new=fitness(xn).reshape(ft.shape)# here the accuracy of each crows are calculated.\n",
    "\n",
    "    print('fitness done')\n",
    "    for i in tqdm(range(m)):\n",
    "        \n",
    "        if ft_new[i]>ft[i]:\n",
    "            ft[i]=ft_new[i]\n",
    "            for j in features:\n",
    "                mem.loc[i,j]= xn.loc[i,j]\n",
    "    print('complete')\n",
    "    time2=time.time()\n",
    "    tottime=tottime+(time2-time1)\n",
    "print(tottime/50)"
   ]
  },
  {
   "cell_type": "code",
   "execution_count": 94,
   "metadata": {},
   "outputs": [],
   "source": [
    "model2 = Multiclass().to(device)"
   ]
  },
  {
   "cell_type": "code",
   "execution_count": 95,
   "metadata": {},
   "outputs": [],
   "source": [
    "batch_size = 128  # Adjust batch size as needed\n",
    "num_epochs = 5"
   ]
  },
  {
   "cell_type": "code",
   "execution_count": 96,
   "metadata": {},
   "outputs": [
    {
     "data": {
      "text/plain": [
       "(668522, 46)"
      ]
     },
     "execution_count": 96,
     "metadata": {},
     "output_type": "execute_result"
    }
   ],
   "source": [
    "df.shape"
   ]
  },
  {
   "cell_type": "code",
   "execution_count": 97,
   "metadata": {},
   "outputs": [],
   "source": [
    "df_category_0 = df[df['category'] == 0]\n",
    "df_category_1 = df[df['category'] == 1]\n",
    "\n",
    "df_sample_0 = df_category_0.sample(n=10000, random_state=42)\n",
    "df_sample_1 = df_category_1.sample(n=10000, random_state=42)\n",
    "\n",
    "df2 = pd.concat([df_sample_0, df_sample_1])\n",
    "\n",
    "# Shuffle the new DataFrame to randomize the order of rows\n",
    "df2 = df2.sample(frac=1, random_state=42).reset_index(drop=True)\n"
   ]
  },
  {
   "cell_type": "code",
   "execution_count": 98,
   "metadata": {},
   "outputs": [
    {
     "name": "stderr",
     "output_type": "stream",
     "text": [
      "  0%|          | 0/5 [00:00<?, ?it/s]"
     ]
    },
    {
     "name": "stderr",
     "output_type": "stream",
     "text": [
      "  0%|          | 0/5 [00:00<?, ?it/s]"
     ]
    },
    {
     "name": "stdout",
     "output_type": "stream",
     "text": [
      "(48,) 0\n",
      "(48,) 48\n"
     ]
    },
    {
     "name": "stderr",
     "output_type": "stream",
     "text": [
      "\n"
     ]
    },
    {
     "ename": "RuntimeError",
     "evalue": "shape '[16]' is invalid for input of size 0",
     "output_type": "error",
     "traceback": [
      "\u001b[1;31m---------------------------------------------------------------------------\u001b[0m",
      "\u001b[1;31mRuntimeError\u001b[0m                              Traceback (most recent call last)",
      "Cell \u001b[1;32mIn [98], line 64\u001b[0m\n\u001b[0;32m     62\u001b[0m \u001b[38;5;28mprint\u001b[39m(best_solution\u001b[38;5;241m.\u001b[39mshape, param_index)\n\u001b[0;32m     63\u001b[0m \u001b[38;5;66;03m# Reshape the binary solution to match the update tensor shape\u001b[39;00m\n\u001b[1;32m---> 64\u001b[0m update_tensor \u001b[38;5;241m=\u001b[39m \u001b[43mtorch\u001b[49m\u001b[38;5;241;43m.\u001b[39;49m\u001b[43mtensor\u001b[49m\u001b[43m(\u001b[49m\u001b[43mbest_solution\u001b[49m\u001b[43m[\u001b[49m\u001b[43mparam_index\u001b[49m\u001b[43m:\u001b[49m\u001b[43mparam_index\u001b[49m\u001b[38;5;241;43m+\u001b[39;49m\u001b[43mnum_params\u001b[49m\u001b[43m]\u001b[49m\u001b[43m)\u001b[49m\u001b[38;5;241;43m.\u001b[39;49m\u001b[43mreshape\u001b[49m\u001b[43m(\u001b[49m\u001b[43mupdate_tensor_shape\u001b[49m\u001b[43m)\u001b[49m\u001b[38;5;241m.\u001b[39mto(device)\n\u001b[0;32m     65\u001b[0m \u001b[38;5;66;03m# Increment the parameter index\u001b[39;00m\n\u001b[0;32m     66\u001b[0m param_index \u001b[38;5;241m+\u001b[39m\u001b[38;5;241m=\u001b[39m num_params\n",
      "\u001b[1;31mRuntimeError\u001b[0m: shape '[16]' is invalid for input of size 0"
     ]
    }
   ],
   "source": [
    "epoch_accuracies = []\n",
    "epoch_losses = []\n",
    "\n",
    "for epoch in tqdm(range(num_epochs)):  # Define num_epochs\n",
    "    total_loss = 0.0\n",
    "    correct_predictions = 0\n",
    "    \n",
    "    for i in range(0, len(df2), batch_size): \n",
    "        batch_df = df2.iloc[i:i+batch_size]\n",
    "        inputs = batch_df.drop(columns=['category']).values\n",
    "        labels = batch_df['category'].values\n",
    "\n",
    "        inputs = torch.tensor(inputs, dtype=torch.float32).unsqueeze(-1).permute(0,2,1).to(device)\n",
    "        labels = torch.tensor(labels, dtype=torch.float32).to(device)\n",
    "\n",
    "        \n",
    "        # Crow Search Optimization\n",
    "        optimizer.zero_grad()\n",
    "        for t in range(tmax):\n",
    "            time1 = time.time()\n",
    "            \n",
    "            xnew_list = []\n",
    "            num = random.randint(0, m-1)\n",
    "            for i in range(m):   \n",
    "                r = random.random()\n",
    "                if r >= Ap:\n",
    "                    xnew_list.append((xn.loc[i, :] + fl * r * (mem.loc[num, :] - xn.loc[i, :])).tolist())\n",
    "                else:\n",
    "                    xnew_list.append((xnew.loc[i, :].apply(lambda lam: random.random())).tolist())\n",
    "                    \n",
    "            xnew = pd.DataFrame(xnew_list)\n",
    "            del xnew_list\n",
    "            xnew = 1 / (1 + np.expm1((10 * (xnew - 0.5))))\n",
    "            xnew = xnew.apply(lambda l: l >= random.random()).astype(int)\n",
    "            xn = xnew.copy()     \n",
    "            \n",
    "            for i in range(m):\n",
    "                a = (xn.loc[i, :]) == 0.0\n",
    "                if a.all() == True:\n",
    "                    xn.loc[i, :] = 1.0\n",
    "                    \n",
    "            ft_new = fitness(xn).reshape(ft.shape)\n",
    "            for i in range(m):\n",
    "                if ft_new[i] > ft[i]:\n",
    "                    ft[i] = ft_new[i]\n",
    "                    for j in features:\n",
    "                        mem.loc[i, j] = xn.loc[i, j]\n",
    "            \n",
    "            time2 = time.time()\n",
    "            tottime = tottime + (time2 - time1)\n",
    "\n",
    "\n",
    "        with torch.inference_mode():\n",
    "            outputs = model2(inputs)\n",
    "            #predictions = (torch.sigmoid(outputs) > 0.5).float()  # Convert probabilities to binary predictions\n",
    "            outputs = torch.argmax(outputs, dim=1)\n",
    "            loss = criterion(outputs.float(), labels)\n",
    "            loss.backward()\n",
    "            total_loss += loss.item()\n",
    "\n",
    "        # Calculate accuracy\n",
    "        correct_predictions += torch.sum(outputs == labels).item()\n",
    "\n",
    "        # Calculate epoch accuracy and loss\n",
    "        epoch_accuracy = correct_predictions / len(df2)\n",
    "        epoch_loss = total_loss / (len(df2) / batch_size)\n",
    "         \n",
    "    # Append accuracy and loss to lists\n",
    "    epoch_accuracies.append(epoch_accuracy)\n",
    "    epoch_losses.append(epoch_loss)\n",
    "    \n",
    "    # Print accuracy and loss for the epoch\n",
    "    print(f\"Epoch {epoch + 1}/{num_epochs}, Accuracy: {epoch_accuracy}, Loss: {epoch_loss}\")"
   ]
  },
  {
   "cell_type": "code",
   "execution_count": 58,
   "metadata": {},
   "outputs": [
    {
     "data": {
      "text/plain": [
       "False"
      ]
     },
     "execution_count": 58,
     "metadata": {},
     "output_type": "execute_result"
    }
   ],
   "source": [
    "torch.cuda.is_available()"
   ]
  },
  {
   "cell_type": "code",
   "execution_count": 100,
   "metadata": {},
   "outputs": [],
   "source": [
    "def fitness(df2):\n",
    "    fnt = np.zeros((m, 1))  # fnt is the fitness function\n",
    "    for k in range(m):\n",
    "        sel = []\n",
    "        q = 0\n",
    "        imp = 0\n",
    "        a = (df2.iloc[k, :]) == 0.0\n",
    "        if a.all() == True:\n",
    "            df2.iloc[k, :] = 1.0\n",
    "        for p in features:\n",
    "            if df2.loc[k, p] == 1.0:\n",
    "                sel.insert(q, p)\n",
    "                temp = imo[p]\n",
    "                imp = imp + temp\n",
    "            q = q + 1\n",
    "        lf = len(sel)\n",
    "        divide = lf / lt\n",
    "        fnt[k] = imp + wf * (1 - float(lf / lt))  # fitness formula\n",
    "        del sel\n",
    "    return fnt"
   ]
  },
  {
   "cell_type": "markdown",
   "metadata": {},
   "source": [
    "### Actual implementation (3)"
   ]
  },
  {
   "cell_type": "code",
   "execution_count": 84,
   "metadata": {},
   "outputs": [],
   "source": [
    "def initialize_population(population_size):\n",
    "    # Generate random initial positions for crows\n",
    "    return [np.random.uniform(low=-1.0, high=1.0, size=45) for _ in range(population_size)]"
   ]
  },
  {
   "cell_type": "code",
   "execution_count": 85,
   "metadata": {},
   "outputs": [],
   "source": [
    "def update_positions(population, global_best_position, inertia_weight=0.5, exploration_rate=0.1):\n",
    "    # Update positions of crows based on their previous positions and the global best position\n",
    "    # Use some exploration strategy (e.g., randomization, inertia, etc.)\n",
    "    updated_population = []\n",
    "    for crow_position in population:\n",
    "        # Calculate crow movement towards the global best position\n",
    "        crow_movement = inertia_weight * (global_best_position - crow_position)\n",
    "        \n",
    "        # Add some randomness for exploration\n",
    "        exploration = exploration_rate * np.random.uniform(-1, 1, size=crow_position.shape)\n",
    "        \n",
    "        # Update crow position\n",
    "        new_crow_position = crow_position + crow_movement + exploration\n",
    "        \n",
    "        # Append the updated position to the list\n",
    "        updated_population.append(new_crow_position)\n",
    "    \n",
    "    return updated_population"
   ]
  },
  {
   "cell_type": "code",
   "execution_count": 86,
   "metadata": {},
   "outputs": [],
   "source": [
    "def update_model_parameters(model, crow_position):\n",
    "    # Update model parameters based on crow position\n",
    "    crow_position_tensor = torch.tensor(crow_position, dtype=torch.float32)\n",
    "\n",
    "    # Total number of parameters in the model\n",
    "    total_params = sum(p.numel() for p in model.parameters())\n",
    "\n",
    "    # Iterate through model parameters and update them based on the crow position\n",
    "    param_index = 0\n",
    "    for param in model.parameters():\n",
    "        if param_index >= 45:\n",
    "            break  # Break the loop if all parameters have been updated\n",
    "        # Calculate the number of elements in the parameter tensor\n",
    "        num_elements = param.numel()\n",
    "        print(f'prarm_idx: {param_index}, numel: {num_elements}')\n",
    "        # Extract a slice of the crow position tensor with the same size as the parameter tensor\n",
    "        param_update = crow_position_tensor[param_index:param_index+num_elements]\n",
    "\n",
    "        # Reshape the parameter update to match the shape of the parameter tensor\n",
    "        param_update = param_update.view(param.size())\n",
    "\n",
    "        # Update the parameter tensor with the crow position values\n",
    "        param.data = param_update\n",
    "\n",
    "        # Move to the next position in the crow position tensor\n",
    "        param_index += 15\n",
    "\n",
    "        # Ensure param_index does not exceed the total number of parameters\n",
    "        \n"
   ]
  },
  {
   "cell_type": "code",
   "execution_count": 105,
   "metadata": {},
   "outputs": [],
   "source": [
    "def train_and_evaluate(model, data_loader, criterion, optimizer):\n",
    "    # Train the model on the dataset and evaluate performance\n",
    "    # Return performance metric (e.g., accuracy)\n",
    "    model.train()\n",
    "\n",
    "    # Iterate over the dataset in batches\n",
    "    for inputs, labels in data_loader:\n",
    "        # print(inputs.shape)\n",
    "        # print(labels)\n",
    "        \n",
    "        # Forward pass\n",
    "        inputs = inputs.unsqueeze(-1).permute(0,2,1)\n",
    "        # print(inputs.shape)\n",
    "        outputs = model(inputs)\n",
    "        \n",
    "        # Compute the loss\n",
    "        loss = criterion(outputs, labels)\n",
    "        \n",
    "        # Backward pass and optimization\n",
    "        optimizer.zero_grad()\n",
    "        loss.backward()\n",
    "        optimizer.step()\n",
    "\n",
    "    # Set the model to evaluation mode\n",
    "    model.eval()\n",
    "\n",
    "    # Evaluate the model on the entire dataset\n",
    "    predictions = []\n",
    "    targets = []\n",
    "    with torch.no_grad():\n",
    "        for inputs, labels in data_loader:\n",
    "            # Forward pass\n",
    "            inputs = inputs.unsqueeze(-1).permute(0,2,1)\n",
    "            outputs = model(inputs)\n",
    "            \n",
    "            # Convert outputs and labels to numpy arrays\n",
    "            predictions.extend(torch.argmax(outputs, dim=1).cpu().numpy())\n",
    "            targets.extend(labels.cpu().numpy())\n",
    "\n",
    "    # Calculate evaluation metric (e.g., accuracy)\n",
    "    accuracy = accuracy_score(targets, predictions)\n",
    "    print(\"Accuracy:\", accuracy)\n",
    "\n",
    "    return accuracy"
   ]
  },
  {
   "cell_type": "code",
   "execution_count": 106,
   "metadata": {},
   "outputs": [],
   "source": [
    "model3 = Multiclass()\n",
    "optimizer = torch.optim.Adam(model3.parameters(), lr=0.001)"
   ]
  },
  {
   "cell_type": "code",
   "execution_count": 107,
   "metadata": {},
   "outputs": [],
   "source": [
    "def evaluate_fitness(model, data, criterion, population):\n",
    "    # Evaluate the fitness (performance metric) of each crow (solution)\n",
    "    fitness_values = []\n",
    "    for crow_position in population:\n",
    "        # Update model parameters\n",
    "        # print(model)\n",
    "        update_model_parameters(model, crow_position)\n",
    "\n",
    "        # Train the model and evaluate performance\n",
    "        # Calculate accuracy or other performance metric\n",
    "        accuracy = train_and_evaluate(model, data, criterion,optimizer)\n",
    "\n",
    "        fitness_values.append(accuracy)  # Or any other performance metric\n",
    "\n",
    "    return np.array(fitness_values)"
   ]
  },
  {
   "cell_type": "code",
   "execution_count": 108,
   "metadata": {},
   "outputs": [],
   "source": [
    "def cso_optimization(population_size, max_iterations, model, data, criterion):\n",
    "    # Initialize population randomly or using some strategy\n",
    "    population = initialize_population(population_size)\n",
    "\n",
    "    # Main optimization loop\n",
    "    for iteration in range(max_iterations):\n",
    "        # Evaluate fitness of each crow (solution)\n",
    "        # print(population[1].shape)\n",
    "        fitness_values = evaluate_fitness(model, data, criterion, population)\n",
    "\n",
    "        # Update global best position\n",
    "        global_best_index = np.argmax(fitness_values)\n",
    "        global_best_position = population[global_best_index]\n",
    "        print(global_best_position)\n",
    "\n",
    "        # Update crow positions\n",
    "        population = update_positions(population, global_best_position)\n",
    "\n",
    "        # Update model parameters based on best solution found\n",
    "        update_model_parameters(model, global_best_position)\n"
   ]
  },
  {
   "cell_type": "code",
   "execution_count": 109,
   "metadata": {},
   "outputs": [],
   "source": [
    "X_tensor = torch.tensor(X.values, dtype=torch.float32)\n",
    "y_tensor = torch.tensor(y.values, dtype=torch.long)\n",
    "\n",
    "dataset = TensorDataset(X_tensor, y_tensor)\n",
    "\n",
    "data_loader = DataLoader(dataset, batch_size=128, shuffle=True)"
   ]
  },
  {
   "cell_type": "code",
   "execution_count": 110,
   "metadata": {},
   "outputs": [
    {
     "name": "stdout",
     "output_type": "stream",
     "text": [
      "prarm_idx: 0, numel: 45\n",
      "prarm_idx: 15, numel: 15\n",
      "prarm_idx: 30, numel: 15\n",
      "Accuracy: 0.9952080740137879\n",
      "prarm_idx: 0, numel: 45\n",
      "prarm_idx: 15, numel: 15\n",
      "prarm_idx: 30, numel: 15\n",
      "Accuracy: 0.9942715315013405\n",
      "prarm_idx: 0, numel: 45\n",
      "prarm_idx: 15, numel: 15\n",
      "prarm_idx: 30, numel: 15\n",
      "Accuracy: 0.9972876172922251\n",
      "prarm_idx: 0, numel: 45\n",
      "prarm_idx: 15, numel: 15\n",
      "prarm_idx: 30, numel: 15\n",
      "Accuracy: 0.996442335312141\n",
      "prarm_idx: 0, numel: 45\n",
      "prarm_idx: 15, numel: 15\n",
      "prarm_idx: 30, numel: 15\n",
      "Accuracy: 0.9959710719073152\n",
      "prarm_idx: 0, numel: 45\n",
      "prarm_idx: 15, numel: 15\n",
      "prarm_idx: 30, numel: 15\n",
      "Accuracy: 0.9958947721179625\n",
      "prarm_idx: 0, numel: 45\n",
      "prarm_idx: 15, numel: 15\n",
      "prarm_idx: 30, numel: 15\n",
      "Accuracy: 0.9958573702604366\n",
      "prarm_idx: 0, numel: 45\n",
      "prarm_idx: 15, numel: 15\n",
      "prarm_idx: 30, numel: 15\n",
      "Accuracy: 0.9961087107430103\n",
      "prarm_idx: 0, numel: 45\n",
      "prarm_idx: 15, numel: 15\n",
      "prarm_idx: 30, numel: 15\n",
      "Accuracy: 0.9959246936039832\n",
      "prarm_idx: 0, numel: 45\n",
      "prarm_idx: 15, numel: 15\n",
      "prarm_idx: 30, numel: 15\n",
      "Accuracy: 0.9962493417273075\n",
      "[-0.88242686  0.74190614 -0.12831668  0.24395466  0.85076908 -0.63917484\n",
      " -0.81693334  0.5685711   0.52593994  0.12633112  0.57095629  0.64264303\n",
      "  0.85909153 -0.99413684 -0.71517951 -0.60217161  0.56652976 -0.31045849\n",
      " -0.41904256  0.64734574  0.33329567 -0.33201467 -0.06190578  0.8693446\n",
      "  0.6861915   0.60199832  0.55775979 -0.76794268 -0.26390703 -0.6202225\n",
      "  0.00175711  0.4369204   0.5145524   0.81278157  0.28774327  0.87735798\n",
      "  0.36068232 -0.54633449  0.38393212 -0.35437184 -0.35242196 -0.07684025\n",
      "  0.58101819 -0.5524317  -0.75680054]\n",
      "prarm_idx: 0, numel: 45\n",
      "prarm_idx: 15, numel: 15\n",
      "prarm_idx: 30, numel: 15\n"
     ]
    }
   ],
   "source": [
    "data = data_loader # Your dataset\n",
    "criterion = nn.CrossEntropyLoss()  \n",
    "\n",
    "# Perform CSO optimization\n",
    "cso_optimization(population_size=10, max_iterations=1, model=model3, data=data, criterion=criterion)"
   ]
  },
  {
   "cell_type": "code",
   "execution_count": null,
   "metadata": {},
   "outputs": [],
   "source": []
  },
  {
   "cell_type": "code",
   "execution_count": null,
   "metadata": {},
   "outputs": [],
   "source": []
  },
  {
   "cell_type": "code",
   "execution_count": null,
   "metadata": {},
   "outputs": [],
   "source": []
  }
 ],
 "metadata": {
  "kernelspec": {
   "display_name": "Python 3",
   "language": "python",
   "name": "python3"
  },
  "language_info": {
   "codemirror_mode": {
    "name": "ipython",
    "version": 3
   },
   "file_extension": ".py",
   "mimetype": "text/x-python",
   "name": "python",
   "nbconvert_exporter": "python",
   "pygments_lexer": "ipython3",
   "version": "3.10.1"
  },
  "orig_nbformat": 4
 },
 "nbformat": 4,
 "nbformat_minor": 2
}
